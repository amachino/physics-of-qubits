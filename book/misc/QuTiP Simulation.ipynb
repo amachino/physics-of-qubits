{
 "cells": [
  {
   "cell_type": "markdown",
   "metadata": {},
   "source": [
    "# QuTiP Simulation"
   ]
  },
  {
   "cell_type": "code",
   "execution_count": 1,
   "metadata": {},
   "outputs": [],
   "source": [
    "import numpy as np\n",
    "import qutip as qt\n",
    "import qctrlvisualizer as qv\n",
    "\n",
    "\n",
    "def simulate_one_qubit(hamiltonian, times, initial_state, args={}):\n",
    "    initial_state = qt.Qobj(initial_state)\n",
    "    propagators = [qt.propagator(hamiltonian, t, args=args) for t in times]\n",
    "    states = [U * initial_state for U in propagators]\n",
    "    states = np.array(states).squeeze()\n",
    "    qv.display_bloch_sphere(states)\n",
    "\n",
    "\n",
    "def simulate_two_qubits(hamiltonian, times, initial_state_0, initial_state_1, args={}):\n",
    "    initial_state = qt.tensor(initial_state_0, initial_state_1)\n",
    "    propagators = [qt.propagator(hamiltonian, t, args=args) for t in times]\n",
    "    states = [U * initial_state for U in propagators]\n",
    "    density_matrices = [qt.ket2dm(state) for state in states]\n",
    "    density_matrices_0 = np.array([dm.ptrace(0) for dm in density_matrices])\n",
    "    density_matrices_1 = np.array([dm.ptrace(1) for dm in density_matrices])\n",
    "    qv.display_bloch_sphere_from_density_matrices(density_matrices_0)\n",
    "    qv.display_bloch_sphere_from_density_matrices(density_matrices_1)"
   ]
  },
  {
   "cell_type": "markdown",
   "metadata": {},
   "source": [
    "## 1-qubit"
   ]
  },
  {
   "cell_type": "markdown",
   "metadata": {},
   "source": [
    "$$\n",
    "H = \\frac{\\omega}{2} \\sigma_z\n",
    "$$"
   ]
  },
  {
   "cell_type": "code",
   "execution_count": 2,
   "metadata": {},
   "outputs": [
    {
     "data": {
      "text/html": [
       "\n",
       "    <div\n",
       "        class=\"qctrlvisualizer\"\n",
       "        style=\"display:flex;flex-direction:column;align-items:center;\"\n",
       "    >\n",
       "        <div\n",
       "            class=\"qctrlvisualizer-wrapper\"\n",
       "            style=\"width:300px;height:300px;margin:0.5rem 0\"\n",
       "            id=\"qctrlvisualizer-wrapper-bd4a9d5adc4c4ceb978cbc3707decfc9\"\n",
       "        ></div>\n",
       "        <input\n",
       "            class=\"qctrlvisualizer-progress-bar\"\n",
       "            style=\"margin:0.5rem 0\"\n",
       "            id=\"qctrlvisualizer-progress-bar-bd4a9d5adc4c4ceb978cbc3707decfc9\"\n",
       "            type=\"range\"\n",
       "            min=\"0\"\n",
       "            max=\"1\"\n",
       "            step=\"0.01\"\n",
       "            value=\"0\"\n",
       "        >\n",
       "        <button\n",
       "            class=\"qctrlvisualizer-button qctrlvisualizer-button-play\"\n",
       "            style=\"margin:0.5rem 0\"\n",
       "            id=\"qctrlvisualizer-button-bd4a9d5adc4c4ceb978cbc3707decfc9\"\n",
       "        >Play</button>\n",
       "    </div>\n",
       "    "
      ],
      "text/plain": [
       "<IPython.core.display.HTML object>"
      ]
     },
     "metadata": {},
     "output_type": "display_data"
    },
    {
     "data": {
      "application/javascript": "\n    function visualizerLoader() {\n      if ((typeof Visualizer) == \"function\") {\n        console.log(\"Using preloaded Q-CTRL Visualizer JavaScript package.\");\n        displayBlochSphere();\n        return;\n      }\n\n      try {\n        console.log(\"Attempting to load https://cdn.jsdelivr.net/npm/@qctrl/visualizer@3.1.14/umd/visualizer.min.js with require.js.\");\n        requirejs([\"https://cdn.jsdelivr.net/npm/@qctrl/visualizer@3.1.14/umd/visualizer.min.js\"], displayBlochSphere, displayErrorMessage);\n      } catch(error) {\n        var existing_script = document.getElementById(\"qctrlvisualizer-script\");\n\n        if (existing_script !== null) {\n          console.log(\n            \"Script tag for the Q-CTRL Visualizer JavaScript package already exists.\"\n            + \" Delaying execution of function until script is loaded.\"\n          );\n          existing_script.addEventListener(\"load\", displayBlochSphere);\n          existing_script.addEventListener(\"error\", displayErrorMessage);\n          return;\n        }\n\n        console.log(\"Attempting to load https://cdn.jsdelivr.net/npm/@qctrl/visualizer@3.1.14/umd/visualizer.min.js with script tag.\");\n        var script = document.createElement(\"script\");\n        script.onload = displayBlochSphere;\n        script.onerror = displayErrorMessage;\n        script.id = \"qctrlvisualizer-script\";\n        script.src = \"https://cdn.jsdelivr.net/npm/@qctrl/visualizer@3.1.14/umd/visualizer.min.js\";\n        document.head.appendChild(script);\n      }\n    }\n\n    function displayBlochSphere() { \n    let isPlaying = false;\n    let progress = 0;\n\n    const visualizationData = {\"data\": {\"qubits\": [{\"name\": \"qubit1\", \"x\": [0.9999999999999998, 0.9458174063511628, 0.7891407370876315, 0.5469483198550154, 0.24548564894869762, -0.08257936485247636, -0.40169586774272287, -0.6772822680002829, -0.8794744708696395, -0.9863616362934354, -0.9863608753449009, -0.8794722677102836, -0.6772788767581727, -0.40169158650019077, -0.08257463704450213, 0.245490609435701, 0.5469530161418459, 0.7891444322122455, 0.9458194649273564, 0.9999999999722085], \"y\": [0.0, 0.3246989895936843, 0.6142124201518475, 0.8371663725973324, 0.969400224963991, 0.9965844914007852, 0.9157731322977435, 0.7357232696145964, 0.4759460632136451, 0.16459259536363205, -0.1645971554700765, -0.4759501342877544, -0.7357263914643727, -0.9157750102153693, -0.9965848831469241, -0.9693989687836931, -0.8371633043399225, -0.6142076726225528, -0.3246929930942906, 7.455397245998386e-06], \"z\": [0.0, 0.0, 0.0, 0.0, 0.0, 0.0, 0.0, 0.0, 0.0, 0.0, 0.0, 0.0, 0.0, 0.0, 0.0, 0.0, 0.0, 0.0, 0.0, 0.0]}]}};\n    const themeSettings = {\"highlightColor\": \"#EB6467\", \"pathColor\": \"#EB6467\"};\n    const labels = {\"xAxis\": true, \"yAxis\": true, \"zAxis\": true, \"theta\": true, \"phi\": true, \"northPole\": true, \"southPole\": true, \"nonErrorState\": false};\n\n    const wrapper = document.getElementById(\"qctrlvisualizer-wrapper-bd4a9d5adc4c4ceb978cbc3707decfc9\");\n    const progressBar = document.getElementById(\"qctrlvisualizer-progress-bar-bd4a9d5adc4c4ceb978cbc3707decfc9\");\n    const button = document.getElementById(\"qctrlvisualizer-button-bd4a9d5adc4c4ceb978cbc3707decfc9\");\n\n    function updateButton () {\n      button.classList.remove(...[\n        \"qctrlvisualizer-button-play\",\n        \"qctrlvisualizer-button-pause\",\n        \"qctrlvisualizer-button-replay\"\n      ]);\n      if (isPlaying) {\n        button.classList.add(\"qctrlvisualizer-button-pause\");\n        button.innerHTML = \"Pause\";\n        return;\n      }\n      if (progress>=1) {\n        button.classList.add(\"qctrlvisualizer-button-replay\");\n        button.innerHTML = \"Replay\";\n        return;\n      }\n      button.classList.add(\"qctrlvisualizer-button-play\");\n      button.innerHTML = \"Play\";\n    }\n\n    button.onclick = () => {\n      isPlaying = !isPlaying;\n      if (progress >= 1) progress = 0;\n      updateButton();\n      visualizer.update({ isPlaying, progress });\n    };\n\n    progressBar.oninput = ({ target }) => {\n      progress = +target.value;\n      visualizer.update({ progress });\n      updateButton();\n    };\n\n    const onUpdate = ({ target, data }) => {\n      progress = data.progress;\n      progressBar.value = progress;\n      if (progress >= 1) {\n        isPlaying = false;\n        target.update({ isPlaying });\n        updateButton();\n      }\n    };\n\n    const visualizer = new Visualizer({\n      visualizationData,\n      wrapper,\n      onUpdate,\n      labels,\n    }).init();\n\n    visualizer.update({ themeSettings });\n     }\n\n    function displayErrorMessage() {\n      console.log(\"Failed to load https://cdn.jsdelivr.net/npm/@qctrl/visualizer@3.1.14/umd/visualizer.min.js.\");\n      const wrapper = document.getElementById(\"qctrlvisualizer-wrapper-bd4a9d5adc4c4ceb978cbc3707decfc9\");\n      wrapper.innerHTML = \"Could not load JavaScript at https://cdn.jsdelivr.net/npm/@qctrl/visualizer@3.1.14/umd/visualizer.min.js.\";\n    }\n\n    visualizerLoader();\n    ",
      "text/plain": [
       "<IPython.core.display.Javascript object>"
      ]
     },
     "metadata": {},
     "output_type": "display_data"
    }
   ],
   "source": [
    "omega = 1.0 * 2 * np.pi\n",
    "H = 0.5 * omega * qt.sigmaz()\n",
    "times = np.linspace(0, 1, 20)\n",
    "\n",
    "initial_state = 1 / np.sqrt(2) * (qt.basis(2, 0) + qt.basis(2, 1))  # |+>\n",
    "# initial_state = np.sqrt(3) / 2 * qt.basis(2, 0) + 1 / 2 * qt.basis(2, 1)\n",
    "# initial_state = qt.rand_ket_haar(2)\n",
    "\n",
    "simulate_one_qubit(H, times, initial_state)"
   ]
  },
  {
   "cell_type": "markdown",
   "metadata": {},
   "source": [
    "### Time-dependent Hamiltonian\n",
    "\n",
    "$$\n",
    "\\begin{aligned}\n",
    "H &= \\frac{\\Omega(t)}{2} \\sigma_x\n",
    "\\\\\n",
    "\\Omega(t) &= \\frac{1}{\\sqrt{2\\pi}\\sigma}  e^{-\\frac{(t - \\mu)^2}{\\sigma^2}}\n",
    "\\end{aligned}\n",
    "$$"
   ]
  },
  {
   "cell_type": "markdown",
   "metadata": {},
   "source": [
    "#### String-based"
   ]
  },
  {
   "cell_type": "code",
   "execution_count": 19,
   "metadata": {},
   "outputs": [
    {
     "data": {
      "text/html": [
       "\n",
       "    <div\n",
       "        class=\"qctrlvisualizer\"\n",
       "        style=\"display:flex;flex-direction:column;align-items:center;\"\n",
       "    >\n",
       "        <div\n",
       "            class=\"qctrlvisualizer-wrapper\"\n",
       "            style=\"width:300px;height:300px;margin:0.5rem 0\"\n",
       "            id=\"qctrlvisualizer-wrapper-f8804c4627f745fea91e635c1369adb9\"\n",
       "        ></div>\n",
       "        <input\n",
       "            class=\"qctrlvisualizer-progress-bar\"\n",
       "            style=\"margin:0.5rem 0\"\n",
       "            id=\"qctrlvisualizer-progress-bar-f8804c4627f745fea91e635c1369adb9\"\n",
       "            type=\"range\"\n",
       "            min=\"0\"\n",
       "            max=\"1\"\n",
       "            step=\"0.01\"\n",
       "            value=\"0\"\n",
       "        >\n",
       "        <button\n",
       "            class=\"qctrlvisualizer-button qctrlvisualizer-button-play\"\n",
       "            style=\"margin:0.5rem 0\"\n",
       "            id=\"qctrlvisualizer-button-f8804c4627f745fea91e635c1369adb9\"\n",
       "        >Play</button>\n",
       "    </div>\n",
       "    "
      ],
      "text/plain": [
       "<IPython.core.display.HTML object>"
      ]
     },
     "metadata": {},
     "output_type": "display_data"
    },
    {
     "data": {
      "application/javascript": "\n    function visualizerLoader() {\n      if ((typeof Visualizer) == \"function\") {\n        console.log(\"Using preloaded Q-CTRL Visualizer JavaScript package.\");\n        displayBlochSphere();\n        return;\n      }\n\n      try {\n        console.log(\"Attempting to load https://cdn.jsdelivr.net/npm/@qctrl/visualizer@3.1.14/umd/visualizer.min.js with require.js.\");\n        requirejs([\"https://cdn.jsdelivr.net/npm/@qctrl/visualizer@3.1.14/umd/visualizer.min.js\"], displayBlochSphere, displayErrorMessage);\n      } catch(error) {\n        var existing_script = document.getElementById(\"qctrlvisualizer-script\");\n\n        if (existing_script !== null) {\n          console.log(\n            \"Script tag for the Q-CTRL Visualizer JavaScript package already exists.\"\n            + \" Delaying execution of function until script is loaded.\"\n          );\n          existing_script.addEventListener(\"load\", displayBlochSphere);\n          existing_script.addEventListener(\"error\", displayErrorMessage);\n          return;\n        }\n\n        console.log(\"Attempting to load https://cdn.jsdelivr.net/npm/@qctrl/visualizer@3.1.14/umd/visualizer.min.js with script tag.\");\n        var script = document.createElement(\"script\");\n        script.onload = displayBlochSphere;\n        script.onerror = displayErrorMessage;\n        script.id = \"qctrlvisualizer-script\";\n        script.src = \"https://cdn.jsdelivr.net/npm/@qctrl/visualizer@3.1.14/umd/visualizer.min.js\";\n        document.head.appendChild(script);\n      }\n    }\n\n    function displayBlochSphere() { \n    let isPlaying = false;\n    let progress = 0;\n\n    const visualizationData = {\"data\": {\"qubits\": [{\"name\": \"qubit1\", \"x\": [0.0, 0.0, 0.0, 0.0, 0.0, 0.0, 0.0, 0.0, 0.0, 0.0, 0.0, 0.0, 0.0, 0.0, 0.0, 0.0, 0.0, 0.0, 0.0, 0.0], \"y\": [0.0, -0.007179029314116379, -0.0238179418704255, -0.058727347775093745, -0.12488938333571331, -0.23741706434860085, -0.4062761064744137, -0.6217253991478239, -0.8384084262754049, -0.9798055129867866, -0.9814651453187375, -0.8430003077600444, -0.628347202938382, -0.4140137159613349, -0.24564970274548295, -0.13330208973914687, -0.0671941368510086, -0.03229821643293241, -0.015662118922340273, -0.008483619582110096], \"z\": [1.0, 0.9999742304370184, 0.9997163125832533, 0.9982740598769974, 0.9921706717747835, 0.9714078121757577, 0.9137503626855589, 0.7832352954601061, 0.5450424852710098, 0.19995288625248792, -0.1916407277289181, -0.5379130795179367, -0.7779330257544742, -0.9102706427189042, -0.969358666098909, -0.9910754526630031, -0.9977399200056332, -0.9994782765099257, -0.9998773414928765, -0.9999640134518774]}]}};\n    const themeSettings = {\"highlightColor\": \"#EB6467\", \"pathColor\": \"#EB6467\"};\n    const labels = {\"xAxis\": true, \"yAxis\": true, \"zAxis\": true, \"theta\": true, \"phi\": true, \"northPole\": true, \"southPole\": true, \"nonErrorState\": false};\n\n    const wrapper = document.getElementById(\"qctrlvisualizer-wrapper-f8804c4627f745fea91e635c1369adb9\");\n    const progressBar = document.getElementById(\"qctrlvisualizer-progress-bar-f8804c4627f745fea91e635c1369adb9\");\n    const button = document.getElementById(\"qctrlvisualizer-button-f8804c4627f745fea91e635c1369adb9\");\n\n    function updateButton () {\n      button.classList.remove(...[\n        \"qctrlvisualizer-button-play\",\n        \"qctrlvisualizer-button-pause\",\n        \"qctrlvisualizer-button-replay\"\n      ]);\n      if (isPlaying) {\n        button.classList.add(\"qctrlvisualizer-button-pause\");\n        button.innerHTML = \"Pause\";\n        return;\n      }\n      if (progress>=1) {\n        button.classList.add(\"qctrlvisualizer-button-replay\");\n        button.innerHTML = \"Replay\";\n        return;\n      }\n      button.classList.add(\"qctrlvisualizer-button-play\");\n      button.innerHTML = \"Play\";\n    }\n\n    button.onclick = () => {\n      isPlaying = !isPlaying;\n      if (progress >= 1) progress = 0;\n      updateButton();\n      visualizer.update({ isPlaying, progress });\n    };\n\n    progressBar.oninput = ({ target }) => {\n      progress = +target.value;\n      visualizer.update({ progress });\n      updateButton();\n    };\n\n    const onUpdate = ({ target, data }) => {\n      progress = data.progress;\n      progressBar.value = progress;\n      if (progress >= 1) {\n        isPlaying = false;\n        target.update({ isPlaying });\n        updateButton();\n      }\n    };\n\n    const visualizer = new Visualizer({\n      visualizationData,\n      wrapper,\n      onUpdate,\n      labels,\n    }).init();\n\n    visualizer.update({ themeSettings });\n     }\n\n    function displayErrorMessage() {\n      console.log(\"Failed to load https://cdn.jsdelivr.net/npm/@qctrl/visualizer@3.1.14/umd/visualizer.min.js.\");\n      const wrapper = document.getElementById(\"qctrlvisualizer-wrapper-f8804c4627f745fea91e635c1369adb9\");\n      wrapper.innerHTML = \"Could not load JavaScript at https://cdn.jsdelivr.net/npm/@qctrl/visualizer@3.1.14/umd/visualizer.min.js.\";\n    }\n\n    visualizerLoader();\n    ",
      "text/plain": [
       "<IPython.core.display.Javascript object>"
      ]
     },
     "metadata": {},
     "output_type": "display_data"
    }
   ],
   "source": [
    "X = qt.sigmax()\n",
    "T = 1.0\n",
    "mu = 0.5 * T\n",
    "sigma = T / 6\n",
    "\n",
    "hamiltonian = [\n",
    "    [\n",
    "        X,\n",
    "        \"0.5 * omega / (sqrt(2 * pi) * sigma) * exp(-((t - mu) ** 2) / (2 * sigma ** 2))\",\n",
    "    ],\n",
    "]\n",
    "args = {\n",
    "    \"mu\": mu,\n",
    "    \"sigma\": sigma,\n",
    "    \"omega\": np.pi,\n",
    "}\n",
    "times = np.linspace(0, T, 20)\n",
    "initial_state = qt.basis(2, 0)\n",
    "simulate_one_qubit(hamiltonian, times, initial_state, args)"
   ]
  },
  {
   "cell_type": "markdown",
   "metadata": {},
   "source": [
    "#### Function-based"
   ]
  },
  {
   "cell_type": "code",
   "execution_count": 18,
   "metadata": {},
   "outputs": [
    {
     "data": {
      "text/html": [
       "\n",
       "    <div\n",
       "        class=\"qctrlvisualizer\"\n",
       "        style=\"display:flex;flex-direction:column;align-items:center;\"\n",
       "    >\n",
       "        <div\n",
       "            class=\"qctrlvisualizer-wrapper\"\n",
       "            style=\"width:300px;height:300px;margin:0.5rem 0\"\n",
       "            id=\"qctrlvisualizer-wrapper-739e9036e19e45c5b6bda3d2d3b6aad4\"\n",
       "        ></div>\n",
       "        <input\n",
       "            class=\"qctrlvisualizer-progress-bar\"\n",
       "            style=\"margin:0.5rem 0\"\n",
       "            id=\"qctrlvisualizer-progress-bar-739e9036e19e45c5b6bda3d2d3b6aad4\"\n",
       "            type=\"range\"\n",
       "            min=\"0\"\n",
       "            max=\"1\"\n",
       "            step=\"0.01\"\n",
       "            value=\"0\"\n",
       "        >\n",
       "        <button\n",
       "            class=\"qctrlvisualizer-button qctrlvisualizer-button-play\"\n",
       "            style=\"margin:0.5rem 0\"\n",
       "            id=\"qctrlvisualizer-button-739e9036e19e45c5b6bda3d2d3b6aad4\"\n",
       "        >Play</button>\n",
       "    </div>\n",
       "    "
      ],
      "text/plain": [
       "<IPython.core.display.HTML object>"
      ]
     },
     "metadata": {},
     "output_type": "display_data"
    },
    {
     "data": {
      "application/javascript": "\n    function visualizerLoader() {\n      if ((typeof Visualizer) == \"function\") {\n        console.log(\"Using preloaded Q-CTRL Visualizer JavaScript package.\");\n        displayBlochSphere();\n        return;\n      }\n\n      try {\n        console.log(\"Attempting to load https://cdn.jsdelivr.net/npm/@qctrl/visualizer@3.1.14/umd/visualizer.min.js with require.js.\");\n        requirejs([\"https://cdn.jsdelivr.net/npm/@qctrl/visualizer@3.1.14/umd/visualizer.min.js\"], displayBlochSphere, displayErrorMessage);\n      } catch(error) {\n        var existing_script = document.getElementById(\"qctrlvisualizer-script\");\n\n        if (existing_script !== null) {\n          console.log(\n            \"Script tag for the Q-CTRL Visualizer JavaScript package already exists.\"\n            + \" Delaying execution of function until script is loaded.\"\n          );\n          existing_script.addEventListener(\"load\", displayBlochSphere);\n          existing_script.addEventListener(\"error\", displayErrorMessage);\n          return;\n        }\n\n        console.log(\"Attempting to load https://cdn.jsdelivr.net/npm/@qctrl/visualizer@3.1.14/umd/visualizer.min.js with script tag.\");\n        var script = document.createElement(\"script\");\n        script.onload = displayBlochSphere;\n        script.onerror = displayErrorMessage;\n        script.id = \"qctrlvisualizer-script\";\n        script.src = \"https://cdn.jsdelivr.net/npm/@qctrl/visualizer@3.1.14/umd/visualizer.min.js\";\n        document.head.appendChild(script);\n      }\n    }\n\n    function displayBlochSphere() { \n    let isPlaying = false;\n    let progress = 0;\n\n    const visualizationData = {\"data\": {\"qubits\": [{\"name\": \"qubit1\", \"x\": [0.0, 0.0, 0.0, 0.0, 0.0, 0.0, 0.0, 0.0, 0.0, 0.0, 0.0, 0.0, 0.0, 0.0, 0.0, 0.0, 0.0, 0.0, 0.0, 0.0], \"y\": [0.0, -0.007179029314116379, -0.0238179418704255, -0.058727347775093745, -0.12488938333571331, -0.23741706434860085, -0.4062761064744137, -0.6217253991478239, -0.8384084262754049, -0.9798055129867866, -0.9814651453187375, -0.8430003077600444, -0.628347202938382, -0.4140137159613349, -0.24564970274548295, -0.13330208973914687, -0.0671941368510086, -0.03229821643293241, -0.015662118922340273, -0.008483619582110096], \"z\": [1.0, 0.9999742304370184, 0.9997163125832533, 0.9982740598769974, 0.9921706717747835, 0.9714078121757577, 0.9137503626855589, 0.7832352954601061, 0.5450424852710098, 0.19995288625248792, -0.1916407277289181, -0.5379130795179367, -0.7779330257544742, -0.9102706427189042, -0.969358666098909, -0.9910754526630031, -0.9977399200056332, -0.9994782765099257, -0.9998773414928765, -0.9999640134518774]}]}};\n    const themeSettings = {\"highlightColor\": \"#EB6467\", \"pathColor\": \"#EB6467\"};\n    const labels = {\"xAxis\": true, \"yAxis\": true, \"zAxis\": true, \"theta\": true, \"phi\": true, \"northPole\": true, \"southPole\": true, \"nonErrorState\": false};\n\n    const wrapper = document.getElementById(\"qctrlvisualizer-wrapper-739e9036e19e45c5b6bda3d2d3b6aad4\");\n    const progressBar = document.getElementById(\"qctrlvisualizer-progress-bar-739e9036e19e45c5b6bda3d2d3b6aad4\");\n    const button = document.getElementById(\"qctrlvisualizer-button-739e9036e19e45c5b6bda3d2d3b6aad4\");\n\n    function updateButton () {\n      button.classList.remove(...[\n        \"qctrlvisualizer-button-play\",\n        \"qctrlvisualizer-button-pause\",\n        \"qctrlvisualizer-button-replay\"\n      ]);\n      if (isPlaying) {\n        button.classList.add(\"qctrlvisualizer-button-pause\");\n        button.innerHTML = \"Pause\";\n        return;\n      }\n      if (progress>=1) {\n        button.classList.add(\"qctrlvisualizer-button-replay\");\n        button.innerHTML = \"Replay\";\n        return;\n      }\n      button.classList.add(\"qctrlvisualizer-button-play\");\n      button.innerHTML = \"Play\";\n    }\n\n    button.onclick = () => {\n      isPlaying = !isPlaying;\n      if (progress >= 1) progress = 0;\n      updateButton();\n      visualizer.update({ isPlaying, progress });\n    };\n\n    progressBar.oninput = ({ target }) => {\n      progress = +target.value;\n      visualizer.update({ progress });\n      updateButton();\n    };\n\n    const onUpdate = ({ target, data }) => {\n      progress = data.progress;\n      progressBar.value = progress;\n      if (progress >= 1) {\n        isPlaying = false;\n        target.update({ isPlaying });\n        updateButton();\n      }\n    };\n\n    const visualizer = new Visualizer({\n      visualizationData,\n      wrapper,\n      onUpdate,\n      labels,\n    }).init();\n\n    visualizer.update({ themeSettings });\n     }\n\n    function displayErrorMessage() {\n      console.log(\"Failed to load https://cdn.jsdelivr.net/npm/@qctrl/visualizer@3.1.14/umd/visualizer.min.js.\");\n      const wrapper = document.getElementById(\"qctrlvisualizer-wrapper-739e9036e19e45c5b6bda3d2d3b6aad4\");\n      wrapper.innerHTML = \"Could not load JavaScript at https://cdn.jsdelivr.net/npm/@qctrl/visualizer@3.1.14/umd/visualizer.min.js.\";\n    }\n\n    visualizerLoader();\n    ",
      "text/plain": [
       "<IPython.core.display.Javascript object>"
      ]
     },
     "metadata": {},
     "output_type": "display_data"
    }
   ],
   "source": [
    "X = qt.sigmax()\n",
    "T = 1.0\n",
    "\n",
    "args = {\n",
    "    \"mu\": 0.5 * T,\n",
    "    \"sigma\": T / 6,\n",
    "    \"omega\": np.pi,\n",
    "}\n",
    "\n",
    "\n",
    "def X_coeff(t, args):\n",
    "    return (\n",
    "        0.5\n",
    "        * args[\"omega\"]\n",
    "        / (np.sqrt(2 * np.pi) * args[\"sigma\"])\n",
    "        * np.exp(-((t - args[\"mu\"]) ** 2) / (2 * args[\"sigma\"] ** 2))\n",
    "    )\n",
    "\n",
    "\n",
    "hamiltonian = [\n",
    "    [X, X_coeff],\n",
    "]\n",
    "times = np.linspace(0, T, 20)\n",
    "initial_state = qt.basis(2, 0)\n",
    "simulate_one_qubit(hamiltonian, times, initial_state, args)"
   ]
  },
  {
   "cell_type": "markdown",
   "metadata": {},
   "source": [
    "## 2-qubits"
   ]
  },
  {
   "cell_type": "markdown",
   "metadata": {},
   "source": [
    "### ZX Hamiltonian\n",
    "\n",
    "$$\n",
    "H = \\frac{1}{2} \\sigma_z \\otimes \\sigma_x\n",
    "$$"
   ]
  },
  {
   "cell_type": "code",
   "execution_count": 4,
   "metadata": {},
   "outputs": [],
   "source": [
    "H = 0.5 * qt.tensor(qt.sigmaz(), qt.sigmax())\n",
    "times = np.linspace(0, np.pi, 20)"
   ]
  },
  {
   "cell_type": "markdown",
   "metadata": {},
   "source": [
    "$$\\ket{0}\\otimes\\ket{0}$$"
   ]
  },
  {
   "cell_type": "code",
   "execution_count": 5,
   "metadata": {},
   "outputs": [
    {
     "data": {
      "text/html": [
       "\n",
       "    <div\n",
       "        class=\"qctrlvisualizer\"\n",
       "        style=\"display:flex;flex-direction:column;align-items:center;\"\n",
       "    >\n",
       "        <div\n",
       "            class=\"qctrlvisualizer-wrapper\"\n",
       "            style=\"width:300px;height:300px;margin:0.5rem 0\"\n",
       "            id=\"qctrlvisualizer-wrapper-cece50a736424053b6d6a29b1f0d3a45\"\n",
       "        ></div>\n",
       "        <input\n",
       "            class=\"qctrlvisualizer-progress-bar\"\n",
       "            style=\"margin:0.5rem 0\"\n",
       "            id=\"qctrlvisualizer-progress-bar-cece50a736424053b6d6a29b1f0d3a45\"\n",
       "            type=\"range\"\n",
       "            min=\"0\"\n",
       "            max=\"1\"\n",
       "            step=\"0.01\"\n",
       "            value=\"0\"\n",
       "        >\n",
       "        <button\n",
       "            class=\"qctrlvisualizer-button qctrlvisualizer-button-play\"\n",
       "            style=\"margin:0.5rem 0\"\n",
       "            id=\"qctrlvisualizer-button-cece50a736424053b6d6a29b1f0d3a45\"\n",
       "        >Play</button>\n",
       "    </div>\n",
       "    "
      ],
      "text/plain": [
       "<IPython.core.display.HTML object>"
      ]
     },
     "metadata": {},
     "output_type": "display_data"
    },
    {
     "data": {
      "application/javascript": "\n    function visualizerLoader() {\n      if ((typeof Visualizer) == \"function\") {\n        console.log(\"Using preloaded Q-CTRL Visualizer JavaScript package.\");\n        displayBlochSphere();\n        return;\n      }\n\n      try {\n        console.log(\"Attempting to load https://cdn.jsdelivr.net/npm/@qctrl/visualizer@3.1.14/umd/visualizer.min.js with require.js.\");\n        requirejs([\"https://cdn.jsdelivr.net/npm/@qctrl/visualizer@3.1.14/umd/visualizer.min.js\"], displayBlochSphere, displayErrorMessage);\n      } catch(error) {\n        var existing_script = document.getElementById(\"qctrlvisualizer-script\");\n\n        if (existing_script !== null) {\n          console.log(\n            \"Script tag for the Q-CTRL Visualizer JavaScript package already exists.\"\n            + \" Delaying execution of function until script is loaded.\"\n          );\n          existing_script.addEventListener(\"load\", displayBlochSphere);\n          existing_script.addEventListener(\"error\", displayErrorMessage);\n          return;\n        }\n\n        console.log(\"Attempting to load https://cdn.jsdelivr.net/npm/@qctrl/visualizer@3.1.14/umd/visualizer.min.js with script tag.\");\n        var script = document.createElement(\"script\");\n        script.onload = displayBlochSphere;\n        script.onerror = displayErrorMessage;\n        script.id = \"qctrlvisualizer-script\";\n        script.src = \"https://cdn.jsdelivr.net/npm/@qctrl/visualizer@3.1.14/umd/visualizer.min.js\";\n        document.head.appendChild(script);\n      }\n    }\n\n    function displayBlochSphere() { \n    let isPlaying = false;\n    let progress = 0;\n\n    const visualizationData = {\"data\": {\"qubits\": [{\"name\": \"qubit1\", \"x\": [0.0, 0.0, 0.0, 0.0, 0.0, 0.0, 0.0, 0.0, 0.0, 0.0, 0.0, 0.0, 0.0, 0.0, 0.0, 0.0, 0.0, 0.0, 0.0, 0.0], \"y\": [0.0, 0.0, 0.0, 0.0, 0.0, 0.0, 0.0, 0.0, 0.0, 0.0, 0.0, 0.0, 0.0, 0.0, 0.0, 0.0, 0.0, 0.0, 0.0, 0.0], \"z\": [1.0, 1.0, 1.0000000000000004, 0.9999999999999997, 0.9999999999999999, 0.9999999999999998, 0.9999999999999996, 1.0000000000000002, 1.0, 1.0000000000000002, 0.9999999999999998, 1.0, 1.0000000000000002, 1.0, 1.0, 0.9999999999999997, 1.0000000000000002, 1.0000000000000002, 1.0, 0.9999999999996252]}]}};\n    const themeSettings = {\"highlightColor\": \"#EB6467\", \"pathColor\": \"#EB6467\"};\n    const labels = {\"xAxis\": true, \"yAxis\": true, \"zAxis\": true, \"theta\": true, \"phi\": true, \"northPole\": true, \"southPole\": true, \"nonErrorState\": false};\n\n    const wrapper = document.getElementById(\"qctrlvisualizer-wrapper-cece50a736424053b6d6a29b1f0d3a45\");\n    const progressBar = document.getElementById(\"qctrlvisualizer-progress-bar-cece50a736424053b6d6a29b1f0d3a45\");\n    const button = document.getElementById(\"qctrlvisualizer-button-cece50a736424053b6d6a29b1f0d3a45\");\n\n    function updateButton () {\n      button.classList.remove(...[\n        \"qctrlvisualizer-button-play\",\n        \"qctrlvisualizer-button-pause\",\n        \"qctrlvisualizer-button-replay\"\n      ]);\n      if (isPlaying) {\n        button.classList.add(\"qctrlvisualizer-button-pause\");\n        button.innerHTML = \"Pause\";\n        return;\n      }\n      if (progress>=1) {\n        button.classList.add(\"qctrlvisualizer-button-replay\");\n        button.innerHTML = \"Replay\";\n        return;\n      }\n      button.classList.add(\"qctrlvisualizer-button-play\");\n      button.innerHTML = \"Play\";\n    }\n\n    button.onclick = () => {\n      isPlaying = !isPlaying;\n      if (progress >= 1) progress = 0;\n      updateButton();\n      visualizer.update({ isPlaying, progress });\n    };\n\n    progressBar.oninput = ({ target }) => {\n      progress = +target.value;\n      visualizer.update({ progress });\n      updateButton();\n    };\n\n    const onUpdate = ({ target, data }) => {\n      progress = data.progress;\n      progressBar.value = progress;\n      if (progress >= 1) {\n        isPlaying = false;\n        target.update({ isPlaying });\n        updateButton();\n      }\n    };\n\n    const visualizer = new Visualizer({\n      visualizationData,\n      wrapper,\n      onUpdate,\n      labels,\n    }).init();\n\n    visualizer.update({ themeSettings });\n     }\n\n    function displayErrorMessage() {\n      console.log(\"Failed to load https://cdn.jsdelivr.net/npm/@qctrl/visualizer@3.1.14/umd/visualizer.min.js.\");\n      const wrapper = document.getElementById(\"qctrlvisualizer-wrapper-cece50a736424053b6d6a29b1f0d3a45\");\n      wrapper.innerHTML = \"Could not load JavaScript at https://cdn.jsdelivr.net/npm/@qctrl/visualizer@3.1.14/umd/visualizer.min.js.\";\n    }\n\n    visualizerLoader();\n    ",
      "text/plain": [
       "<IPython.core.display.Javascript object>"
      ]
     },
     "metadata": {},
     "output_type": "display_data"
    },
    {
     "data": {
      "text/html": [
       "\n",
       "    <div\n",
       "        class=\"qctrlvisualizer\"\n",
       "        style=\"display:flex;flex-direction:column;align-items:center;\"\n",
       "    >\n",
       "        <div\n",
       "            class=\"qctrlvisualizer-wrapper\"\n",
       "            style=\"width:300px;height:300px;margin:0.5rem 0\"\n",
       "            id=\"qctrlvisualizer-wrapper-ef5964249f7e4e549e2995a9ed7838f4\"\n",
       "        ></div>\n",
       "        <input\n",
       "            class=\"qctrlvisualizer-progress-bar\"\n",
       "            style=\"margin:0.5rem 0\"\n",
       "            id=\"qctrlvisualizer-progress-bar-ef5964249f7e4e549e2995a9ed7838f4\"\n",
       "            type=\"range\"\n",
       "            min=\"0\"\n",
       "            max=\"1\"\n",
       "            step=\"0.01\"\n",
       "            value=\"0\"\n",
       "        >\n",
       "        <button\n",
       "            class=\"qctrlvisualizer-button qctrlvisualizer-button-play\"\n",
       "            style=\"margin:0.5rem 0\"\n",
       "            id=\"qctrlvisualizer-button-ef5964249f7e4e549e2995a9ed7838f4\"\n",
       "        >Play</button>\n",
       "    </div>\n",
       "    "
      ],
      "text/plain": [
       "<IPython.core.display.HTML object>"
      ]
     },
     "metadata": {},
     "output_type": "display_data"
    },
    {
     "data": {
      "application/javascript": "\n    function visualizerLoader() {\n      if ((typeof Visualizer) == \"function\") {\n        console.log(\"Using preloaded Q-CTRL Visualizer JavaScript package.\");\n        displayBlochSphere();\n        return;\n      }\n\n      try {\n        console.log(\"Attempting to load https://cdn.jsdelivr.net/npm/@qctrl/visualizer@3.1.14/umd/visualizer.min.js with require.js.\");\n        requirejs([\"https://cdn.jsdelivr.net/npm/@qctrl/visualizer@3.1.14/umd/visualizer.min.js\"], displayBlochSphere, displayErrorMessage);\n      } catch(error) {\n        var existing_script = document.getElementById(\"qctrlvisualizer-script\");\n\n        if (existing_script !== null) {\n          console.log(\n            \"Script tag for the Q-CTRL Visualizer JavaScript package already exists.\"\n            + \" Delaying execution of function until script is loaded.\"\n          );\n          existing_script.addEventListener(\"load\", displayBlochSphere);\n          existing_script.addEventListener(\"error\", displayErrorMessage);\n          return;\n        }\n\n        console.log(\"Attempting to load https://cdn.jsdelivr.net/npm/@qctrl/visualizer@3.1.14/umd/visualizer.min.js with script tag.\");\n        var script = document.createElement(\"script\");\n        script.onload = displayBlochSphere;\n        script.onerror = displayErrorMessage;\n        script.id = \"qctrlvisualizer-script\";\n        script.src = \"https://cdn.jsdelivr.net/npm/@qctrl/visualizer@3.1.14/umd/visualizer.min.js\";\n        document.head.appendChild(script);\n      }\n    }\n\n    function displayBlochSphere() { \n    let isPlaying = false;\n    let progress = 0;\n\n    const visualizationData = {\"data\": {\"qubits\": [{\"name\": \"qubit1\", \"x\": [0.0, 0.0, 0.0, 0.0, 0.0, 0.0, 0.0, 0.0, 0.0, 0.0, 0.0, 0.0, 0.0, 0.0, 0.0, 0.0, 0.0, 0.0, 0.0, 0.0], \"y\": [0.0, -0.1645945429985663, -0.3246993807424672, -0.47594729564988164, -0.6142126043876259, -0.7357238061392176, -0.8371663802069675, -0.9157732610414778, -0.9694002582599163, -0.9965845033854085, -0.9965844682477937, -0.9694001519978538, -0.9157730930321989, -0.8371661586557229, -0.7357234723297688, -0.6142121171178483, -0.47594667018242726, -0.32469867353851634, -0.1645936481667288, 1.2242691896310148e-06], \"z\": [1.0, 0.9863613112927194, 0.9458172720697476, 0.8794738039097943, 0.7891405936912442, 0.6772816851798242, 0.5469483082076061, 0.4016955742368315, 0.24548551746611802, 0.08257922021949066, -0.08257964426698744, -0.245485937085076, -0.4016959572590197, -0.5469486473167486, -0.6772820477932573, -0.7891409729481863, -0.8794741423954774, -0.9458175148528011, -0.986361460613282, -0.9999999999996252]}]}};\n    const themeSettings = {\"highlightColor\": \"#EB6467\", \"pathColor\": \"#EB6467\"};\n    const labels = {\"xAxis\": true, \"yAxis\": true, \"zAxis\": true, \"theta\": true, \"phi\": true, \"northPole\": true, \"southPole\": true, \"nonErrorState\": false};\n\n    const wrapper = document.getElementById(\"qctrlvisualizer-wrapper-ef5964249f7e4e549e2995a9ed7838f4\");\n    const progressBar = document.getElementById(\"qctrlvisualizer-progress-bar-ef5964249f7e4e549e2995a9ed7838f4\");\n    const button = document.getElementById(\"qctrlvisualizer-button-ef5964249f7e4e549e2995a9ed7838f4\");\n\n    function updateButton () {\n      button.classList.remove(...[\n        \"qctrlvisualizer-button-play\",\n        \"qctrlvisualizer-button-pause\",\n        \"qctrlvisualizer-button-replay\"\n      ]);\n      if (isPlaying) {\n        button.classList.add(\"qctrlvisualizer-button-pause\");\n        button.innerHTML = \"Pause\";\n        return;\n      }\n      if (progress>=1) {\n        button.classList.add(\"qctrlvisualizer-button-replay\");\n        button.innerHTML = \"Replay\";\n        return;\n      }\n      button.classList.add(\"qctrlvisualizer-button-play\");\n      button.innerHTML = \"Play\";\n    }\n\n    button.onclick = () => {\n      isPlaying = !isPlaying;\n      if (progress >= 1) progress = 0;\n      updateButton();\n      visualizer.update({ isPlaying, progress });\n    };\n\n    progressBar.oninput = ({ target }) => {\n      progress = +target.value;\n      visualizer.update({ progress });\n      updateButton();\n    };\n\n    const onUpdate = ({ target, data }) => {\n      progress = data.progress;\n      progressBar.value = progress;\n      if (progress >= 1) {\n        isPlaying = false;\n        target.update({ isPlaying });\n        updateButton();\n      }\n    };\n\n    const visualizer = new Visualizer({\n      visualizationData,\n      wrapper,\n      onUpdate,\n      labels,\n    }).init();\n\n    visualizer.update({ themeSettings });\n     }\n\n    function displayErrorMessage() {\n      console.log(\"Failed to load https://cdn.jsdelivr.net/npm/@qctrl/visualizer@3.1.14/umd/visualizer.min.js.\");\n      const wrapper = document.getElementById(\"qctrlvisualizer-wrapper-ef5964249f7e4e549e2995a9ed7838f4\");\n      wrapper.innerHTML = \"Could not load JavaScript at https://cdn.jsdelivr.net/npm/@qctrl/visualizer@3.1.14/umd/visualizer.min.js.\";\n    }\n\n    visualizerLoader();\n    ",
      "text/plain": [
       "<IPython.core.display.Javascript object>"
      ]
     },
     "metadata": {},
     "output_type": "display_data"
    }
   ],
   "source": [
    "initial_state_0 = qt.basis(2, 0)\n",
    "initial_state_1 = qt.basis(2, 0)\n",
    "\n",
    "simulate_two_qubits(H, times, initial_state_0, initial_state_1)"
   ]
  },
  {
   "cell_type": "markdown",
   "metadata": {},
   "source": [
    "$$\\ket{1}\\otimes\\ket{0}$$"
   ]
  },
  {
   "cell_type": "code",
   "execution_count": 6,
   "metadata": {},
   "outputs": [
    {
     "data": {
      "text/html": [
       "\n",
       "    <div\n",
       "        class=\"qctrlvisualizer\"\n",
       "        style=\"display:flex;flex-direction:column;align-items:center;\"\n",
       "    >\n",
       "        <div\n",
       "            class=\"qctrlvisualizer-wrapper\"\n",
       "            style=\"width:300px;height:300px;margin:0.5rem 0\"\n",
       "            id=\"qctrlvisualizer-wrapper-cdfb417a77ff48a382598b4f8d2a269b\"\n",
       "        ></div>\n",
       "        <input\n",
       "            class=\"qctrlvisualizer-progress-bar\"\n",
       "            style=\"margin:0.5rem 0\"\n",
       "            id=\"qctrlvisualizer-progress-bar-cdfb417a77ff48a382598b4f8d2a269b\"\n",
       "            type=\"range\"\n",
       "            min=\"0\"\n",
       "            max=\"1\"\n",
       "            step=\"0.01\"\n",
       "            value=\"0\"\n",
       "        >\n",
       "        <button\n",
       "            class=\"qctrlvisualizer-button qctrlvisualizer-button-play\"\n",
       "            style=\"margin:0.5rem 0\"\n",
       "            id=\"qctrlvisualizer-button-cdfb417a77ff48a382598b4f8d2a269b\"\n",
       "        >Play</button>\n",
       "    </div>\n",
       "    "
      ],
      "text/plain": [
       "<IPython.core.display.HTML object>"
      ]
     },
     "metadata": {},
     "output_type": "display_data"
    },
    {
     "data": {
      "application/javascript": "\n    function visualizerLoader() {\n      if ((typeof Visualizer) == \"function\") {\n        console.log(\"Using preloaded Q-CTRL Visualizer JavaScript package.\");\n        displayBlochSphere();\n        return;\n      }\n\n      try {\n        console.log(\"Attempting to load https://cdn.jsdelivr.net/npm/@qctrl/visualizer@3.1.14/umd/visualizer.min.js with require.js.\");\n        requirejs([\"https://cdn.jsdelivr.net/npm/@qctrl/visualizer@3.1.14/umd/visualizer.min.js\"], displayBlochSphere, displayErrorMessage);\n      } catch(error) {\n        var existing_script = document.getElementById(\"qctrlvisualizer-script\");\n\n        if (existing_script !== null) {\n          console.log(\n            \"Script tag for the Q-CTRL Visualizer JavaScript package already exists.\"\n            + \" Delaying execution of function until script is loaded.\"\n          );\n          existing_script.addEventListener(\"load\", displayBlochSphere);\n          existing_script.addEventListener(\"error\", displayErrorMessage);\n          return;\n        }\n\n        console.log(\"Attempting to load https://cdn.jsdelivr.net/npm/@qctrl/visualizer@3.1.14/umd/visualizer.min.js with script tag.\");\n        var script = document.createElement(\"script\");\n        script.onload = displayBlochSphere;\n        script.onerror = displayErrorMessage;\n        script.id = \"qctrlvisualizer-script\";\n        script.src = \"https://cdn.jsdelivr.net/npm/@qctrl/visualizer@3.1.14/umd/visualizer.min.js\";\n        document.head.appendChild(script);\n      }\n    }\n\n    function displayBlochSphere() { \n    let isPlaying = false;\n    let progress = 0;\n\n    const visualizationData = {\"data\": {\"qubits\": [{\"name\": \"qubit1\", \"x\": [0.0, 0.0, 0.0, 0.0, 0.0, 0.0, 0.0, 0.0, 0.0, 0.0, 0.0, 0.0, 0.0, 0.0, 0.0, 0.0, 0.0, 0.0, 0.0, 0.0], \"y\": [0.0, 0.0, 0.0, 0.0, 0.0, 0.0, 0.0, 0.0, 0.0, 0.0, 0.0, 0.0, 0.0, 0.0, 0.0, 0.0, 0.0, 0.0, 0.0, 0.0], \"z\": [-1.0, -1.0, -1.0000000000000004, -0.9999999999999997, -0.9999999999999999, -0.9999999999999998, -0.9999999999999996, -1.0000000000000002, -1.0, -1.0000000000000002, -0.9999999999999998, -1.0, -1.0000000000000002, -1.0, -1.0, -0.9999999999999997, -1.0000000000000002, -1.0000000000000002, -1.0, -0.9999999999996252]}]}};\n    const themeSettings = {\"highlightColor\": \"#EB6467\", \"pathColor\": \"#EB6467\"};\n    const labels = {\"xAxis\": true, \"yAxis\": true, \"zAxis\": true, \"theta\": true, \"phi\": true, \"northPole\": true, \"southPole\": true, \"nonErrorState\": false};\n\n    const wrapper = document.getElementById(\"qctrlvisualizer-wrapper-cdfb417a77ff48a382598b4f8d2a269b\");\n    const progressBar = document.getElementById(\"qctrlvisualizer-progress-bar-cdfb417a77ff48a382598b4f8d2a269b\");\n    const button = document.getElementById(\"qctrlvisualizer-button-cdfb417a77ff48a382598b4f8d2a269b\");\n\n    function updateButton () {\n      button.classList.remove(...[\n        \"qctrlvisualizer-button-play\",\n        \"qctrlvisualizer-button-pause\",\n        \"qctrlvisualizer-button-replay\"\n      ]);\n      if (isPlaying) {\n        button.classList.add(\"qctrlvisualizer-button-pause\");\n        button.innerHTML = \"Pause\";\n        return;\n      }\n      if (progress>=1) {\n        button.classList.add(\"qctrlvisualizer-button-replay\");\n        button.innerHTML = \"Replay\";\n        return;\n      }\n      button.classList.add(\"qctrlvisualizer-button-play\");\n      button.innerHTML = \"Play\";\n    }\n\n    button.onclick = () => {\n      isPlaying = !isPlaying;\n      if (progress >= 1) progress = 0;\n      updateButton();\n      visualizer.update({ isPlaying, progress });\n    };\n\n    progressBar.oninput = ({ target }) => {\n      progress = +target.value;\n      visualizer.update({ progress });\n      updateButton();\n    };\n\n    const onUpdate = ({ target, data }) => {\n      progress = data.progress;\n      progressBar.value = progress;\n      if (progress >= 1) {\n        isPlaying = false;\n        target.update({ isPlaying });\n        updateButton();\n      }\n    };\n\n    const visualizer = new Visualizer({\n      visualizationData,\n      wrapper,\n      onUpdate,\n      labels,\n    }).init();\n\n    visualizer.update({ themeSettings });\n     }\n\n    function displayErrorMessage() {\n      console.log(\"Failed to load https://cdn.jsdelivr.net/npm/@qctrl/visualizer@3.1.14/umd/visualizer.min.js.\");\n      const wrapper = document.getElementById(\"qctrlvisualizer-wrapper-cdfb417a77ff48a382598b4f8d2a269b\");\n      wrapper.innerHTML = \"Could not load JavaScript at https://cdn.jsdelivr.net/npm/@qctrl/visualizer@3.1.14/umd/visualizer.min.js.\";\n    }\n\n    visualizerLoader();\n    ",
      "text/plain": [
       "<IPython.core.display.Javascript object>"
      ]
     },
     "metadata": {},
     "output_type": "display_data"
    },
    {
     "data": {
      "text/html": [
       "\n",
       "    <div\n",
       "        class=\"qctrlvisualizer\"\n",
       "        style=\"display:flex;flex-direction:column;align-items:center;\"\n",
       "    >\n",
       "        <div\n",
       "            class=\"qctrlvisualizer-wrapper\"\n",
       "            style=\"width:300px;height:300px;margin:0.5rem 0\"\n",
       "            id=\"qctrlvisualizer-wrapper-4ccaa64e52034c379365943a510b7b77\"\n",
       "        ></div>\n",
       "        <input\n",
       "            class=\"qctrlvisualizer-progress-bar\"\n",
       "            style=\"margin:0.5rem 0\"\n",
       "            id=\"qctrlvisualizer-progress-bar-4ccaa64e52034c379365943a510b7b77\"\n",
       "            type=\"range\"\n",
       "            min=\"0\"\n",
       "            max=\"1\"\n",
       "            step=\"0.01\"\n",
       "            value=\"0\"\n",
       "        >\n",
       "        <button\n",
       "            class=\"qctrlvisualizer-button qctrlvisualizer-button-play\"\n",
       "            style=\"margin:0.5rem 0\"\n",
       "            id=\"qctrlvisualizer-button-4ccaa64e52034c379365943a510b7b77\"\n",
       "        >Play</button>\n",
       "    </div>\n",
       "    "
      ],
      "text/plain": [
       "<IPython.core.display.HTML object>"
      ]
     },
     "metadata": {},
     "output_type": "display_data"
    },
    {
     "data": {
      "application/javascript": "\n    function visualizerLoader() {\n      if ((typeof Visualizer) == \"function\") {\n        console.log(\"Using preloaded Q-CTRL Visualizer JavaScript package.\");\n        displayBlochSphere();\n        return;\n      }\n\n      try {\n        console.log(\"Attempting to load https://cdn.jsdelivr.net/npm/@qctrl/visualizer@3.1.14/umd/visualizer.min.js with require.js.\");\n        requirejs([\"https://cdn.jsdelivr.net/npm/@qctrl/visualizer@3.1.14/umd/visualizer.min.js\"], displayBlochSphere, displayErrorMessage);\n      } catch(error) {\n        var existing_script = document.getElementById(\"qctrlvisualizer-script\");\n\n        if (existing_script !== null) {\n          console.log(\n            \"Script tag for the Q-CTRL Visualizer JavaScript package already exists.\"\n            + \" Delaying execution of function until script is loaded.\"\n          );\n          existing_script.addEventListener(\"load\", displayBlochSphere);\n          existing_script.addEventListener(\"error\", displayErrorMessage);\n          return;\n        }\n\n        console.log(\"Attempting to load https://cdn.jsdelivr.net/npm/@qctrl/visualizer@3.1.14/umd/visualizer.min.js with script tag.\");\n        var script = document.createElement(\"script\");\n        script.onload = displayBlochSphere;\n        script.onerror = displayErrorMessage;\n        script.id = \"qctrlvisualizer-script\";\n        script.src = \"https://cdn.jsdelivr.net/npm/@qctrl/visualizer@3.1.14/umd/visualizer.min.js\";\n        document.head.appendChild(script);\n      }\n    }\n\n    function displayBlochSphere() { \n    let isPlaying = false;\n    let progress = 0;\n\n    const visualizationData = {\"data\": {\"qubits\": [{\"name\": \"qubit1\", \"x\": [0.0, 0.0, 0.0, 0.0, 0.0, 0.0, 0.0, 0.0, 0.0, 0.0, 0.0, 0.0, 0.0, 0.0, 0.0, 0.0, 0.0, 0.0, 0.0, 0.0], \"y\": [0.0, 0.1645945429985663, 0.3246993807424672, 0.47594729564988164, 0.6142126043876259, 0.7357238061392176, 0.8371663802069675, 0.9157732610414778, 0.9694002582599163, 0.9965845033854085, 0.9965844682477937, 0.9694001519978538, 0.9157730930321989, 0.8371661586557229, 0.7357234723297688, 0.6142121171178483, 0.47594667018242726, 0.32469867353851634, 0.1645936481667288, -1.2242691896310148e-06], \"z\": [1.0, 0.9863613112927194, 0.9458172720697476, 0.8794738039097943, 0.7891405936912442, 0.6772816851798242, 0.5469483082076061, 0.4016955742368315, 0.24548551746611802, 0.08257922021949066, -0.08257964426698744, -0.245485937085076, -0.4016959572590197, -0.5469486473167486, -0.6772820477932573, -0.7891409729481863, -0.8794741423954774, -0.9458175148528011, -0.986361460613282, -0.9999999999996252]}]}};\n    const themeSettings = {\"highlightColor\": \"#EB6467\", \"pathColor\": \"#EB6467\"};\n    const labels = {\"xAxis\": true, \"yAxis\": true, \"zAxis\": true, \"theta\": true, \"phi\": true, \"northPole\": true, \"southPole\": true, \"nonErrorState\": false};\n\n    const wrapper = document.getElementById(\"qctrlvisualizer-wrapper-4ccaa64e52034c379365943a510b7b77\");\n    const progressBar = document.getElementById(\"qctrlvisualizer-progress-bar-4ccaa64e52034c379365943a510b7b77\");\n    const button = document.getElementById(\"qctrlvisualizer-button-4ccaa64e52034c379365943a510b7b77\");\n\n    function updateButton () {\n      button.classList.remove(...[\n        \"qctrlvisualizer-button-play\",\n        \"qctrlvisualizer-button-pause\",\n        \"qctrlvisualizer-button-replay\"\n      ]);\n      if (isPlaying) {\n        button.classList.add(\"qctrlvisualizer-button-pause\");\n        button.innerHTML = \"Pause\";\n        return;\n      }\n      if (progress>=1) {\n        button.classList.add(\"qctrlvisualizer-button-replay\");\n        button.innerHTML = \"Replay\";\n        return;\n      }\n      button.classList.add(\"qctrlvisualizer-button-play\");\n      button.innerHTML = \"Play\";\n    }\n\n    button.onclick = () => {\n      isPlaying = !isPlaying;\n      if (progress >= 1) progress = 0;\n      updateButton();\n      visualizer.update({ isPlaying, progress });\n    };\n\n    progressBar.oninput = ({ target }) => {\n      progress = +target.value;\n      visualizer.update({ progress });\n      updateButton();\n    };\n\n    const onUpdate = ({ target, data }) => {\n      progress = data.progress;\n      progressBar.value = progress;\n      if (progress >= 1) {\n        isPlaying = false;\n        target.update({ isPlaying });\n        updateButton();\n      }\n    };\n\n    const visualizer = new Visualizer({\n      visualizationData,\n      wrapper,\n      onUpdate,\n      labels,\n    }).init();\n\n    visualizer.update({ themeSettings });\n     }\n\n    function displayErrorMessage() {\n      console.log(\"Failed to load https://cdn.jsdelivr.net/npm/@qctrl/visualizer@3.1.14/umd/visualizer.min.js.\");\n      const wrapper = document.getElementById(\"qctrlvisualizer-wrapper-4ccaa64e52034c379365943a510b7b77\");\n      wrapper.innerHTML = \"Could not load JavaScript at https://cdn.jsdelivr.net/npm/@qctrl/visualizer@3.1.14/umd/visualizer.min.js.\";\n    }\n\n    visualizerLoader();\n    ",
      "text/plain": [
       "<IPython.core.display.Javascript object>"
      ]
     },
     "metadata": {},
     "output_type": "display_data"
    }
   ],
   "source": [
    "initial_state_0 = qt.basis(2, 1)\n",
    "initial_state_1 = qt.basis(2, 0)\n",
    "\n",
    "simulate_two_qubits(H, times, initial_state_0, initial_state_1)"
   ]
  },
  {
   "cell_type": "markdown",
   "metadata": {},
   "source": [
    "### ZZ Hamiltonian\n",
    "\n",
    "$$\n",
    "H = \\frac{1}{2} \\sigma_z \\otimes \\sigma_z\n",
    "$$"
   ]
  },
  {
   "cell_type": "code",
   "execution_count": 7,
   "metadata": {},
   "outputs": [],
   "source": [
    "H = 0.5 * qt.tensor(qt.sigmaz(), qt.sigmaz())\n",
    "times = np.linspace(0, np.pi, 20)"
   ]
  },
  {
   "cell_type": "markdown",
   "metadata": {},
   "source": [
    "$$\\ket{0}\\otimes\\ket{+}$$"
   ]
  },
  {
   "cell_type": "code",
   "execution_count": 8,
   "metadata": {},
   "outputs": [
    {
     "data": {
      "text/html": [
       "\n",
       "    <div\n",
       "        class=\"qctrlvisualizer\"\n",
       "        style=\"display:flex;flex-direction:column;align-items:center;\"\n",
       "    >\n",
       "        <div\n",
       "            class=\"qctrlvisualizer-wrapper\"\n",
       "            style=\"width:300px;height:300px;margin:0.5rem 0\"\n",
       "            id=\"qctrlvisualizer-wrapper-2d9aa9a9417d4a26a48520525a7715a5\"\n",
       "        ></div>\n",
       "        <input\n",
       "            class=\"qctrlvisualizer-progress-bar\"\n",
       "            style=\"margin:0.5rem 0\"\n",
       "            id=\"qctrlvisualizer-progress-bar-2d9aa9a9417d4a26a48520525a7715a5\"\n",
       "            type=\"range\"\n",
       "            min=\"0\"\n",
       "            max=\"1\"\n",
       "            step=\"0.01\"\n",
       "            value=\"0\"\n",
       "        >\n",
       "        <button\n",
       "            class=\"qctrlvisualizer-button qctrlvisualizer-button-play\"\n",
       "            style=\"margin:0.5rem 0\"\n",
       "            id=\"qctrlvisualizer-button-2d9aa9a9417d4a26a48520525a7715a5\"\n",
       "        >Play</button>\n",
       "    </div>\n",
       "    "
      ],
      "text/plain": [
       "<IPython.core.display.HTML object>"
      ]
     },
     "metadata": {},
     "output_type": "display_data"
    },
    {
     "data": {
      "application/javascript": "\n    function visualizerLoader() {\n      if ((typeof Visualizer) == \"function\") {\n        console.log(\"Using preloaded Q-CTRL Visualizer JavaScript package.\");\n        displayBlochSphere();\n        return;\n      }\n\n      try {\n        console.log(\"Attempting to load https://cdn.jsdelivr.net/npm/@qctrl/visualizer@3.1.14/umd/visualizer.min.js with require.js.\");\n        requirejs([\"https://cdn.jsdelivr.net/npm/@qctrl/visualizer@3.1.14/umd/visualizer.min.js\"], displayBlochSphere, displayErrorMessage);\n      } catch(error) {\n        var existing_script = document.getElementById(\"qctrlvisualizer-script\");\n\n        if (existing_script !== null) {\n          console.log(\n            \"Script tag for the Q-CTRL Visualizer JavaScript package already exists.\"\n            + \" Delaying execution of function until script is loaded.\"\n          );\n          existing_script.addEventListener(\"load\", displayBlochSphere);\n          existing_script.addEventListener(\"error\", displayErrorMessage);\n          return;\n        }\n\n        console.log(\"Attempting to load https://cdn.jsdelivr.net/npm/@qctrl/visualizer@3.1.14/umd/visualizer.min.js with script tag.\");\n        var script = document.createElement(\"script\");\n        script.onload = displayBlochSphere;\n        script.onerror = displayErrorMessage;\n        script.id = \"qctrlvisualizer-script\";\n        script.src = \"https://cdn.jsdelivr.net/npm/@qctrl/visualizer@3.1.14/umd/visualizer.min.js\";\n        document.head.appendChild(script);\n      }\n    }\n\n    function displayBlochSphere() { \n    let isPlaying = false;\n    let progress = 0;\n\n    const visualizationData = {\"data\": {\"qubits\": [{\"name\": \"qubit1\", \"x\": [0.0, 0.0, 0.0, 0.0, 0.0, 0.0, 0.0, 0.0, 0.0, 0.0, 0.0, 0.0, 0.0, 0.0, 0.0, 0.0, 0.0, 0.0, 0.0, 0.0], \"y\": [0.0, 0.0, 0.0, 0.0, 0.0, 0.0, 0.0, 0.0, 0.0, 0.0, 0.0, 0.0, 0.0, 0.0, 0.0, 0.0, 0.0, 0.0, 0.0, 0.0], \"z\": [0.9999999999999998, 0.9999999999999996, 1.0, 0.9999999999999996, 0.9999999999999998, 1.0, 0.9999999999999999, 0.9999999999999996, 0.9999999999999998, 0.9999999999999999, 0.9999999999999998, 0.9999999999999998, 1.0, 0.9999999999999996, 0.9999999999999998, 0.9999999999999999, 0.9999999999999999, 0.9999999999999998, 0.9999999999999997, 1.0]}]}};\n    const themeSettings = {\"highlightColor\": \"#EB6467\", \"pathColor\": \"#EB6467\"};\n    const labels = {\"xAxis\": true, \"yAxis\": true, \"zAxis\": true, \"theta\": true, \"phi\": true, \"northPole\": true, \"southPole\": true, \"nonErrorState\": false};\n\n    const wrapper = document.getElementById(\"qctrlvisualizer-wrapper-2d9aa9a9417d4a26a48520525a7715a5\");\n    const progressBar = document.getElementById(\"qctrlvisualizer-progress-bar-2d9aa9a9417d4a26a48520525a7715a5\");\n    const button = document.getElementById(\"qctrlvisualizer-button-2d9aa9a9417d4a26a48520525a7715a5\");\n\n    function updateButton () {\n      button.classList.remove(...[\n        \"qctrlvisualizer-button-play\",\n        \"qctrlvisualizer-button-pause\",\n        \"qctrlvisualizer-button-replay\"\n      ]);\n      if (isPlaying) {\n        button.classList.add(\"qctrlvisualizer-button-pause\");\n        button.innerHTML = \"Pause\";\n        return;\n      }\n      if (progress>=1) {\n        button.classList.add(\"qctrlvisualizer-button-replay\");\n        button.innerHTML = \"Replay\";\n        return;\n      }\n      button.classList.add(\"qctrlvisualizer-button-play\");\n      button.innerHTML = \"Play\";\n    }\n\n    button.onclick = () => {\n      isPlaying = !isPlaying;\n      if (progress >= 1) progress = 0;\n      updateButton();\n      visualizer.update({ isPlaying, progress });\n    };\n\n    progressBar.oninput = ({ target }) => {\n      progress = +target.value;\n      visualizer.update({ progress });\n      updateButton();\n    };\n\n    const onUpdate = ({ target, data }) => {\n      progress = data.progress;\n      progressBar.value = progress;\n      if (progress >= 1) {\n        isPlaying = false;\n        target.update({ isPlaying });\n        updateButton();\n      }\n    };\n\n    const visualizer = new Visualizer({\n      visualizationData,\n      wrapper,\n      onUpdate,\n      labels,\n    }).init();\n\n    visualizer.update({ themeSettings });\n     }\n\n    function displayErrorMessage() {\n      console.log(\"Failed to load https://cdn.jsdelivr.net/npm/@qctrl/visualizer@3.1.14/umd/visualizer.min.js.\");\n      const wrapper = document.getElementById(\"qctrlvisualizer-wrapper-2d9aa9a9417d4a26a48520525a7715a5\");\n      wrapper.innerHTML = \"Could not load JavaScript at https://cdn.jsdelivr.net/npm/@qctrl/visualizer@3.1.14/umd/visualizer.min.js.\";\n    }\n\n    visualizerLoader();\n    ",
      "text/plain": [
       "<IPython.core.display.Javascript object>"
      ]
     },
     "metadata": {},
     "output_type": "display_data"
    },
    {
     "data": {
      "text/html": [
       "\n",
       "    <div\n",
       "        class=\"qctrlvisualizer\"\n",
       "        style=\"display:flex;flex-direction:column;align-items:center;\"\n",
       "    >\n",
       "        <div\n",
       "            class=\"qctrlvisualizer-wrapper\"\n",
       "            style=\"width:300px;height:300px;margin:0.5rem 0\"\n",
       "            id=\"qctrlvisualizer-wrapper-1fe7509127134b0d8e0b83536ce12fec\"\n",
       "        ></div>\n",
       "        <input\n",
       "            class=\"qctrlvisualizer-progress-bar\"\n",
       "            style=\"margin:0.5rem 0\"\n",
       "            id=\"qctrlvisualizer-progress-bar-1fe7509127134b0d8e0b83536ce12fec\"\n",
       "            type=\"range\"\n",
       "            min=\"0\"\n",
       "            max=\"1\"\n",
       "            step=\"0.01\"\n",
       "            value=\"0\"\n",
       "        >\n",
       "        <button\n",
       "            class=\"qctrlvisualizer-button qctrlvisualizer-button-play\"\n",
       "            style=\"margin:0.5rem 0\"\n",
       "            id=\"qctrlvisualizer-button-1fe7509127134b0d8e0b83536ce12fec\"\n",
       "        >Play</button>\n",
       "    </div>\n",
       "    "
      ],
      "text/plain": [
       "<IPython.core.display.HTML object>"
      ]
     },
     "metadata": {},
     "output_type": "display_data"
    },
    {
     "data": {
      "application/javascript": "\n    function visualizerLoader() {\n      if ((typeof Visualizer) == \"function\") {\n        console.log(\"Using preloaded Q-CTRL Visualizer JavaScript package.\");\n        displayBlochSphere();\n        return;\n      }\n\n      try {\n        console.log(\"Attempting to load https://cdn.jsdelivr.net/npm/@qctrl/visualizer@3.1.14/umd/visualizer.min.js with require.js.\");\n        requirejs([\"https://cdn.jsdelivr.net/npm/@qctrl/visualizer@3.1.14/umd/visualizer.min.js\"], displayBlochSphere, displayErrorMessage);\n      } catch(error) {\n        var existing_script = document.getElementById(\"qctrlvisualizer-script\");\n\n        if (existing_script !== null) {\n          console.log(\n            \"Script tag for the Q-CTRL Visualizer JavaScript package already exists.\"\n            + \" Delaying execution of function until script is loaded.\"\n          );\n          existing_script.addEventListener(\"load\", displayBlochSphere);\n          existing_script.addEventListener(\"error\", displayErrorMessage);\n          return;\n        }\n\n        console.log(\"Attempting to load https://cdn.jsdelivr.net/npm/@qctrl/visualizer@3.1.14/umd/visualizer.min.js with script tag.\");\n        var script = document.createElement(\"script\");\n        script.onload = displayBlochSphere;\n        script.onerror = displayErrorMessage;\n        script.id = \"qctrlvisualizer-script\";\n        script.src = \"https://cdn.jsdelivr.net/npm/@qctrl/visualizer@3.1.14/umd/visualizer.min.js\";\n        document.head.appendChild(script);\n      }\n    }\n\n    function displayBlochSphere() { \n    let isPlaying = false;\n    let progress = 0;\n\n    const visualizationData = {\"data\": {\"qubits\": [{\"name\": \"qubit1\", \"x\": [0.9999999999999998, 0.9863614174048105, 0.9458174747860917, 0.8794740586958794, 0.7891408478525386, 0.6772819009991579, 0.5469484429564458, 0.40169566096555037, 0.24548572633174337, 0.08257953923830808, -0.08257927616334992, -0.24548559238600504, -0.4016958011762373, -0.5469488302981784, -0.6772823924628761, -0.7891413967111932, -0.8794746120810707, -0.9458179669038036, -0.9863617445726368, -0.9999999999955582], \"y\": [0.0, 0.164593907102214, 0.3246987902491488, 0.47594682484600725, 0.6142122778409563, 0.7357236074634055, 0.8371662921711069, 0.9157732229987121, 0.9694002053679255, 0.9965844769507444, 0.9965844987497733, 0.9694002392876184, 0.9157731614965471, 0.8371660391078067, 0.7357231550384711, 0.614211572665891, 0.4759458022767405, 0.3246973567523378, 0.16459194647255285, -2.9805341286788683e-06], \"z\": [0.0, 0.0, 0.0, 0.0, 0.0, 0.0, 0.0, 0.0, 0.0, 0.0, 0.0, 0.0, 0.0, 0.0, 0.0, 0.0, 0.0, 0.0, 0.0, 0.0]}]}};\n    const themeSettings = {\"highlightColor\": \"#EB6467\", \"pathColor\": \"#EB6467\"};\n    const labels = {\"xAxis\": true, \"yAxis\": true, \"zAxis\": true, \"theta\": true, \"phi\": true, \"northPole\": true, \"southPole\": true, \"nonErrorState\": false};\n\n    const wrapper = document.getElementById(\"qctrlvisualizer-wrapper-1fe7509127134b0d8e0b83536ce12fec\");\n    const progressBar = document.getElementById(\"qctrlvisualizer-progress-bar-1fe7509127134b0d8e0b83536ce12fec\");\n    const button = document.getElementById(\"qctrlvisualizer-button-1fe7509127134b0d8e0b83536ce12fec\");\n\n    function updateButton () {\n      button.classList.remove(...[\n        \"qctrlvisualizer-button-play\",\n        \"qctrlvisualizer-button-pause\",\n        \"qctrlvisualizer-button-replay\"\n      ]);\n      if (isPlaying) {\n        button.classList.add(\"qctrlvisualizer-button-pause\");\n        button.innerHTML = \"Pause\";\n        return;\n      }\n      if (progress>=1) {\n        button.classList.add(\"qctrlvisualizer-button-replay\");\n        button.innerHTML = \"Replay\";\n        return;\n      }\n      button.classList.add(\"qctrlvisualizer-button-play\");\n      button.innerHTML = \"Play\";\n    }\n\n    button.onclick = () => {\n      isPlaying = !isPlaying;\n      if (progress >= 1) progress = 0;\n      updateButton();\n      visualizer.update({ isPlaying, progress });\n    };\n\n    progressBar.oninput = ({ target }) => {\n      progress = +target.value;\n      visualizer.update({ progress });\n      updateButton();\n    };\n\n    const onUpdate = ({ target, data }) => {\n      progress = data.progress;\n      progressBar.value = progress;\n      if (progress >= 1) {\n        isPlaying = false;\n        target.update({ isPlaying });\n        updateButton();\n      }\n    };\n\n    const visualizer = new Visualizer({\n      visualizationData,\n      wrapper,\n      onUpdate,\n      labels,\n    }).init();\n\n    visualizer.update({ themeSettings });\n     }\n\n    function displayErrorMessage() {\n      console.log(\"Failed to load https://cdn.jsdelivr.net/npm/@qctrl/visualizer@3.1.14/umd/visualizer.min.js.\");\n      const wrapper = document.getElementById(\"qctrlvisualizer-wrapper-1fe7509127134b0d8e0b83536ce12fec\");\n      wrapper.innerHTML = \"Could not load JavaScript at https://cdn.jsdelivr.net/npm/@qctrl/visualizer@3.1.14/umd/visualizer.min.js.\";\n    }\n\n    visualizerLoader();\n    ",
      "text/plain": [
       "<IPython.core.display.Javascript object>"
      ]
     },
     "metadata": {},
     "output_type": "display_data"
    }
   ],
   "source": [
    "initial_state_0 = qt.basis(2, 0)\n",
    "initial_state_1 = 1 / np.sqrt(2) * (qt.basis(2, 0) + qt.basis(2, 1))\n",
    "\n",
    "simulate_two_qubits(H, times, initial_state_0, initial_state_1)"
   ]
  },
  {
   "cell_type": "markdown",
   "metadata": {},
   "source": [
    "$$\\ket{+}\\otimes\\ket{+}$$"
   ]
  },
  {
   "cell_type": "code",
   "execution_count": 11,
   "metadata": {},
   "outputs": [
    {
     "data": {
      "text/html": [
       "\n",
       "    <div\n",
       "        class=\"qctrlvisualizer\"\n",
       "        style=\"display:flex;flex-direction:column;align-items:center;\"\n",
       "    >\n",
       "        <div\n",
       "            class=\"qctrlvisualizer-wrapper\"\n",
       "            style=\"width:300px;height:300px;margin:0.5rem 0\"\n",
       "            id=\"qctrlvisualizer-wrapper-07e39a4659d74e9ea9e5d86d222f2ec5\"\n",
       "        ></div>\n",
       "        <input\n",
       "            class=\"qctrlvisualizer-progress-bar\"\n",
       "            style=\"margin:0.5rem 0\"\n",
       "            id=\"qctrlvisualizer-progress-bar-07e39a4659d74e9ea9e5d86d222f2ec5\"\n",
       "            type=\"range\"\n",
       "            min=\"0\"\n",
       "            max=\"1\"\n",
       "            step=\"0.01\"\n",
       "            value=\"0\"\n",
       "        >\n",
       "        <button\n",
       "            class=\"qctrlvisualizer-button qctrlvisualizer-button-play\"\n",
       "            style=\"margin:0.5rem 0\"\n",
       "            id=\"qctrlvisualizer-button-07e39a4659d74e9ea9e5d86d222f2ec5\"\n",
       "        >Play</button>\n",
       "    </div>\n",
       "    "
      ],
      "text/plain": [
       "<IPython.core.display.HTML object>"
      ]
     },
     "metadata": {},
     "output_type": "display_data"
    },
    {
     "data": {
      "application/javascript": "\n    function visualizerLoader() {\n      if ((typeof Visualizer) == \"function\") {\n        console.log(\"Using preloaded Q-CTRL Visualizer JavaScript package.\");\n        displayBlochSphere();\n        return;\n      }\n\n      try {\n        console.log(\"Attempting to load https://cdn.jsdelivr.net/npm/@qctrl/visualizer@3.1.14/umd/visualizer.min.js with require.js.\");\n        requirejs([\"https://cdn.jsdelivr.net/npm/@qctrl/visualizer@3.1.14/umd/visualizer.min.js\"], displayBlochSphere, displayErrorMessage);\n      } catch(error) {\n        var existing_script = document.getElementById(\"qctrlvisualizer-script\");\n\n        if (existing_script !== null) {\n          console.log(\n            \"Script tag for the Q-CTRL Visualizer JavaScript package already exists.\"\n            + \" Delaying execution of function until script is loaded.\"\n          );\n          existing_script.addEventListener(\"load\", displayBlochSphere);\n          existing_script.addEventListener(\"error\", displayErrorMessage);\n          return;\n        }\n\n        console.log(\"Attempting to load https://cdn.jsdelivr.net/npm/@qctrl/visualizer@3.1.14/umd/visualizer.min.js with script tag.\");\n        var script = document.createElement(\"script\");\n        script.onload = displayBlochSphere;\n        script.onerror = displayErrorMessage;\n        script.id = \"qctrlvisualizer-script\";\n        script.src = \"https://cdn.jsdelivr.net/npm/@qctrl/visualizer@3.1.14/umd/visualizer.min.js\";\n        document.head.appendChild(script);\n      }\n    }\n\n    function displayBlochSphere() { \n    let isPlaying = false;\n    let progress = 0;\n\n    const visualizationData = {\"data\": {\"qubits\": [{\"name\": \"qubit1\", \"x\": [0.9999999999999996, 0.9863614174048104, 0.9458174747860914, 0.8794740586958794, 0.7891408478525385, 0.6772819009991574, 0.5469484429564456, 0.40169566096555026, 0.24548572633174326, 0.08257953923830796, -0.08257927616334998, -0.2454855923860047, -0.4016958011762372, -0.5469488302981783, -0.6772823924628761, -0.7891413967111929, -0.8794746120810705, -0.9458179669038034, -0.9863617445726365, -0.9999999999955578], \"y\": [0.0, 0.0, 0.0, 0.0, 0.0, 0.0, 0.0, 0.0, 0.0, 0.0, 0.0, 0.0, 0.0, 0.0, 0.0, 0.0, 0.0, 0.0, 0.0, 0.0], \"z\": [0.0, 0.0, 0.0, 0.0, 0.0, 0.0, 0.0, 0.0, 0.0, 0.0, 0.0, 0.0, 0.0, 0.0, 0.0, 0.0, 0.0, 0.0, 0.0, 0.0]}]}};\n    const themeSettings = {\"highlightColor\": \"#EB6467\", \"pathColor\": \"#EB6467\"};\n    const labels = {\"xAxis\": true, \"yAxis\": true, \"zAxis\": true, \"theta\": true, \"phi\": true, \"northPole\": true, \"southPole\": true, \"nonErrorState\": false};\n\n    const wrapper = document.getElementById(\"qctrlvisualizer-wrapper-07e39a4659d74e9ea9e5d86d222f2ec5\");\n    const progressBar = document.getElementById(\"qctrlvisualizer-progress-bar-07e39a4659d74e9ea9e5d86d222f2ec5\");\n    const button = document.getElementById(\"qctrlvisualizer-button-07e39a4659d74e9ea9e5d86d222f2ec5\");\n\n    function updateButton () {\n      button.classList.remove(...[\n        \"qctrlvisualizer-button-play\",\n        \"qctrlvisualizer-button-pause\",\n        \"qctrlvisualizer-button-replay\"\n      ]);\n      if (isPlaying) {\n        button.classList.add(\"qctrlvisualizer-button-pause\");\n        button.innerHTML = \"Pause\";\n        return;\n      }\n      if (progress>=1) {\n        button.classList.add(\"qctrlvisualizer-button-replay\");\n        button.innerHTML = \"Replay\";\n        return;\n      }\n      button.classList.add(\"qctrlvisualizer-button-play\");\n      button.innerHTML = \"Play\";\n    }\n\n    button.onclick = () => {\n      isPlaying = !isPlaying;\n      if (progress >= 1) progress = 0;\n      updateButton();\n      visualizer.update({ isPlaying, progress });\n    };\n\n    progressBar.oninput = ({ target }) => {\n      progress = +target.value;\n      visualizer.update({ progress });\n      updateButton();\n    };\n\n    const onUpdate = ({ target, data }) => {\n      progress = data.progress;\n      progressBar.value = progress;\n      if (progress >= 1) {\n        isPlaying = false;\n        target.update({ isPlaying });\n        updateButton();\n      }\n    };\n\n    const visualizer = new Visualizer({\n      visualizationData,\n      wrapper,\n      onUpdate,\n      labels,\n    }).init();\n\n    visualizer.update({ themeSettings });\n     }\n\n    function displayErrorMessage() {\n      console.log(\"Failed to load https://cdn.jsdelivr.net/npm/@qctrl/visualizer@3.1.14/umd/visualizer.min.js.\");\n      const wrapper = document.getElementById(\"qctrlvisualizer-wrapper-07e39a4659d74e9ea9e5d86d222f2ec5\");\n      wrapper.innerHTML = \"Could not load JavaScript at https://cdn.jsdelivr.net/npm/@qctrl/visualizer@3.1.14/umd/visualizer.min.js.\";\n    }\n\n    visualizerLoader();\n    ",
      "text/plain": [
       "<IPython.core.display.Javascript object>"
      ]
     },
     "metadata": {},
     "output_type": "display_data"
    },
    {
     "data": {
      "text/html": [
       "\n",
       "    <div\n",
       "        class=\"qctrlvisualizer\"\n",
       "        style=\"display:flex;flex-direction:column;align-items:center;\"\n",
       "    >\n",
       "        <div\n",
       "            class=\"qctrlvisualizer-wrapper\"\n",
       "            style=\"width:300px;height:300px;margin:0.5rem 0\"\n",
       "            id=\"qctrlvisualizer-wrapper-04200818e4b443f594b222a76a91491d\"\n",
       "        ></div>\n",
       "        <input\n",
       "            class=\"qctrlvisualizer-progress-bar\"\n",
       "            style=\"margin:0.5rem 0\"\n",
       "            id=\"qctrlvisualizer-progress-bar-04200818e4b443f594b222a76a91491d\"\n",
       "            type=\"range\"\n",
       "            min=\"0\"\n",
       "            max=\"1\"\n",
       "            step=\"0.01\"\n",
       "            value=\"0\"\n",
       "        >\n",
       "        <button\n",
       "            class=\"qctrlvisualizer-button qctrlvisualizer-button-play\"\n",
       "            style=\"margin:0.5rem 0\"\n",
       "            id=\"qctrlvisualizer-button-04200818e4b443f594b222a76a91491d\"\n",
       "        >Play</button>\n",
       "    </div>\n",
       "    "
      ],
      "text/plain": [
       "<IPython.core.display.HTML object>"
      ]
     },
     "metadata": {},
     "output_type": "display_data"
    },
    {
     "data": {
      "application/javascript": "\n    function visualizerLoader() {\n      if ((typeof Visualizer) == \"function\") {\n        console.log(\"Using preloaded Q-CTRL Visualizer JavaScript package.\");\n        displayBlochSphere();\n        return;\n      }\n\n      try {\n        console.log(\"Attempting to load https://cdn.jsdelivr.net/npm/@qctrl/visualizer@3.1.14/umd/visualizer.min.js with require.js.\");\n        requirejs([\"https://cdn.jsdelivr.net/npm/@qctrl/visualizer@3.1.14/umd/visualizer.min.js\"], displayBlochSphere, displayErrorMessage);\n      } catch(error) {\n        var existing_script = document.getElementById(\"qctrlvisualizer-script\");\n\n        if (existing_script !== null) {\n          console.log(\n            \"Script tag for the Q-CTRL Visualizer JavaScript package already exists.\"\n            + \" Delaying execution of function until script is loaded.\"\n          );\n          existing_script.addEventListener(\"load\", displayBlochSphere);\n          existing_script.addEventListener(\"error\", displayErrorMessage);\n          return;\n        }\n\n        console.log(\"Attempting to load https://cdn.jsdelivr.net/npm/@qctrl/visualizer@3.1.14/umd/visualizer.min.js with script tag.\");\n        var script = document.createElement(\"script\");\n        script.onload = displayBlochSphere;\n        script.onerror = displayErrorMessage;\n        script.id = \"qctrlvisualizer-script\";\n        script.src = \"https://cdn.jsdelivr.net/npm/@qctrl/visualizer@3.1.14/umd/visualizer.min.js\";\n        document.head.appendChild(script);\n      }\n    }\n\n    function displayBlochSphere() { \n    let isPlaying = false;\n    let progress = 0;\n\n    const visualizationData = {\"data\": {\"qubits\": [{\"name\": \"qubit1\", \"x\": [0.9999999999999996, 0.9863614174048104, 0.9458174747860914, 0.8794740586958794, 0.7891408478525385, 0.6772819009991574, 0.5469484429564456, 0.40169566096555026, 0.24548572633174326, 0.08257953923830796, -0.08257927616334998, -0.2454855923860047, -0.4016958011762372, -0.5469488302981783, -0.6772823924628761, -0.7891413967111929, -0.8794746120810705, -0.9458179669038034, -0.9863617445726365, -0.9999999999955578], \"y\": [0.0, 0.0, 0.0, 0.0, 0.0, 0.0, 0.0, 0.0, 0.0, 0.0, 0.0, 0.0, 0.0, 0.0, 0.0, 0.0, 0.0, 0.0, 0.0, 0.0], \"z\": [0.0, 0.0, 0.0, 0.0, 0.0, 0.0, 0.0, 0.0, 0.0, 0.0, 0.0, 0.0, 0.0, 0.0, 0.0, 0.0, 0.0, 0.0, 0.0, 0.0]}]}};\n    const themeSettings = {\"highlightColor\": \"#EB6467\", \"pathColor\": \"#EB6467\"};\n    const labels = {\"xAxis\": true, \"yAxis\": true, \"zAxis\": true, \"theta\": true, \"phi\": true, \"northPole\": true, \"southPole\": true, \"nonErrorState\": false};\n\n    const wrapper = document.getElementById(\"qctrlvisualizer-wrapper-04200818e4b443f594b222a76a91491d\");\n    const progressBar = document.getElementById(\"qctrlvisualizer-progress-bar-04200818e4b443f594b222a76a91491d\");\n    const button = document.getElementById(\"qctrlvisualizer-button-04200818e4b443f594b222a76a91491d\");\n\n    function updateButton () {\n      button.classList.remove(...[\n        \"qctrlvisualizer-button-play\",\n        \"qctrlvisualizer-button-pause\",\n        \"qctrlvisualizer-button-replay\"\n      ]);\n      if (isPlaying) {\n        button.classList.add(\"qctrlvisualizer-button-pause\");\n        button.innerHTML = \"Pause\";\n        return;\n      }\n      if (progress>=1) {\n        button.classList.add(\"qctrlvisualizer-button-replay\");\n        button.innerHTML = \"Replay\";\n        return;\n      }\n      button.classList.add(\"qctrlvisualizer-button-play\");\n      button.innerHTML = \"Play\";\n    }\n\n    button.onclick = () => {\n      isPlaying = !isPlaying;\n      if (progress >= 1) progress = 0;\n      updateButton();\n      visualizer.update({ isPlaying, progress });\n    };\n\n    progressBar.oninput = ({ target }) => {\n      progress = +target.value;\n      visualizer.update({ progress });\n      updateButton();\n    };\n\n    const onUpdate = ({ target, data }) => {\n      progress = data.progress;\n      progressBar.value = progress;\n      if (progress >= 1) {\n        isPlaying = false;\n        target.update({ isPlaying });\n        updateButton();\n      }\n    };\n\n    const visualizer = new Visualizer({\n      visualizationData,\n      wrapper,\n      onUpdate,\n      labels,\n    }).init();\n\n    visualizer.update({ themeSettings });\n     }\n\n    function displayErrorMessage() {\n      console.log(\"Failed to load https://cdn.jsdelivr.net/npm/@qctrl/visualizer@3.1.14/umd/visualizer.min.js.\");\n      const wrapper = document.getElementById(\"qctrlvisualizer-wrapper-04200818e4b443f594b222a76a91491d\");\n      wrapper.innerHTML = \"Could not load JavaScript at https://cdn.jsdelivr.net/npm/@qctrl/visualizer@3.1.14/umd/visualizer.min.js.\";\n    }\n\n    visualizerLoader();\n    ",
      "text/plain": [
       "<IPython.core.display.Javascript object>"
      ]
     },
     "metadata": {},
     "output_type": "display_data"
    }
   ],
   "source": [
    "H = 0.5 * qt.tensor(qt.sigmaz(), qt.sigmaz())\n",
    "times = np.linspace(0, np.pi, 20)\n",
    "\n",
    "# initial_state_0 = qt.rand_ket_haar(2)\n",
    "# initial_state_0 = qt.basis(2, 0)\n",
    "# initial_state_0 = qt.basis(2, 1)\n",
    "initial_state_0 = 1 / np.sqrt(2) * (qt.basis(2, 0) + qt.basis(2, 1))\n",
    "# initial_state_0 = np.sqrt(3) / 2 * qt.basis(2, 0) + 1 / 2 * qt.basis(2, 1)\n",
    "\n",
    "# initial_state_1 = qt.rand_ket_haar(2)\n",
    "# initial_state_1 = qt.basis(2, 0)\n",
    "# initial_state_1 = qt.basis(2, 1)\n",
    "initial_state_1 = 1 / np.sqrt(2) * (qt.basis(2, 0) + qt.basis(2, 1))\n",
    "# initial_state_1 = np.sqrt(3) / 2 * qt.basis(2, 0) + 1 / 2 * qt.basis(2, 1)\n",
    "\n",
    "simulate_two_qubits(H, times, initial_state_0, initial_state_1)"
   ]
  }
 ],
 "metadata": {
  "kernelspec": {
   "display_name": "Python 3",
   "language": "python",
   "name": "python3"
  },
  "language_info": {
   "codemirror_mode": {
    "name": "ipython",
    "version": 3
   },
   "file_extension": ".py",
   "mimetype": "text/x-python",
   "name": "python",
   "nbconvert_exporter": "python",
   "pygments_lexer": "ipython3",
   "version": "3.9.16"
  },
  "orig_nbformat": 4
 },
 "nbformat": 4,
 "nbformat_minor": 2
}
