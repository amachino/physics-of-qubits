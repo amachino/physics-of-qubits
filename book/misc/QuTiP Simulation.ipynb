{
 "cells": [
  {
   "cell_type": "markdown",
   "metadata": {},
   "source": [
    "# QuTiP Simulation"
   ]
  },
  {
   "cell_type": "code",
   "execution_count": 1,
   "metadata": {},
   "outputs": [],
   "source": [
    "import numpy as np\n",
    "import qutip as qt\n",
    "import qctrlvisualizer as qv\n",
    "\n",
    "\n",
    "def simulate_one_qubit(hamiltonian, times, initial_state, args={}):\n",
    "    initial_state = qt.Qobj(initial_state)\n",
    "    propagators = [qt.propagator(hamiltonian, t, args=args) for t in times]\n",
    "    states = [U * initial_state for U in propagators]\n",
    "    states = np.array(states).squeeze()\n",
    "    qv.display_bloch_sphere(states)\n",
    "\n",
    "\n",
    "def simulate_two_qubits(hamiltonian, times, initial_state_0, initial_state_1, args={}):\n",
    "    initial_state = qt.tensor(initial_state_0, initial_state_1)\n",
    "    propagators = [qt.propagator(hamiltonian, t, args=args) for t in times]\n",
    "    states = [U * initial_state for U in propagators]\n",
    "    density_matrices = [qt.ket2dm(state) for state in states]\n",
    "    density_matrices_0 = np.array([dm.ptrace(0) for dm in density_matrices])\n",
    "    density_matrices_1 = np.array([dm.ptrace(1) for dm in density_matrices])\n",
    "    qv.display_bloch_sphere_from_density_matrices(density_matrices_0)\n",
    "    qv.display_bloch_sphere_from_density_matrices(density_matrices_1)"
   ]
  },
  {
   "cell_type": "markdown",
   "metadata": {},
   "source": [
    "## 1-qubit\n",
    "\n",
    "$$\n",
    "H = \\frac{\\omega}{2} \\sigma_z\n",
    "$$"
   ]
  },
  {
   "cell_type": "code",
   "execution_count": 2,
   "metadata": {},
   "outputs": [
    {
     "data": {
      "text/html": [
       "\n",
       "    <div\n",
       "        class=\"qctrlvisualizer\"\n",
       "        style=\"display:flex;flex-direction:column;align-items:center;\"\n",
       "    >\n",
       "        <div\n",
       "            class=\"qctrlvisualizer-wrapper\"\n",
       "            style=\"width:300px;height:300px;margin:0.5rem 0\"\n",
       "            id=\"qctrlvisualizer-wrapper-c00c857c8d9a45e7bc32fe5d382f01c4\"\n",
       "        ></div>\n",
       "        <input\n",
       "            class=\"qctrlvisualizer-progress-bar\"\n",
       "            style=\"margin:0.5rem 0\"\n",
       "            id=\"qctrlvisualizer-progress-bar-c00c857c8d9a45e7bc32fe5d382f01c4\"\n",
       "            type=\"range\"\n",
       "            min=\"0\"\n",
       "            max=\"1\"\n",
       "            step=\"0.01\"\n",
       "            value=\"0\"\n",
       "        >\n",
       "        <button\n",
       "            class=\"qctrlvisualizer-button qctrlvisualizer-button-play\"\n",
       "            style=\"margin:0.5rem 0\"\n",
       "            id=\"qctrlvisualizer-button-c00c857c8d9a45e7bc32fe5d382f01c4\"\n",
       "        >Play</button>\n",
       "    </div>\n",
       "    "
      ],
      "text/plain": [
       "<IPython.core.display.HTML object>"
      ]
     },
     "metadata": {},
     "output_type": "display_data"
    },
    {
     "data": {
      "application/javascript": "\n    function visualizerLoader() {\n      if ((typeof Visualizer) == \"function\") {\n        console.log(\"Using preloaded Q-CTRL Visualizer JavaScript package.\");\n        displayBlochSphere();\n        return;\n      }\n\n      try {\n        console.log(\"Attempting to load https://cdn.jsdelivr.net/npm/@qctrl/visualizer@3.1.14/umd/visualizer.min.js with require.js.\");\n        requirejs([\"https://cdn.jsdelivr.net/npm/@qctrl/visualizer@3.1.14/umd/visualizer.min.js\"], displayBlochSphere, displayErrorMessage);\n      } catch(error) {\n        var existing_script = document.getElementById(\"qctrlvisualizer-script\");\n\n        if (existing_script !== null) {\n          console.log(\n            \"Script tag for the Q-CTRL Visualizer JavaScript package already exists.\"\n            + \" Delaying execution of function until script is loaded.\"\n          );\n          existing_script.addEventListener(\"load\", displayBlochSphere);\n          existing_script.addEventListener(\"error\", displayErrorMessage);\n          return;\n        }\n\n        console.log(\"Attempting to load https://cdn.jsdelivr.net/npm/@qctrl/visualizer@3.1.14/umd/visualizer.min.js with script tag.\");\n        var script = document.createElement(\"script\");\n        script.onload = displayBlochSphere;\n        script.onerror = displayErrorMessage;\n        script.id = \"qctrlvisualizer-script\";\n        script.src = \"https://cdn.jsdelivr.net/npm/@qctrl/visualizer@3.1.14/umd/visualizer.min.js\";\n        document.head.appendChild(script);\n      }\n    }\n\n    function displayBlochSphere() { \n    let isPlaying = false;\n    let progress = 0;\n\n    const visualizationData = {\"data\": {\"qubits\": [{\"name\": \"qubit1\", \"x\": [0.328966644140887, 0.38324619052199815, 0.4359829541560899, 0.4869641648576233, 0.5359845452151265, 0.5828467040117857, 0.6273619585255494, 0.6693510624539811, 0.7086449100519955, 0.7450853084691357, 0.7785254940565483, 0.8088308437652139, 0.8358793031566387, 0.8595619764867519, 0.8797834877755111, 0.8964624205895261, 0.9095316115679151, 0.9189384321233736, 0.9246450125114365, 0.9266283736667379, 0.9248805285463035, 0.9194085144682287, 0.9102343636777646, 0.897395015498359, 0.8809421693250765, 0.8609420751571355, 0.8374752621879173, 0.8106362199062789, 0.7805330183525092, 0.7472868729231154, 0.7110316514516883, 0.6719133428042132, 0.6300894721067052, 0.5857284587754122, 0.5390089164619257, 0.4901189652228144, 0.43925546854931474, 0.38662324041247553, 0.3324342060453247, 0.276906563890832, 0.22026390820336353, 0.16273432725920298, 0.1045494655480561, 0.04594361569038203, -0.012847225347731764, -0.07158631145984465, -0.1300371394680567, -0.18796435670554235, -0.24513471448120755, -0.30131800592264835, -0.35628800038533975, -0.4098233510809528, -0.461708481602707, -0.5117344552703895, -0.5596998459476832, -0.6054115169522387, -0.6486853994177337, -0.6893472361029168, -0.7272333045068631, -0.7621910568877108, -0.794079732226095, -0.8227709239635463, -0.8481491000983178, -0.8701120686464107, -0.8885713876236122, -0.903452723122119, -0.9146961595653342, -0.9222564274866483, -0.9261030844013884, -0.9262206405312876, -0.9226086221864693, -0.9152815723424123, -0.9042689926708074, -0.8896152268022364, -0.8713792797553161, -0.8496345801125949, -0.8244686896619138, -0.7959829548583078, -0.7642920811026064, -0.7295236667608518, -0.6918177060784192, -0.6513260215341725, -0.6082116580500065, -0.5626482228287848, -0.5148191873075767, -0.4649171554542868, -0.41314307177754, -0.3597054004237872, -0.3048193191717224, -0.24870584694546985, -0.1915909407664566, -0.13370456346788118, -0.07527979320481663, -0.01655187674319282, 0.04224271006744471, 0.1008672136589088, 0.15908556288819248, 0.21666330975998283, 0.2733685906923286, 0.32897310252226386], \"y\": [-0.866270475773938, -0.8436622236448059, -0.8176566845811573, -0.7883587332550069, -0.7558863389726369, -0.7203702588096763, -0.6819534904595099, -0.6407907188362275, -0.5970477213860889, -0.5509006019767767, -0.5025352179289818, -0.45214627757947295, -0.3999367208813094, -0.3461167414805446, -0.29090308487961974, -0.23451805607604975, -0.17718870650691348, -0.11914591105681244, -0.06062335352524961, -0.001856682702696122, 0.056917467185675974, 0.11546243405647955, 0.1735424827961642, 0.2309237456686124, 0.28737516326180595, 0.3426694228831153, 0.3965838818941091, 0.44890144701368595, 0.49941145102654916, 0.5479105033777996, 0.5942033160365281, 0.6381034790036719, 0.6794342111604442, 0.7180290820959144, 0.753732696736358, 0.7864012907440063, 0.8159033174981237, 0.842119979651284, 0.8649457143693682, 0.8842886095778315, 0.9000707754937394, 0.9122286604171217, 0.9207133101071895, 0.925490558748287, 0.92654116959571, 0.9238609149468854, 0.9174605890793819, 0.9073659629737021, 0.8936176821835714, 0.876271105002168, 0.8553960783966326, 0.8310766577540847, 0.8034107717544272, 0.7725098299983244, 0.7384982549749606, 0.7015129972399026, 0.6617029867978361, 0.6192285347367248, 0.5742606646558251, 0.5269804388735093, 0.4775782334054335, 0.42625297281672325, 0.37321132640547766, 0.31866687645688274, 0.26283926504913674, 0.20595331324877908, 0.14823807146394774, 0.08992592570825692, 0.031251675429587344, -0.027548415720937136, -0.08623758126308195, -0.14457950575833006, -0.20233926719508855, -0.25928428104404566, -0.31518524865232556, -0.3698170769878212, -0.4229597734088769, -0.47439933150243724, -0.5239286257867268, -0.5713482386344807, -0.6164672349049185, -0.6591039400787928, -0.6990866678509776, -0.7362544176455121, -0.7704575228621551, -0.8015582503593963, -0.8294313668997212, -0.853964645088358, -0.8750592967420033, -0.8926303780681332, -0.9066071373925678, -0.9169333017525237, -0.9235672920204365, -0.9264823935354627, -0.9256668642665566, -0.9211239847944518, -0.912872046803641, -0.9009442826050742, -0.8853887303200847, -0.8662680231728503], \"z\": [-0.3759739483595608, -0.37597394835956083, -0.37597394835956083, -0.3759739483595607, -0.3759739483595607, -0.37597394835956083, -0.3759739483595608, -0.3759739483595609, -0.37597394835956083, -0.37597394835956083, -0.37597394835956066, -0.37597394835956066, -0.37597394835956066, -0.37597394835956083, -0.37597394835956066, -0.37597394835956055, -0.37597394835956066, -0.3759739483595608, -0.37597394835956066, -0.37597394835956083, -0.37597394835956083, -0.3759739483595606, -0.37597394835956066, -0.37597394835956066, -0.3759739483595606, -0.3759739483595609, -0.37597394835956066, -0.3759739483595608, -0.3759739483595608, -0.3759739483595607, -0.3759739483595608, -0.37597394835956055, -0.3759739483595608, -0.3759739483595605, -0.37597394835956066, -0.37597394835956055, -0.37597394835956055, -0.3759739483595608, -0.3759739483595606, -0.3759739483595606, -0.37597394835956055, -0.3759739483595607, -0.37597394835956083, -0.3759739483595609, -0.3759739483595607, -0.3759739483595607, -0.37597394835956066, -0.3759739483595607, -0.3759739483595607, -0.3759739483595607, -0.37597394835956094, -0.3759739483595607, -0.3759739483595607, -0.37597394835956083, -0.3759739483595608, -0.37597394835956083, -0.37597394835956083, -0.3759739483595608, -0.3759739483595608, -0.37597394835956066, -0.3759739483595606, -0.3759739483595608, -0.37597394835956094, -0.3759739483595609, -0.37597394835956083, -0.3759739483595609, -0.37597394835956083, -0.37597394835956083, -0.3759739483595608, -0.3759739483595608, -0.3759739483595609, -0.3759739483595606, -0.3759739483595609, -0.3759739483595608, -0.37597394835956066, -0.37597394835956055, -0.37597394835956055, -0.3759739483595608, -0.37597394835956055, -0.3759739483595608, -0.3759739483595608, -0.37597394835956094, -0.3759739483595604, -0.375973948359561, -0.37597394835956055, -0.3759739483595609, -0.3759739483595606, -0.3759739483595608, -0.37597394835956066, -0.3759739483595606, -0.3759739483595608, -0.3759739483595606, -0.37597394835956094, -0.3759739483595606, -0.37597394835956066, -0.3759739483595607, -0.3759739483595607, -0.3759739483595608, -0.3759739483595607, -0.37597394835956083]}]}};\n    const themeSettings = {\"highlightColor\": \"#EB6467\", \"pathColor\": \"#EB6467\"};\n    const labels = {\"xAxis\": true, \"yAxis\": true, \"zAxis\": true, \"theta\": true, \"phi\": true, \"northPole\": true, \"southPole\": true, \"nonErrorState\": false};\n\n    const wrapper = document.getElementById(\"qctrlvisualizer-wrapper-c00c857c8d9a45e7bc32fe5d382f01c4\");\n    const progressBar = document.getElementById(\"qctrlvisualizer-progress-bar-c00c857c8d9a45e7bc32fe5d382f01c4\");\n    const button = document.getElementById(\"qctrlvisualizer-button-c00c857c8d9a45e7bc32fe5d382f01c4\");\n\n    function updateButton () {\n      button.classList.remove(...[\n        \"qctrlvisualizer-button-play\",\n        \"qctrlvisualizer-button-pause\",\n        \"qctrlvisualizer-button-replay\"\n      ]);\n      if (isPlaying) {\n        button.classList.add(\"qctrlvisualizer-button-pause\");\n        button.innerHTML = \"Pause\";\n        return;\n      }\n      if (progress>=1) {\n        button.classList.add(\"qctrlvisualizer-button-replay\");\n        button.innerHTML = \"Replay\";\n        return;\n      }\n      button.classList.add(\"qctrlvisualizer-button-play\");\n      button.innerHTML = \"Play\";\n    }\n\n    button.onclick = () => {\n      isPlaying = !isPlaying;\n      if (progress >= 1) progress = 0;\n      updateButton();\n      visualizer.update({ isPlaying, progress });\n    };\n\n    progressBar.oninput = ({ target }) => {\n      progress = +target.value;\n      visualizer.update({ progress });\n      updateButton();\n    };\n\n    const onUpdate = ({ target, data }) => {\n      progress = data.progress;\n      progressBar.value = progress;\n      if (progress >= 1) {\n        isPlaying = false;\n        target.update({ isPlaying });\n        updateButton();\n      }\n    };\n\n    const visualizer = new Visualizer({\n      visualizationData,\n      wrapper,\n      onUpdate,\n      labels,\n    }).init();\n\n    visualizer.update({ themeSettings });\n     }\n\n    function displayErrorMessage() {\n      console.log(\"Failed to load https://cdn.jsdelivr.net/npm/@qctrl/visualizer@3.1.14/umd/visualizer.min.js.\");\n      const wrapper = document.getElementById(\"qctrlvisualizer-wrapper-c00c857c8d9a45e7bc32fe5d382f01c4\");\n      wrapper.innerHTML = \"Could not load JavaScript at https://cdn.jsdelivr.net/npm/@qctrl/visualizer@3.1.14/umd/visualizer.min.js.\";\n    }\n\n    visualizerLoader();\n    ",
      "text/plain": [
       "<IPython.core.display.Javascript object>"
      ]
     },
     "metadata": {},
     "output_type": "display_data"
    }
   ],
   "source": [
    "# Hamiltonian: H = 0.5 * ω * ZZ\n",
    "omega = 1.0 * 2 * np.pi\n",
    "H = 0.5 * omega * qt.sigmaz()\n",
    "times = np.linspace(0, 1, 100)\n",
    "\n",
    "initial_state = qt.rand_ket_haar(2)\n",
    "# initial_state = qt.basis(2, 0)\n",
    "# initial_state = qt.basis(2, 1)\n",
    "# initial_state = 1 / np.sqrt(2) * (qt.basis(2, 0) + qt.basis(2, 1))\n",
    "# initial_state = np.sqrt(3) / 2 * qt.basis(2, 0) + 1 / 2 * qt.basis(2, 1)\n",
    "\n",
    "simulate_one_qubit(H, times, initial_state)"
   ]
  },
  {
   "cell_type": "markdown",
   "metadata": {},
   "source": [
    "$$\n",
    "H = \\pi t \\sigma_x\n",
    "$$"
   ]
  },
  {
   "cell_type": "code",
   "execution_count": 3,
   "metadata": {},
   "outputs": [
    {
     "data": {
      "text/html": [
       "\n",
       "    <div\n",
       "        class=\"qctrlvisualizer\"\n",
       "        style=\"display:flex;flex-direction:column;align-items:center;\"\n",
       "    >\n",
       "        <div\n",
       "            class=\"qctrlvisualizer-wrapper\"\n",
       "            style=\"width:300px;height:300px;margin:0.5rem 0\"\n",
       "            id=\"qctrlvisualizer-wrapper-16fd19a6d51a41a295ebf6518e1645b0\"\n",
       "        ></div>\n",
       "        <input\n",
       "            class=\"qctrlvisualizer-progress-bar\"\n",
       "            style=\"margin:0.5rem 0\"\n",
       "            id=\"qctrlvisualizer-progress-bar-16fd19a6d51a41a295ebf6518e1645b0\"\n",
       "            type=\"range\"\n",
       "            min=\"0\"\n",
       "            max=\"1\"\n",
       "            step=\"0.01\"\n",
       "            value=\"0\"\n",
       "        >\n",
       "        <button\n",
       "            class=\"qctrlvisualizer-button qctrlvisualizer-button-play\"\n",
       "            style=\"margin:0.5rem 0\"\n",
       "            id=\"qctrlvisualizer-button-16fd19a6d51a41a295ebf6518e1645b0\"\n",
       "        >Play</button>\n",
       "    </div>\n",
       "    "
      ],
      "text/plain": [
       "<IPython.core.display.HTML object>"
      ]
     },
     "metadata": {},
     "output_type": "display_data"
    },
    {
     "data": {
      "application/javascript": "\n    function visualizerLoader() {\n      if ((typeof Visualizer) == \"function\") {\n        console.log(\"Using preloaded Q-CTRL Visualizer JavaScript package.\");\n        displayBlochSphere();\n        return;\n      }\n\n      try {\n        console.log(\"Attempting to load https://cdn.jsdelivr.net/npm/@qctrl/visualizer@3.1.14/umd/visualizer.min.js with require.js.\");\n        requirejs([\"https://cdn.jsdelivr.net/npm/@qctrl/visualizer@3.1.14/umd/visualizer.min.js\"], displayBlochSphere, displayErrorMessage);\n      } catch(error) {\n        var existing_script = document.getElementById(\"qctrlvisualizer-script\");\n\n        if (existing_script !== null) {\n          console.log(\n            \"Script tag for the Q-CTRL Visualizer JavaScript package already exists.\"\n            + \" Delaying execution of function until script is loaded.\"\n          );\n          existing_script.addEventListener(\"load\", displayBlochSphere);\n          existing_script.addEventListener(\"error\", displayErrorMessage);\n          return;\n        }\n\n        console.log(\"Attempting to load https://cdn.jsdelivr.net/npm/@qctrl/visualizer@3.1.14/umd/visualizer.min.js with script tag.\");\n        var script = document.createElement(\"script\");\n        script.onload = displayBlochSphere;\n        script.onerror = displayErrorMessage;\n        script.id = \"qctrlvisualizer-script\";\n        script.src = \"https://cdn.jsdelivr.net/npm/@qctrl/visualizer@3.1.14/umd/visualizer.min.js\";\n        document.head.appendChild(script);\n      }\n    }\n\n    function displayBlochSphere() { \n    let isPlaying = false;\n    let progress = 0;\n\n    const visualizationData = {\"data\": {\"qubits\": [{\"name\": \"qubit1\", \"x\": [0.0, -2.710169896174338e-09, 8.10650428208215e-09, 1.967325697661837e-08, 1.964773156323818e-08, 4.076339682468344e-08, 6.705037046417228e-08, 1.0669724823109128e-07, 1.6556662069122652e-07, 2.320221686447077e-07, 2.734757159061907e-07, 3.2566113555843046e-07, 4.1883777573969994e-07, 5.216376549599389e-07, 6.83321896122191e-07, 8.742363383218432e-07, 9.416283332508435e-07, 1.0984955799986373e-06, 9.062806435589099e-07, 7.683817437986484e-07], \"y\": [0.0, -0.008702368902115058, -0.034802857124831485, -0.07824217311446904, -0.13879002803729784, -0.21584948951005917, -0.30818911104104857, -0.41361494129550536, -0.5286064094246358, -0.6479576529315761, -0.7644881306861746, -0.8689115029330547, -0.9499749905018098, -0.9949963195027828, -0.9909163646708544, -0.9259472731794205, -0.7918054615279577, -0.5863759957832029, -0.31645535243356754, 1.3368790182788794e-06], \"z\": [1.0, 0.9999621336708161, 0.9993941970693787, 0.996934382166813, 0.9903218305770127, 0.9764266474642349, 0.9513251136366182, 0.910451909953021, 0.8488670472548496, 0.7616763617228447, 0.6446378037626118, 0.49496747375005756, 0.3123259794203985, 0.09991158178931908, -0.13447958293745244, -0.377652813164197, -0.6107733713036375, -0.810039006201585, -0.9486074055768934, -0.999999999998811]}]}};\n    const themeSettings = {\"highlightColor\": \"#EB6467\", \"pathColor\": \"#EB6467\"};\n    const labels = {\"xAxis\": true, \"yAxis\": true, \"zAxis\": true, \"theta\": true, \"phi\": true, \"northPole\": true, \"southPole\": true, \"nonErrorState\": false};\n\n    const wrapper = document.getElementById(\"qctrlvisualizer-wrapper-16fd19a6d51a41a295ebf6518e1645b0\");\n    const progressBar = document.getElementById(\"qctrlvisualizer-progress-bar-16fd19a6d51a41a295ebf6518e1645b0\");\n    const button = document.getElementById(\"qctrlvisualizer-button-16fd19a6d51a41a295ebf6518e1645b0\");\n\n    function updateButton () {\n      button.classList.remove(...[\n        \"qctrlvisualizer-button-play\",\n        \"qctrlvisualizer-button-pause\",\n        \"qctrlvisualizer-button-replay\"\n      ]);\n      if (isPlaying) {\n        button.classList.add(\"qctrlvisualizer-button-pause\");\n        button.innerHTML = \"Pause\";\n        return;\n      }\n      if (progress>=1) {\n        button.classList.add(\"qctrlvisualizer-button-replay\");\n        button.innerHTML = \"Replay\";\n        return;\n      }\n      button.classList.add(\"qctrlvisualizer-button-play\");\n      button.innerHTML = \"Play\";\n    }\n\n    button.onclick = () => {\n      isPlaying = !isPlaying;\n      if (progress >= 1) progress = 0;\n      updateButton();\n      visualizer.update({ isPlaying, progress });\n    };\n\n    progressBar.oninput = ({ target }) => {\n      progress = +target.value;\n      visualizer.update({ progress });\n      updateButton();\n    };\n\n    const onUpdate = ({ target, data }) => {\n      progress = data.progress;\n      progressBar.value = progress;\n      if (progress >= 1) {\n        isPlaying = false;\n        target.update({ isPlaying });\n        updateButton();\n      }\n    };\n\n    const visualizer = new Visualizer({\n      visualizationData,\n      wrapper,\n      onUpdate,\n      labels,\n    }).init();\n\n    visualizer.update({ themeSettings });\n     }\n\n    function displayErrorMessage() {\n      console.log(\"Failed to load https://cdn.jsdelivr.net/npm/@qctrl/visualizer@3.1.14/umd/visualizer.min.js.\");\n      const wrapper = document.getElementById(\"qctrlvisualizer-wrapper-16fd19a6d51a41a295ebf6518e1645b0\");\n      wrapper.innerHTML = \"Could not load JavaScript at https://cdn.jsdelivr.net/npm/@qctrl/visualizer@3.1.14/umd/visualizer.min.js.\";\n    }\n\n    visualizerLoader();\n    ",
      "text/plain": [
       "<IPython.core.display.Javascript object>"
      ]
     },
     "metadata": {},
     "output_type": "display_data"
    }
   ],
   "source": [
    "H0 = qt.qeye(2)\n",
    "H1 = qt.sigmax()\n",
    "hamiltonian = [\n",
    "    H0,\n",
    "    [H1, \"pi * t\"],\n",
    "]\n",
    "args = {\n",
    "    \"pi\": np.pi,\n",
    "}\n",
    "times = np.linspace(0, 1, 20)\n",
    "initial_state = qt.basis(2, 0)\n",
    "simulate_one_qubit(hamiltonian, times, initial_state, args)"
   ]
  },
  {
   "cell_type": "markdown",
   "metadata": {},
   "source": [
    "## 2-qubits\n",
    "\n",
    "$$\n",
    "H = \\frac{g}{2} \\sigma_z \\otimes \\sigma_z\n",
    "$$"
   ]
  },
  {
   "cell_type": "code",
   "execution_count": 4,
   "metadata": {},
   "outputs": [
    {
     "data": {
      "text/html": [
       "\n",
       "    <div\n",
       "        class=\"qctrlvisualizer\"\n",
       "        style=\"display:flex;flex-direction:column;align-items:center;\"\n",
       "    >\n",
       "        <div\n",
       "            class=\"qctrlvisualizer-wrapper\"\n",
       "            style=\"width:300px;height:300px;margin:0.5rem 0\"\n",
       "            id=\"qctrlvisualizer-wrapper-d8b7a9c52b6b457db49f9b99abaffd21\"\n",
       "        ></div>\n",
       "        <input\n",
       "            class=\"qctrlvisualizer-progress-bar\"\n",
       "            style=\"margin:0.5rem 0\"\n",
       "            id=\"qctrlvisualizer-progress-bar-d8b7a9c52b6b457db49f9b99abaffd21\"\n",
       "            type=\"range\"\n",
       "            min=\"0\"\n",
       "            max=\"1\"\n",
       "            step=\"0.01\"\n",
       "            value=\"0\"\n",
       "        >\n",
       "        <button\n",
       "            class=\"qctrlvisualizer-button qctrlvisualizer-button-play\"\n",
       "            style=\"margin:0.5rem 0\"\n",
       "            id=\"qctrlvisualizer-button-d8b7a9c52b6b457db49f9b99abaffd21\"\n",
       "        >Play</button>\n",
       "    </div>\n",
       "    "
      ],
      "text/plain": [
       "<IPython.core.display.HTML object>"
      ]
     },
     "metadata": {},
     "output_type": "display_data"
    },
    {
     "data": {
      "application/javascript": "\n    function visualizerLoader() {\n      if ((typeof Visualizer) == \"function\") {\n        console.log(\"Using preloaded Q-CTRL Visualizer JavaScript package.\");\n        displayBlochSphere();\n        return;\n      }\n\n      try {\n        console.log(\"Attempting to load https://cdn.jsdelivr.net/npm/@qctrl/visualizer@3.1.14/umd/visualizer.min.js with require.js.\");\n        requirejs([\"https://cdn.jsdelivr.net/npm/@qctrl/visualizer@3.1.14/umd/visualizer.min.js\"], displayBlochSphere, displayErrorMessage);\n      } catch(error) {\n        var existing_script = document.getElementById(\"qctrlvisualizer-script\");\n\n        if (existing_script !== null) {\n          console.log(\n            \"Script tag for the Q-CTRL Visualizer JavaScript package already exists.\"\n            + \" Delaying execution of function until script is loaded.\"\n          );\n          existing_script.addEventListener(\"load\", displayBlochSphere);\n          existing_script.addEventListener(\"error\", displayErrorMessage);\n          return;\n        }\n\n        console.log(\"Attempting to load https://cdn.jsdelivr.net/npm/@qctrl/visualizer@3.1.14/umd/visualizer.min.js with script tag.\");\n        var script = document.createElement(\"script\");\n        script.onload = displayBlochSphere;\n        script.onerror = displayErrorMessage;\n        script.id = \"qctrlvisualizer-script\";\n        script.src = \"https://cdn.jsdelivr.net/npm/@qctrl/visualizer@3.1.14/umd/visualizer.min.js\";\n        document.head.appendChild(script);\n      }\n    }\n\n    function displayBlochSphere() { \n    let isPlaying = false;\n    let progress = 0;\n\n    const visualizationData = {\"data\": {\"qubits\": [{\"name\": \"qubit1\", \"x\": [0.9999999999999998, 0.9979867197581178, 0.991954899742668, 0.9819288292150082, 0.9679488800323401, 0.9500713407599298, 0.9283682012488735, 0.9029268327763, 0.8738496898431222, 0.8412538665913052, 0.8052705885851377, 0.76604479048875, 0.7237343684177755, 0.6785097407724885, 0.630552976679071, 0.5800571925191387, 0.5272257425137956, 0.47227130444895565, 0.41541524678156005, 0.35688646386900763, 0.2969206191449263, 0.2357591733357693, 0.17364840506988027, 0.11083840728462102, 0.04758208853457918, -0.015865839532086812, -0.07924988498322721, -0.14231482056974698, -0.20480671884213753, -0.2664739502704422, -0.3270682010133213, -0.38634547217503334, -0.4440670755237598, -0.5000005804391444, -0.5539207481174577, -0.6056104395220709, -0.6548615350759734, -0.70147572825789, -0.7452653207149376, -0.7860539816353043, -0.8236774683022656, -0.8579842888357473, -0.8888363004372558, -0.916109267986678, -0.9396933679497462, -0.9594936375455868, -0.9754303448828165, -0.9874393146542864, -0.9954721904930379, -0.9994966352256683, -0.9994964460302194, -0.9954716222609102, -0.9874383676388295, -0.9754290268243475, -0.9594919545918832, -0.939691323159227, -0.916106867939633, -0.8888335622125575, -0.8579812188897944, -0.8236740708113308, -0.7860502691935537, -0.7452613285656753, -0.7014714795334803, -0.6548570376441912, -0.605605692644289, -0.5539157544733444, -0.4999953625225477, -0.4440616399418613, -0.3863398251722796, -0.32706237437476154, -0.2664679918076757, -0.20480063777182633, -0.14230862036469127, -0.07924357385635289, -0.015859447490796874, 0.047588543914863835, 0.11084492676669733, 0.17365499528917644, 0.23576583366112375, 0.29692733849532565, 0.35689322512322313, 0.4154220113637516, 0.47227798568681484, 0.5272322068641327, 0.5800634357762842, 0.6305589531812249, 0.6785154427391089, 0.7237398017362165, 0.7660499164523871, 0.8052754139206184, 0.8412583379260348, 0.8738537855344459, 0.9029305121713465, 0.9283714363140195, 0.9500741104426904, 0.9679511389097137, 0.9819305465427305, 0.9919560574394412, 0.9979873050025833, 0.9999999999496255], \"y\": [0.0, 0.06342323853629232, 0.12659177254669227, 0.18925055972557395, 0.2511472986996624, 0.31203276665540824, 0.3716617856464815, 0.42979429341553504, 0.48619617394738784, 0.5406402981143539, 0.5929074794263818, 0.6427871957071382, 0.6900786650599502, 0.7345914045759385, 0.776146212772544, 0.8145757505639453, 0.8497252593813935, 0.8814532403900286, 0.9096318885908824, 0.9341477677043794, 0.9549021656309055, 0.9718115106274642, 0.9848077129149053, 0.993838441332699, 0.9988673309557615, 0.9998741296462978, 0.996854781665888, 0.9898214444263168, 0.9788024355901028, 0.963842120799494, 0.9450007364472838, 0.9223541489741616, 0.8959935448627824, 0.8660250686674826, 0.8325693993926242, 0.795761267932716, 0.7557488801698218, 0.7126933440583423, 0.6667680269326515, 0.6181578584433629, 0.5670585756437958, 0.5136759290749533, 0.45822486949642105, 0.4009286833202537, 0.34201809050291804, 0.28173029568993435, 0.22030806222603308, 0.15799873377680362, 0.09505323747770246, 0.03172500862989908, -0.03173096867351834, -0.09505918826305428, -0.15800465219341897, -0.2203138979467844, -0.28173602729052555, -0.34202370850463193, -0.40093416730659853, -0.45823018089660533, -0.5136810567194224, -0.5670635106168361, -0.6181625791818375, -0.6667724890429451, -0.7126975258839543, -0.7557527772015625, -0.7957648804997812, -0.8325727217163825, -0.8660280812167381, -0.8959962387935254, -0.9223565143077012, -0.9450027530480234, -0.9638437681190786, -0.9788037079865675, -0.9898223358612889, -0.9968552833799258, -0.9998742310537294, -0.9988670234260729, -0.9938377142220381, -0.9848065508571295, -0.9718098948241242, -0.9549000762666647, -0.9341451845731177, -0.9096287992772075, -0.8814496606361613, -0.8497212484369072, -0.8145713047213314, -0.7761413573331843, -0.734586137879385, -0.6900729667091893, -0.6427810867653859, -0.5929009257329393, -0.5406333405090042, -0.48618881260999686, -0.42978656352890915, -0.37165370472557435, -0.31202433345258546, -0.25113859258064647, -0.18924164913225147, -0.12658270067114408, -0.06341402883968707, 1.0037377343544285e-05], \"z\": [0.0, 0.0, 0.0, 0.0, 0.0, 0.0, 0.0, 0.0, 0.0, 0.0, 0.0, 0.0, 0.0, 0.0, 0.0, 0.0, 0.0, 0.0, 0.0, 0.0, 0.0, 0.0, 0.0, 0.0, 0.0, 0.0, 0.0, 0.0, 0.0, 0.0, 0.0, 0.0, 0.0, 0.0, 0.0, 0.0, 0.0, 0.0, 0.0, 0.0, 0.0, 0.0, 0.0, 0.0, 0.0, 0.0, 0.0, 0.0, 0.0, 0.0, 0.0, 0.0, 0.0, 0.0, 0.0, 0.0, 0.0, 0.0, 0.0, 0.0, 0.0, 0.0, 0.0, 0.0, 0.0, 0.0, 0.0, 0.0, 0.0, 0.0, 0.0, 0.0, 0.0, 0.0, 0.0, 0.0, 0.0, 0.0, 0.0, 0.0, 0.0, 0.0, 0.0, 0.0, 0.0, 0.0, 0.0, 0.0, 0.0, 0.0, 0.0, 0.0, 0.0, 0.0, 0.0, 0.0, 0.0, 0.0, 0.0, 0.0]}]}};\n    const themeSettings = {\"highlightColor\": \"#EB6467\", \"pathColor\": \"#EB6467\"};\n    const labels = {\"xAxis\": true, \"yAxis\": true, \"zAxis\": true, \"theta\": true, \"phi\": true, \"northPole\": true, \"southPole\": true, \"nonErrorState\": false};\n\n    const wrapper = document.getElementById(\"qctrlvisualizer-wrapper-d8b7a9c52b6b457db49f9b99abaffd21\");\n    const progressBar = document.getElementById(\"qctrlvisualizer-progress-bar-d8b7a9c52b6b457db49f9b99abaffd21\");\n    const button = document.getElementById(\"qctrlvisualizer-button-d8b7a9c52b6b457db49f9b99abaffd21\");\n\n    function updateButton () {\n      button.classList.remove(...[\n        \"qctrlvisualizer-button-play\",\n        \"qctrlvisualizer-button-pause\",\n        \"qctrlvisualizer-button-replay\"\n      ]);\n      if (isPlaying) {\n        button.classList.add(\"qctrlvisualizer-button-pause\");\n        button.innerHTML = \"Pause\";\n        return;\n      }\n      if (progress>=1) {\n        button.classList.add(\"qctrlvisualizer-button-replay\");\n        button.innerHTML = \"Replay\";\n        return;\n      }\n      button.classList.add(\"qctrlvisualizer-button-play\");\n      button.innerHTML = \"Play\";\n    }\n\n    button.onclick = () => {\n      isPlaying = !isPlaying;\n      if (progress >= 1) progress = 0;\n      updateButton();\n      visualizer.update({ isPlaying, progress });\n    };\n\n    progressBar.oninput = ({ target }) => {\n      progress = +target.value;\n      visualizer.update({ progress });\n      updateButton();\n    };\n\n    const onUpdate = ({ target, data }) => {\n      progress = data.progress;\n      progressBar.value = progress;\n      if (progress >= 1) {\n        isPlaying = false;\n        target.update({ isPlaying });\n        updateButton();\n      }\n    };\n\n    const visualizer = new Visualizer({\n      visualizationData,\n      wrapper,\n      onUpdate,\n      labels,\n    }).init();\n\n    visualizer.update({ themeSettings });\n     }\n\n    function displayErrorMessage() {\n      console.log(\"Failed to load https://cdn.jsdelivr.net/npm/@qctrl/visualizer@3.1.14/umd/visualizer.min.js.\");\n      const wrapper = document.getElementById(\"qctrlvisualizer-wrapper-d8b7a9c52b6b457db49f9b99abaffd21\");\n      wrapper.innerHTML = \"Could not load JavaScript at https://cdn.jsdelivr.net/npm/@qctrl/visualizer@3.1.14/umd/visualizer.min.js.\";\n    }\n\n    visualizerLoader();\n    ",
      "text/plain": [
       "<IPython.core.display.Javascript object>"
      ]
     },
     "metadata": {},
     "output_type": "display_data"
    },
    {
     "data": {
      "text/html": [
       "\n",
       "    <div\n",
       "        class=\"qctrlvisualizer\"\n",
       "        style=\"display:flex;flex-direction:column;align-items:center;\"\n",
       "    >\n",
       "        <div\n",
       "            class=\"qctrlvisualizer-wrapper\"\n",
       "            style=\"width:300px;height:300px;margin:0.5rem 0\"\n",
       "            id=\"qctrlvisualizer-wrapper-abb56e52a1f44592bb01e8b73cc23941\"\n",
       "        ></div>\n",
       "        <input\n",
       "            class=\"qctrlvisualizer-progress-bar\"\n",
       "            style=\"margin:0.5rem 0\"\n",
       "            id=\"qctrlvisualizer-progress-bar-abb56e52a1f44592bb01e8b73cc23941\"\n",
       "            type=\"range\"\n",
       "            min=\"0\"\n",
       "            max=\"1\"\n",
       "            step=\"0.01\"\n",
       "            value=\"0\"\n",
       "        >\n",
       "        <button\n",
       "            class=\"qctrlvisualizer-button qctrlvisualizer-button-play\"\n",
       "            style=\"margin:0.5rem 0\"\n",
       "            id=\"qctrlvisualizer-button-abb56e52a1f44592bb01e8b73cc23941\"\n",
       "        >Play</button>\n",
       "    </div>\n",
       "    "
      ],
      "text/plain": [
       "<IPython.core.display.HTML object>"
      ]
     },
     "metadata": {},
     "output_type": "display_data"
    },
    {
     "data": {
      "application/javascript": "\n    function visualizerLoader() {\n      if ((typeof Visualizer) == \"function\") {\n        console.log(\"Using preloaded Q-CTRL Visualizer JavaScript package.\");\n        displayBlochSphere();\n        return;\n      }\n\n      try {\n        console.log(\"Attempting to load https://cdn.jsdelivr.net/npm/@qctrl/visualizer@3.1.14/umd/visualizer.min.js with require.js.\");\n        requirejs([\"https://cdn.jsdelivr.net/npm/@qctrl/visualizer@3.1.14/umd/visualizer.min.js\"], displayBlochSphere, displayErrorMessage);\n      } catch(error) {\n        var existing_script = document.getElementById(\"qctrlvisualizer-script\");\n\n        if (existing_script !== null) {\n          console.log(\n            \"Script tag for the Q-CTRL Visualizer JavaScript package already exists.\"\n            + \" Delaying execution of function until script is loaded.\"\n          );\n          existing_script.addEventListener(\"load\", displayBlochSphere);\n          existing_script.addEventListener(\"error\", displayErrorMessage);\n          return;\n        }\n\n        console.log(\"Attempting to load https://cdn.jsdelivr.net/npm/@qctrl/visualizer@3.1.14/umd/visualizer.min.js with script tag.\");\n        var script = document.createElement(\"script\");\n        script.onload = displayBlochSphere;\n        script.onerror = displayErrorMessage;\n        script.id = \"qctrlvisualizer-script\";\n        script.src = \"https://cdn.jsdelivr.net/npm/@qctrl/visualizer@3.1.14/umd/visualizer.min.js\";\n        document.head.appendChild(script);\n      }\n    }\n\n    function displayBlochSphere() { \n    let isPlaying = false;\n    let progress = 0;\n\n    const visualizationData = {\"data\": {\"qubits\": [{\"name\": \"qubit1\", \"x\": [0.0, 0.0, 0.0, 0.0, 0.0, 0.0, 0.0, 0.0, 0.0, 0.0, 0.0, 0.0, 0.0, 0.0, 0.0, 0.0, 0.0, 0.0, 0.0, 0.0, 0.0, 0.0, 0.0, 0.0, 0.0, 0.0, 0.0, 0.0, 0.0, 0.0, 0.0, 0.0, 0.0, 0.0, 0.0, 0.0, 0.0, 0.0, 0.0, 0.0, 0.0, 0.0, 0.0, 0.0, 0.0, 0.0, 0.0, 0.0, 0.0, 0.0, 0.0, 0.0, 0.0, 0.0, 0.0, 0.0, 0.0, 0.0, 0.0, 0.0, 0.0, 0.0, 0.0, 0.0, 0.0, 0.0, 0.0, 0.0, 0.0, 0.0, 0.0, 0.0, 0.0, 0.0, 0.0, 0.0, 0.0, 0.0, 0.0, 0.0, 0.0, 0.0, 0.0, 0.0, 0.0, 0.0, 0.0, 0.0, 0.0, 0.0, 0.0, 0.0, 0.0, 0.0, 0.0, 0.0, 0.0, 0.0, 0.0, 0.0], \"y\": [0.0, 0.0, 0.0, 0.0, 0.0, 0.0, 0.0, 0.0, 0.0, 0.0, 0.0, 0.0, 0.0, 0.0, 0.0, 0.0, 0.0, 0.0, 0.0, 0.0, 0.0, 0.0, 0.0, 0.0, 0.0, 0.0, 0.0, 0.0, 0.0, 0.0, 0.0, 0.0, 0.0, 0.0, 0.0, 0.0, 0.0, 0.0, 0.0, 0.0, 0.0, 0.0, 0.0, 0.0, 0.0, 0.0, 0.0, 0.0, 0.0, 0.0, 0.0, 0.0, 0.0, 0.0, 0.0, 0.0, 0.0, 0.0, 0.0, 0.0, 0.0, 0.0, 0.0, 0.0, 0.0, 0.0, 0.0, 0.0, 0.0, 0.0, 0.0, 0.0, 0.0, 0.0, 0.0, 0.0, 0.0, 0.0, 0.0, 0.0, 0.0, 0.0, 0.0, 0.0, 0.0, 0.0, 0.0, 0.0, 0.0, 0.0, 0.0, 0.0, 0.0, 0.0, 0.0, 0.0, 0.0, 0.0, 0.0, 0.0], \"z\": [0.9999999999999998, 0.9999999999999998, 1.0, 0.9999999999999999, 0.9999999999999996, 0.9999999999999997, 1.0, 0.9999999999999998, 0.9999999999999997, 0.9999999999999996, 0.9999999999999998, 0.9999999999999998, 0.9999999999999996, 0.9999999999999998, 1.0, 1.0, 0.9999999999999998, 0.9999999999999998, 0.9999999999999999, 0.9999999999999998, 0.9999999999999998, 0.9999999999999996, 0.9999999999999998, 1.0, 0.9999999999999996, 0.9999999999999998, 1.0, 0.9999999999999997, 0.9999999999999999, 1.0000000000000004, 0.9999999999999996, 0.9999999999999997, 0.9999999999999997, 0.9999999999999997, 0.9999999999999996, 0.9999999999999998, 1.0, 0.9999999999999999, 1.0, 1.0, 1.0000000000000002, 0.9999999999999997, 0.9999999999999999, 0.9999999999999998, 0.9999999999999997, 0.9999999999999999, 1.0, 1.0, 0.9999999999999998, 0.9999999999999999, 0.9999999999999996, 0.9999999999999997, 0.9999999999999999, 1.0, 1.0, 1.0, 0.9999999999999999, 0.9999999999999999, 1.0, 1.0, 0.9999999999999999, 0.9999999999999998, 0.9999999999999999, 1.0000000000000002, 1.0, 0.9999999999999998, 0.9999999999999996, 0.9999999999999998, 1.0, 1.0, 0.9999999999999998, 1.0000000000000002, 1.0, 0.9999999999999998, 1.0, 1.0, 1.0, 1.0, 1.0, 0.9999999999999998, 1.0, 0.9999999999999996, 0.9999999999999996, 0.9999999999999999, 0.9999999999999998, 0.9999999999999999, 0.9999999999999998, 0.9999999999999999, 1.0, 0.9999999999999998, 0.9999999999999998, 1.0, 0.9999999999999996, 1.0, 0.9999999999999998, 1.0, 0.9999999999999999, 1.0000000000000002, 0.9999999999999999, 0.9999999999999999]}]}};\n    const themeSettings = {\"highlightColor\": \"#EB6467\", \"pathColor\": \"#EB6467\"};\n    const labels = {\"xAxis\": true, \"yAxis\": true, \"zAxis\": true, \"theta\": true, \"phi\": true, \"northPole\": true, \"southPole\": true, \"nonErrorState\": false};\n\n    const wrapper = document.getElementById(\"qctrlvisualizer-wrapper-abb56e52a1f44592bb01e8b73cc23941\");\n    const progressBar = document.getElementById(\"qctrlvisualizer-progress-bar-abb56e52a1f44592bb01e8b73cc23941\");\n    const button = document.getElementById(\"qctrlvisualizer-button-abb56e52a1f44592bb01e8b73cc23941\");\n\n    function updateButton () {\n      button.classList.remove(...[\n        \"qctrlvisualizer-button-play\",\n        \"qctrlvisualizer-button-pause\",\n        \"qctrlvisualizer-button-replay\"\n      ]);\n      if (isPlaying) {\n        button.classList.add(\"qctrlvisualizer-button-pause\");\n        button.innerHTML = \"Pause\";\n        return;\n      }\n      if (progress>=1) {\n        button.classList.add(\"qctrlvisualizer-button-replay\");\n        button.innerHTML = \"Replay\";\n        return;\n      }\n      button.classList.add(\"qctrlvisualizer-button-play\");\n      button.innerHTML = \"Play\";\n    }\n\n    button.onclick = () => {\n      isPlaying = !isPlaying;\n      if (progress >= 1) progress = 0;\n      updateButton();\n      visualizer.update({ isPlaying, progress });\n    };\n\n    progressBar.oninput = ({ target }) => {\n      progress = +target.value;\n      visualizer.update({ progress });\n      updateButton();\n    };\n\n    const onUpdate = ({ target, data }) => {\n      progress = data.progress;\n      progressBar.value = progress;\n      if (progress >= 1) {\n        isPlaying = false;\n        target.update({ isPlaying });\n        updateButton();\n      }\n    };\n\n    const visualizer = new Visualizer({\n      visualizationData,\n      wrapper,\n      onUpdate,\n      labels,\n    }).init();\n\n    visualizer.update({ themeSettings });\n     }\n\n    function displayErrorMessage() {\n      console.log(\"Failed to load https://cdn.jsdelivr.net/npm/@qctrl/visualizer@3.1.14/umd/visualizer.min.js.\");\n      const wrapper = document.getElementById(\"qctrlvisualizer-wrapper-abb56e52a1f44592bb01e8b73cc23941\");\n      wrapper.innerHTML = \"Could not load JavaScript at https://cdn.jsdelivr.net/npm/@qctrl/visualizer@3.1.14/umd/visualizer.min.js.\";\n    }\n\n    visualizerLoader();\n    ",
      "text/plain": [
       "<IPython.core.display.Javascript object>"
      ]
     },
     "metadata": {},
     "output_type": "display_data"
    }
   ],
   "source": [
    "# Hamiltonian: H = 0.5 * g * ZZ\n",
    "g = 1.0 * 2 * np.pi\n",
    "H = 0.5 * g * qt.tensor(qt.sigmaz(), qt.sigmaz())\n",
    "times = np.linspace(0, 1, 100)\n",
    "\n",
    "# initial_state_0 = qt.rand_ket_haar(2)\n",
    "# initial_state_0 = qt.basis(2, 0)\n",
    "# initial_state_0 = qt.basis(2, 1)\n",
    "initial_state_0 = 1 / np.sqrt(2) * (qt.basis(2, 0) + qt.basis(2, 1))\n",
    "# initial_state_0 = np.sqrt(3) / 2 * qt.basis(2, 0) + 1 / 2 * qt.basis(2, 1)\n",
    "\n",
    "# initial_state_1 = qt.rand_ket_haar(2)\n",
    "initial_state_1 = qt.basis(2, 0)\n",
    "# initial_state_1 = qt.basis(2, 1)\n",
    "# initial_state_1 = 1 / np.sqrt(2) * (qt.basis(2, 0) + qt.basis(2, 1))\n",
    "# initial_state_1 = np.sqrt(3) / 2 * qt.basis(2, 0) + 1 / 2 * qt.basis(2, 1)\n",
    "\n",
    "simulate_two_qubits(H, times, initial_state_0, initial_state_1)"
   ]
  }
 ],
 "metadata": {
  "kernelspec": {
   "display_name": "Python 3",
   "language": "python",
   "name": "python3"
  },
  "language_info": {
   "codemirror_mode": {
    "name": "ipython",
    "version": 3
   },
   "file_extension": ".py",
   "mimetype": "text/x-python",
   "name": "python",
   "nbconvert_exporter": "python",
   "pygments_lexer": "ipython3",
   "version": "3.9.16"
  },
  "orig_nbformat": 4
 },
 "nbformat": 4,
 "nbformat_minor": 2
}
