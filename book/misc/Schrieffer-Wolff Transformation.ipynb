{
 "cells": [
  {
   "cell_type": "code",
   "execution_count": 1,
   "metadata": {},
   "outputs": [
    {
     "data": {
      "text/latex": [
       "$\\displaystyle \\left[\\begin{matrix}0 & 0 & 0 & 0 & 0 & 0 & 0 & 0 & 0\\\\0 & - \\frac{2 g^{2}}{\\Delta} & 0 & 0 & 0 & 0 & 0 & 0 & 0\\\\0 & 0 & - \\frac{4 g^{2}}{\\Delta - \\alpha_{2}} & 0 & 0 & 0 & - \\frac{2 g^{2}}{\\Delta - \\alpha_{2}} + \\frac{2 g^{2}}{\\Delta + \\alpha_{1}} & 0 & 0\\\\0 & 0 & 0 & \\frac{2 g^{2}}{\\Delta} & 0 & 0 & 0 & 0 & 0\\\\0 & 0 & 0 & 0 & \\frac{4 g^{2}}{\\Delta - \\alpha_{2}} - \\frac{4 g^{2}}{\\Delta + \\alpha_{1}} & 0 & 0 & 0 & 0\\\\0 & 0 & 0 & 0 & 0 & - \\frac{8 g^{2}}{\\Delta + \\alpha_{1} - \\alpha_{2}} & 0 & 0 & 0\\\\0 & 0 & - \\frac{2 g^{2}}{\\Delta - \\alpha_{2}} + \\frac{2 g^{2}}{\\Delta + \\alpha_{1}} & 0 & 0 & 0 & \\frac{4 g^{2}}{\\Delta + \\alpha_{1}} & 0 & 0\\\\0 & 0 & 0 & 0 & 0 & 0 & 0 & \\frac{8 g^{2}}{\\Delta + \\alpha_{1} - \\alpha_{2}} & 0\\\\0 & 0 & 0 & 0 & 0 & 0 & 0 & 0 & 0\\end{matrix}\\right]$"
      ],
      "text/plain": [
       "Matrix([\n",
       "[0,             0,                                                    0,            0,                                                   0,                                   0,                                                    0,                                  0, 0],\n",
       "[0, -2*g**2/Delta,                                                    0,            0,                                                   0,                                   0,                                                    0,                                  0, 0],\n",
       "[0,             0,                            -4*g**2/(Delta - alpha_2),            0,                                                   0,                                   0, -2*g**2/(Delta - alpha_2) + 2*g**2/(Delta + alpha_1),                                  0, 0],\n",
       "[0,             0,                                                    0, 2*g**2/Delta,                                                   0,                                   0,                                                    0,                                  0, 0],\n",
       "[0,             0,                                                    0,            0, 4*g**2/(Delta - alpha_2) - 4*g**2/(Delta + alpha_1),                                   0,                                                    0,                                  0, 0],\n",
       "[0,             0,                                                    0,            0,                                                   0, -8*g**2/(Delta + alpha_1 - alpha_2),                                                    0,                                  0, 0],\n",
       "[0,             0, -2*g**2/(Delta - alpha_2) + 2*g**2/(Delta + alpha_1),            0,                                                   0,                                   0,                             4*g**2/(Delta + alpha_1),                                  0, 0],\n",
       "[0,             0,                                                    0,            0,                                                   0,                                   0,                                                    0, 8*g**2/(Delta + alpha_1 - alpha_2), 0],\n",
       "[0,             0,                                                    0,            0,                                                   0,                                   0,                                                    0,                                  0, 0]])"
      ]
     },
     "execution_count": 1,
     "metadata": {},
     "output_type": "execute_result"
    }
   ],
   "source": [
    "from sympy import Matrix, symbols, sqrt\n",
    "\n",
    "# Define symbols\n",
    "g, Delta, alpha_1, alpha_2 = symbols(\"g Delta alpha_1 alpha_2\")\n",
    "\n",
    "# Define the matrices V and S\n",
    "V = Matrix(\n",
    "    [\n",
    "        [0, 0, 0, 0, 0, 0, 0, 0, 0],\n",
    "        [0, 0, 0, g, 0, 0, 0, 0, 0],\n",
    "        [0, 0, 0, 0, sqrt(2) * g, 0, 0, 0, 0],\n",
    "        [0, g, 0, 0, 0, 0, 0, 0, 0],\n",
    "        [0, 0, sqrt(2) * g, 0, 0, 0, sqrt(2) * g, 0, 0],\n",
    "        [0, 0, 0, 0, 0, 0, 0, 2 * g, 0],\n",
    "        [0, 0, 0, 0, sqrt(2) * g, 0, 0, 0, 0],\n",
    "        [0, 0, 0, 0, 0, 2 * g, 0, 0, 0],\n",
    "        [0, 0, 0, 0, 0, 0, 0, 0, 0],\n",
    "    ]\n",
    ")\n",
    "\n",
    "S = Matrix(\n",
    "    [\n",
    "        [0, 0, 0, 0, 0, 0, 0, 0, 0],\n",
    "        [0, 0, 0, g/Delta, 0, 0, 0, 0, 0],\n",
    "        [0, 0, 0, 0, sqrt(2)*g/(Delta - alpha_2), 0, 0, 0, 0],\n",
    "        [0, -g/Delta, 0, 0, 0, 0, 0, 0, 0],\n",
    "        [0, 0, -sqrt(2)*g/(Delta - alpha_2), 0, 0, 0, sqrt(2)*g/(Delta + alpha_1), 0, 0],\n",
    "        [0, 0, 0, 0, 0, 0, 0, 2*g/(Delta + alpha_1 - alpha_2), 0],\n",
    "        [0, 0, 0, 0, -sqrt(2)*g/(Delta + alpha_1), 0, 0, 0, 0],\n",
    "        [0, 0, 0, 0, 0, -2*g/(Delta + alpha_1 - alpha_2), 0, 0, 0],\n",
    "        [0, 0, 0, 0, 0, 0, 0, 0, 0]\n",
    "    ]\n",
    ")\n",
    "\n",
    "# Compute the commutator [V, S] = V*S - S*V\n",
    "commutator = V * S - S * V\n",
    "commutator"
   ]
  }
 ],
 "metadata": {
  "kernelspec": {
   "display_name": "Python 3",
   "language": "python",
   "name": "python3"
  },
  "language_info": {
   "codemirror_mode": {
    "name": "ipython",
    "version": 3
   },
   "file_extension": ".py",
   "mimetype": "text/x-python",
   "name": "python",
   "nbconvert_exporter": "python",
   "pygments_lexer": "ipython3",
   "version": "3.9.16"
  },
  "orig_nbformat": 4
 },
 "nbformat": 4,
 "nbformat_minor": 2
}
