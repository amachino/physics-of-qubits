{
 "cells": [
  {
   "cell_type": "code",
   "execution_count": 1,
   "metadata": {},
   "outputs": [
    {
     "data": {
      "text/latex": [
       "$\\displaystyle \\left[\\begin{matrix}0 & 0 & 0 & 0 & 0 & 0 & 0 & 0 & 0\\\\0 & \\omega_{2} & 0 & g & 0 & 0 & 0 & 0 & 0\\\\0 & 0 & 2 \\omega_{2} & 0 & \\sqrt{2} g & 0 & 0 & 0 & 0\\\\0 & g & 0 & \\omega_{1} & 0 & 0 & 0 & 0 & 0\\\\0 & 0 & \\sqrt{2} g & 0 & \\omega_{1} + \\omega_{2} & 0 & \\sqrt{2} g & 0 & 0\\\\0 & 0 & 0 & 0 & 0 & \\omega_{1} + 2 \\omega_{2} & 0 & 2 g & 0\\\\0 & 0 & 0 & 0 & \\sqrt{2} g & 0 & 2 \\omega_{1} & 0 & 0\\\\0 & 0 & 0 & 0 & 0 & 2 g & 0 & 2 \\omega_{1} + \\omega_{2} & 0\\\\0 & 0 & 0 & 0 & 0 & 0 & 0 & 0 & 2 \\omega_{1} + 2 \\omega_{2}\\end{matrix}\\right]$"
      ],
      "text/plain": [
       "Matrix([\n",
       "[0,       0,         0,       0,                 0,                   0,         0,                   0,                     0],\n",
       "[0, omega_2,         0,       g,                 0,                   0,         0,                   0,                     0],\n",
       "[0,       0, 2*omega_2,       0,         sqrt(2)*g,                   0,         0,                   0,                     0],\n",
       "[0,       g,         0, omega_1,                 0,                   0,         0,                   0,                     0],\n",
       "[0,       0, sqrt(2)*g,       0, omega_1 + omega_2,                   0, sqrt(2)*g,                   0,                     0],\n",
       "[0,       0,         0,       0,                 0, omega_1 + 2*omega_2,         0,                 2*g,                     0],\n",
       "[0,       0,         0,       0,         sqrt(2)*g,                   0, 2*omega_1,                   0,                     0],\n",
       "[0,       0,         0,       0,                 0,                 2*g,         0, 2*omega_1 + omega_2,                     0],\n",
       "[0,       0,         0,       0,                 0,                   0,         0,                   0, 2*omega_1 + 2*omega_2]])"
      ]
     },
     "execution_count": 1,
     "metadata": {},
     "output_type": "execute_result"
    }
   ],
   "source": [
    "from sympy import symbols, Matrix, sqrt\n",
    "\n",
    "omega_1, omega_2, g = symbols(\"omega_1 omega_2 g\")\n",
    "\n",
    "H = Matrix(\n",
    "    [\n",
    "        [0, 0, 0, 0, 0, 0, 0, 0, 0],\n",
    "        [0, omega_2, 0, g, 0, 0, 0, 0, 0],\n",
    "        [0, 0, 2 * omega_2, 0, sqrt(2) * g, 0, 0, 0, 0],\n",
    "        [0, g, 0, omega_1, 0, 0, 0, 0, 0],\n",
    "        [0, 0, sqrt(2) * g, 0, omega_2 + omega_1, 0, sqrt(2) * g, 0, 0],\n",
    "        [0, 0, 0, 0, 0, 2 * omega_2 + omega_1, 0, 2 * g, 0],\n",
    "        [0, 0, 0, 0, sqrt(2) * g, 0, 2 * omega_1, 0, 0],\n",
    "        [0, 0, 0, 0, 0, 2 * g, 0, omega_2 + 2 * omega_1, 0],\n",
    "        [0, 0, 0, 0, 0, 0, 0, 0, 2 * omega_2 + 2 * omega_1],\n",
    "    ]\n",
    ")\n",
    "\n",
    "H"
   ]
  },
  {
   "cell_type": "code",
   "execution_count": 2,
   "metadata": {},
   "outputs": [
    {
     "data": {
      "text/latex": [
       "$\\displaystyle 0$"
      ],
      "text/plain": [
       "0"
      ]
     },
     "metadata": {},
     "output_type": "display_data"
    },
    {
     "data": {
      "text/latex": [
       "$\\displaystyle \\frac{\\omega_{1}}{2} + \\frac{\\omega_{2}}{2} - \\frac{\\sqrt{4 g^{2} + \\omega_{1}^{2} - 2 \\omega_{1} \\omega_{2} + \\omega_{2}^{2}}}{2}$"
      ],
      "text/plain": [
       "omega_1/2 + omega_2/2 - sqrt(4*g**2 + omega_1**2 - 2*omega_1*omega_2 + omega_2**2)/2"
      ]
     },
     "metadata": {},
     "output_type": "display_data"
    },
    {
     "data": {
      "text/latex": [
       "$\\displaystyle \\frac{\\omega_{1}}{2} + \\frac{\\omega_{2}}{2} + \\frac{\\sqrt{4 g^{2} + \\omega_{1}^{2} - 2 \\omega_{1} \\omega_{2} + \\omega_{2}^{2}}}{2}$"
      ],
      "text/plain": [
       "omega_1/2 + omega_2/2 + sqrt(4*g**2 + omega_1**2 - 2*omega_1*omega_2 + omega_2**2)/2"
      ]
     },
     "metadata": {},
     "output_type": "display_data"
    },
    {
     "data": {
      "text/latex": [
       "$\\displaystyle \\omega_{1} + \\omega_{2}$"
      ],
      "text/plain": [
       "omega_1 + omega_2"
      ]
     },
     "metadata": {},
     "output_type": "display_data"
    },
    {
     "data": {
      "text/latex": [
       "$\\displaystyle \\omega_{1} + \\omega_{2} - \\sqrt{4 g^{2} + \\omega_{1}^{2} - 2 \\omega_{1} \\omega_{2} + \\omega_{2}^{2}}$"
      ],
      "text/plain": [
       "omega_1 + omega_2 - sqrt(4*g**2 + omega_1**2 - 2*omega_1*omega_2 + omega_2**2)"
      ]
     },
     "metadata": {},
     "output_type": "display_data"
    },
    {
     "data": {
      "text/latex": [
       "$\\displaystyle \\omega_{1} + \\omega_{2} + \\sqrt{4 g^{2} + \\omega_{1}^{2} - 2 \\omega_{1} \\omega_{2} + \\omega_{2}^{2}}$"
      ],
      "text/plain": [
       "omega_1 + omega_2 + sqrt(4*g**2 + omega_1**2 - 2*omega_1*omega_2 + omega_2**2)"
      ]
     },
     "metadata": {},
     "output_type": "display_data"
    },
    {
     "data": {
      "text/latex": [
       "$\\displaystyle \\frac{3 \\omega_{1}}{2} + \\frac{3 \\omega_{2}}{2} - \\frac{\\sqrt{16 g^{2} + \\omega_{1}^{2} - 2 \\omega_{1} \\omega_{2} + \\omega_{2}^{2}}}{2}$"
      ],
      "text/plain": [
       "3*omega_1/2 + 3*omega_2/2 - sqrt(16*g**2 + omega_1**2 - 2*omega_1*omega_2 + omega_2**2)/2"
      ]
     },
     "metadata": {},
     "output_type": "display_data"
    },
    {
     "data": {
      "text/latex": [
       "$\\displaystyle \\frac{3 \\omega_{1}}{2} + \\frac{3 \\omega_{2}}{2} + \\frac{\\sqrt{16 g^{2} + \\omega_{1}^{2} - 2 \\omega_{1} \\omega_{2} + \\omega_{2}^{2}}}{2}$"
      ],
      "text/plain": [
       "3*omega_1/2 + 3*omega_2/2 + sqrt(16*g**2 + omega_1**2 - 2*omega_1*omega_2 + omega_2**2)/2"
      ]
     },
     "metadata": {},
     "output_type": "display_data"
    },
    {
     "data": {
      "text/latex": [
       "$\\displaystyle 2 \\left(\\omega_{1} + \\omega_{2}\\right)$"
      ],
      "text/plain": [
       "2*(omega_1 + omega_2)"
      ]
     },
     "metadata": {},
     "output_type": "display_data"
    }
   ],
   "source": [
    "for eigenval in H.eigenvals():\n",
    "    display(eigenval)"
   ]
  },
  {
   "cell_type": "code",
   "execution_count": 3,
   "metadata": {},
   "outputs": [
    {
     "data": {
      "text/latex": [
       "$\\displaystyle \\left[\\begin{matrix}0 & 0 & 0 & 0 & 0 & 0 & 0 & 0 & 0\\\\0 & \\omega_{2} & 0 & g & 0 & 0 & 0 & 0 & 0\\\\0 & 0 & \\alpha_{2} + 2 \\omega_{2} & 0 & \\sqrt{2} g & 0 & 0 & 0 & 0\\\\0 & g & 0 & \\omega_{1} & 0 & 0 & 0 & 0 & 0\\\\0 & 0 & \\sqrt{2} g & 0 & \\omega_{1} + \\omega_{2} & 0 & \\sqrt{2} g & 0 & 0\\\\0 & 0 & 0 & 0 & 0 & \\alpha_{2} + \\omega_{1} + 2 \\omega_{2} & 0 & 2 g & 0\\\\0 & 0 & 0 & 0 & \\sqrt{2} g & 0 & \\alpha_{1} + 2 \\omega_{1} & 0 & 0\\\\0 & 0 & 0 & 0 & 0 & 2 g & 0 & \\alpha_{1} + 2 \\omega_{1} + \\omega_{2} & 0\\\\0 & 0 & 0 & 0 & 0 & 0 & 0 & 0 & \\alpha_{1} + \\alpha_{2} + 2 \\omega_{1} + 2 \\omega_{2}\\end{matrix}\\right]$"
      ],
      "text/plain": [
       "Matrix([\n",
       "[0,       0,                   0,       0,                 0,                             0,                   0,                             0,                                         0],\n",
       "[0, omega_2,                   0,       g,                 0,                             0,                   0,                             0,                                         0],\n",
       "[0,       0, alpha_2 + 2*omega_2,       0,         sqrt(2)*g,                             0,                   0,                             0,                                         0],\n",
       "[0,       g,                   0, omega_1,                 0,                             0,                   0,                             0,                                         0],\n",
       "[0,       0,           sqrt(2)*g,       0, omega_1 + omega_2,                             0,           sqrt(2)*g,                             0,                                         0],\n",
       "[0,       0,                   0,       0,                 0, alpha_2 + omega_1 + 2*omega_2,                   0,                           2*g,                                         0],\n",
       "[0,       0,                   0,       0,         sqrt(2)*g,                             0, alpha_1 + 2*omega_1,                             0,                                         0],\n",
       "[0,       0,                   0,       0,                 0,                           2*g,                   0, alpha_1 + 2*omega_1 + omega_2,                                         0],\n",
       "[0,       0,                   0,       0,                 0,                             0,                   0,                             0, alpha_1 + alpha_2 + 2*omega_1 + 2*omega_2]])"
      ]
     },
     "execution_count": 3,
     "metadata": {},
     "output_type": "execute_result"
    }
   ],
   "source": [
    "from sympy import symbols, Matrix, sqrt\n",
    "\n",
    "omega_1, omega_2, alpha_1, alpha_2, g = symbols(\"omega_1 omega_2 alpha_1 alpha_2 g\")\n",
    "\n",
    "H = Matrix(\n",
    "    [\n",
    "        [0, 0, 0, 0, 0, 0, 0, 0, 0],\n",
    "        [0, omega_2, 0, g, 0, 0, 0, 0, 0],\n",
    "        [0, 0, 2 * omega_2 + alpha_2, 0, sqrt(2) * g, 0, 0, 0, 0],\n",
    "        [0, g, 0, omega_1, 0, 0, 0, 0, 0],\n",
    "        [0, 0, sqrt(2) * g, 0, omega_2 + omega_1, 0, sqrt(2) * g, 0, 0],\n",
    "        [0, 0, 0, 0, 0, 2 * omega_2 + alpha_2 + omega_1, 0, 2 * g, 0],\n",
    "        [0, 0, 0, 0, sqrt(2) * g, 0, 2 * omega_1 + alpha_1, 0, 0],\n",
    "        [0, 0, 0, 0, 0, 2 * g, 0, omega_2 + 2 * omega_1 + alpha_1, 0],\n",
    "        [0, 0, 0, 0, 0, 0, 0, 0, 2 * omega_2 + alpha_2 + 2 * omega_1 + alpha_1],\n",
    "    ]\n",
    ")\n",
    "\n",
    "H"
   ]
  },
  {
   "cell_type": "code",
   "execution_count": 4,
   "metadata": {},
   "outputs": [
    {
     "data": {
      "text/latex": [
       "$\\displaystyle 0$"
      ],
      "text/plain": [
       "0"
      ]
     },
     "metadata": {},
     "output_type": "display_data"
    },
    {
     "data": {
      "text/latex": [
       "$\\displaystyle \\frac{\\omega_{1}}{2} + \\frac{\\omega_{2}}{2} - \\frac{\\sqrt{4 g^{2} + \\omega_{1}^{2} - 2 \\omega_{1} \\omega_{2} + \\omega_{2}^{2}}}{2}$"
      ],
      "text/plain": [
       "omega_1/2 + omega_2/2 - sqrt(4*g**2 + omega_1**2 - 2*omega_1*omega_2 + omega_2**2)/2"
      ]
     },
     "metadata": {},
     "output_type": "display_data"
    },
    {
     "data": {
      "text/latex": [
       "$\\displaystyle \\frac{\\omega_{1}}{2} + \\frac{\\omega_{2}}{2} + \\frac{\\sqrt{4 g^{2} + \\omega_{1}^{2} - 2 \\omega_{1} \\omega_{2} + \\omega_{2}^{2}}}{2}$"
      ],
      "text/plain": [
       "omega_1/2 + omega_2/2 + sqrt(4*g**2 + omega_1**2 - 2*omega_1*omega_2 + omega_2**2)/2"
      ]
     },
     "metadata": {},
     "output_type": "display_data"
    },
    {
     "data": {
      "text/latex": [
       "$\\displaystyle \\frac{\\alpha_{1}}{3} + \\frac{\\alpha_{2}}{3} + \\omega_{1} + \\omega_{2} - \\frac{- 3 \\alpha_{1} \\alpha_{2} - 3 \\alpha_{1} \\omega_{1} - 9 \\alpha_{1} \\omega_{2} - 9 \\alpha_{2} \\omega_{1} - 3 \\alpha_{2} \\omega_{2} + 12 g^{2} - 6 \\omega_{1}^{2} - 24 \\omega_{1} \\omega_{2} - 6 \\omega_{2}^{2} + \\left(- \\alpha_{1} - \\alpha_{2} - 3 \\omega_{1} - 3 \\omega_{2}\\right)^{2}}{3 \\sqrt[3]{- \\frac{27 \\alpha_{1} \\alpha_{2} \\omega_{1}}{2} - \\frac{27 \\alpha_{1} \\alpha_{2} \\omega_{2}}{2} + 27 \\alpha_{1} g^{2} - 27 \\alpha_{1} \\omega_{1} \\omega_{2} - 27 \\alpha_{1} \\omega_{2}^{2} + 27 \\alpha_{2} g^{2} - 27 \\alpha_{2} \\omega_{1}^{2} - 27 \\alpha_{2} \\omega_{1} \\omega_{2} + 54 g^{2} \\omega_{1} + 54 g^{2} \\omega_{2} - 54 \\omega_{1}^{2} \\omega_{2} - 54 \\omega_{1} \\omega_{2}^{2} + \\frac{\\sqrt{- 4 \\left(- 3 \\alpha_{1} \\alpha_{2} - 3 \\alpha_{1} \\omega_{1} - 9 \\alpha_{1} \\omega_{2} - 9 \\alpha_{2} \\omega_{1} - 3 \\alpha_{2} \\omega_{2} + 12 g^{2} - 6 \\omega_{1}^{2} - 24 \\omega_{1} \\omega_{2} - 6 \\omega_{2}^{2} + \\left(- \\alpha_{1} - \\alpha_{2} - 3 \\omega_{1} - 3 \\omega_{2}\\right)^{2}\\right)^{3} + \\left(- 27 \\alpha_{1} \\alpha_{2} \\omega_{1} - 27 \\alpha_{1} \\alpha_{2} \\omega_{2} + 54 \\alpha_{1} g^{2} - 54 \\alpha_{1} \\omega_{1} \\omega_{2} - 54 \\alpha_{1} \\omega_{2}^{2} + 54 \\alpha_{2} g^{2} - 54 \\alpha_{2} \\omega_{1}^{2} - 54 \\alpha_{2} \\omega_{1} \\omega_{2} + 108 g^{2} \\omega_{1} + 108 g^{2} \\omega_{2} - 108 \\omega_{1}^{2} \\omega_{2} - 108 \\omega_{1} \\omega_{2}^{2} - \\left(- 9 \\alpha_{1} - 9 \\alpha_{2} - 27 \\omega_{1} - 27 \\omega_{2}\\right) \\left(\\alpha_{1} \\alpha_{2} + \\alpha_{1} \\omega_{1} + 3 \\alpha_{1} \\omega_{2} + 3 \\alpha_{2} \\omega_{1} + \\alpha_{2} \\omega_{2} - 4 g^{2} + 2 \\omega_{1}^{2} + 8 \\omega_{1} \\omega_{2} + 2 \\omega_{2}^{2}\\right) + 2 \\left(- \\alpha_{1} - \\alpha_{2} - 3 \\omega_{1} - 3 \\omega_{2}\\right)^{3}\\right)^{2}}}{2} - \\frac{\\left(- 9 \\alpha_{1} - 9 \\alpha_{2} - 27 \\omega_{1} - 27 \\omega_{2}\\right) \\left(\\alpha_{1} \\alpha_{2} + \\alpha_{1} \\omega_{1} + 3 \\alpha_{1} \\omega_{2} + 3 \\alpha_{2} \\omega_{1} + \\alpha_{2} \\omega_{2} - 4 g^{2} + 2 \\omega_{1}^{2} + 8 \\omega_{1} \\omega_{2} + 2 \\omega_{2}^{2}\\right)}{2} + \\left(- \\alpha_{1} - \\alpha_{2} - 3 \\omega_{1} - 3 \\omega_{2}\\right)^{3}}} - \\frac{\\sqrt[3]{- \\frac{27 \\alpha_{1} \\alpha_{2} \\omega_{1}}{2} - \\frac{27 \\alpha_{1} \\alpha_{2} \\omega_{2}}{2} + 27 \\alpha_{1} g^{2} - 27 \\alpha_{1} \\omega_{1} \\omega_{2} - 27 \\alpha_{1} \\omega_{2}^{2} + 27 \\alpha_{2} g^{2} - 27 \\alpha_{2} \\omega_{1}^{2} - 27 \\alpha_{2} \\omega_{1} \\omega_{2} + 54 g^{2} \\omega_{1} + 54 g^{2} \\omega_{2} - 54 \\omega_{1}^{2} \\omega_{2} - 54 \\omega_{1} \\omega_{2}^{2} + \\frac{\\sqrt{- 4 \\left(- 3 \\alpha_{1} \\alpha_{2} - 3 \\alpha_{1} \\omega_{1} - 9 \\alpha_{1} \\omega_{2} - 9 \\alpha_{2} \\omega_{1} - 3 \\alpha_{2} \\omega_{2} + 12 g^{2} - 6 \\omega_{1}^{2} - 24 \\omega_{1} \\omega_{2} - 6 \\omega_{2}^{2} + \\left(- \\alpha_{1} - \\alpha_{2} - 3 \\omega_{1} - 3 \\omega_{2}\\right)^{2}\\right)^{3} + \\left(- 27 \\alpha_{1} \\alpha_{2} \\omega_{1} - 27 \\alpha_{1} \\alpha_{2} \\omega_{2} + 54 \\alpha_{1} g^{2} - 54 \\alpha_{1} \\omega_{1} \\omega_{2} - 54 \\alpha_{1} \\omega_{2}^{2} + 54 \\alpha_{2} g^{2} - 54 \\alpha_{2} \\omega_{1}^{2} - 54 \\alpha_{2} \\omega_{1} \\omega_{2} + 108 g^{2} \\omega_{1} + 108 g^{2} \\omega_{2} - 108 \\omega_{1}^{2} \\omega_{2} - 108 \\omega_{1} \\omega_{2}^{2} - \\left(- 9 \\alpha_{1} - 9 \\alpha_{2} - 27 \\omega_{1} - 27 \\omega_{2}\\right) \\left(\\alpha_{1} \\alpha_{2} + \\alpha_{1} \\omega_{1} + 3 \\alpha_{1} \\omega_{2} + 3 \\alpha_{2} \\omega_{1} + \\alpha_{2} \\omega_{2} - 4 g^{2} + 2 \\omega_{1}^{2} + 8 \\omega_{1} \\omega_{2} + 2 \\omega_{2}^{2}\\right) + 2 \\left(- \\alpha_{1} - \\alpha_{2} - 3 \\omega_{1} - 3 \\omega_{2}\\right)^{3}\\right)^{2}}}{2} - \\frac{\\left(- 9 \\alpha_{1} - 9 \\alpha_{2} - 27 \\omega_{1} - 27 \\omega_{2}\\right) \\left(\\alpha_{1} \\alpha_{2} + \\alpha_{1} \\omega_{1} + 3 \\alpha_{1} \\omega_{2} + 3 \\alpha_{2} \\omega_{1} + \\alpha_{2} \\omega_{2} - 4 g^{2} + 2 \\omega_{1}^{2} + 8 \\omega_{1} \\omega_{2} + 2 \\omega_{2}^{2}\\right)}{2} + \\left(- \\alpha_{1} - \\alpha_{2} - 3 \\omega_{1} - 3 \\omega_{2}\\right)^{3}}}{3}$"
      ],
      "text/plain": [
       "alpha_1/3 + alpha_2/3 + omega_1 + omega_2 - (-3*alpha_1*alpha_2 - 3*alpha_1*omega_1 - 9*alpha_1*omega_2 - 9*alpha_2*omega_1 - 3*alpha_2*omega_2 + 12*g**2 - 6*omega_1**2 - 24*omega_1*omega_2 - 6*omega_2**2 + (-alpha_1 - alpha_2 - 3*omega_1 - 3*omega_2)**2)/(3*(-27*alpha_1*alpha_2*omega_1/2 - 27*alpha_1*alpha_2*omega_2/2 + 27*alpha_1*g**2 - 27*alpha_1*omega_1*omega_2 - 27*alpha_1*omega_2**2 + 27*alpha_2*g**2 - 27*alpha_2*omega_1**2 - 27*alpha_2*omega_1*omega_2 + 54*g**2*omega_1 + 54*g**2*omega_2 - 54*omega_1**2*omega_2 - 54*omega_1*omega_2**2 + sqrt(-4*(-3*alpha_1*alpha_2 - 3*alpha_1*omega_1 - 9*alpha_1*omega_2 - 9*alpha_2*omega_1 - 3*alpha_2*omega_2 + 12*g**2 - 6*omega_1**2 - 24*omega_1*omega_2 - 6*omega_2**2 + (-alpha_1 - alpha_2 - 3*omega_1 - 3*omega_2)**2)**3 + (-27*alpha_1*alpha_2*omega_1 - 27*alpha_1*alpha_2*omega_2 + 54*alpha_1*g**2 - 54*alpha_1*omega_1*omega_2 - 54*alpha_1*omega_2**2 + 54*alpha_2*g**2 - 54*alpha_2*omega_1**2 - 54*alpha_2*omega_1*omega_2 + 108*g**2*omega_1 + 108*g**2*omega_2 - 108*omega_1**2*omega_2 - 108*omega_1*omega_2**2 - (-9*alpha_1 - 9*alpha_2 - 27*omega_1 - 27*omega_2)*(alpha_1*alpha_2 + alpha_1*omega_1 + 3*alpha_1*omega_2 + 3*alpha_2*omega_1 + alpha_2*omega_2 - 4*g**2 + 2*omega_1**2 + 8*omega_1*omega_2 + 2*omega_2**2) + 2*(-alpha_1 - alpha_2 - 3*omega_1 - 3*omega_2)**3)**2)/2 - (-9*alpha_1 - 9*alpha_2 - 27*omega_1 - 27*omega_2)*(alpha_1*alpha_2 + alpha_1*omega_1 + 3*alpha_1*omega_2 + 3*alpha_2*omega_1 + alpha_2*omega_2 - 4*g**2 + 2*omega_1**2 + 8*omega_1*omega_2 + 2*omega_2**2)/2 + (-alpha_1 - alpha_2 - 3*omega_1 - 3*omega_2)**3)**(1/3)) - (-27*alpha_1*alpha_2*omega_1/2 - 27*alpha_1*alpha_2*omega_2/2 + 27*alpha_1*g**2 - 27*alpha_1*omega_1*omega_2 - 27*alpha_1*omega_2**2 + 27*alpha_2*g**2 - 27*alpha_2*omega_1**2 - 27*alpha_2*omega_1*omega_2 + 54*g**2*omega_1 + 54*g**2*omega_2 - 54*omega_1**2*omega_2 - 54*omega_1*omega_2**2 + sqrt(-4*(-3*alpha_1*alpha_2 - 3*alpha_1*omega_1 - 9*alpha_1*omega_2 - 9*alpha_2*omega_1 - 3*alpha_2*omega_2 + 12*g**2 - 6*omega_1**2 - 24*omega_1*omega_2 - 6*omega_2**2 + (-alpha_1 - alpha_2 - 3*omega_1 - 3*omega_2)**2)**3 + (-27*alpha_1*alpha_2*omega_1 - 27*alpha_1*alpha_2*omega_2 + 54*alpha_1*g**2 - 54*alpha_1*omega_1*omega_2 - 54*alpha_1*omega_2**2 + 54*alpha_2*g**2 - 54*alpha_2*omega_1**2 - 54*alpha_2*omega_1*omega_2 + 108*g**2*omega_1 + 108*g**2*omega_2 - 108*omega_1**2*omega_2 - 108*omega_1*omega_2**2 - (-9*alpha_1 - 9*alpha_2 - 27*omega_1 - 27*omega_2)*(alpha_1*alpha_2 + alpha_1*omega_1 + 3*alpha_1*omega_2 + 3*alpha_2*omega_1 + alpha_2*omega_2 - 4*g**2 + 2*omega_1**2 + 8*omega_1*omega_2 + 2*omega_2**2) + 2*(-alpha_1 - alpha_2 - 3*omega_1 - 3*omega_2)**3)**2)/2 - (-9*alpha_1 - 9*alpha_2 - 27*omega_1 - 27*omega_2)*(alpha_1*alpha_2 + alpha_1*omega_1 + 3*alpha_1*omega_2 + 3*alpha_2*omega_1 + alpha_2*omega_2 - 4*g**2 + 2*omega_1**2 + 8*omega_1*omega_2 + 2*omega_2**2)/2 + (-alpha_1 - alpha_2 - 3*omega_1 - 3*omega_2)**3)**(1/3)/3"
      ]
     },
     "metadata": {},
     "output_type": "display_data"
    },
    {
     "data": {
      "text/latex": [
       "$\\displaystyle \\frac{\\alpha_{1}}{3} + \\frac{\\alpha_{2}}{3} + \\omega_{1} + \\omega_{2} - \\frac{- 3 \\alpha_{1} \\alpha_{2} - 3 \\alpha_{1} \\omega_{1} - 9 \\alpha_{1} \\omega_{2} - 9 \\alpha_{2} \\omega_{1} - 3 \\alpha_{2} \\omega_{2} + 12 g^{2} - 6 \\omega_{1}^{2} - 24 \\omega_{1} \\omega_{2} - 6 \\omega_{2}^{2} + \\left(- \\alpha_{1} - \\alpha_{2} - 3 \\omega_{1} - 3 \\omega_{2}\\right)^{2}}{3 \\left(- \\frac{1}{2} + \\frac{\\sqrt{3} i}{2}\\right) \\sqrt[3]{- \\frac{27 \\alpha_{1} \\alpha_{2} \\omega_{1}}{2} - \\frac{27 \\alpha_{1} \\alpha_{2} \\omega_{2}}{2} + 27 \\alpha_{1} g^{2} - 27 \\alpha_{1} \\omega_{1} \\omega_{2} - 27 \\alpha_{1} \\omega_{2}^{2} + 27 \\alpha_{2} g^{2} - 27 \\alpha_{2} \\omega_{1}^{2} - 27 \\alpha_{2} \\omega_{1} \\omega_{2} + 54 g^{2} \\omega_{1} + 54 g^{2} \\omega_{2} - 54 \\omega_{1}^{2} \\omega_{2} - 54 \\omega_{1} \\omega_{2}^{2} + \\frac{\\sqrt{- 4 \\left(- 3 \\alpha_{1} \\alpha_{2} - 3 \\alpha_{1} \\omega_{1} - 9 \\alpha_{1} \\omega_{2} - 9 \\alpha_{2} \\omega_{1} - 3 \\alpha_{2} \\omega_{2} + 12 g^{2} - 6 \\omega_{1}^{2} - 24 \\omega_{1} \\omega_{2} - 6 \\omega_{2}^{2} + \\left(- \\alpha_{1} - \\alpha_{2} - 3 \\omega_{1} - 3 \\omega_{2}\\right)^{2}\\right)^{3} + \\left(- 27 \\alpha_{1} \\alpha_{2} \\omega_{1} - 27 \\alpha_{1} \\alpha_{2} \\omega_{2} + 54 \\alpha_{1} g^{2} - 54 \\alpha_{1} \\omega_{1} \\omega_{2} - 54 \\alpha_{1} \\omega_{2}^{2} + 54 \\alpha_{2} g^{2} - 54 \\alpha_{2} \\omega_{1}^{2} - 54 \\alpha_{2} \\omega_{1} \\omega_{2} + 108 g^{2} \\omega_{1} + 108 g^{2} \\omega_{2} - 108 \\omega_{1}^{2} \\omega_{2} - 108 \\omega_{1} \\omega_{2}^{2} - \\left(- 9 \\alpha_{1} - 9 \\alpha_{2} - 27 \\omega_{1} - 27 \\omega_{2}\\right) \\left(\\alpha_{1} \\alpha_{2} + \\alpha_{1} \\omega_{1} + 3 \\alpha_{1} \\omega_{2} + 3 \\alpha_{2} \\omega_{1} + \\alpha_{2} \\omega_{2} - 4 g^{2} + 2 \\omega_{1}^{2} + 8 \\omega_{1} \\omega_{2} + 2 \\omega_{2}^{2}\\right) + 2 \\left(- \\alpha_{1} - \\alpha_{2} - 3 \\omega_{1} - 3 \\omega_{2}\\right)^{3}\\right)^{2}}}{2} - \\frac{\\left(- 9 \\alpha_{1} - 9 \\alpha_{2} - 27 \\omega_{1} - 27 \\omega_{2}\\right) \\left(\\alpha_{1} \\alpha_{2} + \\alpha_{1} \\omega_{1} + 3 \\alpha_{1} \\omega_{2} + 3 \\alpha_{2} \\omega_{1} + \\alpha_{2} \\omega_{2} - 4 g^{2} + 2 \\omega_{1}^{2} + 8 \\omega_{1} \\omega_{2} + 2 \\omega_{2}^{2}\\right)}{2} + \\left(- \\alpha_{1} - \\alpha_{2} - 3 \\omega_{1} - 3 \\omega_{2}\\right)^{3}}} - \\frac{\\left(- \\frac{1}{2} + \\frac{\\sqrt{3} i}{2}\\right) \\sqrt[3]{- \\frac{27 \\alpha_{1} \\alpha_{2} \\omega_{1}}{2} - \\frac{27 \\alpha_{1} \\alpha_{2} \\omega_{2}}{2} + 27 \\alpha_{1} g^{2} - 27 \\alpha_{1} \\omega_{1} \\omega_{2} - 27 \\alpha_{1} \\omega_{2}^{2} + 27 \\alpha_{2} g^{2} - 27 \\alpha_{2} \\omega_{1}^{2} - 27 \\alpha_{2} \\omega_{1} \\omega_{2} + 54 g^{2} \\omega_{1} + 54 g^{2} \\omega_{2} - 54 \\omega_{1}^{2} \\omega_{2} - 54 \\omega_{1} \\omega_{2}^{2} + \\frac{\\sqrt{- 4 \\left(- 3 \\alpha_{1} \\alpha_{2} - 3 \\alpha_{1} \\omega_{1} - 9 \\alpha_{1} \\omega_{2} - 9 \\alpha_{2} \\omega_{1} - 3 \\alpha_{2} \\omega_{2} + 12 g^{2} - 6 \\omega_{1}^{2} - 24 \\omega_{1} \\omega_{2} - 6 \\omega_{2}^{2} + \\left(- \\alpha_{1} - \\alpha_{2} - 3 \\omega_{1} - 3 \\omega_{2}\\right)^{2}\\right)^{3} + \\left(- 27 \\alpha_{1} \\alpha_{2} \\omega_{1} - 27 \\alpha_{1} \\alpha_{2} \\omega_{2} + 54 \\alpha_{1} g^{2} - 54 \\alpha_{1} \\omega_{1} \\omega_{2} - 54 \\alpha_{1} \\omega_{2}^{2} + 54 \\alpha_{2} g^{2} - 54 \\alpha_{2} \\omega_{1}^{2} - 54 \\alpha_{2} \\omega_{1} \\omega_{2} + 108 g^{2} \\omega_{1} + 108 g^{2} \\omega_{2} - 108 \\omega_{1}^{2} \\omega_{2} - 108 \\omega_{1} \\omega_{2}^{2} - \\left(- 9 \\alpha_{1} - 9 \\alpha_{2} - 27 \\omega_{1} - 27 \\omega_{2}\\right) \\left(\\alpha_{1} \\alpha_{2} + \\alpha_{1} \\omega_{1} + 3 \\alpha_{1} \\omega_{2} + 3 \\alpha_{2} \\omega_{1} + \\alpha_{2} \\omega_{2} - 4 g^{2} + 2 \\omega_{1}^{2} + 8 \\omega_{1} \\omega_{2} + 2 \\omega_{2}^{2}\\right) + 2 \\left(- \\alpha_{1} - \\alpha_{2} - 3 \\omega_{1} - 3 \\omega_{2}\\right)^{3}\\right)^{2}}}{2} - \\frac{\\left(- 9 \\alpha_{1} - 9 \\alpha_{2} - 27 \\omega_{1} - 27 \\omega_{2}\\right) \\left(\\alpha_{1} \\alpha_{2} + \\alpha_{1} \\omega_{1} + 3 \\alpha_{1} \\omega_{2} + 3 \\alpha_{2} \\omega_{1} + \\alpha_{2} \\omega_{2} - 4 g^{2} + 2 \\omega_{1}^{2} + 8 \\omega_{1} \\omega_{2} + 2 \\omega_{2}^{2}\\right)}{2} + \\left(- \\alpha_{1} - \\alpha_{2} - 3 \\omega_{1} - 3 \\omega_{2}\\right)^{3}}}{3}$"
      ],
      "text/plain": [
       "alpha_1/3 + alpha_2/3 + omega_1 + omega_2 - (-3*alpha_1*alpha_2 - 3*alpha_1*omega_1 - 9*alpha_1*omega_2 - 9*alpha_2*omega_1 - 3*alpha_2*omega_2 + 12*g**2 - 6*omega_1**2 - 24*omega_1*omega_2 - 6*omega_2**2 + (-alpha_1 - alpha_2 - 3*omega_1 - 3*omega_2)**2)/(3*(-1/2 + sqrt(3)*I/2)*(-27*alpha_1*alpha_2*omega_1/2 - 27*alpha_1*alpha_2*omega_2/2 + 27*alpha_1*g**2 - 27*alpha_1*omega_1*omega_2 - 27*alpha_1*omega_2**2 + 27*alpha_2*g**2 - 27*alpha_2*omega_1**2 - 27*alpha_2*omega_1*omega_2 + 54*g**2*omega_1 + 54*g**2*omega_2 - 54*omega_1**2*omega_2 - 54*omega_1*omega_2**2 + sqrt(-4*(-3*alpha_1*alpha_2 - 3*alpha_1*omega_1 - 9*alpha_1*omega_2 - 9*alpha_2*omega_1 - 3*alpha_2*omega_2 + 12*g**2 - 6*omega_1**2 - 24*omega_1*omega_2 - 6*omega_2**2 + (-alpha_1 - alpha_2 - 3*omega_1 - 3*omega_2)**2)**3 + (-27*alpha_1*alpha_2*omega_1 - 27*alpha_1*alpha_2*omega_2 + 54*alpha_1*g**2 - 54*alpha_1*omega_1*omega_2 - 54*alpha_1*omega_2**2 + 54*alpha_2*g**2 - 54*alpha_2*omega_1**2 - 54*alpha_2*omega_1*omega_2 + 108*g**2*omega_1 + 108*g**2*omega_2 - 108*omega_1**2*omega_2 - 108*omega_1*omega_2**2 - (-9*alpha_1 - 9*alpha_2 - 27*omega_1 - 27*omega_2)*(alpha_1*alpha_2 + alpha_1*omega_1 + 3*alpha_1*omega_2 + 3*alpha_2*omega_1 + alpha_2*omega_2 - 4*g**2 + 2*omega_1**2 + 8*omega_1*omega_2 + 2*omega_2**2) + 2*(-alpha_1 - alpha_2 - 3*omega_1 - 3*omega_2)**3)**2)/2 - (-9*alpha_1 - 9*alpha_2 - 27*omega_1 - 27*omega_2)*(alpha_1*alpha_2 + alpha_1*omega_1 + 3*alpha_1*omega_2 + 3*alpha_2*omega_1 + alpha_2*omega_2 - 4*g**2 + 2*omega_1**2 + 8*omega_1*omega_2 + 2*omega_2**2)/2 + (-alpha_1 - alpha_2 - 3*omega_1 - 3*omega_2)**3)**(1/3)) - (-1/2 + sqrt(3)*I/2)*(-27*alpha_1*alpha_2*omega_1/2 - 27*alpha_1*alpha_2*omega_2/2 + 27*alpha_1*g**2 - 27*alpha_1*omega_1*omega_2 - 27*alpha_1*omega_2**2 + 27*alpha_2*g**2 - 27*alpha_2*omega_1**2 - 27*alpha_2*omega_1*omega_2 + 54*g**2*omega_1 + 54*g**2*omega_2 - 54*omega_1**2*omega_2 - 54*omega_1*omega_2**2 + sqrt(-4*(-3*alpha_1*alpha_2 - 3*alpha_1*omega_1 - 9*alpha_1*omega_2 - 9*alpha_2*omega_1 - 3*alpha_2*omega_2 + 12*g**2 - 6*omega_1**2 - 24*omega_1*omega_2 - 6*omega_2**2 + (-alpha_1 - alpha_2 - 3*omega_1 - 3*omega_2)**2)**3 + (-27*alpha_1*alpha_2*omega_1 - 27*alpha_1*alpha_2*omega_2 + 54*alpha_1*g**2 - 54*alpha_1*omega_1*omega_2 - 54*alpha_1*omega_2**2 + 54*alpha_2*g**2 - 54*alpha_2*omega_1**2 - 54*alpha_2*omega_1*omega_2 + 108*g**2*omega_1 + 108*g**2*omega_2 - 108*omega_1**2*omega_2 - 108*omega_1*omega_2**2 - (-9*alpha_1 - 9*alpha_2 - 27*omega_1 - 27*omega_2)*(alpha_1*alpha_2 + alpha_1*omega_1 + 3*alpha_1*omega_2 + 3*alpha_2*omega_1 + alpha_2*omega_2 - 4*g**2 + 2*omega_1**2 + 8*omega_1*omega_2 + 2*omega_2**2) + 2*(-alpha_1 - alpha_2 - 3*omega_1 - 3*omega_2)**3)**2)/2 - (-9*alpha_1 - 9*alpha_2 - 27*omega_1 - 27*omega_2)*(alpha_1*alpha_2 + alpha_1*omega_1 + 3*alpha_1*omega_2 + 3*alpha_2*omega_1 + alpha_2*omega_2 - 4*g**2 + 2*omega_1**2 + 8*omega_1*omega_2 + 2*omega_2**2)/2 + (-alpha_1 - alpha_2 - 3*omega_1 - 3*omega_2)**3)**(1/3)/3"
      ]
     },
     "metadata": {},
     "output_type": "display_data"
    },
    {
     "data": {
      "text/latex": [
       "$\\displaystyle \\frac{\\alpha_{1}}{3} + \\frac{\\alpha_{2}}{3} + \\omega_{1} + \\omega_{2} - \\frac{- 3 \\alpha_{1} \\alpha_{2} - 3 \\alpha_{1} \\omega_{1} - 9 \\alpha_{1} \\omega_{2} - 9 \\alpha_{2} \\omega_{1} - 3 \\alpha_{2} \\omega_{2} + 12 g^{2} - 6 \\omega_{1}^{2} - 24 \\omega_{1} \\omega_{2} - 6 \\omega_{2}^{2} + \\left(- \\alpha_{1} - \\alpha_{2} - 3 \\omega_{1} - 3 \\omega_{2}\\right)^{2}}{3 \\left(- \\frac{1}{2} - \\frac{\\sqrt{3} i}{2}\\right) \\sqrt[3]{- \\frac{27 \\alpha_{1} \\alpha_{2} \\omega_{1}}{2} - \\frac{27 \\alpha_{1} \\alpha_{2} \\omega_{2}}{2} + 27 \\alpha_{1} g^{2} - 27 \\alpha_{1} \\omega_{1} \\omega_{2} - 27 \\alpha_{1} \\omega_{2}^{2} + 27 \\alpha_{2} g^{2} - 27 \\alpha_{2} \\omega_{1}^{2} - 27 \\alpha_{2} \\omega_{1} \\omega_{2} + 54 g^{2} \\omega_{1} + 54 g^{2} \\omega_{2} - 54 \\omega_{1}^{2} \\omega_{2} - 54 \\omega_{1} \\omega_{2}^{2} + \\frac{\\sqrt{- 4 \\left(- 3 \\alpha_{1} \\alpha_{2} - 3 \\alpha_{1} \\omega_{1} - 9 \\alpha_{1} \\omega_{2} - 9 \\alpha_{2} \\omega_{1} - 3 \\alpha_{2} \\omega_{2} + 12 g^{2} - 6 \\omega_{1}^{2} - 24 \\omega_{1} \\omega_{2} - 6 \\omega_{2}^{2} + \\left(- \\alpha_{1} - \\alpha_{2} - 3 \\omega_{1} - 3 \\omega_{2}\\right)^{2}\\right)^{3} + \\left(- 27 \\alpha_{1} \\alpha_{2} \\omega_{1} - 27 \\alpha_{1} \\alpha_{2} \\omega_{2} + 54 \\alpha_{1} g^{2} - 54 \\alpha_{1} \\omega_{1} \\omega_{2} - 54 \\alpha_{1} \\omega_{2}^{2} + 54 \\alpha_{2} g^{2} - 54 \\alpha_{2} \\omega_{1}^{2} - 54 \\alpha_{2} \\omega_{1} \\omega_{2} + 108 g^{2} \\omega_{1} + 108 g^{2} \\omega_{2} - 108 \\omega_{1}^{2} \\omega_{2} - 108 \\omega_{1} \\omega_{2}^{2} - \\left(- 9 \\alpha_{1} - 9 \\alpha_{2} - 27 \\omega_{1} - 27 \\omega_{2}\\right) \\left(\\alpha_{1} \\alpha_{2} + \\alpha_{1} \\omega_{1} + 3 \\alpha_{1} \\omega_{2} + 3 \\alpha_{2} \\omega_{1} + \\alpha_{2} \\omega_{2} - 4 g^{2} + 2 \\omega_{1}^{2} + 8 \\omega_{1} \\omega_{2} + 2 \\omega_{2}^{2}\\right) + 2 \\left(- \\alpha_{1} - \\alpha_{2} - 3 \\omega_{1} - 3 \\omega_{2}\\right)^{3}\\right)^{2}}}{2} - \\frac{\\left(- 9 \\alpha_{1} - 9 \\alpha_{2} - 27 \\omega_{1} - 27 \\omega_{2}\\right) \\left(\\alpha_{1} \\alpha_{2} + \\alpha_{1} \\omega_{1} + 3 \\alpha_{1} \\omega_{2} + 3 \\alpha_{2} \\omega_{1} + \\alpha_{2} \\omega_{2} - 4 g^{2} + 2 \\omega_{1}^{2} + 8 \\omega_{1} \\omega_{2} + 2 \\omega_{2}^{2}\\right)}{2} + \\left(- \\alpha_{1} - \\alpha_{2} - 3 \\omega_{1} - 3 \\omega_{2}\\right)^{3}}} - \\frac{\\left(- \\frac{1}{2} - \\frac{\\sqrt{3} i}{2}\\right) \\sqrt[3]{- \\frac{27 \\alpha_{1} \\alpha_{2} \\omega_{1}}{2} - \\frac{27 \\alpha_{1} \\alpha_{2} \\omega_{2}}{2} + 27 \\alpha_{1} g^{2} - 27 \\alpha_{1} \\omega_{1} \\omega_{2} - 27 \\alpha_{1} \\omega_{2}^{2} + 27 \\alpha_{2} g^{2} - 27 \\alpha_{2} \\omega_{1}^{2} - 27 \\alpha_{2} \\omega_{1} \\omega_{2} + 54 g^{2} \\omega_{1} + 54 g^{2} \\omega_{2} - 54 \\omega_{1}^{2} \\omega_{2} - 54 \\omega_{1} \\omega_{2}^{2} + \\frac{\\sqrt{- 4 \\left(- 3 \\alpha_{1} \\alpha_{2} - 3 \\alpha_{1} \\omega_{1} - 9 \\alpha_{1} \\omega_{2} - 9 \\alpha_{2} \\omega_{1} - 3 \\alpha_{2} \\omega_{2} + 12 g^{2} - 6 \\omega_{1}^{2} - 24 \\omega_{1} \\omega_{2} - 6 \\omega_{2}^{2} + \\left(- \\alpha_{1} - \\alpha_{2} - 3 \\omega_{1} - 3 \\omega_{2}\\right)^{2}\\right)^{3} + \\left(- 27 \\alpha_{1} \\alpha_{2} \\omega_{1} - 27 \\alpha_{1} \\alpha_{2} \\omega_{2} + 54 \\alpha_{1} g^{2} - 54 \\alpha_{1} \\omega_{1} \\omega_{2} - 54 \\alpha_{1} \\omega_{2}^{2} + 54 \\alpha_{2} g^{2} - 54 \\alpha_{2} \\omega_{1}^{2} - 54 \\alpha_{2} \\omega_{1} \\omega_{2} + 108 g^{2} \\omega_{1} + 108 g^{2} \\omega_{2} - 108 \\omega_{1}^{2} \\omega_{2} - 108 \\omega_{1} \\omega_{2}^{2} - \\left(- 9 \\alpha_{1} - 9 \\alpha_{2} - 27 \\omega_{1} - 27 \\omega_{2}\\right) \\left(\\alpha_{1} \\alpha_{2} + \\alpha_{1} \\omega_{1} + 3 \\alpha_{1} \\omega_{2} + 3 \\alpha_{2} \\omega_{1} + \\alpha_{2} \\omega_{2} - 4 g^{2} + 2 \\omega_{1}^{2} + 8 \\omega_{1} \\omega_{2} + 2 \\omega_{2}^{2}\\right) + 2 \\left(- \\alpha_{1} - \\alpha_{2} - 3 \\omega_{1} - 3 \\omega_{2}\\right)^{3}\\right)^{2}}}{2} - \\frac{\\left(- 9 \\alpha_{1} - 9 \\alpha_{2} - 27 \\omega_{1} - 27 \\omega_{2}\\right) \\left(\\alpha_{1} \\alpha_{2} + \\alpha_{1} \\omega_{1} + 3 \\alpha_{1} \\omega_{2} + 3 \\alpha_{2} \\omega_{1} + \\alpha_{2} \\omega_{2} - 4 g^{2} + 2 \\omega_{1}^{2} + 8 \\omega_{1} \\omega_{2} + 2 \\omega_{2}^{2}\\right)}{2} + \\left(- \\alpha_{1} - \\alpha_{2} - 3 \\omega_{1} - 3 \\omega_{2}\\right)^{3}}}{3}$"
      ],
      "text/plain": [
       "alpha_1/3 + alpha_2/3 + omega_1 + omega_2 - (-3*alpha_1*alpha_2 - 3*alpha_1*omega_1 - 9*alpha_1*omega_2 - 9*alpha_2*omega_1 - 3*alpha_2*omega_2 + 12*g**2 - 6*omega_1**2 - 24*omega_1*omega_2 - 6*omega_2**2 + (-alpha_1 - alpha_2 - 3*omega_1 - 3*omega_2)**2)/(3*(-1/2 - sqrt(3)*I/2)*(-27*alpha_1*alpha_2*omega_1/2 - 27*alpha_1*alpha_2*omega_2/2 + 27*alpha_1*g**2 - 27*alpha_1*omega_1*omega_2 - 27*alpha_1*omega_2**2 + 27*alpha_2*g**2 - 27*alpha_2*omega_1**2 - 27*alpha_2*omega_1*omega_2 + 54*g**2*omega_1 + 54*g**2*omega_2 - 54*omega_1**2*omega_2 - 54*omega_1*omega_2**2 + sqrt(-4*(-3*alpha_1*alpha_2 - 3*alpha_1*omega_1 - 9*alpha_1*omega_2 - 9*alpha_2*omega_1 - 3*alpha_2*omega_2 + 12*g**2 - 6*omega_1**2 - 24*omega_1*omega_2 - 6*omega_2**2 + (-alpha_1 - alpha_2 - 3*omega_1 - 3*omega_2)**2)**3 + (-27*alpha_1*alpha_2*omega_1 - 27*alpha_1*alpha_2*omega_2 + 54*alpha_1*g**2 - 54*alpha_1*omega_1*omega_2 - 54*alpha_1*omega_2**2 + 54*alpha_2*g**2 - 54*alpha_2*omega_1**2 - 54*alpha_2*omega_1*omega_2 + 108*g**2*omega_1 + 108*g**2*omega_2 - 108*omega_1**2*omega_2 - 108*omega_1*omega_2**2 - (-9*alpha_1 - 9*alpha_2 - 27*omega_1 - 27*omega_2)*(alpha_1*alpha_2 + alpha_1*omega_1 + 3*alpha_1*omega_2 + 3*alpha_2*omega_1 + alpha_2*omega_2 - 4*g**2 + 2*omega_1**2 + 8*omega_1*omega_2 + 2*omega_2**2) + 2*(-alpha_1 - alpha_2 - 3*omega_1 - 3*omega_2)**3)**2)/2 - (-9*alpha_1 - 9*alpha_2 - 27*omega_1 - 27*omega_2)*(alpha_1*alpha_2 + alpha_1*omega_1 + 3*alpha_1*omega_2 + 3*alpha_2*omega_1 + alpha_2*omega_2 - 4*g**2 + 2*omega_1**2 + 8*omega_1*omega_2 + 2*omega_2**2)/2 + (-alpha_1 - alpha_2 - 3*omega_1 - 3*omega_2)**3)**(1/3)) - (-1/2 - sqrt(3)*I/2)*(-27*alpha_1*alpha_2*omega_1/2 - 27*alpha_1*alpha_2*omega_2/2 + 27*alpha_1*g**2 - 27*alpha_1*omega_1*omega_2 - 27*alpha_1*omega_2**2 + 27*alpha_2*g**2 - 27*alpha_2*omega_1**2 - 27*alpha_2*omega_1*omega_2 + 54*g**2*omega_1 + 54*g**2*omega_2 - 54*omega_1**2*omega_2 - 54*omega_1*omega_2**2 + sqrt(-4*(-3*alpha_1*alpha_2 - 3*alpha_1*omega_1 - 9*alpha_1*omega_2 - 9*alpha_2*omega_1 - 3*alpha_2*omega_2 + 12*g**2 - 6*omega_1**2 - 24*omega_1*omega_2 - 6*omega_2**2 + (-alpha_1 - alpha_2 - 3*omega_1 - 3*omega_2)**2)**3 + (-27*alpha_1*alpha_2*omega_1 - 27*alpha_1*alpha_2*omega_2 + 54*alpha_1*g**2 - 54*alpha_1*omega_1*omega_2 - 54*alpha_1*omega_2**2 + 54*alpha_2*g**2 - 54*alpha_2*omega_1**2 - 54*alpha_2*omega_1*omega_2 + 108*g**2*omega_1 + 108*g**2*omega_2 - 108*omega_1**2*omega_2 - 108*omega_1*omega_2**2 - (-9*alpha_1 - 9*alpha_2 - 27*omega_1 - 27*omega_2)*(alpha_1*alpha_2 + alpha_1*omega_1 + 3*alpha_1*omega_2 + 3*alpha_2*omega_1 + alpha_2*omega_2 - 4*g**2 + 2*omega_1**2 + 8*omega_1*omega_2 + 2*omega_2**2) + 2*(-alpha_1 - alpha_2 - 3*omega_1 - 3*omega_2)**3)**2)/2 - (-9*alpha_1 - 9*alpha_2 - 27*omega_1 - 27*omega_2)*(alpha_1*alpha_2 + alpha_1*omega_1 + 3*alpha_1*omega_2 + 3*alpha_2*omega_1 + alpha_2*omega_2 - 4*g**2 + 2*omega_1**2 + 8*omega_1*omega_2 + 2*omega_2**2)/2 + (-alpha_1 - alpha_2 - 3*omega_1 - 3*omega_2)**3)**(1/3)/3"
      ]
     },
     "metadata": {},
     "output_type": "display_data"
    },
    {
     "data": {
      "text/latex": [
       "$\\displaystyle \\frac{\\alpha_{1}}{2} + \\frac{\\alpha_{2}}{2} + \\frac{3 \\omega_{1}}{2} + \\frac{3 \\omega_{2}}{2} - \\frac{\\sqrt{\\alpha_{1}^{2} - 2 \\alpha_{1} \\alpha_{2} + 2 \\alpha_{1} \\omega_{1} - 2 \\alpha_{1} \\omega_{2} + \\alpha_{2}^{2} - 2 \\alpha_{2} \\omega_{1} + 2 \\alpha_{2} \\omega_{2} + 16 g^{2} + \\omega_{1}^{2} - 2 \\omega_{1} \\omega_{2} + \\omega_{2}^{2}}}{2}$"
      ],
      "text/plain": [
       "alpha_1/2 + alpha_2/2 + 3*omega_1/2 + 3*omega_2/2 - sqrt(alpha_1**2 - 2*alpha_1*alpha_2 + 2*alpha_1*omega_1 - 2*alpha_1*omega_2 + alpha_2**2 - 2*alpha_2*omega_1 + 2*alpha_2*omega_2 + 16*g**2 + omega_1**2 - 2*omega_1*omega_2 + omega_2**2)/2"
      ]
     },
     "metadata": {},
     "output_type": "display_data"
    },
    {
     "data": {
      "text/latex": [
       "$\\displaystyle \\frac{\\alpha_{1}}{2} + \\frac{\\alpha_{2}}{2} + \\frac{3 \\omega_{1}}{2} + \\frac{3 \\omega_{2}}{2} + \\frac{\\sqrt{\\alpha_{1}^{2} - 2 \\alpha_{1} \\alpha_{2} + 2 \\alpha_{1} \\omega_{1} - 2 \\alpha_{1} \\omega_{2} + \\alpha_{2}^{2} - 2 \\alpha_{2} \\omega_{1} + 2 \\alpha_{2} \\omega_{2} + 16 g^{2} + \\omega_{1}^{2} - 2 \\omega_{1} \\omega_{2} + \\omega_{2}^{2}}}{2}$"
      ],
      "text/plain": [
       "alpha_1/2 + alpha_2/2 + 3*omega_1/2 + 3*omega_2/2 + sqrt(alpha_1**2 - 2*alpha_1*alpha_2 + 2*alpha_1*omega_1 - 2*alpha_1*omega_2 + alpha_2**2 - 2*alpha_2*omega_1 + 2*alpha_2*omega_2 + 16*g**2 + omega_1**2 - 2*omega_1*omega_2 + omega_2**2)/2"
      ]
     },
     "metadata": {},
     "output_type": "display_data"
    },
    {
     "data": {
      "text/latex": [
       "$\\displaystyle \\alpha_{1} + \\alpha_{2} + 2 \\omega_{1} + 2 \\omega_{2}$"
      ],
      "text/plain": [
       "alpha_1 + alpha_2 + 2*omega_1 + 2*omega_2"
      ]
     },
     "metadata": {},
     "output_type": "display_data"
    }
   ],
   "source": [
    "for eigenval in H.eigenvals():\n",
    "    display(eigenval)"
   ]
  }
 ],
 "metadata": {
  "kernelspec": {
   "display_name": "Python 3",
   "language": "python",
   "name": "python3"
  },
  "language_info": {
   "codemirror_mode": {
    "name": "ipython",
    "version": 3
   },
   "file_extension": ".py",
   "mimetype": "text/x-python",
   "name": "python",
   "nbconvert_exporter": "python",
   "pygments_lexer": "ipython3",
   "version": "3.9.16"
  },
  "orig_nbformat": 4
 },
 "nbformat": 4,
 "nbformat_minor": 2
}
