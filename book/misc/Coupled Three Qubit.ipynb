{
 "cells": [
  {
   "cell_type": "code",
   "execution_count": 1,
   "metadata": {},
   "outputs": [
    {
     "data": {
      "text/latex": [
       "$\\displaystyle \\left[\\begin{matrix}0 & 0 & 0 & 0 & 0 & 0 & 0 & 0 & 0\\\\0 & \\omega_{1} & 0 & g & 0 & 0 & 0 & 0 & 0\\\\0 & 0 & 2 \\omega_{1} & 0 & \\sqrt{2} g & 0 & 0 & 0 & 0\\\\0 & g & 0 & \\omega_{2} & 0 & 0 & 0 & 0 & 0\\\\0 & 0 & \\sqrt{2} g & 0 & \\omega_{1} + \\omega_{2} & 0 & \\sqrt{2} g & 0 & 0\\\\0 & 0 & 0 & 0 & 0 & 2 \\omega_{1} + \\omega_{2} & 0 & 2 g & 0\\\\0 & 0 & 0 & 0 & \\sqrt{2} g & 0 & 2 \\omega_{2} & 0 & 0\\\\0 & 0 & 0 & 0 & 0 & 2 g & 0 & \\omega_{1} + 2 \\omega_{2} & 0\\\\0 & 0 & 0 & 0 & 0 & 0 & 0 & 0 & 2 \\omega_{1} + 2 \\omega_{2}\\end{matrix}\\right]$"
      ],
      "text/plain": [
       "Matrix([\n",
       "[0,       0,         0,       0,                 0,                   0,         0,                   0,                     0],\n",
       "[0, omega_1,         0,       g,                 0,                   0,         0,                   0,                     0],\n",
       "[0,       0, 2*omega_1,       0,         sqrt(2)*g,                   0,         0,                   0,                     0],\n",
       "[0,       g,         0, omega_2,                 0,                   0,         0,                   0,                     0],\n",
       "[0,       0, sqrt(2)*g,       0, omega_1 + omega_2,                   0, sqrt(2)*g,                   0,                     0],\n",
       "[0,       0,         0,       0,                 0, 2*omega_1 + omega_2,         0,                 2*g,                     0],\n",
       "[0,       0,         0,       0,         sqrt(2)*g,                   0, 2*omega_2,                   0,                     0],\n",
       "[0,       0,         0,       0,                 0,                 2*g,         0, omega_1 + 2*omega_2,                     0],\n",
       "[0,       0,         0,       0,                 0,                   0,         0,                   0, 2*omega_1 + 2*omega_2]])"
      ]
     },
     "execution_count": 1,
     "metadata": {},
     "output_type": "execute_result"
    }
   ],
   "source": [
    "from sympy import symbols, Matrix, sqrt, solve\n",
    "\n",
    "omega_1, omega_2, g = symbols(\"omega_1 omega_2 g\")\n",
    "\n",
    "H = Matrix(\n",
    "    [\n",
    "        [0, 0, 0, 0, 0, 0, 0, 0, 0],\n",
    "        [0, omega_1, 0, g, 0, 0, 0, 0, 0],\n",
    "        [0, 0, 2 * omega_1, 0, sqrt(2) * g, 0, 0, 0, 0],\n",
    "        [0, g, 0, omega_2, 0, 0, 0, 0, 0],\n",
    "        [0, 0, sqrt(2) * g, 0, omega_1 + omega_2, 0, sqrt(2) * g, 0, 0],\n",
    "        [0, 0, 0, 0, 0, 2 * omega_1 + omega_2, 0, 2 * g, 0],\n",
    "        [0, 0, 0, 0, sqrt(2) * g, 0, 2 * omega_2, 0, 0],\n",
    "        [0, 0, 0, 0, 0, 2 * g, 0, omega_1 + 2 * omega_2, 0],\n",
    "        [0, 0, 0, 0, 0, 0, 0, 0, 2 * omega_1 + 2 * omega_2],\n",
    "    ]\n",
    ")\n",
    "\n",
    "H"
   ]
  },
  {
   "cell_type": "code",
   "execution_count": 2,
   "metadata": {},
   "outputs": [
    {
     "data": {
      "text/latex": [
       "$\\displaystyle 0$"
      ],
      "text/plain": [
       "0"
      ]
     },
     "metadata": {},
     "output_type": "display_data"
    },
    {
     "data": {
      "text/latex": [
       "$\\displaystyle \\frac{\\omega_{1}}{2} + \\frac{\\omega_{2}}{2} - \\frac{\\sqrt{4 g^{2} + \\omega_{1}^{2} - 2 \\omega_{1} \\omega_{2} + \\omega_{2}^{2}}}{2}$"
      ],
      "text/plain": [
       "omega_1/2 + omega_2/2 - sqrt(4*g**2 + omega_1**2 - 2*omega_1*omega_2 + omega_2**2)/2"
      ]
     },
     "metadata": {},
     "output_type": "display_data"
    },
    {
     "data": {
      "text/latex": [
       "$\\displaystyle \\frac{\\omega_{1}}{2} + \\frac{\\omega_{2}}{2} + \\frac{\\sqrt{4 g^{2} + \\omega_{1}^{2} - 2 \\omega_{1} \\omega_{2} + \\omega_{2}^{2}}}{2}$"
      ],
      "text/plain": [
       "omega_1/2 + omega_2/2 + sqrt(4*g**2 + omega_1**2 - 2*omega_1*omega_2 + omega_2**2)/2"
      ]
     },
     "metadata": {},
     "output_type": "display_data"
    },
    {
     "data": {
      "text/latex": [
       "$\\displaystyle \\omega_{1} + \\omega_{2}$"
      ],
      "text/plain": [
       "omega_1 + omega_2"
      ]
     },
     "metadata": {},
     "output_type": "display_data"
    },
    {
     "data": {
      "text/latex": [
       "$\\displaystyle \\omega_{1} + \\omega_{2} - \\sqrt{4 g^{2} + \\omega_{1}^{2} - 2 \\omega_{1} \\omega_{2} + \\omega_{2}^{2}}$"
      ],
      "text/plain": [
       "omega_1 + omega_2 - sqrt(4*g**2 + omega_1**2 - 2*omega_1*omega_2 + omega_2**2)"
      ]
     },
     "metadata": {},
     "output_type": "display_data"
    },
    {
     "data": {
      "text/latex": [
       "$\\displaystyle \\omega_{1} + \\omega_{2} + \\sqrt{4 g^{2} + \\omega_{1}^{2} - 2 \\omega_{1} \\omega_{2} + \\omega_{2}^{2}}$"
      ],
      "text/plain": [
       "omega_1 + omega_2 + sqrt(4*g**2 + omega_1**2 - 2*omega_1*omega_2 + omega_2**2)"
      ]
     },
     "metadata": {},
     "output_type": "display_data"
    },
    {
     "data": {
      "text/latex": [
       "$\\displaystyle \\frac{3 \\omega_{1}}{2} + \\frac{3 \\omega_{2}}{2} - \\frac{\\sqrt{16 g^{2} + \\omega_{1}^{2} - 2 \\omega_{1} \\omega_{2} + \\omega_{2}^{2}}}{2}$"
      ],
      "text/plain": [
       "3*omega_1/2 + 3*omega_2/2 - sqrt(16*g**2 + omega_1**2 - 2*omega_1*omega_2 + omega_2**2)/2"
      ]
     },
     "metadata": {},
     "output_type": "display_data"
    },
    {
     "data": {
      "text/latex": [
       "$\\displaystyle \\frac{3 \\omega_{1}}{2} + \\frac{3 \\omega_{2}}{2} + \\frac{\\sqrt{16 g^{2} + \\omega_{1}^{2} - 2 \\omega_{1} \\omega_{2} + \\omega_{2}^{2}}}{2}$"
      ],
      "text/plain": [
       "3*omega_1/2 + 3*omega_2/2 + sqrt(16*g**2 + omega_1**2 - 2*omega_1*omega_2 + omega_2**2)/2"
      ]
     },
     "metadata": {},
     "output_type": "display_data"
    },
    {
     "data": {
      "text/latex": [
       "$\\displaystyle 2 \\left(\\omega_{1} + \\omega_{2}\\right)$"
      ],
      "text/plain": [
       "2*(omega_1 + omega_2)"
      ]
     },
     "metadata": {},
     "output_type": "display_data"
    }
   ],
   "source": [
    "eigenvalues = H.eigenvals()\n",
    "\n",
    "for eigenvalue in eigenvalues:\n",
    "    display(eigenvalue)"
   ]
  }
 ],
 "metadata": {
  "kernelspec": {
   "display_name": "Python 3",
   "language": "python",
   "name": "python3"
  },
  "language_info": {
   "codemirror_mode": {
    "name": "ipython",
    "version": 3
   },
   "file_extension": ".py",
   "mimetype": "text/x-python",
   "name": "python",
   "nbconvert_exporter": "python",
   "pygments_lexer": "ipython3",
   "version": "3.9.16"
  },
  "orig_nbformat": 4
 },
 "nbformat": 4,
 "nbformat_minor": 2
}
