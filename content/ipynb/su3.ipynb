{
 "cells": [
  {
   "cell_type": "markdown",
   "metadata": {},
   "source": [
    "# $SU(3)$"
   ]
  },
  {
   "cell_type": "code",
   "execution_count": 1,
   "metadata": {},
   "outputs": [],
   "source": [
    "from IPython.display import display\n",
    "from sympy import I, Matrix, Trace, sqrt\n",
    "from sympy.physics.quantum import Dagger"
   ]
  },
  {
   "cell_type": "markdown",
   "metadata": {},
   "source": [
    "## Gell-Mann matrices\n",
    "\n",
    "$$\n",
    "\\begin{aligned}\n",
    "\\lambda_1 &= \\begin{bmatrix} 0 & 1 & 0 \\\\ 1 & 0 & 0 \\\\ 0 & 0 & 0 \\end{bmatrix}\n",
    "\\\\\\\\\n",
    "\\lambda_2 &= \\begin{bmatrix} 0 & -i & 0 \\\\ i & 0 & 0 \\\\ 0 & 0 & 0 \\end{bmatrix}\n",
    "\\\\\\\\\n",
    "\\lambda_3 &= \\begin{bmatrix} 1 & 0 & 0 \\\\ 0 & -1 & 0 \\\\ 0 & 0 & 0 \\end{bmatrix}\n",
    "\\\\\\\\\n",
    "\\lambda_4 &= \\begin{bmatrix} 0 & 0 & 1 \\\\ 0 & 0 & 0 \\\\ 1 & 0 & 0 \\end{bmatrix}\n",
    "\\\\\\\\\n",
    "\\lambda_5 &= \\begin{bmatrix} 0 & 0 & -i \\\\ 0 & 0 & 0 \\\\ i & 0 & 0 \\end{bmatrix}\n",
    "\\\\\\\\\n",
    "\\lambda_6 &= \\begin{bmatrix} 0 & 0 & 0 \\\\ 0 & 0 & 1 \\\\ 0 & 1 & 0 \\end{bmatrix}\n",
    "\\\\\\\\\n",
    "\\lambda_7 &= \\begin{bmatrix} 0 & 0 & 0 \\\\ 0 & 0 & -i \\\\ 0 & i & 0 \\end{bmatrix}\n",
    "\\\\\\\\\n",
    "\\lambda_8 &= \\frac{1}{\\sqrt{3}} \\begin{bmatrix} 1 & 0 & 0 \\\\ 0 & 1 & 0 \\\\ 0 & 0 & -2 \\end{bmatrix}\n",
    "\\end{aligned}\n",
    "$$"
   ]
  },
  {
   "cell_type": "code",
   "execution_count": 2,
   "metadata": {},
   "outputs": [
    {
     "data": {
      "text/latex": [
       "$\\displaystyle \\left[\\begin{matrix}0 & 1 & 0\\\\1 & 0 & 0\\\\0 & 0 & 0\\end{matrix}\\right]$"
      ],
      "text/plain": [
       "Matrix([\n",
       "[0, 1, 0],\n",
       "[1, 0, 0],\n",
       "[0, 0, 0]])"
      ]
     },
     "metadata": {},
     "output_type": "display_data"
    },
    {
     "data": {
      "text/latex": [
       "$\\displaystyle \\left[\\begin{matrix}0 & - i & 0\\\\i & 0 & 0\\\\0 & 0 & 0\\end{matrix}\\right]$"
      ],
      "text/plain": [
       "Matrix([\n",
       "[0, -I, 0],\n",
       "[I,  0, 0],\n",
       "[0,  0, 0]])"
      ]
     },
     "metadata": {},
     "output_type": "display_data"
    },
    {
     "data": {
      "text/latex": [
       "$\\displaystyle \\left[\\begin{matrix}1 & 0 & 0\\\\0 & -1 & 0\\\\0 & 0 & 0\\end{matrix}\\right]$"
      ],
      "text/plain": [
       "Matrix([\n",
       "[1,  0, 0],\n",
       "[0, -1, 0],\n",
       "[0,  0, 0]])"
      ]
     },
     "metadata": {},
     "output_type": "display_data"
    },
    {
     "data": {
      "text/latex": [
       "$\\displaystyle \\left[\\begin{matrix}0 & 0 & 1\\\\0 & 0 & 0\\\\1 & 0 & 0\\end{matrix}\\right]$"
      ],
      "text/plain": [
       "Matrix([\n",
       "[0, 0, 1],\n",
       "[0, 0, 0],\n",
       "[1, 0, 0]])"
      ]
     },
     "metadata": {},
     "output_type": "display_data"
    },
    {
     "data": {
      "text/latex": [
       "$\\displaystyle \\left[\\begin{matrix}0 & 0 & - i\\\\0 & 0 & 0\\\\i & 0 & 0\\end{matrix}\\right]$"
      ],
      "text/plain": [
       "Matrix([\n",
       "[0, 0, -I],\n",
       "[0, 0,  0],\n",
       "[I, 0,  0]])"
      ]
     },
     "metadata": {},
     "output_type": "display_data"
    },
    {
     "data": {
      "text/latex": [
       "$\\displaystyle \\left[\\begin{matrix}0 & 0 & 0\\\\0 & 0 & 1\\\\0 & 1 & 0\\end{matrix}\\right]$"
      ],
      "text/plain": [
       "Matrix([\n",
       "[0, 0, 0],\n",
       "[0, 0, 1],\n",
       "[0, 1, 0]])"
      ]
     },
     "metadata": {},
     "output_type": "display_data"
    },
    {
     "data": {
      "text/latex": [
       "$\\displaystyle \\left[\\begin{matrix}0 & 0 & 0\\\\0 & 0 & - i\\\\0 & i & 0\\end{matrix}\\right]$"
      ],
      "text/plain": [
       "Matrix([\n",
       "[0, 0,  0],\n",
       "[0, 0, -I],\n",
       "[0, I,  0]])"
      ]
     },
     "metadata": {},
     "output_type": "display_data"
    },
    {
     "data": {
      "text/latex": [
       "$\\displaystyle \\left[\\begin{matrix}\\frac{\\sqrt{3}}{3} & 0 & 0\\\\0 & \\frac{\\sqrt{3}}{3} & 0\\\\0 & 0 & - \\frac{2 \\sqrt{3}}{3}\\end{matrix}\\right]$"
      ],
      "text/plain": [
       "Matrix([\n",
       "[sqrt(3)/3,         0,            0],\n",
       "[        0, sqrt(3)/3,            0],\n",
       "[        0,         0, -2*sqrt(3)/3]])"
      ]
     },
     "metadata": {},
     "output_type": "display_data"
    }
   ],
   "source": [
    "GM = [Matrix() for _ in range(9)]\n",
    "\n",
    "GM[1] = Matrix(\n",
    "    [\n",
    "        [0, 1, 0],\n",
    "        [1, 0, 0],\n",
    "        [0, 0, 0],\n",
    "    ]\n",
    ")\n",
    "\n",
    "GM[2] = Matrix(\n",
    "    [\n",
    "        [0, -I, 0],\n",
    "        [I, 0, 0],\n",
    "        [0, 0, 0],\n",
    "    ]\n",
    ")\n",
    "\n",
    "GM[3] = Matrix(\n",
    "    [\n",
    "        [1, 0, 0],\n",
    "        [0, -1, 0],\n",
    "        [0, 0, 0],\n",
    "    ]\n",
    ")\n",
    "\n",
    "GM[4] = Matrix(\n",
    "    [\n",
    "        [0, 0, 1],\n",
    "        [0, 0, 0],\n",
    "        [1, 0, 0],\n",
    "    ]\n",
    ")\n",
    "\n",
    "GM[5] = Matrix(\n",
    "    [\n",
    "        [0, 0, -I],\n",
    "        [0, 0, 0],\n",
    "        [I, 0, 0],\n",
    "    ]\n",
    ")\n",
    "\n",
    "GM[6] = Matrix(\n",
    "    [\n",
    "        [0, 0, 0],\n",
    "        [0, 0, 1],\n",
    "        [0, 1, 0],\n",
    "    ]\n",
    ")\n",
    "\n",
    "GM[7] = Matrix(\n",
    "    [\n",
    "        [0, 0, 0],\n",
    "        [0, 0, -I],\n",
    "        [0, I, 0],\n",
    "    ]\n",
    ")\n",
    "\n",
    "GM[8] = (1 / sqrt(3)) * Matrix(\n",
    "    [\n",
    "        [1, 0, 0],\n",
    "        [0, 1, 0],\n",
    "        [0, 0, -2],\n",
    "    ]\n",
    ")\n",
    "\n",
    "for i in range(1, 9):\n",
    "    display(GM[i])"
   ]
  },
  {
   "cell_type": "markdown",
   "metadata": {},
   "source": [
    "## $SU(3)$ generators\n",
    "\n",
    "$$\n",
    "\\begin{aligned}\n",
    "T_a &= \\frac{\\lambda_a}{2}\n",
    "\\end{aligned}\n",
    "$$"
   ]
  },
  {
   "cell_type": "code",
   "execution_count": 3,
   "metadata": {},
   "outputs": [
    {
     "data": {
      "text/latex": [
       "$\\displaystyle \\left[\\begin{matrix}0 & \\frac{1}{2} & 0\\\\\\frac{1}{2} & 0 & 0\\\\0 & 0 & 0\\end{matrix}\\right]$"
      ],
      "text/plain": [
       "Matrix([\n",
       "[  0, 1/2, 0],\n",
       "[1/2,   0, 0],\n",
       "[  0,   0, 0]])"
      ]
     },
     "metadata": {},
     "output_type": "display_data"
    },
    {
     "data": {
      "text/latex": [
       "$\\displaystyle \\left[\\begin{matrix}0 & - \\frac{i}{2} & 0\\\\\\frac{i}{2} & 0 & 0\\\\0 & 0 & 0\\end{matrix}\\right]$"
      ],
      "text/plain": [
       "Matrix([\n",
       "[  0, -I/2, 0],\n",
       "[I/2,    0, 0],\n",
       "[  0,    0, 0]])"
      ]
     },
     "metadata": {},
     "output_type": "display_data"
    },
    {
     "data": {
      "text/latex": [
       "$\\displaystyle \\left[\\begin{matrix}\\frac{1}{2} & 0 & 0\\\\0 & - \\frac{1}{2} & 0\\\\0 & 0 & 0\\end{matrix}\\right]$"
      ],
      "text/plain": [
       "Matrix([\n",
       "[1/2,    0, 0],\n",
       "[  0, -1/2, 0],\n",
       "[  0,    0, 0]])"
      ]
     },
     "metadata": {},
     "output_type": "display_data"
    },
    {
     "data": {
      "text/latex": [
       "$\\displaystyle \\left[\\begin{matrix}0 & 0 & \\frac{1}{2}\\\\0 & 0 & 0\\\\\\frac{1}{2} & 0 & 0\\end{matrix}\\right]$"
      ],
      "text/plain": [
       "Matrix([\n",
       "[  0, 0, 1/2],\n",
       "[  0, 0,   0],\n",
       "[1/2, 0,   0]])"
      ]
     },
     "metadata": {},
     "output_type": "display_data"
    },
    {
     "data": {
      "text/latex": [
       "$\\displaystyle \\left[\\begin{matrix}0 & 0 & - \\frac{i}{2}\\\\0 & 0 & 0\\\\\\frac{i}{2} & 0 & 0\\end{matrix}\\right]$"
      ],
      "text/plain": [
       "Matrix([\n",
       "[  0, 0, -I/2],\n",
       "[  0, 0,    0],\n",
       "[I/2, 0,    0]])"
      ]
     },
     "metadata": {},
     "output_type": "display_data"
    },
    {
     "data": {
      "text/latex": [
       "$\\displaystyle \\left[\\begin{matrix}0 & 0 & 0\\\\0 & 0 & \\frac{1}{2}\\\\0 & \\frac{1}{2} & 0\\end{matrix}\\right]$"
      ],
      "text/plain": [
       "Matrix([\n",
       "[0,   0,   0],\n",
       "[0,   0, 1/2],\n",
       "[0, 1/2,   0]])"
      ]
     },
     "metadata": {},
     "output_type": "display_data"
    },
    {
     "data": {
      "text/latex": [
       "$\\displaystyle \\left[\\begin{matrix}0 & 0 & 0\\\\0 & 0 & - \\frac{i}{2}\\\\0 & \\frac{i}{2} & 0\\end{matrix}\\right]$"
      ],
      "text/plain": [
       "Matrix([\n",
       "[0,   0,    0],\n",
       "[0,   0, -I/2],\n",
       "[0, I/2,    0]])"
      ]
     },
     "metadata": {},
     "output_type": "display_data"
    },
    {
     "data": {
      "text/latex": [
       "$\\displaystyle \\left[\\begin{matrix}\\frac{\\sqrt{3}}{6} & 0 & 0\\\\0 & \\frac{\\sqrt{3}}{6} & 0\\\\0 & 0 & - \\frac{\\sqrt{3}}{3}\\end{matrix}\\right]$"
      ],
      "text/plain": [
       "Matrix([\n",
       "[sqrt(3)/6,         0,          0],\n",
       "[        0, sqrt(3)/6,          0],\n",
       "[        0,         0, -sqrt(3)/3]])"
      ]
     },
     "metadata": {},
     "output_type": "display_data"
    }
   ],
   "source": [
    "T = [gm / 2 for gm in GM]\n",
    "\n",
    "for i in range(1, 9):\n",
    "    display(T[i])"
   ]
  },
  {
   "cell_type": "markdown",
   "metadata": {},
   "source": [
    "## Orthogonality\n",
    "\n",
    "$$\n",
    "\\begin{aligned}\n",
    "\\text{Tr}(T_a T_b) &= \\frac{1}{2} \\delta_{ab}\n",
    "\\end{aligned}\n",
    "$$"
   ]
  },
  {
   "cell_type": "code",
   "execution_count": 4,
   "metadata": {},
   "outputs": [],
   "source": [
    "def Tr(A): return Trace(A).doit()"
   ]
  },
  {
   "cell_type": "code",
   "execution_count": 5,
   "metadata": {},
   "outputs": [
    {
     "data": {
      "text/latex": [
       "$\\displaystyle \\frac{1}{2}$"
      ],
      "text/plain": [
       "1/2"
      ]
     },
     "metadata": {},
     "output_type": "display_data"
    },
    {
     "data": {
      "text/latex": [
       "$\\displaystyle \\frac{1}{2}$"
      ],
      "text/plain": [
       "1/2"
      ]
     },
     "metadata": {},
     "output_type": "display_data"
    },
    {
     "data": {
      "text/latex": [
       "$\\displaystyle \\frac{1}{2}$"
      ],
      "text/plain": [
       "1/2"
      ]
     },
     "metadata": {},
     "output_type": "display_data"
    },
    {
     "data": {
      "text/latex": [
       "$\\displaystyle \\frac{1}{2}$"
      ],
      "text/plain": [
       "1/2"
      ]
     },
     "metadata": {},
     "output_type": "display_data"
    },
    {
     "data": {
      "text/latex": [
       "$\\displaystyle \\frac{1}{2}$"
      ],
      "text/plain": [
       "1/2"
      ]
     },
     "metadata": {},
     "output_type": "display_data"
    },
    {
     "data": {
      "text/latex": [
       "$\\displaystyle \\frac{1}{2}$"
      ],
      "text/plain": [
       "1/2"
      ]
     },
     "metadata": {},
     "output_type": "display_data"
    },
    {
     "data": {
      "text/latex": [
       "$\\displaystyle \\frac{1}{2}$"
      ],
      "text/plain": [
       "1/2"
      ]
     },
     "metadata": {},
     "output_type": "display_data"
    },
    {
     "data": {
      "text/latex": [
       "$\\displaystyle \\frac{1}{2}$"
      ],
      "text/plain": [
       "1/2"
      ]
     },
     "metadata": {},
     "output_type": "display_data"
    }
   ],
   "source": [
    "for i in range(1, 9):\n",
    "    display(Tr(T[i] * T[i]))"
   ]
  },
  {
   "cell_type": "code",
   "execution_count": 6,
   "metadata": {},
   "outputs": [
    {
     "data": {
      "text/latex": [
       "$\\displaystyle \\left[\\begin{matrix}0 & 0 & 0\\\\\\frac{\\sqrt{2}}{2} & 0 & 0\\\\0 & 0 & 0\\end{matrix}\\right]$"
      ],
      "text/plain": [
       "Matrix([\n",
       "[        0, 0, 0],\n",
       "[sqrt(2)/2, 0, 0],\n",
       "[        0, 0, 0]])"
      ]
     },
     "metadata": {},
     "output_type": "display_data"
    },
    {
     "data": {
      "text/latex": [
       "$\\displaystyle \\left[\\begin{matrix}0 & 0 & 0\\\\0 & 0 & 0\\\\0 & \\frac{\\sqrt{2}}{2} & 0\\end{matrix}\\right]$"
      ],
      "text/plain": [
       "Matrix([\n",
       "[0,         0, 0],\n",
       "[0,         0, 0],\n",
       "[0, sqrt(2)/2, 0]])"
      ]
     },
     "metadata": {},
     "output_type": "display_data"
    },
    {
     "data": {
      "text/latex": [
       "$\\displaystyle \\left[\\begin{matrix}0 & 0 & 0\\\\0 & 0 & 0\\\\\\frac{\\sqrt{2}}{2} & 0 & 0\\end{matrix}\\right]$"
      ],
      "text/plain": [
       "Matrix([\n",
       "[        0, 0, 0],\n",
       "[        0, 0, 0],\n",
       "[sqrt(2)/2, 0, 0]])"
      ]
     },
     "metadata": {},
     "output_type": "display_data"
    },
    {
     "data": {
      "text/latex": [
       "$\\displaystyle \\left[\\begin{matrix}0 & \\frac{\\sqrt{2}}{2} & 0\\\\0 & 0 & 0\\\\0 & 0 & 0\\end{matrix}\\right]$"
      ],
      "text/plain": [
       "Matrix([\n",
       "[0, sqrt(2)/2, 0],\n",
       "[0,         0, 0],\n",
       "[0,         0, 0]])"
      ]
     },
     "metadata": {},
     "output_type": "display_data"
    },
    {
     "data": {
      "text/latex": [
       "$\\displaystyle \\left[\\begin{matrix}0 & 0 & 0\\\\0 & 0 & \\frac{\\sqrt{2}}{2}\\\\0 & 0 & 0\\end{matrix}\\right]$"
      ],
      "text/plain": [
       "Matrix([\n",
       "[0, 0,         0],\n",
       "[0, 0, sqrt(2)/2],\n",
       "[0, 0,         0]])"
      ]
     },
     "metadata": {},
     "output_type": "display_data"
    },
    {
     "data": {
      "text/latex": [
       "$\\displaystyle \\left[\\begin{matrix}0 & 0 & \\frac{\\sqrt{2}}{2}\\\\0 & 0 & 0\\\\0 & 0 & 0\\end{matrix}\\right]$"
      ],
      "text/plain": [
       "Matrix([\n",
       "[0, 0, sqrt(2)/2],\n",
       "[0, 0,         0],\n",
       "[0, 0,         0]])"
      ]
     },
     "metadata": {},
     "output_type": "display_data"
    }
   ],
   "source": [
    "E_01 = (T[1] - I * T[2]) / sqrt(2)\n",
    "E_12 = (T[6] - I * T[7]) / sqrt(2)\n",
    "E_20 = (T[4] - I * T[5]) / sqrt(2)\n",
    "\n",
    "display(E_01, E_12, E_20)\n",
    "\n",
    "display(Dagger(E_01), Dagger(E_12), Dagger(E_20))"
   ]
  }
 ],
 "metadata": {
  "kernelspec": {
   "display_name": "Python 3",
   "language": "python",
   "name": "python3"
  },
  "language_info": {
   "codemirror_mode": {
    "name": "ipython",
    "version": 3
   },
   "file_extension": ".py",
   "mimetype": "text/x-python",
   "name": "python",
   "nbconvert_exporter": "python",
   "pygments_lexer": "ipython3",
   "version": "3.9.16"
  },
  "orig_nbformat": 4
 },
 "nbformat": 4,
 "nbformat_minor": 2
}
