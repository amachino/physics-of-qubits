{
 "cells": [
  {
   "cell_type": "markdown",
   "metadata": {},
   "source": [
    "# Symbolic Calculations"
   ]
  },
  {
   "cell_type": "code",
   "execution_count": 1,
   "metadata": {},
   "outputs": [],
   "source": [
    "from IPython.display import display\n",
    "from sympy import I as i\n",
    "from sympy import Matrix, cos, exp, pi, simplify, sin, sqrt, symbols\n",
    "from sympy.abc import t, theta\n",
    "from sympy.physics.quantum import TensorProduct as tensor\n",
    "from sympy.physics.quantum import Dagger as dag\n",
    "\n",
    "Omega, Delta = symbols(\"Omega Delta\")"
   ]
  },
  {
   "cell_type": "markdown",
   "metadata": {},
   "source": [
    "## Definitions\n",
    "\n",
    "### Pauli operators\n",
    "\n",
    "$$\n",
    "\\begin{aligned}\n",
    "I &= \\begin{bmatrix} 1 & 0 \\\\ 0 & 1 \\end{bmatrix}\n",
    "\\\\\n",
    "X &= \\begin{bmatrix} 0 & 1 \\\\ 1 & 0 \\end{bmatrix}\n",
    "\\\\\n",
    "Y &= \\begin{bmatrix} 0 & -i \\\\ i & 0 \\end{bmatrix}\n",
    "\\\\\n",
    "Z &= \\begin{bmatrix} 1 & 0 \\\\ 0 & -1 \\end{bmatrix}\n",
    "\\end{aligned}\n",
    "$$"
   ]
  },
  {
   "cell_type": "code",
   "execution_count": 2,
   "metadata": {},
   "outputs": [
    {
     "data": {
      "text/latex": [
       "$\\displaystyle \\left[\\begin{matrix}1 & 0\\\\0 & 1\\end{matrix}\\right]$"
      ],
      "text/plain": [
       "Matrix([\n",
       "[1, 0],\n",
       "[0, 1]])"
      ]
     },
     "metadata": {},
     "output_type": "display_data"
    },
    {
     "data": {
      "text/latex": [
       "$\\displaystyle \\left[\\begin{matrix}0 & 1\\\\1 & 0\\end{matrix}\\right]$"
      ],
      "text/plain": [
       "Matrix([\n",
       "[0, 1],\n",
       "[1, 0]])"
      ]
     },
     "metadata": {},
     "output_type": "display_data"
    },
    {
     "data": {
      "text/latex": [
       "$\\displaystyle \\left[\\begin{matrix}0 & - i\\\\i & 0\\end{matrix}\\right]$"
      ],
      "text/plain": [
       "Matrix([\n",
       "[0, -I],\n",
       "[I,  0]])"
      ]
     },
     "metadata": {},
     "output_type": "display_data"
    },
    {
     "data": {
      "text/latex": [
       "$\\displaystyle \\left[\\begin{matrix}1 & 0\\\\0 & -1\\end{matrix}\\right]$"
      ],
      "text/plain": [
       "Matrix([\n",
       "[1,  0],\n",
       "[0, -1]])"
      ]
     },
     "metadata": {},
     "output_type": "display_data"
    }
   ],
   "source": [
    "I = Matrix(\n",
    "    [\n",
    "        [1, 0],\n",
    "        [0, 1],\n",
    "    ]\n",
    ")\n",
    "X = Matrix(\n",
    "    [\n",
    "        [0, 1],\n",
    "        [1, 0],\n",
    "    ]\n",
    ")\n",
    "Y = Matrix(\n",
    "    [\n",
    "        [0, -i],\n",
    "        [i, 0],\n",
    "    ]\n",
    ")\n",
    "Z = Matrix(\n",
    "    [\n",
    "        [1, 0],\n",
    "        [0, -1],\n",
    "    ]\n",
    ")\n",
    "display(I, X, Y, Z)"
   ]
  },
  {
   "cell_type": "markdown",
   "metadata": {},
   "source": [
    "### Rotation operators\n",
    "\n",
    "$$\n",
    "\\begin{aligned}\n",
    "R_x(\\theta) &= \\begin{bmatrix} \\cos(\\frac{\\theta}{2}) & -i\\sin(\\frac{\\theta}{2}) \\\\ -i\\sin(\\frac{\\theta}{2}) & \\cos(\\frac{\\theta}{2}) \\end{bmatrix}\n",
    "\\\\\n",
    "R_y(\\theta) &= \\begin{bmatrix} \\cos(\\frac{\\theta}{2}) & -\\sin(\\frac{\\theta}{2}) \\\\ \\sin(\\frac{\\theta}{2}) & \\cos(\\frac{\\theta}{2}) \\end{bmatrix}\n",
    "\\\\\n",
    "R_z(\\theta) &= \\begin{bmatrix} e^{-i\\frac{\\theta}{2}} & 0 \\\\ 0 & e^{i\\frac{\\theta}{2}} \\end{bmatrix}\n",
    "\\end{aligned}\n",
    "$$"
   ]
  },
  {
   "cell_type": "code",
   "execution_count": 3,
   "metadata": {},
   "outputs": [
    {
     "data": {
      "text/latex": [
       "$\\displaystyle \\left[\\begin{matrix}\\cos{\\left(\\frac{\\theta}{2} \\right)} & - i \\sin{\\left(\\frac{\\theta}{2} \\right)}\\\\- i \\sin{\\left(\\frac{\\theta}{2} \\right)} & \\cos{\\left(\\frac{\\theta}{2} \\right)}\\end{matrix}\\right]$"
      ],
      "text/plain": [
       "Matrix([\n",
       "[   cos(theta/2), -I*sin(theta/2)],\n",
       "[-I*sin(theta/2),    cos(theta/2)]])"
      ]
     },
     "metadata": {},
     "output_type": "display_data"
    },
    {
     "data": {
      "text/latex": [
       "$\\displaystyle \\left[\\begin{matrix}\\cos{\\left(\\frac{\\theta}{2} \\right)} & - \\sin{\\left(\\frac{\\theta}{2} \\right)}\\\\\\sin{\\left(\\frac{\\theta}{2} \\right)} & \\cos{\\left(\\frac{\\theta}{2} \\right)}\\end{matrix}\\right]$"
      ],
      "text/plain": [
       "Matrix([\n",
       "[cos(theta/2), -sin(theta/2)],\n",
       "[sin(theta/2),  cos(theta/2)]])"
      ]
     },
     "metadata": {},
     "output_type": "display_data"
    },
    {
     "data": {
      "text/latex": [
       "$\\displaystyle \\left[\\begin{matrix}- i \\sin{\\left(\\frac{\\theta}{2} \\right)} + \\cos{\\left(\\frac{\\theta}{2} \\right)} & 0\\\\0 & i \\sin{\\left(\\frac{\\theta}{2} \\right)} + \\cos{\\left(\\frac{\\theta}{2} \\right)}\\end{matrix}\\right]$"
      ],
      "text/plain": [
       "Matrix([\n",
       "[-I*sin(theta/2) + cos(theta/2),                             0],\n",
       "[                             0, I*sin(theta/2) + cos(theta/2)]])"
      ]
     },
     "metadata": {},
     "output_type": "display_data"
    }
   ],
   "source": [
    "Rx = lambda theta: cos(theta / 2) * I - i * sin(theta / 2) * X\n",
    "Ry = lambda theta: cos(theta / 2) * I - i * sin(theta / 2) * Y\n",
    "Rz = lambda theta: cos(theta / 2) * I - i * sin(theta / 2) * Z\n",
    "\n",
    "display(Rx(theta), Ry(theta), Rz(theta))"
   ]
  },
  {
   "cell_type": "markdown",
   "metadata": {},
   "source": [
    "### Ladder operators\n",
    "\n",
    "$$\n",
    "\\begin{aligned}\n",
    "a &= \\frac{X + iY}{2}\n",
    "\\\\\n",
    "a^\\dagger &= \\frac{X - iY}{2}\n",
    "\\end{aligned}\n",
    "$$"
   ]
  },
  {
   "cell_type": "code",
   "execution_count": 4,
   "metadata": {},
   "outputs": [
    {
     "data": {
      "text/latex": [
       "$\\displaystyle \\left[\\begin{matrix}0 & 1\\\\0 & 0\\end{matrix}\\right]$"
      ],
      "text/plain": [
       "Matrix([\n",
       "[0, 1],\n",
       "[0, 0]])"
      ]
     },
     "metadata": {},
     "output_type": "display_data"
    },
    {
     "data": {
      "text/latex": [
       "$\\displaystyle \\left[\\begin{matrix}0 & 0\\\\1 & 0\\end{matrix}\\right]$"
      ],
      "text/plain": [
       "Matrix([\n",
       "[0, 0],\n",
       "[1, 0]])"
      ]
     },
     "metadata": {},
     "output_type": "display_data"
    }
   ],
   "source": [
    "a = (X + i * Y) / 2\n",
    "ad = (X - i * Y) / 2\n",
    "\n",
    "display(a, ad)"
   ]
  },
  {
   "cell_type": "markdown",
   "metadata": {},
   "source": [
    "### Time evolution operator\n",
    "\n",
    "$$\n",
    "U(t) = e^{-iHt}\n",
    "$$"
   ]
  },
  {
   "cell_type": "code",
   "execution_count": 5,
   "metadata": {},
   "outputs": [],
   "source": [
    "U = lambda H: simplify(exp(-i * H * t))"
   ]
  },
  {
   "cell_type": "markdown",
   "metadata": {},
   "source": [
    "### Commutator\n",
    "\n",
    "$$\n",
    "[A, B] = AB - BA\n",
    "$$"
   ]
  },
  {
   "cell_type": "code",
   "execution_count": 6,
   "metadata": {},
   "outputs": [],
   "source": [
    "def comm(A, B):\n",
    "    return A * B - B * A"
   ]
  },
  {
   "cell_type": "markdown",
   "metadata": {},
   "source": [
    "## Fidelity\n",
    "\n",
    "### State fidelity\n",
    "$$\n",
    "F_\\mathrm{state} = \\left| \\langle \\psi_\\mathrm{target} | \\psi_\\mathrm{actual} \\rangle \\right|^2\n",
    "$$\n",
    "\n",
    "### Gate fidelity\n",
    "$$\n",
    "F_\\mathrm{gate} = \\frac{1}{ N^2 } \\left| \\mathrm{Tr}(U_\\mathrm{target}^\\dagger U_\\mathrm{actual}) \\right|^2\n",
    "$$\n",
    "\n",
    "$$\n",
    "N = \\mathrm{Tr}(I)\n",
    "$$\n"
   ]
  },
  {
   "cell_type": "code",
   "execution_count": 7,
   "metadata": {},
   "outputs": [],
   "source": [
    "def fidelity(U, V):\n",
    "    fidelity = (\n",
    "        abs((dag(U) * V).trace() ** 2) / (dag(U) * U).trace() / (dag(V) * V).trace()\n",
    "    )\n",
    "    return simplify(fidelity)"
   ]
  },
  {
   "cell_type": "markdown",
   "metadata": {},
   "source": [
    "## Examples"
   ]
  },
  {
   "cell_type": "code",
   "execution_count": 8,
   "metadata": {},
   "outputs": [],
   "source": [
    "assert comm(X, Y).equals(2 * i * Z)\n",
    "assert comm(Y, Z).equals(2 * i * X)\n",
    "assert comm(Z, X).equals(2 * i * Y)"
   ]
  },
  {
   "cell_type": "code",
   "execution_count": 9,
   "metadata": {},
   "outputs": [],
   "source": [
    "assert (X * Y).equals(i * Z)\n",
    "assert (Y * Z).equals(i * X)\n",
    "assert (Z * X).equals(i * Y)"
   ]
  },
  {
   "cell_type": "code",
   "execution_count": 10,
   "metadata": {},
   "outputs": [],
   "source": [
    "assert X.equals(ad + a)\n",
    "assert Y.equals(i * (ad - a))\n",
    "assert Z.equals(I - 2 * ad * a)"
   ]
  },
  {
   "cell_type": "code",
   "execution_count": 11,
   "metadata": {},
   "outputs": [
    {
     "data": {
      "text/latex": [
       "$\\displaystyle \\left[\\begin{matrix}1 & 0\\\\0 & 0\\end{matrix}\\right]$"
      ],
      "text/plain": [
       "Matrix([\n",
       "[1, 0],\n",
       "[0, 0]])"
      ]
     },
     "execution_count": 11,
     "metadata": {},
     "output_type": "execute_result"
    }
   ],
   "source": [
    "a * ad"
   ]
  },
  {
   "cell_type": "code",
   "execution_count": 12,
   "metadata": {},
   "outputs": [
    {
     "data": {
      "text/latex": [
       "$\\displaystyle \\left[\\begin{matrix}0 & 0\\\\0 & 1\\end{matrix}\\right]$"
      ],
      "text/plain": [
       "Matrix([\n",
       "[0, 0],\n",
       "[0, 1]])"
      ]
     },
     "execution_count": 12,
     "metadata": {},
     "output_type": "execute_result"
    }
   ],
   "source": [
    "ad * a"
   ]
  },
  {
   "cell_type": "code",
   "execution_count": 13,
   "metadata": {},
   "outputs": [
    {
     "data": {
      "text/latex": [
       "$\\displaystyle \\left[\\begin{matrix}1 & 0\\\\0 & 1\\end{matrix}\\right]$"
      ],
      "text/plain": [
       "Matrix([\n",
       "[1, 0],\n",
       "[0, 1]])"
      ]
     },
     "execution_count": 13,
     "metadata": {},
     "output_type": "execute_result"
    }
   ],
   "source": [
    "Ry(0)"
   ]
  },
  {
   "cell_type": "code",
   "execution_count": 14,
   "metadata": {},
   "outputs": [
    {
     "data": {
      "text/latex": [
       "$\\displaystyle \\left[\\begin{matrix}\\frac{\\sqrt{2}}{2} & - \\frac{\\sqrt{2}}{2}\\\\\\frac{\\sqrt{2}}{2} & \\frac{\\sqrt{2}}{2}\\end{matrix}\\right]$"
      ],
      "text/plain": [
       "Matrix([\n",
       "[sqrt(2)/2, -sqrt(2)/2],\n",
       "[sqrt(2)/2,  sqrt(2)/2]])"
      ]
     },
     "execution_count": 14,
     "metadata": {},
     "output_type": "execute_result"
    }
   ],
   "source": [
    "Ry(pi / 2)"
   ]
  },
  {
   "cell_type": "code",
   "execution_count": 15,
   "metadata": {},
   "outputs": [
    {
     "data": {
      "text/latex": [
       "$\\displaystyle \\left[\\begin{matrix}0 & -1\\\\1 & 0\\end{matrix}\\right]$"
      ],
      "text/plain": [
       "Matrix([\n",
       "[0, -1],\n",
       "[1,  0]])"
      ]
     },
     "execution_count": 15,
     "metadata": {},
     "output_type": "execute_result"
    }
   ],
   "source": [
    "Ry(pi)"
   ]
  },
  {
   "cell_type": "code",
   "execution_count": 16,
   "metadata": {},
   "outputs": [
    {
     "data": {
      "text/latex": [
       "$\\displaystyle 1$"
      ],
      "text/plain": [
       "1"
      ]
     },
     "execution_count": 16,
     "metadata": {},
     "output_type": "execute_result"
    }
   ],
   "source": [
    "fidelity(Y, Ry(pi))"
   ]
  },
  {
   "cell_type": "code",
   "execution_count": 17,
   "metadata": {},
   "outputs": [
    {
     "data": {
      "text/plain": [
       "False"
      ]
     },
     "execution_count": 17,
     "metadata": {},
     "output_type": "execute_result"
    }
   ],
   "source": [
    "Ry(pi).equals(Y)"
   ]
  },
  {
   "cell_type": "code",
   "execution_count": 18,
   "metadata": {},
   "outputs": [
    {
     "data": {
      "text/latex": [
       "$\\displaystyle 1$"
      ],
      "text/plain": [
       "1"
      ]
     },
     "execution_count": 18,
     "metadata": {},
     "output_type": "execute_result"
    }
   ],
   "source": [
    "fidelity(sqrt(Y), Ry(pi / 2))"
   ]
  },
  {
   "cell_type": "code",
   "execution_count": 19,
   "metadata": {},
   "outputs": [
    {
     "data": {
      "text/latex": [
       "$\\displaystyle \\left[\\begin{matrix}\\frac{\\sqrt{2}}{2} & - \\frac{\\sqrt{2}}{2}\\\\\\frac{\\sqrt{2}}{2} & \\frac{\\sqrt{2}}{2}\\end{matrix}\\right]$"
      ],
      "text/plain": [
       "Matrix([\n",
       "[sqrt(2)/2, -sqrt(2)/2],\n",
       "[sqrt(2)/2,  sqrt(2)/2]])"
      ]
     },
     "metadata": {},
     "output_type": "display_data"
    },
    {
     "data": {
      "text/latex": [
       "$\\displaystyle \\left[\\begin{matrix}\\frac{\\sqrt{2}}{2} & \\frac{\\sqrt{2}}{2}\\\\- \\frac{\\sqrt{2}}{2} & \\frac{\\sqrt{2}}{2}\\end{matrix}\\right]$"
      ],
      "text/plain": [
       "Matrix([\n",
       "[ sqrt(2)/2, sqrt(2)/2],\n",
       "[-sqrt(2)/2, sqrt(2)/2]])"
      ]
     },
     "metadata": {},
     "output_type": "display_data"
    }
   ],
   "source": [
    "Ry_hpi_p = Ry(+pi / 2)\n",
    "Ry_hpi_m = Ry(-pi / 2)\n",
    "\n",
    "display(Ry_hpi_p, Ry_hpi_m)"
   ]
  },
  {
   "cell_type": "code",
   "execution_count": 20,
   "metadata": {},
   "outputs": [
    {
     "data": {
      "text/plain": [
       "True"
      ]
     },
     "execution_count": 20,
     "metadata": {},
     "output_type": "execute_result"
    }
   ],
   "source": [
    "(Ry_hpi_p * Ry_hpi_m).equals(I)"
   ]
  },
  {
   "cell_type": "code",
   "execution_count": 21,
   "metadata": {},
   "outputs": [
    {
     "data": {
      "text/latex": [
       "$\\displaystyle \\left[\\begin{matrix}\\cos{\\left(\\Omega t \\right)} & - i \\sin{\\left(\\Omega t \\right)}\\\\- i \\sin{\\left(\\Omega t \\right)} & \\cos{\\left(\\Omega t \\right)}\\end{matrix}\\right]$"
      ],
      "text/plain": [
       "Matrix([\n",
       "[   cos(Omega*t), -I*sin(Omega*t)],\n",
       "[-I*sin(Omega*t),    cos(Omega*t)]])"
      ]
     },
     "execution_count": 21,
     "metadata": {},
     "output_type": "execute_result"
    }
   ],
   "source": [
    "U(Omega * X)"
   ]
  },
  {
   "cell_type": "code",
   "execution_count": 22,
   "metadata": {},
   "outputs": [
    {
     "data": {
      "text/latex": [
       "$\\displaystyle \\left[\\begin{matrix}\\cos{\\left(\\Omega t \\right)} & - \\sin{\\left(\\Omega t \\right)}\\\\\\sin{\\left(\\Omega t \\right)} & \\cos{\\left(\\Omega t \\right)}\\end{matrix}\\right]$"
      ],
      "text/plain": [
       "Matrix([\n",
       "[cos(Omega*t), -sin(Omega*t)],\n",
       "[sin(Omega*t),  cos(Omega*t)]])"
      ]
     },
     "execution_count": 22,
     "metadata": {},
     "output_type": "execute_result"
    }
   ],
   "source": [
    "U(Omega * Y)"
   ]
  },
  {
   "cell_type": "code",
   "execution_count": 23,
   "metadata": {},
   "outputs": [
    {
     "data": {
      "text/latex": [
       "$\\displaystyle \\left[\\begin{matrix}e^{- i \\Omega t} & 0\\\\0 & e^{i \\Omega t}\\end{matrix}\\right]$"
      ],
      "text/plain": [
       "Matrix([\n",
       "[exp(-I*Omega*t),              0],\n",
       "[              0, exp(I*Omega*t)]])"
      ]
     },
     "execution_count": 23,
     "metadata": {},
     "output_type": "execute_result"
    }
   ],
   "source": [
    "U(Omega * Z)"
   ]
  },
  {
   "cell_type": "code",
   "execution_count": 24,
   "metadata": {},
   "outputs": [
    {
     "data": {
      "text/latex": [
       "$\\displaystyle \\left[\\begin{matrix}\\cos{\\left(2 t \\right)} & - i \\sin{\\left(2 t \\right)}\\\\- i \\sin{\\left(2 t \\right)} & \\cos{\\left(2 t \\right)}\\end{matrix}\\right]$"
      ],
      "text/plain": [
       "Matrix([\n",
       "[   cos(2*t), -I*sin(2*t)],\n",
       "[-I*sin(2*t),    cos(2*t)]])"
      ]
     },
     "execution_count": 24,
     "metadata": {},
     "output_type": "execute_result"
    }
   ],
   "source": [
    "U(X + X)"
   ]
  },
  {
   "cell_type": "code",
   "execution_count": 25,
   "metadata": {},
   "outputs": [
    {
     "data": {
      "text/latex": [
       "$\\displaystyle \\left[\\begin{matrix}- \\sin^{2}{\\left(t \\right)} + \\cos^{2}{\\left(t \\right)} & - 2 i \\sin{\\left(t \\right)} \\cos{\\left(t \\right)}\\\\- 2 i \\sin{\\left(t \\right)} \\cos{\\left(t \\right)} & - \\sin^{2}{\\left(t \\right)} + \\cos^{2}{\\left(t \\right)}\\end{matrix}\\right]$"
      ],
      "text/plain": [
       "Matrix([\n",
       "[-sin(t)**2 + cos(t)**2,     -2*I*sin(t)*cos(t)],\n",
       "[    -2*I*sin(t)*cos(t), -sin(t)**2 + cos(t)**2]])"
      ]
     },
     "execution_count": 25,
     "metadata": {},
     "output_type": "execute_result"
    }
   ],
   "source": [
    "U(X) * U(X)"
   ]
  },
  {
   "cell_type": "code",
   "execution_count": 26,
   "metadata": {},
   "outputs": [
    {
     "data": {
      "text/plain": [
       "True"
      ]
     },
     "execution_count": 26,
     "metadata": {},
     "output_type": "execute_result"
    }
   ],
   "source": [
    "U(X + X).equals(U(X) * U(X))"
   ]
  },
  {
   "cell_type": "code",
   "execution_count": 27,
   "metadata": {},
   "outputs": [
    {
     "data": {
      "text/latex": [
       "$\\displaystyle \\left[\\begin{matrix}\\cos{\\left(\\sqrt{2} t \\right)} & - \\frac{\\sqrt{2} i \\left(1 - i\\right) \\sin{\\left(\\sqrt{2} t \\right)}}{2}\\\\\\frac{\\sqrt{2} \\cdot \\left(1 - i\\right) \\sin{\\left(\\sqrt{2} t \\right)}}{2} & \\cos{\\left(\\sqrt{2} t \\right)}\\end{matrix}\\right]$"
      ],
      "text/plain": [
       "Matrix([\n",
       "[                  cos(sqrt(2)*t), -sqrt(2)*I*(1 - I)*sin(sqrt(2)*t)/2],\n",
       "[sqrt(2)*(1 - I)*sin(sqrt(2)*t)/2,                      cos(sqrt(2)*t)]])"
      ]
     },
     "execution_count": 27,
     "metadata": {},
     "output_type": "execute_result"
    }
   ],
   "source": [
    "U(X + Y)"
   ]
  },
  {
   "cell_type": "code",
   "execution_count": 28,
   "metadata": {},
   "outputs": [
    {
     "data": {
      "text/latex": [
       "$\\displaystyle \\left[\\begin{matrix}- i \\sin^{2}{\\left(t \\right)} + \\cos^{2}{\\left(t \\right)} & - \\sin{\\left(t \\right)} \\cos{\\left(t \\right)} - i \\sin{\\left(t \\right)} \\cos{\\left(t \\right)}\\\\\\sin{\\left(t \\right)} \\cos{\\left(t \\right)} - i \\sin{\\left(t \\right)} \\cos{\\left(t \\right)} & i \\sin^{2}{\\left(t \\right)} + \\cos^{2}{\\left(t \\right)}\\end{matrix}\\right]$"
      ],
      "text/plain": [
       "Matrix([\n",
       "[       -I*sin(t)**2 + cos(t)**2, -sin(t)*cos(t) - I*sin(t)*cos(t)],\n",
       "[sin(t)*cos(t) - I*sin(t)*cos(t),          I*sin(t)**2 + cos(t)**2]])"
      ]
     },
     "execution_count": 28,
     "metadata": {},
     "output_type": "execute_result"
    }
   ],
   "source": [
    "U(X) * U(Y)"
   ]
  },
  {
   "cell_type": "code",
   "execution_count": 29,
   "metadata": {},
   "outputs": [
    {
     "data": {
      "text/plain": [
       "False"
      ]
     },
     "execution_count": 29,
     "metadata": {},
     "output_type": "execute_result"
    }
   ],
   "source": [
    "U(X + Y).equals(U(X) * U(Y))"
   ]
  },
  {
   "cell_type": "code",
   "execution_count": 30,
   "metadata": {},
   "outputs": [
    {
     "data": {
      "text/latex": [
       "$\\displaystyle \\left[\\begin{matrix}0 & 0\\\\0 & 0\\end{matrix}\\right]$"
      ],
      "text/plain": [
       "Matrix([\n",
       "[0, 0],\n",
       "[0, 0]])"
      ]
     },
     "execution_count": 30,
     "metadata": {},
     "output_type": "execute_result"
    }
   ],
   "source": [
    "comm(X, X)"
   ]
  },
  {
   "cell_type": "code",
   "execution_count": 31,
   "metadata": {},
   "outputs": [
    {
     "data": {
      "text/latex": [
       "$\\displaystyle \\left[\\begin{matrix}2 i & 0\\\\0 & - 2 i\\end{matrix}\\right]$"
      ],
      "text/plain": [
       "Matrix([\n",
       "[2*I,    0],\n",
       "[  0, -2*I]])"
      ]
     },
     "execution_count": 31,
     "metadata": {},
     "output_type": "execute_result"
    }
   ],
   "source": [
    "comm(X, Y)"
   ]
  },
  {
   "cell_type": "code",
   "execution_count": 32,
   "metadata": {},
   "outputs": [
    {
     "data": {
      "text/latex": [
       "$\\displaystyle \\left[\\begin{matrix}0 & 0 & 0 & 1\\\\0 & 0 & 1 & 0\\\\0 & 1 & 0 & 0\\\\1 & 0 & 0 & 0\\end{matrix}\\right]$"
      ],
      "text/plain": [
       "Matrix([\n",
       "[0, 0, 0, 1],\n",
       "[0, 0, 1, 0],\n",
       "[0, 1, 0, 0],\n",
       "[1, 0, 0, 0]])"
      ]
     },
     "metadata": {},
     "output_type": "display_data"
    },
    {
     "data": {
      "text/latex": [
       "$\\displaystyle \\left[\\begin{matrix}0 & 0 & 0 & -1\\\\0 & 0 & 1 & 0\\\\0 & 1 & 0 & 0\\\\-1 & 0 & 0 & 0\\end{matrix}\\right]$"
      ],
      "text/plain": [
       "Matrix([\n",
       "[ 0, 0, 0, -1],\n",
       "[ 0, 0, 1,  0],\n",
       "[ 0, 1, 0,  0],\n",
       "[-1, 0, 0,  0]])"
      ]
     },
     "metadata": {},
     "output_type": "display_data"
    },
    {
     "data": {
      "text/latex": [
       "$\\displaystyle \\left[\\begin{matrix}1 & 0 & 0 & 0\\\\0 & -1 & 0 & 0\\\\0 & 0 & -1 & 0\\\\0 & 0 & 0 & 1\\end{matrix}\\right]$"
      ],
      "text/plain": [
       "Matrix([\n",
       "[1,  0,  0, 0],\n",
       "[0, -1,  0, 0],\n",
       "[0,  0, -1, 0],\n",
       "[0,  0,  0, 1]])"
      ]
     },
     "metadata": {},
     "output_type": "display_data"
    }
   ],
   "source": [
    "XX = tensor(X, X)\n",
    "YY = tensor(Y, Y)\n",
    "ZZ = tensor(Z, Z)\n",
    "\n",
    "display(XX, YY, ZZ)"
   ]
  },
  {
   "cell_type": "code",
   "execution_count": 33,
   "metadata": {},
   "outputs": [
    {
     "data": {
      "text/latex": [
       "$\\displaystyle \\left[\\begin{matrix}0 & 0 & 1 & 0\\\\0 & 0 & 0 & 1\\\\1 & 0 & 0 & 0\\\\0 & 1 & 0 & 0\\end{matrix}\\right]$"
      ],
      "text/plain": [
       "Matrix([\n",
       "[0, 0, 1, 0],\n",
       "[0, 0, 0, 1],\n",
       "[1, 0, 0, 0],\n",
       "[0, 1, 0, 0]])"
      ]
     },
     "metadata": {},
     "output_type": "display_data"
    },
    {
     "data": {
      "text/latex": [
       "$\\displaystyle \\left[\\begin{matrix}0 & 0 & - i & 0\\\\0 & 0 & 0 & - i\\\\i & 0 & 0 & 0\\\\0 & i & 0 & 0\\end{matrix}\\right]$"
      ],
      "text/plain": [
       "Matrix([\n",
       "[0, 0, -I,  0],\n",
       "[0, 0,  0, -I],\n",
       "[I, 0,  0,  0],\n",
       "[0, I,  0,  0]])"
      ]
     },
     "metadata": {},
     "output_type": "display_data"
    },
    {
     "data": {
      "text/latex": [
       "$\\displaystyle \\left[\\begin{matrix}1 & 0 & 0 & 0\\\\0 & 1 & 0 & 0\\\\0 & 0 & -1 & 0\\\\0 & 0 & 0 & -1\\end{matrix}\\right]$"
      ],
      "text/plain": [
       "Matrix([\n",
       "[1, 0,  0,  0],\n",
       "[0, 1,  0,  0],\n",
       "[0, 0, -1,  0],\n",
       "[0, 0,  0, -1]])"
      ]
     },
     "metadata": {},
     "output_type": "display_data"
    }
   ],
   "source": [
    "XI = tensor(X, I)\n",
    "YI = tensor(Y, I)\n",
    "ZI = tensor(Z, I)\n",
    "\n",
    "display(XI, YI, ZI)"
   ]
  },
  {
   "cell_type": "code",
   "execution_count": 34,
   "metadata": {},
   "outputs": [
    {
     "data": {
      "text/latex": [
       "$\\displaystyle \\left[\\begin{matrix}0 & 1 & 0 & 0\\\\1 & 0 & 0 & 0\\\\0 & 0 & 0 & 1\\\\0 & 0 & 1 & 0\\end{matrix}\\right]$"
      ],
      "text/plain": [
       "Matrix([\n",
       "[0, 1, 0, 0],\n",
       "[1, 0, 0, 0],\n",
       "[0, 0, 0, 1],\n",
       "[0, 0, 1, 0]])"
      ]
     },
     "metadata": {},
     "output_type": "display_data"
    },
    {
     "data": {
      "text/latex": [
       "$\\displaystyle \\left[\\begin{matrix}0 & - i & 0 & 0\\\\i & 0 & 0 & 0\\\\0 & 0 & 0 & - i\\\\0 & 0 & i & 0\\end{matrix}\\right]$"
      ],
      "text/plain": [
       "Matrix([\n",
       "[0, -I, 0,  0],\n",
       "[I,  0, 0,  0],\n",
       "[0,  0, 0, -I],\n",
       "[0,  0, I,  0]])"
      ]
     },
     "metadata": {},
     "output_type": "display_data"
    },
    {
     "data": {
      "text/latex": [
       "$\\displaystyle \\left[\\begin{matrix}1 & 0 & 0 & 0\\\\0 & -1 & 0 & 0\\\\0 & 0 & 1 & 0\\\\0 & 0 & 0 & -1\\end{matrix}\\right]$"
      ],
      "text/plain": [
       "Matrix([\n",
       "[1,  0, 0,  0],\n",
       "[0, -1, 0,  0],\n",
       "[0,  0, 1,  0],\n",
       "[0,  0, 0, -1]])"
      ]
     },
     "metadata": {},
     "output_type": "display_data"
    }
   ],
   "source": [
    "IX = tensor(I, X)\n",
    "IY = tensor(I, Y)\n",
    "IZ = tensor(I, Z)\n",
    "\n",
    "display(IX, IY, IZ)"
   ]
  },
  {
   "cell_type": "code",
   "execution_count": 35,
   "metadata": {},
   "outputs": [
    {
     "data": {
      "text/latex": [
       "$\\displaystyle \\left[\\begin{matrix}0 & 1 & 0 & 0\\\\1 & 0 & 0 & 0\\\\0 & 0 & 0 & -1\\\\0 & 0 & -1 & 0\\end{matrix}\\right]$"
      ],
      "text/plain": [
       "Matrix([\n",
       "[0, 1,  0,  0],\n",
       "[1, 0,  0,  0],\n",
       "[0, 0,  0, -1],\n",
       "[0, 0, -1,  0]])"
      ]
     },
     "metadata": {},
     "output_type": "display_data"
    }
   ],
   "source": [
    "ZX = tensor(Z, X)\n",
    "\n",
    "display(ZX)"
   ]
  },
  {
   "cell_type": "code",
   "execution_count": 36,
   "metadata": {},
   "outputs": [
    {
     "data": {
      "text/latex": [
       "$\\displaystyle \\left[\\begin{matrix}0 & 0 & 0 & 0\\\\0 & 0 & 2 & 0\\\\0 & 2 & 0 & 0\\\\0 & 0 & 0 & 0\\end{matrix}\\right]$"
      ],
      "text/plain": [
       "Matrix([\n",
       "[0, 0, 0, 0],\n",
       "[0, 0, 2, 0],\n",
       "[0, 2, 0, 0],\n",
       "[0, 0, 0, 0]])"
      ]
     },
     "metadata": {},
     "output_type": "display_data"
    },
    {
     "data": {
      "text/latex": [
       "$\\displaystyle \\left[\\begin{matrix}0 & 0 & 0 & 2\\\\0 & 0 & 0 & 0\\\\0 & 0 & 0 & 0\\\\2 & 0 & 0 & 0\\end{matrix}\\right]$"
      ],
      "text/plain": [
       "Matrix([\n",
       "[0, 0, 0, 2],\n",
       "[0, 0, 0, 0],\n",
       "[0, 0, 0, 0],\n",
       "[2, 0, 0, 0]])"
      ]
     },
     "metadata": {},
     "output_type": "display_data"
    }
   ],
   "source": [
    "display(XX + YY, XX - YY)"
   ]
  },
  {
   "cell_type": "code",
   "execution_count": 37,
   "metadata": {},
   "outputs": [
    {
     "data": {
      "text/latex": [
       "$\\displaystyle \\left[\\begin{matrix}1 & 0 & 0 & 0\\\\0 & -1 & 2 & 0\\\\0 & 2 & -1 & 0\\\\0 & 0 & 0 & 1\\end{matrix}\\right]$"
      ],
      "text/plain": [
       "Matrix([\n",
       "[1,  0,  0, 0],\n",
       "[0, -1,  2, 0],\n",
       "[0,  2, -1, 0],\n",
       "[0,  0,  0, 1]])"
      ]
     },
     "metadata": {},
     "output_type": "display_data"
    }
   ],
   "source": [
    "display(XX + YY + ZZ)"
   ]
  },
  {
   "cell_type": "code",
   "execution_count": 38,
   "metadata": {},
   "outputs": [
    {
     "data": {
      "text/latex": [
       "$\\displaystyle \\left[\\begin{matrix}\\cos{\\left(t \\right)} & 0 & - i \\sin{\\left(t \\right)} & 0\\\\0 & \\cos{\\left(t \\right)} & 0 & - i \\sin{\\left(t \\right)}\\\\- i \\sin{\\left(t \\right)} & 0 & \\cos{\\left(t \\right)} & 0\\\\0 & - i \\sin{\\left(t \\right)} & 0 & \\cos{\\left(t \\right)}\\end{matrix}\\right]$"
      ],
      "text/plain": [
       "Matrix([\n",
       "[   cos(t),         0, -I*sin(t),         0],\n",
       "[        0,    cos(t),         0, -I*sin(t)],\n",
       "[-I*sin(t),         0,    cos(t),         0],\n",
       "[        0, -I*sin(t),         0,    cos(t)]])"
      ]
     },
     "execution_count": 38,
     "metadata": {},
     "output_type": "execute_result"
    }
   ],
   "source": [
    "U(XI)"
   ]
  },
  {
   "cell_type": "code",
   "execution_count": 39,
   "metadata": {},
   "outputs": [
    {
     "data": {
      "text/latex": [
       "$\\displaystyle \\left[\\begin{matrix}\\cos{\\left(t \\right)} & 0 & - \\sin{\\left(t \\right)} & 0\\\\0 & \\cos{\\left(t \\right)} & 0 & - \\sin{\\left(t \\right)}\\\\\\sin{\\left(t \\right)} & 0 & \\cos{\\left(t \\right)} & 0\\\\0 & \\sin{\\left(t \\right)} & 0 & \\cos{\\left(t \\right)}\\end{matrix}\\right]$"
      ],
      "text/plain": [
       "Matrix([\n",
       "[cos(t),      0, -sin(t),       0],\n",
       "[     0, cos(t),       0, -sin(t)],\n",
       "[sin(t),      0,  cos(t),       0],\n",
       "[     0, sin(t),       0,  cos(t)]])"
      ]
     },
     "execution_count": 39,
     "metadata": {},
     "output_type": "execute_result"
    }
   ],
   "source": [
    "U(YI)"
   ]
  },
  {
   "cell_type": "code",
   "execution_count": 40,
   "metadata": {},
   "outputs": [
    {
     "data": {
      "text/latex": [
       "$\\displaystyle \\left[\\begin{matrix}e^{- i t} & 0 & 0 & 0\\\\0 & e^{- i t} & 0 & 0\\\\0 & 0 & e^{i t} & 0\\\\0 & 0 & 0 & e^{i t}\\end{matrix}\\right]$"
      ],
      "text/plain": [
       "Matrix([\n",
       "[exp(-I*t),         0,        0,        0],\n",
       "[        0, exp(-I*t),        0,        0],\n",
       "[        0,         0, exp(I*t),        0],\n",
       "[        0,         0,        0, exp(I*t)]])"
      ]
     },
     "execution_count": 40,
     "metadata": {},
     "output_type": "execute_result"
    }
   ],
   "source": [
    "U(ZI)"
   ]
  },
  {
   "cell_type": "code",
   "execution_count": 41,
   "metadata": {},
   "outputs": [
    {
     "data": {
      "text/latex": [
       "$\\displaystyle \\left[\\begin{matrix}\\cos{\\left(t \\right)} & - i \\sin{\\left(t \\right)} & 0 & 0\\\\- i \\sin{\\left(t \\right)} & \\cos{\\left(t \\right)} & 0 & 0\\\\0 & 0 & \\cos{\\left(t \\right)} & - i \\sin{\\left(t \\right)}\\\\0 & 0 & - i \\sin{\\left(t \\right)} & \\cos{\\left(t \\right)}\\end{matrix}\\right]$"
      ],
      "text/plain": [
       "Matrix([\n",
       "[   cos(t), -I*sin(t),         0,         0],\n",
       "[-I*sin(t),    cos(t),         0,         0],\n",
       "[        0,         0,    cos(t), -I*sin(t)],\n",
       "[        0,         0, -I*sin(t),    cos(t)]])"
      ]
     },
     "execution_count": 41,
     "metadata": {},
     "output_type": "execute_result"
    }
   ],
   "source": [
    "U(IX)"
   ]
  },
  {
   "cell_type": "code",
   "execution_count": 42,
   "metadata": {},
   "outputs": [
    {
     "data": {
      "text/latex": [
       "$\\displaystyle \\left[\\begin{matrix}\\cos{\\left(t \\right)} & - \\sin{\\left(t \\right)} & 0 & 0\\\\\\sin{\\left(t \\right)} & \\cos{\\left(t \\right)} & 0 & 0\\\\0 & 0 & \\cos{\\left(t \\right)} & - \\sin{\\left(t \\right)}\\\\0 & 0 & \\sin{\\left(t \\right)} & \\cos{\\left(t \\right)}\\end{matrix}\\right]$"
      ],
      "text/plain": [
       "Matrix([\n",
       "[cos(t), -sin(t),      0,       0],\n",
       "[sin(t),  cos(t),      0,       0],\n",
       "[     0,       0, cos(t), -sin(t)],\n",
       "[     0,       0, sin(t),  cos(t)]])"
      ]
     },
     "execution_count": 42,
     "metadata": {},
     "output_type": "execute_result"
    }
   ],
   "source": [
    "U(IY)"
   ]
  },
  {
   "cell_type": "code",
   "execution_count": 43,
   "metadata": {},
   "outputs": [
    {
     "data": {
      "text/latex": [
       "$\\displaystyle \\left[\\begin{matrix}e^{- i t} & 0 & 0 & 0\\\\0 & e^{i t} & 0 & 0\\\\0 & 0 & e^{- i t} & 0\\\\0 & 0 & 0 & e^{i t}\\end{matrix}\\right]$"
      ],
      "text/plain": [
       "Matrix([\n",
       "[exp(-I*t),        0,         0,        0],\n",
       "[        0, exp(I*t),         0,        0],\n",
       "[        0,        0, exp(-I*t),        0],\n",
       "[        0,        0,         0, exp(I*t)]])"
      ]
     },
     "execution_count": 43,
     "metadata": {},
     "output_type": "execute_result"
    }
   ],
   "source": [
    "U(IZ)"
   ]
  },
  {
   "cell_type": "code",
   "execution_count": 44,
   "metadata": {},
   "outputs": [
    {
     "data": {
      "text/latex": [
       "$\\displaystyle \\left[\\begin{matrix}\\cos{\\left(t \\right)} & 0 & 0 & - i \\sin{\\left(t \\right)}\\\\0 & \\cos{\\left(t \\right)} & - i \\sin{\\left(t \\right)} & 0\\\\0 & - i \\sin{\\left(t \\right)} & \\cos{\\left(t \\right)} & 0\\\\- i \\sin{\\left(t \\right)} & 0 & 0 & \\cos{\\left(t \\right)}\\end{matrix}\\right]$"
      ],
      "text/plain": [
       "Matrix([\n",
       "[   cos(t),         0,         0, -I*sin(t)],\n",
       "[        0,    cos(t), -I*sin(t),         0],\n",
       "[        0, -I*sin(t),    cos(t),         0],\n",
       "[-I*sin(t),         0,         0,    cos(t)]])"
      ]
     },
     "execution_count": 44,
     "metadata": {},
     "output_type": "execute_result"
    }
   ],
   "source": [
    "U(XX)"
   ]
  },
  {
   "cell_type": "code",
   "execution_count": 45,
   "metadata": {},
   "outputs": [
    {
     "data": {
      "text/latex": [
       "$\\displaystyle \\left[\\begin{matrix}\\cos{\\left(t \\right)} & 0 & 0 & i \\sin{\\left(t \\right)}\\\\0 & \\cos{\\left(t \\right)} & - i \\sin{\\left(t \\right)} & 0\\\\0 & - i \\sin{\\left(t \\right)} & \\cos{\\left(t \\right)} & 0\\\\i \\sin{\\left(t \\right)} & 0 & 0 & \\cos{\\left(t \\right)}\\end{matrix}\\right]$"
      ],
      "text/plain": [
       "Matrix([\n",
       "[  cos(t),         0,         0, I*sin(t)],\n",
       "[       0,    cos(t), -I*sin(t),        0],\n",
       "[       0, -I*sin(t),    cos(t),        0],\n",
       "[I*sin(t),         0,         0,   cos(t)]])"
      ]
     },
     "execution_count": 45,
     "metadata": {},
     "output_type": "execute_result"
    }
   ],
   "source": [
    "U(YY)"
   ]
  },
  {
   "cell_type": "code",
   "execution_count": 46,
   "metadata": {},
   "outputs": [
    {
     "data": {
      "text/latex": [
       "$\\displaystyle \\left[\\begin{matrix}e^{- i t} & 0 & 0 & 0\\\\0 & e^{i t} & 0 & 0\\\\0 & 0 & e^{i t} & 0\\\\0 & 0 & 0 & e^{- i t}\\end{matrix}\\right]$"
      ],
      "text/plain": [
       "Matrix([\n",
       "[exp(-I*t),        0,        0,         0],\n",
       "[        0, exp(I*t),        0,         0],\n",
       "[        0,        0, exp(I*t),         0],\n",
       "[        0,        0,        0, exp(-I*t)]])"
      ]
     },
     "execution_count": 46,
     "metadata": {},
     "output_type": "execute_result"
    }
   ],
   "source": [
    "U(ZZ)"
   ]
  },
  {
   "cell_type": "code",
   "execution_count": 47,
   "metadata": {},
   "outputs": [
    {
     "data": {
      "text/latex": [
       "$\\displaystyle \\left[\\begin{matrix}1 & 0 & 0 & 0\\\\0 & \\cos{\\left(2 t \\right)} & - i \\sin{\\left(2 t \\right)} & 0\\\\0 & - i \\sin{\\left(2 t \\right)} & \\cos{\\left(2 t \\right)} & 0\\\\0 & 0 & 0 & 1\\end{matrix}\\right]$"
      ],
      "text/plain": [
       "Matrix([\n",
       "[1,           0,           0, 0],\n",
       "[0,    cos(2*t), -I*sin(2*t), 0],\n",
       "[0, -I*sin(2*t),    cos(2*t), 0],\n",
       "[0,           0,           0, 1]])"
      ]
     },
     "execution_count": 47,
     "metadata": {},
     "output_type": "execute_result"
    }
   ],
   "source": [
    "U(XX + YY)"
   ]
  },
  {
   "cell_type": "code",
   "execution_count": 48,
   "metadata": {},
   "outputs": [
    {
     "data": {
      "text/latex": [
       "$\\displaystyle \\left[\\begin{matrix}\\cos{\\left(2 t \\right)} & 0 & 0 & - i \\sin{\\left(2 t \\right)}\\\\0 & 1 & 0 & 0\\\\0 & 0 & 1 & 0\\\\- i \\sin{\\left(2 t \\right)} & 0 & 0 & \\cos{\\left(2 t \\right)}\\end{matrix}\\right]$"
      ],
      "text/plain": [
       "Matrix([\n",
       "[   cos(2*t), 0, 0, -I*sin(2*t)],\n",
       "[          0, 1, 0,           0],\n",
       "[          0, 0, 1,           0],\n",
       "[-I*sin(2*t), 0, 0,    cos(2*t)]])"
      ]
     },
     "execution_count": 48,
     "metadata": {},
     "output_type": "execute_result"
    }
   ],
   "source": [
    "U(XX - YY)"
   ]
  },
  {
   "cell_type": "code",
   "execution_count": 49,
   "metadata": {},
   "outputs": [],
   "source": [
    "aad = tensor(a, ad)\n",
    "ada = tensor(ad, a)"
   ]
  },
  {
   "cell_type": "code",
   "execution_count": 50,
   "metadata": {},
   "outputs": [
    {
     "data": {
      "text/latex": [
       "$\\displaystyle \\left[\\begin{matrix}1 & 0 & 0 & 0\\\\0 & \\cos{\\left(t \\right)} & - i \\sin{\\left(t \\right)} & 0\\\\0 & - i \\sin{\\left(t \\right)} & \\cos{\\left(t \\right)} & 0\\\\0 & 0 & 0 & 1\\end{matrix}\\right]$"
      ],
      "text/plain": [
       "Matrix([\n",
       "[1,         0,         0, 0],\n",
       "[0,    cos(t), -I*sin(t), 0],\n",
       "[0, -I*sin(t),    cos(t), 0],\n",
       "[0,         0,         0, 1]])"
      ]
     },
     "execution_count": 50,
     "metadata": {},
     "output_type": "execute_result"
    }
   ],
   "source": [
    "U(ada + aad)"
   ]
  },
  {
   "cell_type": "code",
   "execution_count": 51,
   "metadata": {},
   "outputs": [
    {
     "data": {
      "text/plain": [
       "True"
      ]
     },
     "execution_count": 51,
     "metadata": {},
     "output_type": "execute_result"
    }
   ],
   "source": [
    "U(2 * (ada + aad)).equals(U(XX + YY))"
   ]
  },
  {
   "cell_type": "code",
   "execution_count": 52,
   "metadata": {},
   "outputs": [
    {
     "data": {
      "text/latex": [
       "$\\displaystyle \\left[\\begin{matrix}1 & 0 & 0 & 0\\\\0 & \\cos{\\left(t \\right)} & - \\sin{\\left(t \\right)} & 0\\\\0 & \\sin{\\left(t \\right)} & \\cos{\\left(t \\right)} & 0\\\\0 & 0 & 0 & 1\\end{matrix}\\right]$"
      ],
      "text/plain": [
       "Matrix([\n",
       "[1,      0,       0, 0],\n",
       "[0, cos(t), -sin(t), 0],\n",
       "[0, sin(t),  cos(t), 0],\n",
       "[0,      0,       0, 1]])"
      ]
     },
     "execution_count": 52,
     "metadata": {},
     "output_type": "execute_result"
    }
   ],
   "source": [
    "U(i * (ada - aad))"
   ]
  },
  {
   "cell_type": "code",
   "execution_count": 53,
   "metadata": {},
   "outputs": [
    {
     "data": {
      "text/latex": [
       "$\\displaystyle \\left[\\begin{matrix}e^{- i t} & 0 & 0 & 0\\\\0 & \\frac{\\left(e^{4 i t} + 1\\right) e^{- i t}}{2} & \\frac{\\left(1 - e^{4 i t}\\right) e^{- i t}}{2} & 0\\\\0 & \\frac{\\left(1 - e^{4 i t}\\right) e^{- i t}}{2} & \\frac{\\left(e^{4 i t} + 1\\right) e^{- i t}}{2} & 0\\\\0 & 0 & 0 & e^{- i t}\\end{matrix}\\right]$"
      ],
      "text/plain": [
       "Matrix([\n",
       "[exp(-I*t),                            0,                            0,         0],\n",
       "[        0, (exp(4*I*t) + 1)*exp(-I*t)/2, (1 - exp(4*I*t))*exp(-I*t)/2,         0],\n",
       "[        0, (1 - exp(4*I*t))*exp(-I*t)/2, (exp(4*I*t) + 1)*exp(-I*t)/2,         0],\n",
       "[        0,                            0,                            0, exp(-I*t)]])"
      ]
     },
     "execution_count": 53,
     "metadata": {},
     "output_type": "execute_result"
    }
   ],
   "source": [
    "U(XX + YY + ZZ)"
   ]
  },
  {
   "cell_type": "code",
   "execution_count": 54,
   "metadata": {},
   "outputs": [
    {
     "data": {
      "text/latex": [
       "$\\displaystyle \\left[\\begin{matrix}0 & 0 & 0 & 0\\\\0 & 0 & 0 & 0\\\\0 & 0 & 0 & 0\\\\0 & 0 & 0 & 0\\end{matrix}\\right]$"
      ],
      "text/plain": [
       "Matrix([\n",
       "[0, 0, 0, 0],\n",
       "[0, 0, 0, 0],\n",
       "[0, 0, 0, 0],\n",
       "[0, 0, 0, 0]])"
      ]
     },
     "execution_count": 54,
     "metadata": {},
     "output_type": "execute_result"
    }
   ],
   "source": [
    "comm(XX + YY, XX - YY)"
   ]
  },
  {
   "cell_type": "code",
   "execution_count": 55,
   "metadata": {},
   "outputs": [
    {
     "data": {
      "text/latex": [
       "$\\displaystyle \\left[\\begin{matrix}0 & 0 & 0 & 0\\\\0 & 0 & 0 & 0\\\\0 & 0 & 0 & 0\\\\0 & 0 & 0 & 0\\end{matrix}\\right]$"
      ],
      "text/plain": [
       "Matrix([\n",
       "[0, 0, 0, 0],\n",
       "[0, 0, 0, 0],\n",
       "[0, 0, 0, 0],\n",
       "[0, 0, 0, 0]])"
      ]
     },
     "execution_count": 55,
     "metadata": {},
     "output_type": "execute_result"
    }
   ],
   "source": [
    "comm(ZI + IZ, XX + YY)"
   ]
  },
  {
   "cell_type": "code",
   "execution_count": 56,
   "metadata": {},
   "outputs": [
    {
     "data": {
      "text/latex": [
       "$\\displaystyle \\left[\\begin{matrix}0 & 0 & 0 & 0\\\\0 & 0 & 4 & 0\\\\0 & -4 & 0 & 0\\\\0 & 0 & 0 & 0\\end{matrix}\\right]$"
      ],
      "text/plain": [
       "Matrix([\n",
       "[0,  0, 0, 0],\n",
       "[0,  0, 4, 0],\n",
       "[0, -4, 0, 0],\n",
       "[0,  0, 0, 0]])"
      ]
     },
     "execution_count": 56,
     "metadata": {},
     "output_type": "execute_result"
    }
   ],
   "source": [
    "comm(ZI, XX + YY)"
   ]
  },
  {
   "cell_type": "code",
   "execution_count": 57,
   "metadata": {},
   "outputs": [
    {
     "data": {
      "text/latex": [
       "$\\displaystyle \\left[\\begin{matrix}0 & 0 & 0 & 0\\\\0 & 0 & -4 & 0\\\\0 & 4 & 0 & 0\\\\0 & 0 & 0 & 0\\end{matrix}\\right]$"
      ],
      "text/plain": [
       "Matrix([\n",
       "[0, 0,  0, 0],\n",
       "[0, 0, -4, 0],\n",
       "[0, 4,  0, 0],\n",
       "[0, 0,  0, 0]])"
      ]
     },
     "execution_count": 57,
     "metadata": {},
     "output_type": "execute_result"
    }
   ],
   "source": [
    "comm(IZ, XX + YY)"
   ]
  },
  {
   "cell_type": "code",
   "execution_count": 58,
   "metadata": {},
   "outputs": [
    {
     "data": {
      "text/latex": [
       "$\\displaystyle \\left[\\begin{matrix}0 & 0 & 0 & 4\\\\0 & 0 & 0 & 0\\\\0 & 0 & 0 & 0\\\\-4 & 0 & 0 & 0\\end{matrix}\\right]$"
      ],
      "text/plain": [
       "Matrix([\n",
       "[ 0, 0, 0, 4],\n",
       "[ 0, 0, 0, 0],\n",
       "[ 0, 0, 0, 0],\n",
       "[-4, 0, 0, 0]])"
      ]
     },
     "execution_count": 58,
     "metadata": {},
     "output_type": "execute_result"
    }
   ],
   "source": [
    "comm(IZ, XX - YY)"
   ]
  },
  {
   "cell_type": "code",
   "execution_count": 59,
   "metadata": {},
   "outputs": [
    {
     "data": {
      "text/latex": [
       "$\\displaystyle \\left[\\begin{matrix}0 & 0 & 0 & 4\\\\0 & 0 & 0 & 0\\\\0 & 0 & 0 & 0\\\\-4 & 0 & 0 & 0\\end{matrix}\\right]$"
      ],
      "text/plain": [
       "Matrix([\n",
       "[ 0, 0, 0, 4],\n",
       "[ 0, 0, 0, 0],\n",
       "[ 0, 0, 0, 0],\n",
       "[-4, 0, 0, 0]])"
      ]
     },
     "execution_count": 59,
     "metadata": {},
     "output_type": "execute_result"
    }
   ],
   "source": [
    "comm(ZI, XX - YY)"
   ]
  },
  {
   "cell_type": "code",
   "execution_count": 60,
   "metadata": {},
   "outputs": [
    {
     "data": {
      "text/latex": [
       "$\\displaystyle \\left[\\begin{matrix}e^{- 2 i t} & 0 & 0 & 0\\\\0 & 1 & 0 & 0\\\\0 & 0 & 1 & 0\\\\0 & 0 & 0 & e^{2 i t}\\end{matrix}\\right]$"
      ],
      "text/plain": [
       "Matrix([\n",
       "[exp(-2*I*t), 0, 0,          0],\n",
       "[          0, 1, 0,          0],\n",
       "[          0, 0, 1,          0],\n",
       "[          0, 0, 0, exp(2*I*t)]])"
      ]
     },
     "execution_count": 60,
     "metadata": {},
     "output_type": "execute_result"
    }
   ],
   "source": [
    "U(IZ + ZI)"
   ]
  },
  {
   "cell_type": "code",
   "execution_count": 61,
   "metadata": {},
   "outputs": [
    {
     "data": {
      "text/latex": [
       "$\\displaystyle \\left[\\begin{matrix}1 & 0 & 0 & 0\\\\0 & \\cos{\\left(2 t \\right)} & - i \\sin{\\left(2 t \\right)} & 0\\\\0 & - i \\sin{\\left(2 t \\right)} & \\cos{\\left(2 t \\right)} & 0\\\\0 & 0 & 0 & 1\\end{matrix}\\right]$"
      ],
      "text/plain": [
       "Matrix([\n",
       "[1,           0,           0, 0],\n",
       "[0,    cos(2*t), -I*sin(2*t), 0],\n",
       "[0, -I*sin(2*t),    cos(2*t), 0],\n",
       "[0,           0,           0, 1]])"
      ]
     },
     "execution_count": 61,
     "metadata": {},
     "output_type": "execute_result"
    }
   ],
   "source": [
    "U(XX + YY)"
   ]
  },
  {
   "cell_type": "code",
   "execution_count": 62,
   "metadata": {},
   "outputs": [
    {
     "data": {
      "text/latex": [
       "$\\displaystyle \\left[\\begin{matrix}e^{- 2 i t} & 0 & 0 & 0\\\\0 & \\cos{\\left(2 t \\right)} & - i \\sin{\\left(2 t \\right)} & 0\\\\0 & - i \\sin{\\left(2 t \\right)} & \\cos{\\left(2 t \\right)} & 0\\\\0 & 0 & 0 & e^{2 i t}\\end{matrix}\\right]$"
      ],
      "text/plain": [
       "Matrix([\n",
       "[exp(-2*I*t),           0,           0,          0],\n",
       "[          0,    cos(2*t), -I*sin(2*t),          0],\n",
       "[          0, -I*sin(2*t),    cos(2*t),          0],\n",
       "[          0,           0,           0, exp(2*I*t)]])"
      ]
     },
     "execution_count": 62,
     "metadata": {},
     "output_type": "execute_result"
    }
   ],
   "source": [
    "U(IZ + ZI + XX + YY)"
   ]
  },
  {
   "cell_type": "code",
   "execution_count": 63,
   "metadata": {},
   "outputs": [
    {
     "data": {
      "text/latex": [
       "$\\displaystyle \\left[\\begin{matrix}\\frac{\\left(- \\sqrt{2} e^{4 \\sqrt{2} i t} + 2 e^{4 \\sqrt{2} i t} + \\sqrt{2} + 2\\right) e^{- 2 \\sqrt{2} i t}}{4} & 0 & 0 & - \\frac{\\sqrt{2} i \\sin{\\left(2 \\sqrt{2} t \\right)}}{2}\\\\0 & 1 & 0 & 0\\\\0 & 0 & 1 & 0\\\\\\frac{\\left(- \\sqrt{2} \\cdot \\left(1 + \\sqrt{2}\\right) e^{4 \\sqrt{2} i t} + \\sqrt{2} + 2\\right) e^{- 2 \\sqrt{2} i t}}{4 \\cdot \\left(1 + \\sqrt{2}\\right)} & 0 & 0 & \\frac{\\left(\\sqrt{2} e^{4 \\sqrt{2} i t} - 4 + 3 \\sqrt{2}\\right) e^{- 2 \\sqrt{2} i t}}{4 \\left(-1 + \\sqrt{2}\\right)}\\end{matrix}\\right]$"
      ],
      "text/plain": [
       "Matrix([\n",
       "[       (-sqrt(2)*exp(4*sqrt(2)*I*t) + 2*exp(4*sqrt(2)*I*t) + sqrt(2) + 2)*exp(-2*sqrt(2)*I*t)/4, 0, 0,                                                       -sqrt(2)*I*sin(2*sqrt(2)*t)/2],\n",
       "[                                                                                              0, 1, 0,                                                                                   0],\n",
       "[                                                                                              0, 0, 1,                                                                                   0],\n",
       "[(-sqrt(2)*(1 + sqrt(2))*exp(4*sqrt(2)*I*t) + sqrt(2) + 2)*exp(-2*sqrt(2)*I*t)/(4*(1 + sqrt(2))), 0, 0, (sqrt(2)*exp(4*sqrt(2)*I*t) - 4 + 3*sqrt(2))*exp(-2*sqrt(2)*I*t)/(4*(-1 + sqrt(2)))]])"
      ]
     },
     "execution_count": 63,
     "metadata": {},
     "output_type": "execute_result"
    }
   ],
   "source": [
    "U(IZ + ZI + XX - YY)"
   ]
  },
  {
   "cell_type": "code",
   "execution_count": 64,
   "metadata": {},
   "outputs": [],
   "source": [
    "from sympy.abc import mu, J"
   ]
  },
  {
   "cell_type": "code",
   "execution_count": 65,
   "metadata": {},
   "outputs": [
    {
     "data": {
      "text/latex": [
       "$\\displaystyle \\left[\\begin{matrix}\\frac{\\left(\\sqrt{- \\mu^{2} - 1} e^{4 t \\sqrt{- \\mu^{2} - 1}} + \\sqrt{- \\mu^{2} - 1} - i e^{4 t \\sqrt{- \\mu^{2} - 1}} + i\\right) e^{- 2 t \\sqrt{- \\mu^{2} - 1}}}{2 \\sqrt{- \\mu^{2} - 1}} & 0 & 0 & \\frac{\\mu \\left(i \\sqrt{- \\mu^{2} - 1} e^{4 t \\sqrt{- \\mu^{2} - 1}} - i \\sqrt{- \\mu^{2} - 1} + e^{4 t \\sqrt{- \\mu^{2} - 1}} - 1\\right) e^{- 2 t \\sqrt{- \\mu^{2} - 1}}}{2 \\left(\\mu^{2} + i \\sqrt{- \\mu^{2} - 1} + 1\\right)}\\\\0 & \\cos{\\left(2 \\mu t \\right)} & - i \\sin{\\left(2 \\mu t \\right)} & 0\\\\0 & - i \\sin{\\left(2 \\mu t \\right)} & \\cos{\\left(2 \\mu t \\right)} & 0\\\\- \\frac{i \\mu \\sinh{\\left(2 t \\sqrt{- \\mu^{2} - 1} \\right)}}{\\sqrt{- \\mu^{2} - 1}} & 0 & 0 & \\frac{\\left(\\mu^{2} e^{4 t \\sqrt{- \\mu^{2} - 1}} + \\mu^{2} + 2 i \\sqrt{- \\mu^{2} - 1} + 2\\right) e^{- 2 t \\sqrt{- \\mu^{2} - 1}}}{2 \\left(\\mu^{2} + i \\sqrt{- \\mu^{2} - 1} + 1\\right)}\\end{matrix}\\right]$"
      ],
      "text/plain": [
       "Matrix([\n",
       "[(sqrt(-mu**2 - 1)*exp(4*t*sqrt(-mu**2 - 1)) + sqrt(-mu**2 - 1) - I*exp(4*t*sqrt(-mu**2 - 1)) + I)*exp(-2*t*sqrt(-mu**2 - 1))/(2*sqrt(-mu**2 - 1)),              0,              0, mu*(I*sqrt(-mu**2 - 1)*exp(4*t*sqrt(-mu**2 - 1)) - I*sqrt(-mu**2 - 1) + exp(4*t*sqrt(-mu**2 - 1)) - 1)*exp(-2*t*sqrt(-mu**2 - 1))/(2*(mu**2 + I*sqrt(-mu**2 - 1) + 1))],\n",
       "[                                                                                                                                                0,    cos(2*mu*t), -I*sin(2*mu*t),                                                                                                                                                                      0],\n",
       "[                                                                                                                                                0, -I*sin(2*mu*t),    cos(2*mu*t),                                                                                                                                                                      0],\n",
       "[                                                                                                -I*mu*sinh(2*t*sqrt(-mu**2 - 1))/sqrt(-mu**2 - 1),              0,              0,                                   (mu**2*exp(4*t*sqrt(-mu**2 - 1)) + mu**2 + 2*I*sqrt(-mu**2 - 1) + 2)*exp(-2*t*sqrt(-mu**2 - 1))/(2*(mu**2 + I*sqrt(-mu**2 - 1) + 1))]])"
      ]
     },
     "execution_count": 65,
     "metadata": {},
     "output_type": "execute_result"
    }
   ],
   "source": [
    "U(IZ + ZI + mu * (XX + YY + XX - YY))"
   ]
  },
  {
   "cell_type": "code",
   "execution_count": 66,
   "metadata": {},
   "outputs": [
    {
     "data": {
      "text/latex": [
       "$\\displaystyle \\left[\\begin{matrix}\\cos{\\left(2 \\mu t \\right)} & 0 & 0 & - i \\sin{\\left(2 \\mu t \\right)}\\\\0 & \\frac{\\left(\\sqrt{- \\mu^{2} - 1} e^{4 t \\sqrt{- \\mu^{2} - 1}} + \\sqrt{- \\mu^{2} - 1} + i e^{4 t \\sqrt{- \\mu^{2} - 1}} - i\\right) e^{- 2 t \\sqrt{- \\mu^{2} - 1}}}{2 \\sqrt{- \\mu^{2} - 1}} & \\frac{\\mu \\left(i \\sqrt{- \\mu^{2} - 1} e^{4 t \\sqrt{- \\mu^{2} - 1}} - i \\sqrt{- \\mu^{2} - 1} - e^{4 t \\sqrt{- \\mu^{2} - 1}} + 1\\right) e^{- 2 t \\sqrt{- \\mu^{2} - 1}}}{2 \\left(\\mu^{2} - i \\sqrt{- \\mu^{2} - 1} + 1\\right)} & 0\\\\0 & - \\frac{i \\mu \\sinh{\\left(2 t \\sqrt{- \\mu^{2} - 1} \\right)}}{\\sqrt{- \\mu^{2} - 1}} & \\frac{\\left(\\mu^{2} e^{4 t \\sqrt{- \\mu^{2} - 1}} + \\mu^{2} - 2 i \\sqrt{- \\mu^{2} - 1} + 2\\right) e^{- 2 t \\sqrt{- \\mu^{2} - 1}}}{2 \\left(\\mu^{2} - i \\sqrt{- \\mu^{2} - 1} + 1\\right)} & 0\\\\- i \\sin{\\left(2 \\mu t \\right)} & 0 & 0 & \\cos{\\left(2 \\mu t \\right)}\\end{matrix}\\right]$"
      ],
      "text/plain": [
       "Matrix([\n",
       "[   cos(2*mu*t),                                                                                                                                                 0,                                                                                                                                                                      0, -I*sin(2*mu*t)],\n",
       "[             0, (sqrt(-mu**2 - 1)*exp(4*t*sqrt(-mu**2 - 1)) + sqrt(-mu**2 - 1) + I*exp(4*t*sqrt(-mu**2 - 1)) - I)*exp(-2*t*sqrt(-mu**2 - 1))/(2*sqrt(-mu**2 - 1)), mu*(I*sqrt(-mu**2 - 1)*exp(4*t*sqrt(-mu**2 - 1)) - I*sqrt(-mu**2 - 1) - exp(4*t*sqrt(-mu**2 - 1)) + 1)*exp(-2*t*sqrt(-mu**2 - 1))/(2*(mu**2 - I*sqrt(-mu**2 - 1) + 1)),              0],\n",
       "[             0,                                                                                                 -I*mu*sinh(2*t*sqrt(-mu**2 - 1))/sqrt(-mu**2 - 1),                                   (mu**2*exp(4*t*sqrt(-mu**2 - 1)) + mu**2 - 2*I*sqrt(-mu**2 - 1) + 2)*exp(-2*t*sqrt(-mu**2 - 1))/(2*(mu**2 - I*sqrt(-mu**2 - 1) + 1)),              0],\n",
       "[-I*sin(2*mu*t),                                                                                                                                                 0,                                                                                                                                                                      0,    cos(2*mu*t)]])"
      ]
     },
     "execution_count": 66,
     "metadata": {},
     "output_type": "execute_result"
    }
   ],
   "source": [
    "U(IZ - ZI + mu * (XX + YY + XX - YY))"
   ]
  },
  {
   "cell_type": "code",
   "execution_count": 67,
   "metadata": {},
   "outputs": [
    {
     "data": {
      "text/latex": [
       "$\\displaystyle \\left[\\begin{matrix}- \\frac{\\Delta}{2} & \\frac{\\Omega \\mu}{2} & \\frac{\\Omega}{2} & 0\\\\\\frac{\\Omega \\mu}{2} & \\frac{\\Delta}{2} & 0 & \\frac{\\Omega}{2}\\\\\\frac{\\Omega}{2} & 0 & - \\frac{\\Delta}{2} & - \\frac{\\Omega \\mu}{2}\\\\0 & \\frac{\\Omega}{2} & - \\frac{\\Omega \\mu}{2} & \\frac{\\Delta}{2}\\end{matrix}\\right]$"
      ],
      "text/plain": [
       "Matrix([\n",
       "[  -Delta/2, Omega*mu/2,     Omega/2,           0],\n",
       "[Omega*mu/2,    Delta/2,           0,     Omega/2],\n",
       "[   Omega/2,          0,    -Delta/2, -Omega*mu/2],\n",
       "[         0,    Omega/2, -Omega*mu/2,     Delta/2]])"
      ]
     },
     "execution_count": 67,
     "metadata": {},
     "output_type": "execute_result"
    }
   ],
   "source": [
    "H_D = Omega / 2 * (XI + mu * ZX) - Delta * IZ / 2\n",
    "H_D"
   ]
  },
  {
   "cell_type": "code",
   "execution_count": 68,
   "metadata": {},
   "outputs": [
    {
     "data": {
      "text/latex": [
       "$\\displaystyle \\left[\\begin{matrix}\\frac{\\sqrt{2}}{2} & 0 & - \\frac{\\sqrt{2}}{2} & 0\\\\0 & \\frac{\\sqrt{2}}{2} & 0 & - \\frac{\\sqrt{2}}{2}\\\\\\frac{\\sqrt{2}}{2} & 0 & \\frac{\\sqrt{2}}{2} & 0\\\\0 & \\frac{\\sqrt{2}}{2} & 0 & \\frac{\\sqrt{2}}{2}\\end{matrix}\\right]$"
      ],
      "text/plain": [
       "Matrix([\n",
       "[sqrt(2)/2,         0, -sqrt(2)/2,          0],\n",
       "[        0, sqrt(2)/2,          0, -sqrt(2)/2],\n",
       "[sqrt(2)/2,         0,  sqrt(2)/2,          0],\n",
       "[        0, sqrt(2)/2,          0,  sqrt(2)/2]])"
      ]
     },
     "metadata": {},
     "output_type": "display_data"
    },
    {
     "data": {
      "text/latex": [
       "$\\displaystyle \\left[\\begin{matrix}\\frac{\\sqrt{2}}{2} & 0 & \\frac{\\sqrt{2}}{2} & 0\\\\0 & \\frac{\\sqrt{2}}{2} & 0 & \\frac{\\sqrt{2}}{2}\\\\- \\frac{\\sqrt{2}}{2} & 0 & \\frac{\\sqrt{2}}{2} & 0\\\\0 & - \\frac{\\sqrt{2}}{2} & 0 & \\frac{\\sqrt{2}}{2}\\end{matrix}\\right]$"
      ],
      "text/plain": [
       "Matrix([\n",
       "[ sqrt(2)/2,          0, sqrt(2)/2,         0],\n",
       "[         0,  sqrt(2)/2,         0, sqrt(2)/2],\n",
       "[-sqrt(2)/2,          0, sqrt(2)/2,         0],\n",
       "[         0, -sqrt(2)/2,         0, sqrt(2)/2]])"
      ]
     },
     "metadata": {},
     "output_type": "display_data"
    }
   ],
   "source": [
    "SYpI = tensor(Ry_hpi_p, I)\n",
    "SYmI = tensor(Ry_hpi_m, I)\n",
    "\n",
    "display(SYpI, SYmI)"
   ]
  },
  {
   "cell_type": "code",
   "execution_count": 69,
   "metadata": {},
   "outputs": [
    {
     "data": {
      "text/latex": [
       "$\\displaystyle \\left[\\begin{matrix}- \\frac{\\Delta}{2} - \\frac{\\Omega}{2} & 0 & 0 & \\frac{\\Omega \\mu}{2}\\\\0 & \\frac{\\Delta}{2} - \\frac{\\Omega}{2} & \\frac{\\Omega \\mu}{2} & 0\\\\0 & \\frac{\\Omega \\mu}{2} & - \\frac{\\Delta}{2} + \\frac{\\Omega}{2} & 0\\\\\\frac{\\Omega \\mu}{2} & 0 & 0 & \\frac{\\Delta}{2} + \\frac{\\Omega}{2}\\end{matrix}\\right]$"
      ],
      "text/plain": [
       "Matrix([\n",
       "[-Delta/2 - Omega/2,                 0,                  0,        Omega*mu/2],\n",
       "[                 0, Delta/2 - Omega/2,         Omega*mu/2,                 0],\n",
       "[                 0,        Omega*mu/2, -Delta/2 + Omega/2,                 0],\n",
       "[        Omega*mu/2,                 0,                  0, Delta/2 + Omega/2]])"
      ]
     },
     "execution_count": 69,
     "metadata": {},
     "output_type": "execute_result"
    }
   ],
   "source": [
    "H_D_p = SYpI * H_D * SYmI\n",
    "simplify(H_D_p)"
   ]
  },
  {
   "cell_type": "code",
   "execution_count": 70,
   "metadata": {},
   "outputs": [
    {
     "data": {
      "text/latex": [
       "$\\displaystyle \\left[\\begin{matrix}- \\frac{\\Delta}{2} + \\frac{\\Omega}{2} & 0 & 0 & - \\frac{\\Omega \\mu}{2}\\\\0 & \\frac{\\Delta}{2} + \\frac{\\Omega}{2} & - \\frac{\\Omega \\mu}{2} & 0\\\\0 & - \\frac{\\Omega \\mu}{2} & - \\frac{\\Delta}{2} - \\frac{\\Omega}{2} & 0\\\\- \\frac{\\Omega \\mu}{2} & 0 & 0 & \\frac{\\Delta}{2} - \\frac{\\Omega}{2}\\end{matrix}\\right]$"
      ],
      "text/plain": [
       "Matrix([\n",
       "[-Delta/2 + Omega/2,                 0,                  0,       -Omega*mu/2],\n",
       "[                 0, Delta/2 + Omega/2,        -Omega*mu/2,                 0],\n",
       "[                 0,       -Omega*mu/2, -Delta/2 - Omega/2,                 0],\n",
       "[       -Omega*mu/2,                 0,                  0, Delta/2 - Omega/2]])"
      ]
     },
     "execution_count": 70,
     "metadata": {},
     "output_type": "execute_result"
    }
   ],
   "source": [
    "H_D_m = SYmI * H_D * SYpI\n",
    "simplify(H_D_m)"
   ]
  },
  {
   "cell_type": "code",
   "execution_count": 71,
   "metadata": {},
   "outputs": [
    {
     "data": {
      "text/latex": [
       "$\\displaystyle \\left[\\begin{matrix}\\frac{\\left(2 i \\Omega e^{t \\sqrt{- J^{2} - 4 \\Omega^{2}}} - 2 i \\Omega + \\sqrt{- J^{2} - 4 \\Omega^{2}} e^{t \\sqrt{- J^{2} - 4 \\Omega^{2}}} + \\sqrt{- J^{2} - 4 \\Omega^{2}}\\right) e^{- \\frac{t \\sqrt{- J^{2} - 4 \\Omega^{2}}}{2}}}{2 \\sqrt{- J^{2} - 4 \\Omega^{2}}} & 0 & 0 & \\frac{J \\left(- 2 \\Omega e^{t \\sqrt{- J^{2} - 4 \\Omega^{2}}} + 2 \\Omega + i \\sqrt{- J^{2} - 4 \\Omega^{2}} e^{t \\sqrt{- J^{2} - 4 \\Omega^{2}}} - i \\sqrt{- J^{2} - 4 \\Omega^{2}}\\right) e^{- \\frac{t \\sqrt{- J^{2} - 4 \\Omega^{2}}}{2}}}{2 \\left(J^{2} + 4 \\Omega^{2} - 2 i \\Omega \\sqrt{- J^{2} - 4 \\Omega^{2}}\\right)}\\\\0 & \\cos{\\left(\\frac{J t}{2} \\right)} & - i \\sin{\\left(\\frac{J t}{2} \\right)} & 0\\\\0 & - i \\sin{\\left(\\frac{J t}{2} \\right)} & \\cos{\\left(\\frac{J t}{2} \\right)} & 0\\\\- \\frac{i J \\sinh{\\left(\\frac{t \\sqrt{- J^{2} - 4 \\Omega^{2}}}{2} \\right)}}{\\sqrt{- J^{2} - 4 \\Omega^{2}}} & 0 & 0 & \\frac{\\left(J^{2} e^{t \\sqrt{- J^{2} - 4 \\Omega^{2}}} + J^{2} + 8 \\Omega^{2} - 4 i \\Omega \\sqrt{- J^{2} - 4 \\Omega^{2}}\\right) e^{- \\frac{t \\sqrt{- J^{2} - 4 \\Omega^{2}}}{2}}}{2 \\left(J^{2} + 4 \\Omega^{2} - 2 i \\Omega \\sqrt{- J^{2} - 4 \\Omega^{2}}\\right)}\\end{matrix}\\right]$"
      ],
      "text/plain": [
       "Matrix([\n",
       "[(2*I*Omega*exp(t*sqrt(-J**2 - 4*Omega**2)) - 2*I*Omega + sqrt(-J**2 - 4*Omega**2)*exp(t*sqrt(-J**2 - 4*Omega**2)) + sqrt(-J**2 - 4*Omega**2))*exp(-t*sqrt(-J**2 - 4*Omega**2)/2)/(2*sqrt(-J**2 - 4*Omega**2)),             0,             0, J*(-2*Omega*exp(t*sqrt(-J**2 - 4*Omega**2)) + 2*Omega + I*sqrt(-J**2 - 4*Omega**2)*exp(t*sqrt(-J**2 - 4*Omega**2)) - I*sqrt(-J**2 - 4*Omega**2))*exp(-t*sqrt(-J**2 - 4*Omega**2)/2)/(2*(J**2 + 4*Omega**2 - 2*I*Omega*sqrt(-J**2 - 4*Omega**2)))],\n",
       "[                                                                                                                                                                                                            0,    cos(J*t/2), -I*sin(J*t/2),                                                                                                                                                                                                                                                0],\n",
       "[                                                                                                                                                                                                            0, -I*sin(J*t/2),    cos(J*t/2),                                                                                                                                                                                                                                                0],\n",
       "[                                                                                                                                             -I*J*sinh(t*sqrt(-J**2 - 4*Omega**2)/2)/sqrt(-J**2 - 4*Omega**2),             0,             0,                                                  (J**2*exp(t*sqrt(-J**2 - 4*Omega**2)) + J**2 + 8*Omega**2 - 4*I*Omega*sqrt(-J**2 - 4*Omega**2))*exp(-t*sqrt(-J**2 - 4*Omega**2)/2)/(2*(J**2 + 4*Omega**2 - 2*I*Omega*sqrt(-J**2 - 4*Omega**2)))]])"
      ]
     },
     "execution_count": 71,
     "metadata": {},
     "output_type": "execute_result"
    }
   ],
   "source": [
    "U(\n",
    "    H_D_p.subs(\n",
    "        {\n",
    "            Delta: Omega,\n",
    "            mu: J / Omega,\n",
    "        }\n",
    "    )\n",
    ")"
   ]
  },
  {
   "cell_type": "code",
   "execution_count": 72,
   "metadata": {},
   "outputs": [
    {
     "data": {
      "text/latex": [
       "$\\displaystyle \\left[\\begin{matrix}\\cos{\\left(\\frac{J t}{2} \\right)} & 0 & 0 & i \\sin{\\left(\\frac{J t}{2} \\right)}\\\\0 & \\frac{\\left(- 2 i \\Omega e^{t \\sqrt{- J^{2} - 4 \\Omega^{2}}} + 2 i \\Omega + \\sqrt{- J^{2} - 4 \\Omega^{2}} e^{t \\sqrt{- J^{2} - 4 \\Omega^{2}}} + \\sqrt{- J^{2} - 4 \\Omega^{2}}\\right) e^{- \\frac{t \\sqrt{- J^{2} - 4 \\Omega^{2}}}{2}}}{2 \\sqrt{- J^{2} - 4 \\Omega^{2}}} & \\frac{J \\left(- 2 \\Omega e^{t \\sqrt{- J^{2} - 4 \\Omega^{2}}} + 2 \\Omega - i \\sqrt{- J^{2} - 4 \\Omega^{2}} e^{t \\sqrt{- J^{2} - 4 \\Omega^{2}}} + i \\sqrt{- J^{2} - 4 \\Omega^{2}}\\right) e^{- \\frac{t \\sqrt{- J^{2} - 4 \\Omega^{2}}}{2}}}{2 \\left(J^{2} + 4 \\Omega^{2} + 2 i \\Omega \\sqrt{- J^{2} - 4 \\Omega^{2}}\\right)} & 0\\\\0 & \\frac{i J \\sinh{\\left(\\frac{t \\sqrt{- J^{2} - 4 \\Omega^{2}}}{2} \\right)}}{\\sqrt{- J^{2} - 4 \\Omega^{2}}} & \\frac{\\left(J^{2} e^{t \\sqrt{- J^{2} - 4 \\Omega^{2}}} + J^{2} + 8 \\Omega^{2} + 4 i \\Omega \\sqrt{- J^{2} - 4 \\Omega^{2}}\\right) e^{- \\frac{t \\sqrt{- J^{2} - 4 \\Omega^{2}}}{2}}}{2 \\left(J^{2} + 4 \\Omega^{2} + 2 i \\Omega \\sqrt{- J^{2} - 4 \\Omega^{2}}\\right)} & 0\\\\i \\sin{\\left(\\frac{J t}{2} \\right)} & 0 & 0 & \\cos{\\left(\\frac{J t}{2} \\right)}\\end{matrix}\\right]$"
      ],
      "text/plain": [
       "Matrix([\n",
       "[  cos(J*t/2),                                                                                                                                                                                                              0,                                                                                                                                                                                                                                                0, I*sin(J*t/2)],\n",
       "[           0, (-2*I*Omega*exp(t*sqrt(-J**2 - 4*Omega**2)) + 2*I*Omega + sqrt(-J**2 - 4*Omega**2)*exp(t*sqrt(-J**2 - 4*Omega**2)) + sqrt(-J**2 - 4*Omega**2))*exp(-t*sqrt(-J**2 - 4*Omega**2)/2)/(2*sqrt(-J**2 - 4*Omega**2)), J*(-2*Omega*exp(t*sqrt(-J**2 - 4*Omega**2)) + 2*Omega - I*sqrt(-J**2 - 4*Omega**2)*exp(t*sqrt(-J**2 - 4*Omega**2)) + I*sqrt(-J**2 - 4*Omega**2))*exp(-t*sqrt(-J**2 - 4*Omega**2)/2)/(2*(J**2 + 4*Omega**2 + 2*I*Omega*sqrt(-J**2 - 4*Omega**2))),            0],\n",
       "[           0,                                                                                                                                                I*J*sinh(t*sqrt(-J**2 - 4*Omega**2)/2)/sqrt(-J**2 - 4*Omega**2),                                                  (J**2*exp(t*sqrt(-J**2 - 4*Omega**2)) + J**2 + 8*Omega**2 + 4*I*Omega*sqrt(-J**2 - 4*Omega**2))*exp(-t*sqrt(-J**2 - 4*Omega**2)/2)/(2*(J**2 + 4*Omega**2 + 2*I*Omega*sqrt(-J**2 - 4*Omega**2))),            0],\n",
       "[I*sin(J*t/2),                                                                                                                                                                                                              0,                                                                                                                                                                                                                                                0,   cos(J*t/2)]])"
      ]
     },
     "execution_count": 72,
     "metadata": {},
     "output_type": "execute_result"
    }
   ],
   "source": [
    "U(\n",
    "    H_D_m.subs(\n",
    "        {\n",
    "            Delta: Omega,\n",
    "            mu: J / Omega,\n",
    "        }\n",
    "    )\n",
    ")"
   ]
  }
 ],
 "metadata": {
  "kernelspec": {
   "display_name": "Python 3",
   "language": "python",
   "name": "python3"
  },
  "language_info": {
   "codemirror_mode": {
    "name": "ipython",
    "version": 3
   },
   "file_extension": ".py",
   "mimetype": "text/x-python",
   "name": "python",
   "nbconvert_exporter": "python",
   "pygments_lexer": "ipython3",
   "version": "3.9.16"
  },
  "orig_nbformat": 4
 },
 "nbformat": 4,
 "nbformat_minor": 2
}
