{
 "cells": [
  {
   "cell_type": "markdown",
   "metadata": {},
   "source": [
    "# DRAG Hamiltonian"
   ]
  },
  {
   "cell_type": "code",
   "execution_count": 1,
   "metadata": {},
   "outputs": [],
   "source": [
    "from sympy import Function\n",
    "from sympy import I as i\n",
    "from sympy import Matrix, Symbol, exp, sqrt\n",
    "from sympy.physics.quantum import Dagger as dag\n",
    "\n",
    "delta_1 = Symbol(\"delta_1\", real=True)\n",
    "delta_2 = Symbol(\"delta_2\", real=True)\n",
    "lambda_1 = Symbol(\"lambda_1\", real=True)\n",
    "lambda_2 = Symbol(\"lambda_2\", real=True)\n",
    "Delta = Symbol(\"Delta\", real=True)\n",
    "\n",
    "t = Symbol(\"t\", real=True)\n",
    "E_x_t = Function(\"E_x\", real=True)(t)\n",
    "E_y_t = Function(\"E_y\", real=True)(t)\n",
    "\n",
    "E_x = Symbol(\"E_x\", real=True)\n",
    "E_y = Symbol(\"E_y\", real=True)\n",
    "dE_x = Symbol(\"\\dot{E_x}\", real=True)"
   ]
  },
  {
   "cell_type": "code",
   "execution_count": 2,
   "metadata": {},
   "outputs": [],
   "source": [
    "Pi_1 = Matrix(\n",
    "    [\n",
    "        [0, 0, 0],\n",
    "        [0, 1, 0],\n",
    "        [0, 0, 0],\n",
    "    ]\n",
    ")\n",
    "\n",
    "Pi_2 = Matrix(\n",
    "    [\n",
    "        [0, 0, 0],\n",
    "        [0, 0, 0],\n",
    "        [0, 0, 1],\n",
    "    ]\n",
    ")\n",
    "\n",
    "sigma_x_01 = Matrix(\n",
    "    [\n",
    "        [0, 1, 0],\n",
    "        [1, 0, 0],\n",
    "        [0, 0, 0],\n",
    "    ]\n",
    ")\n",
    "\n",
    "sigma_y_01 = Matrix(\n",
    "    [\n",
    "        [0, -i, 0],\n",
    "        [i, 0, 0],\n",
    "        [0, 0, 0],\n",
    "    ]\n",
    ")\n",
    "\n",
    "sigma_x_12 = Matrix(\n",
    "    [\n",
    "        [0, 0, 0],\n",
    "        [0, 0, 1],\n",
    "        [0, 1, 0],\n",
    "    ]\n",
    ")\n",
    "\n",
    "sigma_y_12 = Matrix(\n",
    "    [\n",
    "        [0, 0, 0],\n",
    "        [0, 0, -i],\n",
    "        [0, i, 0],\n",
    "    ]\n",
    ")"
   ]
  },
  {
   "cell_type": "markdown",
   "metadata": {},
   "source": [
    "### System Hamiltonian"
   ]
  },
  {
   "cell_type": "code",
   "execution_count": 3,
   "metadata": {},
   "outputs": [],
   "source": [
    "lambda_1 = 1\n",
    "lambda_2 = Symbol(\"lambda\", real=True)\n",
    "lambda_2 = sqrt(2)\n",
    "delta_2 = Delta + 2 * delta_1"
   ]
  },
  {
   "cell_type": "code",
   "execution_count": 4,
   "metadata": {},
   "outputs": [
    {
     "data": {
      "text/latex": [
       "$\\displaystyle \\left[\\begin{matrix}0 & \\frac{E_{x}{\\left(t \\right)}}{2} - \\frac{i E_{y}{\\left(t \\right)}}{2} & 0\\\\\\frac{E_{x}{\\left(t \\right)}}{2} + \\frac{i E_{y}{\\left(t \\right)}}{2} & \\delta_{1} & 0\\\\0 & 0 & 0\\end{matrix}\\right]$"
      ],
      "text/plain": [
       "Matrix([\n",
       "[                    0, E_x(t)/2 - I*E_y(t)/2, 0],\n",
       "[E_x(t)/2 + I*E_y(t)/2,               delta_1, 0],\n",
       "[                    0,                     0, 0]])"
      ]
     },
     "execution_count": 4,
     "metadata": {},
     "output_type": "execute_result"
    }
   ],
   "source": [
    "H_1 = delta_1 * Pi_1 + lambda_1 * (E_x_t / 2 * sigma_x_01 + E_y_t / 2 * sigma_y_01)\n",
    "H_1"
   ]
  },
  {
   "cell_type": "code",
   "execution_count": 5,
   "metadata": {},
   "outputs": [
    {
     "data": {
      "text/latex": [
       "$\\displaystyle \\left[\\begin{matrix}0 & 0 & 0\\\\0 & 0 & \\frac{\\sqrt{2} \\left(E_{x}{\\left(t \\right)} - i E_{y}{\\left(t \\right)}\\right)}{2}\\\\0 & \\frac{\\sqrt{2} \\left(E_{x}{\\left(t \\right)} + i E_{y}{\\left(t \\right)}\\right)}{2} & \\Delta + 2 \\delta_{1}\\end{matrix}\\right]$"
      ],
      "text/plain": [
       "Matrix([\n",
       "[0,                             0,                             0],\n",
       "[0,                             0, sqrt(2)*(E_x(t) - I*E_y(t))/2],\n",
       "[0, sqrt(2)*(E_x(t) + I*E_y(t))/2,             Delta + 2*delta_1]])"
      ]
     },
     "execution_count": 5,
     "metadata": {},
     "output_type": "execute_result"
    }
   ],
   "source": [
    "H_2 = delta_2 * Pi_2 + lambda_2 * (E_x_t * sigma_x_12 + E_y_t * sigma_y_12) / 2\n",
    "H_2.simplify()\n",
    "H_2"
   ]
  },
  {
   "cell_type": "code",
   "execution_count": 6,
   "metadata": {},
   "outputs": [
    {
     "data": {
      "text/latex": [
       "$\\displaystyle \\left[\\begin{matrix}0 & \\frac{E_{x}{\\left(t \\right)}}{2} - \\frac{i E_{y}{\\left(t \\right)}}{2} & 0\\\\\\frac{E_{x}{\\left(t \\right)}}{2} + \\frac{i E_{y}{\\left(t \\right)}}{2} & \\delta_{1} & \\frac{\\sqrt{2} \\left(E_{x}{\\left(t \\right)} - i E_{y}{\\left(t \\right)}\\right)}{2}\\\\0 & \\frac{\\sqrt{2} \\left(E_{x}{\\left(t \\right)} + i E_{y}{\\left(t \\right)}\\right)}{2} & \\Delta + 2 \\delta_{1}\\end{matrix}\\right]$"
      ],
      "text/plain": [
       "Matrix([\n",
       "[                    0,         E_x(t)/2 - I*E_y(t)/2,                             0],\n",
       "[E_x(t)/2 + I*E_y(t)/2,                       delta_1, sqrt(2)*(E_x(t) - I*E_y(t))/2],\n",
       "[                    0, sqrt(2)*(E_x(t) + I*E_y(t))/2,             Delta + 2*delta_1]])"
      ]
     },
     "execution_count": 6,
     "metadata": {},
     "output_type": "execute_result"
    }
   ],
   "source": [
    "H = H_1 + H_2\n",
    "H"
   ]
  },
  {
   "cell_type": "markdown",
   "metadata": {},
   "source": [
    "### Drive Hamiltonian"
   ]
  },
  {
   "cell_type": "code",
   "execution_count": 7,
   "metadata": {},
   "outputs": [
    {
     "data": {
      "text/latex": [
       "$\\displaystyle \\left[\\begin{matrix}0 & - i E_{x}{\\left(t \\right)} & 0\\\\i E_{x}{\\left(t \\right)} & 0 & - \\sqrt{2} i E_{x}{\\left(t \\right)}\\\\0 & \\sqrt{2} i E_{x}{\\left(t \\right)} & 0\\end{matrix}\\right]$"
      ],
      "text/plain": [
       "Matrix([\n",
       "[       0,        -I*E_x(t),                 0],\n",
       "[I*E_x(t),                0, -sqrt(2)*I*E_x(t)],\n",
       "[       0, sqrt(2)*I*E_x(t),                 0]])"
      ]
     },
     "execution_count": 7,
     "metadata": {},
     "output_type": "execute_result"
    }
   ],
   "source": [
    "H_drive = E_x_t * (lambda_1 * sigma_y_01 + lambda_2 * sigma_y_12)\n",
    "H_drive"
   ]
  },
  {
   "cell_type": "markdown",
   "metadata": {},
   "source": [
    "### Adiabatic transformation"
   ]
  },
  {
   "cell_type": "code",
   "execution_count": 8,
   "metadata": {},
   "outputs": [
    {
     "data": {
      "text/latex": [
       "$\\displaystyle \\left[\\begin{matrix}\\frac{\\cos{\\left(\\frac{\\sqrt{3} E_{x}{\\left(t \\right)}}{2 \\Delta} \\right)}}{3} + \\frac{2}{3} & - \\frac{\\sqrt{3} \\sin{\\left(\\frac{\\sqrt{3} E_{x}{\\left(t \\right)}}{2 \\Delta} \\right)}}{3} & - \\frac{\\sqrt{2} e^{\\frac{\\sqrt{3} i E_{x}{\\left(t \\right)}}{2 \\Delta}}}{6} + \\frac{\\sqrt{2}}{3} - \\frac{\\sqrt{2} e^{- \\frac{\\sqrt{3} i E_{x}{\\left(t \\right)}}{2 \\Delta}}}{6}\\\\\\frac{\\sqrt{3} \\sin{\\left(\\frac{\\sqrt{3} E_{x}{\\left(t \\right)}}{2 \\Delta} \\right)}}{3} & \\cos{\\left(\\frac{\\sqrt{3} E_{x}{\\left(t \\right)}}{2 \\Delta} \\right)} & - \\frac{\\sqrt{6} \\sin{\\left(\\frac{\\sqrt{3} E_{x}{\\left(t \\right)}}{2 \\Delta} \\right)}}{3}\\\\- \\frac{\\sqrt{2} e^{\\frac{\\sqrt{3} i E_{x}{\\left(t \\right)}}{2 \\Delta}}}{6} + \\frac{\\sqrt{2}}{3} - \\frac{\\sqrt{2} e^{- \\frac{\\sqrt{3} i E_{x}{\\left(t \\right)}}{2 \\Delta}}}{6} & \\frac{\\sqrt{6} \\sin{\\left(\\frac{\\sqrt{3} E_{x}{\\left(t \\right)}}{2 \\Delta} \\right)}}{3} & \\frac{2 \\cos{\\left(\\frac{\\sqrt{3} E_{x}{\\left(t \\right)}}{2 \\Delta} \\right)}}{3} + \\frac{1}{3}\\end{matrix}\\right]$"
      ],
      "text/plain": [
       "Matrix([\n",
       "[                                                              cos(sqrt(3)*E_x(t)/(2*Delta))/3 + 2/3, -sqrt(3)*sin(sqrt(3)*E_x(t)/(2*Delta))/3, -sqrt(2)*exp(sqrt(3)*I*E_x(t)/(2*Delta))/6 + sqrt(2)/3 - sqrt(2)*exp(-sqrt(3)*I*E_x(t)/(2*Delta))/6],\n",
       "[                                                            sqrt(3)*sin(sqrt(3)*E_x(t)/(2*Delta))/3,            cos(sqrt(3)*E_x(t)/(2*Delta)),                                                            -sqrt(6)*sin(sqrt(3)*E_x(t)/(2*Delta))/3],\n",
       "[-sqrt(2)*exp(sqrt(3)*I*E_x(t)/(2*Delta))/6 + sqrt(2)/3 - sqrt(2)*exp(-sqrt(3)*I*E_x(t)/(2*Delta))/6,  sqrt(6)*sin(sqrt(3)*E_x(t)/(2*Delta))/3,                                                             2*cos(sqrt(3)*E_x(t)/(2*Delta))/3 + 1/3]])"
      ]
     },
     "execution_count": 8,
     "metadata": {},
     "output_type": "execute_result"
    }
   ],
   "source": [
    "V_t = exp(-i * H_drive / (2 * Delta))\n",
    "V_t = V_t.expand().simplify()\n",
    "V_t"
   ]
  },
  {
   "cell_type": "code",
   "execution_count": 9,
   "metadata": {},
   "outputs": [
    {
     "data": {
      "text/latex": [
       "$\\displaystyle \\left[\\begin{matrix}\\frac{\\cos{\\left(\\frac{\\sqrt{3} E_{x}}{2 \\Delta} \\right)}}{3} + \\frac{2}{3} & - \\frac{\\sqrt{3} \\sin{\\left(\\frac{\\sqrt{3} E_{x}}{2 \\Delta} \\right)}}{3} & - \\frac{\\sqrt{2} e^{\\frac{\\sqrt{3} i E_{x}}{2 \\Delta}}}{6} + \\frac{\\sqrt{2}}{3} - \\frac{\\sqrt{2} e^{- \\frac{\\sqrt{3} i E_{x}}{2 \\Delta}}}{6}\\\\\\frac{\\sqrt{3} \\sin{\\left(\\frac{\\sqrt{3} E_{x}}{2 \\Delta} \\right)}}{3} & \\cos{\\left(\\frac{\\sqrt{3} E_{x}}{2 \\Delta} \\right)} & - \\frac{\\sqrt{6} \\sin{\\left(\\frac{\\sqrt{3} E_{x}}{2 \\Delta} \\right)}}{3}\\\\- \\frac{\\sqrt{2} e^{\\frac{\\sqrt{3} i E_{x}}{2 \\Delta}}}{6} + \\frac{\\sqrt{2}}{3} - \\frac{\\sqrt{2} e^{- \\frac{\\sqrt{3} i E_{x}}{2 \\Delta}}}{6} & \\frac{\\sqrt{6} \\sin{\\left(\\frac{\\sqrt{3} E_{x}}{2 \\Delta} \\right)}}{3} & \\frac{2 \\cos{\\left(\\frac{\\sqrt{3} E_{x}}{2 \\Delta} \\right)}}{3} + \\frac{1}{3}\\end{matrix}\\right]$"
      ],
      "text/plain": [
       "Matrix([\n",
       "[                                                           cos(sqrt(3)*E_x/(2*Delta))/3 + 2/3, -sqrt(3)*sin(sqrt(3)*E_x/(2*Delta))/3, -sqrt(2)*exp(sqrt(3)*I*E_x/(2*Delta))/6 + sqrt(2)/3 - sqrt(2)*exp(-sqrt(3)*I*E_x/(2*Delta))/6],\n",
       "[                                                         sqrt(3)*sin(sqrt(3)*E_x/(2*Delta))/3,            cos(sqrt(3)*E_x/(2*Delta)),                                                         -sqrt(6)*sin(sqrt(3)*E_x/(2*Delta))/3],\n",
       "[-sqrt(2)*exp(sqrt(3)*I*E_x/(2*Delta))/6 + sqrt(2)/3 - sqrt(2)*exp(-sqrt(3)*I*E_x/(2*Delta))/6,  sqrt(6)*sin(sqrt(3)*E_x/(2*Delta))/3,                                                          2*cos(sqrt(3)*E_x/(2*Delta))/3 + 1/3]])"
      ]
     },
     "execution_count": 9,
     "metadata": {},
     "output_type": "execute_result"
    }
   ],
   "source": [
    "V = V_t.subs(\n",
    "    {\n",
    "        E_x_t: E_x,\n",
    "    }\n",
    ")\n",
    "V"
   ]
  },
  {
   "cell_type": "code",
   "execution_count": 10,
   "metadata": {},
   "outputs": [
    {
     "data": {
      "text/latex": [
       "$\\displaystyle \\left[\\begin{matrix}1 & - \\frac{E_{x}}{2 \\Delta} & 0\\\\\\frac{E_{x}}{2 \\Delta} & 1 & - \\frac{\\sqrt{2} E_{x}}{2 \\Delta}\\\\0 & \\frac{\\sqrt{2} E_{x}}{2 \\Delta} & 1\\end{matrix}\\right]$"
      ],
      "text/plain": [
       "Matrix([\n",
       "[            1,        -E_x/(2*Delta),                      0],\n",
       "[E_x/(2*Delta),                     1, -sqrt(2)*E_x/(2*Delta)],\n",
       "[            0, sqrt(2)*E_x/(2*Delta),                      1]])"
      ]
     },
     "execution_count": 10,
     "metadata": {},
     "output_type": "execute_result"
    }
   ],
   "source": [
    "U = V.applyfunc(lambda x: x.series(1 / Delta, 0, 2).removeO())\n",
    "U = U.simplify()\n",
    "U"
   ]
  },
  {
   "cell_type": "code",
   "execution_count": 11,
   "metadata": {},
   "outputs": [
    {
     "data": {
      "text/latex": [
       "$\\displaystyle \\left[\\begin{matrix}- \\frac{\\sqrt{3} \\sin{\\left(\\frac{\\sqrt{3} E_{x}{\\left(t \\right)}}{2 \\Delta} \\right)} \\frac{d}{d t} E_{x}{\\left(t \\right)}}{6 \\Delta} & - \\frac{\\cos{\\left(\\frac{\\sqrt{3} E_{x}{\\left(t \\right)}}{2 \\Delta} \\right)} \\frac{d}{d t} E_{x}{\\left(t \\right)}}{2 \\Delta} & \\frac{\\sqrt{6} \\sin{\\left(\\frac{\\sqrt{3} E_{x}{\\left(t \\right)}}{2 \\Delta} \\right)} \\frac{d}{d t} E_{x}{\\left(t \\right)}}{6 \\Delta}\\\\\\frac{\\cos{\\left(\\frac{\\sqrt{3} E_{x}{\\left(t \\right)}}{2 \\Delta} \\right)} \\frac{d}{d t} E_{x}{\\left(t \\right)}}{2 \\Delta} & - \\frac{\\sqrt{3} \\sin{\\left(\\frac{\\sqrt{3} E_{x}{\\left(t \\right)}}{2 \\Delta} \\right)} \\frac{d}{d t} E_{x}{\\left(t \\right)}}{2 \\Delta} & - \\frac{\\sqrt{2} \\cos{\\left(\\frac{\\sqrt{3} E_{x}{\\left(t \\right)}}{2 \\Delta} \\right)} \\frac{d}{d t} E_{x}{\\left(t \\right)}}{2 \\Delta}\\\\\\frac{\\sqrt{6} \\sin{\\left(\\frac{\\sqrt{3} E_{x}{\\left(t \\right)}}{2 \\Delta} \\right)} \\frac{d}{d t} E_{x}{\\left(t \\right)}}{6 \\Delta} & \\frac{\\sqrt{2} \\cos{\\left(\\frac{\\sqrt{3} E_{x}{\\left(t \\right)}}{2 \\Delta} \\right)} \\frac{d}{d t} E_{x}{\\left(t \\right)}}{2 \\Delta} & - \\frac{\\sqrt{3} \\sin{\\left(\\frac{\\sqrt{3} E_{x}{\\left(t \\right)}}{2 \\Delta} \\right)} \\frac{d}{d t} E_{x}{\\left(t \\right)}}{3 \\Delta}\\end{matrix}\\right]$"
      ],
      "text/plain": [
       "Matrix([\n",
       "[-sqrt(3)*sin(sqrt(3)*E_x(t)/(2*Delta))*Derivative(E_x(t), t)/(6*Delta),         -cos(sqrt(3)*E_x(t)/(2*Delta))*Derivative(E_x(t), t)/(2*Delta),  sqrt(6)*sin(sqrt(3)*E_x(t)/(2*Delta))*Derivative(E_x(t), t)/(6*Delta)],\n",
       "[         cos(sqrt(3)*E_x(t)/(2*Delta))*Derivative(E_x(t), t)/(2*Delta), -sqrt(3)*sin(sqrt(3)*E_x(t)/(2*Delta))*Derivative(E_x(t), t)/(2*Delta), -sqrt(2)*cos(sqrt(3)*E_x(t)/(2*Delta))*Derivative(E_x(t), t)/(2*Delta)],\n",
       "[ sqrt(6)*sin(sqrt(3)*E_x(t)/(2*Delta))*Derivative(E_x(t), t)/(6*Delta),  sqrt(2)*cos(sqrt(3)*E_x(t)/(2*Delta))*Derivative(E_x(t), t)/(2*Delta), -sqrt(3)*sin(sqrt(3)*E_x(t)/(2*Delta))*Derivative(E_x(t), t)/(3*Delta)]])"
      ]
     },
     "execution_count": 11,
     "metadata": {},
     "output_type": "execute_result"
    }
   ],
   "source": [
    "dV_t = V_t.diff(t)\n",
    "dV_t = dV_t.expand().simplify()\n",
    "dV_t"
   ]
  },
  {
   "cell_type": "code",
   "execution_count": 12,
   "metadata": {},
   "outputs": [
    {
     "data": {
      "text/latex": [
       "$\\displaystyle \\left[\\begin{matrix}- \\frac{\\sqrt{3} \\dot{E_x} \\sin{\\left(\\frac{\\sqrt{3} E_{x}}{2 \\Delta} \\right)}}{6 \\Delta} & - \\frac{\\dot{E_x} \\cos{\\left(\\frac{\\sqrt{3} E_{x}}{2 \\Delta} \\right)}}{2 \\Delta} & \\frac{\\sqrt{6} \\dot{E_x} \\sin{\\left(\\frac{\\sqrt{3} E_{x}}{2 \\Delta} \\right)}}{6 \\Delta}\\\\\\frac{\\dot{E_x} \\cos{\\left(\\frac{\\sqrt{3} E_{x}}{2 \\Delta} \\right)}}{2 \\Delta} & - \\frac{\\sqrt{3} \\dot{E_x} \\sin{\\left(\\frac{\\sqrt{3} E_{x}}{2 \\Delta} \\right)}}{2 \\Delta} & - \\frac{\\sqrt{2} \\dot{E_x} \\cos{\\left(\\frac{\\sqrt{3} E_{x}}{2 \\Delta} \\right)}}{2 \\Delta}\\\\\\frac{\\sqrt{6} \\dot{E_x} \\sin{\\left(\\frac{\\sqrt{3} E_{x}}{2 \\Delta} \\right)}}{6 \\Delta} & \\frac{\\sqrt{2} \\dot{E_x} \\cos{\\left(\\frac{\\sqrt{3} E_{x}}{2 \\Delta} \\right)}}{2 \\Delta} & - \\frac{\\sqrt{3} \\dot{E_x} \\sin{\\left(\\frac{\\sqrt{3} E_{x}}{2 \\Delta} \\right)}}{3 \\Delta}\\end{matrix}\\right]$"
      ],
      "text/plain": [
       "Matrix([\n",
       "[-sqrt(3)*\\dot{E_x}*sin(sqrt(3)*E_x/(2*Delta))/(6*Delta),         -\\dot{E_x}*cos(sqrt(3)*E_x/(2*Delta))/(2*Delta),  sqrt(6)*\\dot{E_x}*sin(sqrt(3)*E_x/(2*Delta))/(6*Delta)],\n",
       "[         \\dot{E_x}*cos(sqrt(3)*E_x/(2*Delta))/(2*Delta), -sqrt(3)*\\dot{E_x}*sin(sqrt(3)*E_x/(2*Delta))/(2*Delta), -sqrt(2)*\\dot{E_x}*cos(sqrt(3)*E_x/(2*Delta))/(2*Delta)],\n",
       "[ sqrt(6)*\\dot{E_x}*sin(sqrt(3)*E_x/(2*Delta))/(6*Delta),  sqrt(2)*\\dot{E_x}*cos(sqrt(3)*E_x/(2*Delta))/(2*Delta), -sqrt(3)*\\dot{E_x}*sin(sqrt(3)*E_x/(2*Delta))/(3*Delta)]])"
      ]
     },
     "execution_count": 12,
     "metadata": {},
     "output_type": "execute_result"
    }
   ],
   "source": [
    "dV = dV_t.subs(\n",
    "    {\n",
    "        E_x_t: E_x,\n",
    "        E_x_t.diff(t): dE_x,\n",
    "    }\n",
    ")\n",
    "dV"
   ]
  },
  {
   "cell_type": "code",
   "execution_count": 13,
   "metadata": {},
   "outputs": [
    {
     "data": {
      "text/latex": [
       "$\\displaystyle \\left[\\begin{matrix}0 & - \\frac{\\dot{E_x}}{2 \\Delta} & 0\\\\\\frac{\\dot{E_x}}{2 \\Delta} & 0 & - \\frac{\\sqrt{2} \\dot{E_x}}{2 \\Delta}\\\\0 & \\frac{\\sqrt{2} \\dot{E_x}}{2 \\Delta} & 0\\end{matrix}\\right]$"
      ],
      "text/plain": [
       "Matrix([\n",
       "[                  0,        -\\dot{E_x}/(2*Delta),                            0],\n",
       "[\\dot{E_x}/(2*Delta),                           0, -sqrt(2)*\\dot{E_x}/(2*Delta)],\n",
       "[                  0, sqrt(2)*\\dot{E_x}/(2*Delta),                            0]])"
      ]
     },
     "execution_count": 13,
     "metadata": {},
     "output_type": "execute_result"
    }
   ],
   "source": [
    "dU = dV.applyfunc(lambda x: x.series(1 / Delta, 0, 2).removeO())\n",
    "dU = dU.simplify()\n",
    "dU"
   ]
  },
  {
   "cell_type": "code",
   "execution_count": 14,
   "metadata": {},
   "outputs": [
    {
     "data": {
      "text/latex": [
       "$\\displaystyle \\left[\\begin{matrix}0 & \\frac{E_{x}}{2} - \\frac{i E_{y}}{2} & 0\\\\\\frac{E_{x}}{2} + \\frac{i E_{y}}{2} & \\delta_{1} & \\frac{\\sqrt{2} \\left(E_{x} - i E_{y}\\right)}{2}\\\\0 & \\frac{\\sqrt{2} \\left(E_{x} + i E_{y}\\right)}{2} & \\Delta + 2 \\delta_{1}\\end{matrix}\\right]$"
      ],
      "text/plain": [
       "Matrix([\n",
       "[              0,         E_x/2 - I*E_y/2,                       0],\n",
       "[E_x/2 + I*E_y/2,                 delta_1, sqrt(2)*(E_x - I*E_y)/2],\n",
       "[              0, sqrt(2)*(E_x + I*E_y)/2,       Delta + 2*delta_1]])"
      ]
     },
     "execution_count": 14,
     "metadata": {},
     "output_type": "execute_result"
    }
   ],
   "source": [
    "H = H.subs({\n",
    "    E_x_t: E_x,\n",
    "    E_y_t: E_y,\n",
    "})\n",
    "H"
   ]
  },
  {
   "cell_type": "code",
   "execution_count": 15,
   "metadata": {},
   "outputs": [
    {
     "data": {
      "text/latex": [
       "$\\displaystyle \\left[\\begin{matrix}- \\frac{E_{x} \\left(\\frac{E_{x}}{2} + \\frac{i E_{y}}{2}\\right)}{2 \\Delta} - \\frac{E_{x} \\left(\\frac{E_{x}}{2} - \\frac{i E_{y}}{2} - \\frac{E_{x} \\delta_{1}}{2 \\Delta}\\right)}{2 \\Delta} + \\frac{i E_{x} \\dot{E_x}}{4 \\Delta^{2}} & \\frac{E_{x}}{2} - \\frac{i E_{y}}{2} - \\frac{E_{x} \\delta_{1}}{2 \\Delta} - \\frac{i \\dot{E_x}}{2 \\Delta} - \\frac{E_{x}^{2} \\left(\\frac{E_{x}}{2} + \\frac{i E_{y}}{2}\\right)}{4 \\Delta^{2}} + \\frac{E_{x}^{2} \\left(E_{x} - i E_{y}\\right)}{4 \\Delta^{2}} & - \\frac{\\sqrt{2} E_{x} \\left(E_{x} - i E_{y}\\right)}{4 \\Delta} + \\frac{\\sqrt{2} E_{x} \\left(\\frac{E_{x}}{2} - \\frac{i E_{y}}{2} - \\frac{E_{x} \\delta_{1}}{2 \\Delta}\\right)}{2 \\Delta} - \\frac{\\sqrt{2} i E_{x} \\dot{E_x}}{4 \\Delta^{2}}\\\\\\frac{E_{x}}{2} + \\frac{i E_{y}}{2} - \\frac{E_{x} \\left(\\delta_{1} + \\frac{E_{x} \\left(\\frac{E_{x}}{2} - \\frac{i E_{y}}{2}\\right)}{2 \\Delta} - \\frac{E_{x} \\left(E_{x} + i E_{y}\\right)}{2 \\Delta}\\right)}{2 \\Delta} + \\frac{i \\dot{E_x}}{2 \\Delta} & \\delta_{1} + \\frac{E_{x} \\left(\\frac{E_{x}}{2} - \\frac{i E_{y}}{2}\\right)}{2 \\Delta} + \\frac{E_{x} \\left(\\frac{E_{x}}{2} + \\frac{i E_{y}}{2}\\right)}{2 \\Delta} - \\frac{E_{x} \\left(E_{x} + i E_{y}\\right)}{2 \\Delta} - \\frac{\\sqrt{2} E_{x} \\left(\\frac{\\sqrt{2} \\left(E_{x} - i E_{y}\\right)}{2} - \\frac{\\sqrt{2} E_{x} \\left(\\Delta + 2 \\delta_{1}\\right)}{2 \\Delta}\\right)}{2 \\Delta} + \\frac{3 i E_{x} \\dot{E_x}}{4 \\Delta^{2}} & \\frac{\\sqrt{2} \\left(E_{x} - i E_{y}\\right)}{2} - \\frac{\\sqrt{2} E_{x} \\left(\\Delta + 2 \\delta_{1}\\right)}{2 \\Delta} + \\frac{\\sqrt{2} E_{x} \\left(\\delta_{1} + \\frac{E_{x} \\left(\\frac{E_{x}}{2} - \\frac{i E_{y}}{2}\\right)}{2 \\Delta} - \\frac{E_{x} \\left(E_{x} + i E_{y}\\right)}{2 \\Delta}\\right)}{2 \\Delta} - \\frac{\\sqrt{2} i \\dot{E_x}}{2 \\Delta}\\\\\\frac{\\sqrt{2} E_{x} \\left(\\frac{E_{x}}{2} + \\frac{i E_{y}}{2}\\right)}{2 \\Delta} - \\frac{E_{x} \\left(\\frac{\\sqrt{2} \\left(E_{x} + i E_{y}\\right)}{2} + \\frac{\\sqrt{2} E_{x} \\delta_{1}}{2 \\Delta}\\right)}{2 \\Delta} - \\frac{\\sqrt{2} i E_{x} \\dot{E_x}}{4 \\Delta^{2}} & \\frac{\\sqrt{2} \\left(E_{x} + i E_{y}\\right)}{2} + \\frac{\\sqrt{2} E_{x} \\delta_{1}}{2 \\Delta} - \\frac{\\sqrt{2} E_{x} \\left(\\Delta + 2 \\delta_{1} + \\frac{E_{x} \\left(E_{x} - i E_{y}\\right)}{2 \\Delta}\\right)}{2 \\Delta} + \\frac{\\sqrt{2} i \\dot{E_x}}{2 \\Delta} + \\frac{\\sqrt{2} E_{x}^{2} \\left(\\frac{E_{x}}{2} + \\frac{i E_{y}}{2}\\right)}{4 \\Delta^{2}} & \\Delta + 2 \\delta_{1} + \\frac{E_{x} \\left(E_{x} - i E_{y}\\right)}{2 \\Delta} + \\frac{\\sqrt{2} E_{x} \\left(\\frac{\\sqrt{2} \\left(E_{x} + i E_{y}\\right)}{2} + \\frac{\\sqrt{2} E_{x} \\delta_{1}}{2 \\Delta}\\right)}{2 \\Delta} + \\frac{i E_{x} \\dot{E_x}}{2 \\Delta^{2}}\\end{matrix}\\right]$"
      ],
      "text/plain": [
       "Matrix([\n",
       "[                               -E_x*(E_x/2 + I*E_y/2)/(2*Delta) - E_x*(E_x/2 - I*E_y/2 - E_x*delta_1/(2*Delta))/(2*Delta) + I*E_x*\\dot{E_x}/(4*Delta**2),                                                                                              E_x/2 - I*E_y/2 - E_x*delta_1/(2*Delta) - I*\\dot{E_x}/(2*Delta) - E_x**2*(E_x/2 + I*E_y/2)/(4*Delta**2) + E_x**2*(E_x - I*E_y)/(4*Delta**2),                                                         -sqrt(2)*E_x*(E_x - I*E_y)/(4*Delta) + sqrt(2)*E_x*(E_x/2 - I*E_y/2 - E_x*delta_1/(2*Delta))/(2*Delta) - sqrt(2)*I*E_x*\\dot{E_x}/(4*Delta**2)],\n",
       "[                       E_x/2 + I*E_y/2 - E_x*(delta_1 + E_x*(E_x/2 - I*E_y/2)/(2*Delta) - E_x*(E_x + I*E_y)/(2*Delta))/(2*Delta) + I*\\dot{E_x}/(2*Delta), delta_1 + E_x*(E_x/2 - I*E_y/2)/(2*Delta) + E_x*(E_x/2 + I*E_y/2)/(2*Delta) - E_x*(E_x + I*E_y)/(2*Delta) - sqrt(2)*E_x*(sqrt(2)*(E_x - I*E_y)/2 - sqrt(2)*E_x*(Delta + 2*delta_1)/(2*Delta))/(2*Delta) + 3*I*E_x*\\dot{E_x}/(4*Delta**2), sqrt(2)*(E_x - I*E_y)/2 - sqrt(2)*E_x*(Delta + 2*delta_1)/(2*Delta) + sqrt(2)*E_x*(delta_1 + E_x*(E_x/2 - I*E_y/2)/(2*Delta) - E_x*(E_x + I*E_y)/(2*Delta))/(2*Delta) - sqrt(2)*I*\\dot{E_x}/(2*Delta)],\n",
       "[sqrt(2)*E_x*(E_x/2 + I*E_y/2)/(2*Delta) - E_x*(sqrt(2)*(E_x + I*E_y)/2 + sqrt(2)*E_x*delta_1/(2*Delta))/(2*Delta) - sqrt(2)*I*E_x*\\dot{E_x}/(4*Delta**2),                        sqrt(2)*(E_x + I*E_y)/2 + sqrt(2)*E_x*delta_1/(2*Delta) - sqrt(2)*E_x*(Delta + 2*delta_1 + E_x*(E_x - I*E_y)/(2*Delta))/(2*Delta) + sqrt(2)*I*\\dot{E_x}/(2*Delta) + sqrt(2)*E_x**2*(E_x/2 + I*E_y/2)/(4*Delta**2),                                      Delta + 2*delta_1 + E_x*(E_x - I*E_y)/(2*Delta) + sqrt(2)*E_x*(sqrt(2)*(E_x + I*E_y)/2 + sqrt(2)*E_x*delta_1/(2*Delta))/(2*Delta) + I*E_x*\\dot{E_x}/(2*Delta**2)]])"
      ]
     },
     "execution_count": 15,
     "metadata": {},
     "output_type": "execute_result"
    }
   ],
   "source": [
    "H_drag = U * H * dag(U) + i * dU * dag(U)\n",
    "H_drag"
   ]
  },
  {
   "cell_type": "code",
   "execution_count": 16,
   "metadata": {},
   "outputs": [
    {
     "data": {
      "text/latex": [
       "$\\displaystyle \\left[\\begin{matrix}- \\frac{E_{x}^{2}}{2 \\Delta} & \\frac{\\Delta \\left(E_{x} - i E_{y}\\right) - E_{x} \\delta_{1} - i \\dot{E_x}}{2 \\Delta} & 0\\\\\\frac{\\Delta \\left(E_{x} + i E_{y}\\right) - E_{x} \\delta_{1} + i \\dot{E_x}}{2 \\Delta} & \\delta_{1} & \\frac{\\sqrt{2} \\left(- i \\Delta E_{y} - E_{x} \\delta_{1} - i \\dot{E_x}\\right)}{2 \\Delta}\\\\0 & \\frac{\\sqrt{2} \\left(i \\Delta E_{y} - E_{x} \\delta_{1} + i \\dot{E_x}\\right)}{2 \\Delta} & \\Delta + 2 \\delta_{1} + \\frac{E_{x}^{2}}{\\Delta}\\end{matrix}\\right]$"
      ],
      "text/plain": [
       "Matrix([\n",
       "[                                          -E_x**2/(2*Delta), (Delta*(E_x - I*E_y) - E_x*delta_1 - I*\\dot{E_x})/(2*Delta),                                                            0],\n",
       "[(Delta*(E_x + I*E_y) - E_x*delta_1 + I*\\dot{E_x})/(2*Delta),                                                     delta_1, sqrt(2)*(-I*Delta*E_y - E_x*delta_1 - I*\\dot{E_x})/(2*Delta)],\n",
       "[                                                          0, sqrt(2)*(I*Delta*E_y - E_x*delta_1 + I*\\dot{E_x})/(2*Delta),                             Delta + 2*delta_1 + E_x**2/Delta]])"
      ]
     },
     "execution_count": 16,
     "metadata": {},
     "output_type": "execute_result"
    }
   ],
   "source": [
    "H_drag_ = H_drag.applyfunc(lambda x: x.series(1 / Delta, 0, 2).removeO())\n",
    "H_drag_.simplify()"
   ]
  },
  {
   "cell_type": "code",
   "execution_count": 17,
   "metadata": {},
   "outputs": [
    {
     "data": {
      "text/latex": [
       "$\\displaystyle \\left[\\begin{matrix}- \\frac{E_{x}^{2}}{2 \\Delta} & \\frac{E_{x}}{2} + \\frac{E_{x}^{3}}{4 \\Delta^{2}} & 0\\\\\\frac{E_{x}}{2} + \\frac{E_{x}^{3}}{4 \\Delta^{2}} & - \\frac{E_{x}^{2}}{2 \\Delta} & \\frac{\\sqrt{2} E_{x}^{3}}{4 \\Delta^{2}}\\\\0 & \\frac{\\sqrt{2} E_{x}^{3}}{4 \\Delta^{2}} & \\Delta\\end{matrix}\\right]$"
      ],
      "text/plain": [
       "Matrix([\n",
       "[          -E_x**2/(2*Delta), E_x/2 + E_x**3/(4*Delta**2),                           0],\n",
       "[E_x/2 + E_x**3/(4*Delta**2),           -E_x**2/(2*Delta), sqrt(2)*E_x**3/(4*Delta**2)],\n",
       "[                          0, sqrt(2)*E_x**3/(4*Delta**2),                       Delta]])"
      ]
     },
     "execution_count": 17,
     "metadata": {},
     "output_type": "execute_result"
    }
   ],
   "source": [
    "H_drag__ = H_drag_.subs(\n",
    "    {\n",
    "        E_y: -dE_x / Delta,\n",
    "        delta_1: (lambda_2**2 - 4) * E_x**2 / (4 * Delta),\n",
    "    }\n",
    ").simplify()\n",
    "H_drag__.expand()"
   ]
  },
  {
   "cell_type": "code",
   "execution_count": 18,
   "metadata": {},
   "outputs": [
    {
     "data": {
      "text/latex": [
       "$\\displaystyle \\left[\\begin{matrix}0 & \\frac{E_{x}}{2} & 0\\\\\\frac{E_{x}}{2} & 0 & 0\\\\0 & 0 & \\Delta\\end{matrix}\\right]$"
      ],
      "text/plain": [
       "Matrix([\n",
       "[    0, E_x/2,     0],\n",
       "[E_x/2,     0,     0],\n",
       "[    0,     0, Delta]])"
      ]
     },
     "execution_count": 18,
     "metadata": {},
     "output_type": "execute_result"
    }
   ],
   "source": [
    "H_drag__.applyfunc(lambda x: x.series(E_x, 0, 2).removeO())"
   ]
  },
  {
   "cell_type": "code",
   "execution_count": 19,
   "metadata": {},
   "outputs": [
    {
     "data": {
      "text/latex": [
       "$\\displaystyle \\left[\\begin{matrix}- \\frac{E_{x}^{2}}{2 \\Delta} & \\frac{E_{x}}{2} & 0\\\\\\frac{E_{x}}{2} & - \\frac{E_{x}^{2}}{2 \\Delta} & 0\\\\0 & 0 & \\Delta\\end{matrix}\\right]$"
      ],
      "text/plain": [
       "Matrix([\n",
       "[-E_x**2/(2*Delta),             E_x/2,     0],\n",
       "[            E_x/2, -E_x**2/(2*Delta),     0],\n",
       "[                0,                 0, Delta]])"
      ]
     },
     "execution_count": 19,
     "metadata": {},
     "output_type": "execute_result"
    }
   ],
   "source": [
    "H_drag__.applyfunc(lambda x: x.series(E_x, 0, 3).removeO())"
   ]
  },
  {
   "cell_type": "code",
   "execution_count": 20,
   "metadata": {},
   "outputs": [
    {
     "data": {
      "text/latex": [
       "$\\displaystyle \\left[\\begin{matrix}- \\frac{E_{x}^{2}}{2 \\Delta} & \\frac{E_{x}}{2} + \\frac{E_{x}^{3}}{4 \\Delta^{2}} & 0\\\\\\frac{E_{x}}{2} + \\frac{E_{x}^{3}}{4 \\Delta^{2}} & - \\frac{E_{x}^{2}}{2 \\Delta} & \\frac{\\sqrt{2} E_{x}^{3}}{4 \\Delta^{2}}\\\\0 & \\frac{\\sqrt{2} E_{x}^{3}}{4 \\Delta^{2}} & \\Delta\\end{matrix}\\right]$"
      ],
      "text/plain": [
       "Matrix([\n",
       "[          -E_x**2/(2*Delta), E_x/2 + E_x**3/(4*Delta**2),                           0],\n",
       "[E_x/2 + E_x**3/(4*Delta**2),           -E_x**2/(2*Delta), sqrt(2)*E_x**3/(4*Delta**2)],\n",
       "[                          0, sqrt(2)*E_x**3/(4*Delta**2),                       Delta]])"
      ]
     },
     "execution_count": 20,
     "metadata": {},
     "output_type": "execute_result"
    }
   ],
   "source": [
    "H_drag__.applyfunc(lambda x: x.series(E_x, 0, 4).removeO())"
   ]
  },
  {
   "cell_type": "markdown",
   "metadata": {},
   "source": [
    "## References\n",
    "\n",
    "1. [Simple pulses for elimination of leakage in weakly nonlinear qubits\n",
    "](https://arxiv.org/abs/0901.0534)"
   ]
  }
 ],
 "metadata": {
  "kernelspec": {
   "display_name": "Python 3",
   "language": "python",
   "name": "python3"
  },
  "language_info": {
   "codemirror_mode": {
    "name": "ipython",
    "version": 3
   },
   "file_extension": ".py",
   "mimetype": "text/x-python",
   "name": "python",
   "nbconvert_exporter": "python",
   "pygments_lexer": "ipython3",
   "version": "3.9.16"
  },
  "orig_nbformat": 4
 },
 "nbformat": 4,
 "nbformat_minor": 2
}
