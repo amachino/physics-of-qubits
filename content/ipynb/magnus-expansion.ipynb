{
 "cells": [
  {
   "cell_type": "markdown",
   "metadata": {},
   "source": [
    "# Magnus Expansion"
   ]
  },
  {
   "cell_type": "code",
   "execution_count": 1,
   "metadata": {},
   "outputs": [],
   "source": [
    "from sympy import Function, Symbol, factorial, integrate\n",
    "from sympy.abc import t, tau\n",
    "from sympy.physics.quantum import Commutator\n",
    "\n",
    "A = Function(\"A\", commutative=False)(tau)\n",
    "\n",
    "\n",
    "def binomial(n, k):\n",
    "    return factorial(n) / (factorial(k) * factorial(n - k))\n",
    "\n",
    "\n",
    "def B(n):\n",
    "    # return Symbol(f\"B_{n}\")\n",
    "    if n == 0:\n",
    "        return 1\n",
    "    else:\n",
    "        return -sum(binomial(n, k) * B(k) / (n - k + 1) for k in range(n))\n",
    "\n",
    "\n",
    "def S(n, j):\n",
    "    if j == 1:\n",
    "        return Commutator(Omega(n - 1), A)\n",
    "    else:\n",
    "        return sum(Commutator(Omega(m), S(n - m, j - 1)) for m in range(1, n - j + 1))\n",
    "\n",
    "\n",
    "def Omega(n):\n",
    "    if n == 1:\n",
    "        return integrate(A, (tau, 0, t))\n",
    "    else:\n",
    "        return sum(\n",
    "            B(j) / factorial(j) * integrate(S(n, j), (tau, 0, t)) for j in range(1, n)\n",
    "        )"
   ]
  },
  {
   "cell_type": "markdown",
   "metadata": {},
   "source": [
    "$$\n",
    "\\begin{aligned}\n",
    "S_n^{(j)} &= \\sum_{m=1}^{n-j}\\left[\\Omega_m, S_{n-m}^{(j-1)}\\right], \\quad 2 \\leq j \\leq n-1\n",
    "\\end{aligned}\n",
    "$$\n",
    "\n",
    "$$\n",
    "\\begin{aligned}\n",
    "\\Omega_1 &= \\int_0^t A(\\tau) d \\tau\n",
    "\\\\\n",
    "\\Omega_n &= \\sum_{j=1}^{n-1} \\frac{B_j}{j !} \\int_0^t S_n^{(j)}(\\tau) d \\tau, \\quad n \\geq 2\n",
    "\\end{aligned}\n",
    "$$"
   ]
  },
  {
   "cell_type": "code",
   "execution_count": 2,
   "metadata": {},
   "outputs": [
    {
     "data": {
      "text/latex": [
       "$\\displaystyle \\int\\limits_{0}^{t} A{\\left(\\tau \\right)}\\, d\\tau$"
      ],
      "text/plain": [
       "Integral(A(tau), (tau, 0, t))"
      ]
     },
     "execution_count": 2,
     "metadata": {},
     "output_type": "execute_result"
    }
   ],
   "source": [
    "Omega(1)"
   ]
  },
  {
   "cell_type": "code",
   "execution_count": 3,
   "metadata": {},
   "outputs": [
    {
     "data": {
      "text/latex": [
       "$\\displaystyle - \\frac{\\int\\limits_{0}^{t} \\left[\\int\\limits_{0}^{t} A{\\left(\\tau \\right)}\\, d\\tau,A{\\left(\\tau \\right)}\\right]\\, d\\tau}{2}$"
      ],
      "text/plain": [
       "-Integral([Integral(A(tau), (tau, 0, t)),A(tau)], (tau, 0, t))/2"
      ]
     },
     "execution_count": 3,
     "metadata": {},
     "output_type": "execute_result"
    }
   ],
   "source": [
    "Omega(2)"
   ]
  },
  {
   "cell_type": "code",
   "execution_count": 4,
   "metadata": {},
   "outputs": [
    {
     "data": {
      "text/latex": [
       "$\\displaystyle \\frac{\\int\\limits_{0}^{t} \\left[\\int\\limits_{0}^{t} A{\\left(\\tau \\right)}\\, d\\tau,\\left[\\int\\limits_{0}^{t} A{\\left(\\tau \\right)}\\, d\\tau,A{\\left(\\tau \\right)}\\right]\\right]\\, d\\tau}{12} + \\frac{\\int\\limits_{0}^{t} \\left[\\int\\limits_{0}^{t} \\left[\\int\\limits_{0}^{t} A{\\left(\\tau \\right)}\\, d\\tau,A{\\left(\\tau \\right)}\\right]\\, d\\tau,A{\\left(\\tau \\right)}\\right]\\, d\\tau}{4}$"
      ],
      "text/plain": [
       "Integral([Integral(A(tau), (tau, 0, t)),[Integral(A(tau), (tau, 0, t)),A(tau)]], (tau, 0, t))/12 + Integral([Integral([Integral(A(tau), (tau, 0, t)),A(tau)], (tau, 0, t)),A(tau)], (tau, 0, t))/4"
      ]
     },
     "execution_count": 4,
     "metadata": {},
     "output_type": "execute_result"
    }
   ],
   "source": [
    "Omega(3)"
   ]
  },
  {
   "cell_type": "code",
   "execution_count": 5,
   "metadata": {},
   "outputs": [
    {
     "data": {
      "text/latex": [
       "$\\displaystyle \\frac{\\int\\limits_{0}^{t} \\left(- \\left[\\int\\limits_{0}^{t} A{\\left(\\tau \\right)}\\, d\\tau,\\left[\\int\\limits_{0}^{t} \\left[\\int\\limits_{0}^{t} A{\\left(\\tau \\right)}\\, d\\tau,A{\\left(\\tau \\right)}\\right]\\, d\\tau,A{\\left(\\tau \\right)}\\right]\\right] - \\left[\\int\\limits_{0}^{t} \\left[\\int\\limits_{0}^{t} A{\\left(\\tau \\right)}\\, d\\tau,A{\\left(\\tau \\right)}\\right]\\, d\\tau,\\left[\\int\\limits_{0}^{t} A{\\left(\\tau \\right)}\\, d\\tau,A{\\left(\\tau \\right)}\\right]\\right]\\right)\\, d\\tau}{24} - \\frac{\\int\\limits_{0}^{t} \\left[\\int\\limits_{0}^{t} \\left[\\int\\limits_{0}^{t} A{\\left(\\tau \\right)}\\, d\\tau,\\left[\\int\\limits_{0}^{t} A{\\left(\\tau \\right)}\\, d\\tau,A{\\left(\\tau \\right)}\\right]\\right]\\, d\\tau + 3 \\int\\limits_{0}^{t} \\left[\\int\\limits_{0}^{t} \\left[\\int\\limits_{0}^{t} A{\\left(\\tau \\right)}\\, d\\tau,A{\\left(\\tau \\right)}\\right]\\, d\\tau,A{\\left(\\tau \\right)}\\right]\\, d\\tau,A{\\left(\\tau \\right)}\\right]\\, d\\tau}{24}$"
      ],
      "text/plain": [
       "Integral(-[Integral(A(tau), (tau, 0, t)),[Integral([Integral(A(tau), (tau, 0, t)),A(tau)], (tau, 0, t)),A(tau)]] - [Integral([Integral(A(tau), (tau, 0, t)),A(tau)], (tau, 0, t)),[Integral(A(tau), (tau, 0, t)),A(tau)]], (tau, 0, t))/24 - Integral([Integral([Integral(A(tau), (tau, 0, t)),[Integral(A(tau), (tau, 0, t)),A(tau)]], (tau, 0, t)) + 3*Integral([Integral([Integral(A(tau), (tau, 0, t)),A(tau)], (tau, 0, t)),A(tau)], (tau, 0, t)),A(tau)], (tau, 0, t))/24"
      ]
     },
     "execution_count": 5,
     "metadata": {},
     "output_type": "execute_result"
    }
   ],
   "source": [
    "Omega(4)"
   ]
  },
  {
   "cell_type": "code",
   "execution_count": 6,
   "metadata": {},
   "outputs": [
    {
     "data": {
      "text/latex": [
       "$\\displaystyle \\frac{\\int\\limits_{0}^{t} \\left(\\left[\\frac{\\int\\limits_{0}^{t} \\left[\\int\\limits_{0}^{t} A{\\left(\\tau \\right)}\\, d\\tau,\\left[\\int\\limits_{0}^{t} A{\\left(\\tau \\right)}\\, d\\tau,A{\\left(\\tau \\right)}\\right]\\right]\\, d\\tau}{12} + \\frac{\\int\\limits_{0}^{t} \\left[\\int\\limits_{0}^{t} \\left[\\int\\limits_{0}^{t} A{\\left(\\tau \\right)}\\, d\\tau,A{\\left(\\tau \\right)}\\right]\\, d\\tau,A{\\left(\\tau \\right)}\\right]\\, d\\tau}{4},\\left[\\int\\limits_{0}^{t} A{\\left(\\tau \\right)}\\, d\\tau,A{\\left(\\tau \\right)}\\right]\\right] + \\left[\\int\\limits_{0}^{t} A{\\left(\\tau \\right)}\\, d\\tau,\\left[\\frac{\\int\\limits_{0}^{t} \\left[\\int\\limits_{0}^{t} A{\\left(\\tau \\right)}\\, d\\tau,\\left[\\int\\limits_{0}^{t} A{\\left(\\tau \\right)}\\, d\\tau,A{\\left(\\tau \\right)}\\right]\\right]\\, d\\tau}{12} + \\frac{\\int\\limits_{0}^{t} \\left[\\int\\limits_{0}^{t} \\left[\\int\\limits_{0}^{t} A{\\left(\\tau \\right)}\\, d\\tau,A{\\left(\\tau \\right)}\\right]\\, d\\tau,A{\\left(\\tau \\right)}\\right]\\, d\\tau}{4},A{\\left(\\tau \\right)}\\right]\\right] + \\frac{\\left[\\int\\limits_{0}^{t} \\left[\\int\\limits_{0}^{t} A{\\left(\\tau \\right)}\\, d\\tau,A{\\left(\\tau \\right)}\\right]\\, d\\tau,\\left[\\int\\limits_{0}^{t} \\left[\\int\\limits_{0}^{t} A{\\left(\\tau \\right)}\\, d\\tau,A{\\left(\\tau \\right)}\\right]\\, d\\tau,A{\\left(\\tau \\right)}\\right]\\right]}{4}\\right)\\, d\\tau}{12} - \\frac{\\int\\limits_{0}^{t} \\left[\\int\\limits_{0}^{t} \\left(- \\left[\\int\\limits_{0}^{t} A{\\left(\\tau \\right)}\\, d\\tau,\\left[\\int\\limits_{0}^{t} \\left[\\int\\limits_{0}^{t} A{\\left(\\tau \\right)}\\, d\\tau,A{\\left(\\tau \\right)}\\right]\\, d\\tau,A{\\left(\\tau \\right)}\\right]\\right] - \\left[\\int\\limits_{0}^{t} \\left[\\int\\limits_{0}^{t} A{\\left(\\tau \\right)}\\, d\\tau,A{\\left(\\tau \\right)}\\right]\\, d\\tau,\\left[\\int\\limits_{0}^{t} A{\\left(\\tau \\right)}\\, d\\tau,A{\\left(\\tau \\right)}\\right]\\right]\\right)\\, d\\tau - \\int\\limits_{0}^{t} \\left[\\int\\limits_{0}^{t} \\left[\\int\\limits_{0}^{t} A{\\left(\\tau \\right)}\\, d\\tau,\\left[\\int\\limits_{0}^{t} A{\\left(\\tau \\right)}\\, d\\tau,A{\\left(\\tau \\right)}\\right]\\right]\\, d\\tau + 3 \\int\\limits_{0}^{t} \\left[\\int\\limits_{0}^{t} \\left[\\int\\limits_{0}^{t} A{\\left(\\tau \\right)}\\, d\\tau,A{\\left(\\tau \\right)}\\right]\\, d\\tau,A{\\left(\\tau \\right)}\\right]\\, d\\tau,A{\\left(\\tau \\right)}\\right]\\, d\\tau,A{\\left(\\tau \\right)}\\right]\\, d\\tau}{48} - \\frac{\\int\\limits_{0}^{t} \\left[\\int\\limits_{0}^{t} A{\\left(\\tau \\right)}\\, d\\tau,\\left[\\int\\limits_{0}^{t} A{\\left(\\tau \\right)}\\, d\\tau,\\left[\\int\\limits_{0}^{t} A{\\left(\\tau \\right)}\\, d\\tau,\\left[\\int\\limits_{0}^{t} A{\\left(\\tau \\right)}\\, d\\tau,A{\\left(\\tau \\right)}\\right]\\right]\\right]\\right]\\, d\\tau}{720}$"
      ],
      "text/plain": [
       "Integral([Integral([Integral(A(tau), (tau, 0, t)),[Integral(A(tau), (tau, 0, t)),A(tau)]], (tau, 0, t))/12 + Integral([Integral([Integral(A(tau), (tau, 0, t)),A(tau)], (tau, 0, t)),A(tau)], (tau, 0, t))/4,[Integral(A(tau), (tau, 0, t)),A(tau)]] + [Integral(A(tau), (tau, 0, t)),[Integral([Integral(A(tau), (tau, 0, t)),[Integral(A(tau), (tau, 0, t)),A(tau)]], (tau, 0, t))/12 + Integral([Integral([Integral(A(tau), (tau, 0, t)),A(tau)], (tau, 0, t)),A(tau)], (tau, 0, t))/4,A(tau)]] + [Integral([Integral(A(tau), (tau, 0, t)),A(tau)], (tau, 0, t)),[Integral([Integral(A(tau), (tau, 0, t)),A(tau)], (tau, 0, t)),A(tau)]]/4, (tau, 0, t))/12 - Integral([Integral(-[Integral(A(tau), (tau, 0, t)),[Integral([Integral(A(tau), (tau, 0, t)),A(tau)], (tau, 0, t)),A(tau)]] - [Integral([Integral(A(tau), (tau, 0, t)),A(tau)], (tau, 0, t)),[Integral(A(tau), (tau, 0, t)),A(tau)]], (tau, 0, t)) - Integral([Integral([Integral(A(tau), (tau, 0, t)),[Integral(A(tau), (tau, 0, t)),A(tau)]], (tau, 0, t)) + 3*Integral([Integral([Integral(A(tau), (tau, 0, t)),A(tau)], (tau, 0, t)),A(tau)], (tau, 0, t)),A(tau)], (tau, 0, t)),A(tau)], (tau, 0, t))/48 - Integral([Integral(A(tau), (tau, 0, t)),[Integral(A(tau), (tau, 0, t)),[Integral(A(tau), (tau, 0, t)),[Integral(A(tau), (tau, 0, t)),A(tau)]]]], (tau, 0, t))/720"
      ]
     },
     "execution_count": 6,
     "metadata": {},
     "output_type": "execute_result"
    }
   ],
   "source": [
    "Omega(5)"
   ]
  },
  {
   "cell_type": "code",
   "execution_count": 7,
   "metadata": {},
   "outputs": [],
   "source": [
    "def ad(k, Omega, A):\n",
    "    if k == 0:\n",
    "        return A\n",
    "    else:\n",
    "        return Commutator(Omega, ad(k - 1, Omega, A))"
   ]
  },
  {
   "cell_type": "markdown",
   "metadata": {},
   "source": [
    "$$\n",
    "\\begin{aligned}\n",
    "\\operatorname{ad}_{\\Omega}^0 A &= A\n",
    "\\\\\n",
    "\\operatorname{ad}_{\\Omega}^{k+1} A &= \\left[\\Omega, \\operatorname{ad}_{\\Omega}^k A\\right]\n",
    "\\end{aligned}\n",
    "$$\n",
    "\n",
    "$$\n",
    "\\begin{aligned}\n",
    "S_n^{(n-1)} &= \\operatorname{ad}_{\\Omega_1}^{n-1}(A)\n",
    "\\end{aligned}\n",
    "$$"
   ]
  },
  {
   "cell_type": "code",
   "execution_count": 8,
   "metadata": {},
   "outputs": [
    {
     "data": {
      "text/latex": [
       "$\\displaystyle \\left[\\int\\limits_{0}^{t} A{\\left(\\tau \\right)}\\, d\\tau,A{\\left(\\tau \\right)}\\right]$"
      ],
      "text/plain": [
       "[Integral(A(tau), (tau, 0, t)),A(tau)]"
      ]
     },
     "execution_count": 8,
     "metadata": {},
     "output_type": "execute_result"
    }
   ],
   "source": [
    "ad(1, Omega(1), A)"
   ]
  },
  {
   "cell_type": "code",
   "execution_count": 9,
   "metadata": {},
   "outputs": [
    {
     "data": {
      "text/latex": [
       "$\\displaystyle \\left[\\int\\limits_{0}^{t} A{\\left(\\tau \\right)}\\, d\\tau,A{\\left(\\tau \\right)}\\right]$"
      ],
      "text/plain": [
       "[Integral(A(tau), (tau, 0, t)),A(tau)]"
      ]
     },
     "execution_count": 9,
     "metadata": {},
     "output_type": "execute_result"
    }
   ],
   "source": [
    "S(2, 1)"
   ]
  },
  {
   "cell_type": "code",
   "execution_count": 10,
   "metadata": {},
   "outputs": [
    {
     "data": {
      "text/latex": [
       "$\\displaystyle \\left[\\int\\limits_{0}^{t} A{\\left(\\tau \\right)}\\, d\\tau,\\left[\\int\\limits_{0}^{t} A{\\left(\\tau \\right)}\\, d\\tau,A{\\left(\\tau \\right)}\\right]\\right]$"
      ],
      "text/plain": [
       "[Integral(A(tau), (tau, 0, t)),[Integral(A(tau), (tau, 0, t)),A(tau)]]"
      ]
     },
     "execution_count": 10,
     "metadata": {},
     "output_type": "execute_result"
    }
   ],
   "source": [
    "ad(2, Omega(1), A)"
   ]
  },
  {
   "cell_type": "code",
   "execution_count": 11,
   "metadata": {},
   "outputs": [
    {
     "data": {
      "text/latex": [
       "$\\displaystyle \\left[\\int\\limits_{0}^{t} A{\\left(\\tau \\right)}\\, d\\tau,\\left[\\int\\limits_{0}^{t} A{\\left(\\tau \\right)}\\, d\\tau,A{\\left(\\tau \\right)}\\right]\\right]$"
      ],
      "text/plain": [
       "[Integral(A(tau), (tau, 0, t)),[Integral(A(tau), (tau, 0, t)),A(tau)]]"
      ]
     },
     "execution_count": 11,
     "metadata": {},
     "output_type": "execute_result"
    }
   ],
   "source": [
    "S(3, 2)"
   ]
  },
  {
   "cell_type": "code",
   "execution_count": 12,
   "metadata": {},
   "outputs": [
    {
     "data": {
      "text/latex": [
       "$\\displaystyle \\left[\\int\\limits_{0}^{t} A{\\left(\\tau \\right)}\\, d\\tau,\\left[\\int\\limits_{0}^{t} A{\\left(\\tau \\right)}\\, d\\tau,\\left[\\int\\limits_{0}^{t} A{\\left(\\tau \\right)}\\, d\\tau,A{\\left(\\tau \\right)}\\right]\\right]\\right]$"
      ],
      "text/plain": [
       "[Integral(A(tau), (tau, 0, t)),[Integral(A(tau), (tau, 0, t)),[Integral(A(tau), (tau, 0, t)),A(tau)]]]"
      ]
     },
     "execution_count": 12,
     "metadata": {},
     "output_type": "execute_result"
    }
   ],
   "source": [
    "ad(3, Omega(1), A)"
   ]
  },
  {
   "cell_type": "code",
   "execution_count": 13,
   "metadata": {},
   "outputs": [
    {
     "data": {
      "text/latex": [
       "$\\displaystyle \\left[\\int\\limits_{0}^{t} A{\\left(\\tau \\right)}\\, d\\tau,\\left[\\int\\limits_{0}^{t} A{\\left(\\tau \\right)}\\, d\\tau,\\left[\\int\\limits_{0}^{t} A{\\left(\\tau \\right)}\\, d\\tau,A{\\left(\\tau \\right)}\\right]\\right]\\right]$"
      ],
      "text/plain": [
       "[Integral(A(tau), (tau, 0, t)),[Integral(A(tau), (tau, 0, t)),[Integral(A(tau), (tau, 0, t)),A(tau)]]]"
      ]
     },
     "execution_count": 13,
     "metadata": {},
     "output_type": "execute_result"
    }
   ],
   "source": [
    "S(4, 3)"
   ]
  }
 ],
 "metadata": {
  "kernelspec": {
   "display_name": "Python 3",
   "language": "python",
   "name": "python3"
  },
  "language_info": {
   "codemirror_mode": {
    "name": "ipython",
    "version": 3
   },
   "file_extension": ".py",
   "mimetype": "text/x-python",
   "name": "python",
   "nbconvert_exporter": "python",
   "pygments_lexer": "ipython3",
   "version": "3.9.16"
  },
  "orig_nbformat": 4
 },
 "nbformat": 4,
 "nbformat_minor": 2
}
