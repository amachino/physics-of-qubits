{
 "cells": [
  {
   "cell_type": "markdown",
   "metadata": {},
   "source": [
    "# Coupled Qubits"
   ]
  },
  {
   "cell_type": "code",
   "execution_count": 1,
   "metadata": {},
   "outputs": [
    {
     "data": {
      "text/latex": [
       "$\\displaystyle \\left[\\begin{matrix}0 & 0 & 0 & 0\\\\0 & \\omega_{2} & g & 0\\\\0 & g & \\omega_{1} & 0\\\\0 & 0 & 0 & \\omega_{1} + \\omega_{2}\\end{matrix}\\right]$"
      ],
      "text/plain": [
       "Matrix([\n",
       "[0,       0,       0,                 0],\n",
       "[0, omega_2,       g,                 0],\n",
       "[0,       g, omega_1,                 0],\n",
       "[0,       0,       0, omega_1 + omega_2]])"
      ]
     },
     "execution_count": 1,
     "metadata": {},
     "output_type": "execute_result"
    }
   ],
   "source": [
    "from sympy import Matrix, det, eye, solve, symbols\n",
    "\n",
    "# Declare variables\n",
    "omega_1, omega_2, g = symbols(\"omega_1 omega_2 g\")\n",
    "\n",
    "# Define the Hamiltonian matrix\n",
    "H = Matrix(\n",
    "    [\n",
    "        [0, 0, 0, 0],\n",
    "        [0, omega_2, g, 0],\n",
    "        [0, g, omega_1, 0],\n",
    "        [0, 0, 0, omega_2 + omega_1],\n",
    "    ]\n",
    ")\n",
    "\n",
    "H"
   ]
  },
  {
   "cell_type": "code",
   "execution_count": 2,
   "metadata": {},
   "outputs": [
    {
     "data": {
      "text/latex": [
       "$\\displaystyle - \\lambda \\left(- \\lambda + \\omega_{1} + \\omega_{2}\\right) \\left(- g^{2} + \\lambda^{2} - \\lambda \\omega_{1} - \\lambda \\omega_{2} + \\omega_{1} \\omega_{2}\\right)$"
      ],
      "text/plain": [
       "-lambda*(-lambda + omega_1 + omega_2)*(-g**2 + lambda**2 - lambda*omega_1 - lambda*omega_2 + omega_1*omega_2)"
      ]
     },
     "metadata": {},
     "output_type": "display_data"
    },
    {
     "data": {
      "text/latex": [
       "$\\displaystyle 0$"
      ],
      "text/plain": [
       "0"
      ]
     },
     "metadata": {},
     "output_type": "display_data"
    },
    {
     "data": {
      "text/latex": [
       "$\\displaystyle \\omega_{1} + \\omega_{2}$"
      ],
      "text/plain": [
       "omega_1 + omega_2"
      ]
     },
     "metadata": {},
     "output_type": "display_data"
    },
    {
     "data": {
      "text/latex": [
       "$\\displaystyle \\frac{\\omega_{1}}{2} + \\frac{\\omega_{2}}{2} - \\frac{\\sqrt{4 g^{2} + \\omega_{1}^{2} - 2 \\omega_{1} \\omega_{2} + \\omega_{2}^{2}}}{2}$"
      ],
      "text/plain": [
       "omega_1/2 + omega_2/2 - sqrt(4*g**2 + omega_1**2 - 2*omega_1*omega_2 + omega_2**2)/2"
      ]
     },
     "metadata": {},
     "output_type": "display_data"
    },
    {
     "data": {
      "text/latex": [
       "$\\displaystyle \\frac{\\omega_{1}}{2} + \\frac{\\omega_{2}}{2} + \\frac{\\sqrt{4 g^{2} + \\omega_{1}^{2} - 2 \\omega_{1} \\omega_{2} + \\omega_{2}^{2}}}{2}$"
      ],
      "text/plain": [
       "omega_1/2 + omega_2/2 + sqrt(4*g**2 + omega_1**2 - 2*omega_1*omega_2 + omega_2**2)/2"
      ]
     },
     "metadata": {},
     "output_type": "display_data"
    }
   ],
   "source": [
    "lam = symbols(\"lambda\")\n",
    "\n",
    "# Calculate the determinant and set it to zero to find eigenvalues\n",
    "eigenvalue_eq = det(H - lam * eye(4))\n",
    "\n",
    "display(eigenvalue_eq)\n",
    "\n",
    "eigenvalues = solve(eigenvalue_eq, lam)\n",
    "\n",
    "for eigenvalue in eigenvalues:\n",
    "    display(eigenvalue)"
   ]
  },
  {
   "cell_type": "code",
   "execution_count": 3,
   "metadata": {},
   "outputs": [
    {
     "data": {
      "text/plain": [
       "{v_2: 0, v_3: 0, v_4: 0}"
      ]
     },
     "metadata": {},
     "output_type": "display_data"
    },
    {
     "data": {
      "text/plain": [
       "{v_1: 0, v_2: 0, v_3: 0}"
      ]
     },
     "metadata": {},
     "output_type": "display_data"
    },
    {
     "data": {
      "text/plain": [
       "{v_1: 0,\n",
       " v_2: 2*g*v_3/(omega_1 - omega_2 - sqrt(4*g**2 + omega_1**2 - 2*omega_1*omega_2 + omega_2**2)),\n",
       " v_4: 0}"
      ]
     },
     "metadata": {},
     "output_type": "display_data"
    },
    {
     "data": {
      "text/plain": [
       "{v_1: 0,\n",
       " v_2: 2*g*v_3/(omega_1 - omega_2 + sqrt(4*g**2 + omega_1**2 - 2*omega_1*omega_2 + omega_2**2)),\n",
       " v_4: 0}"
      ]
     },
     "metadata": {},
     "output_type": "display_data"
    }
   ],
   "source": [
    "# Calculate eigenvectors for each eigenvalue by solving (H - lambda * I) v = 0\n",
    "eigenvectors = []\n",
    "for eigenval in eigenvalues:\n",
    "    eigenvector_eq = H - eigenval * eye(4)\n",
    "    # Define a eigen vector v = [v_1, v_2, v_3, v_4]\n",
    "    v = Matrix(symbols(\"v_1 v_2 v_3 v_4\"))\n",
    "    # Solve the equation (H - lambda * I) * v = 0\n",
    "    eigenvector = solve(eigenvector_eq * v, v)\n",
    "    eigenvectors.append(eigenvector)\n",
    "\n",
    "for eigenvector in eigenvectors:\n",
    "    display(eigenvector)"
   ]
  },
  {
   "cell_type": "code",
   "execution_count": 4,
   "metadata": {},
   "outputs": [
    {
     "data": {
      "text/latex": [
       "$\\displaystyle 0$"
      ],
      "text/plain": [
       "0"
      ]
     },
     "metadata": {},
     "output_type": "display_data"
    },
    {
     "data": {
      "text/latex": [
       "$\\displaystyle \\frac{\\omega_{1}}{2} + \\frac{\\omega_{2}}{2} - \\frac{\\sqrt{4 g^{2} + \\omega_{1}^{2} - 2 \\omega_{1} \\omega_{2} + \\omega_{2}^{2}}}{2}$"
      ],
      "text/plain": [
       "omega_1/2 + omega_2/2 - sqrt(4*g**2 + omega_1**2 - 2*omega_1*omega_2 + omega_2**2)/2"
      ]
     },
     "metadata": {},
     "output_type": "display_data"
    },
    {
     "data": {
      "text/latex": [
       "$\\displaystyle \\frac{\\omega_{1}}{2} + \\frac{\\omega_{2}}{2} + \\frac{\\sqrt{4 g^{2} + \\omega_{1}^{2} - 2 \\omega_{1} \\omega_{2} + \\omega_{2}^{2}}}{2}$"
      ],
      "text/plain": [
       "omega_1/2 + omega_2/2 + sqrt(4*g**2 + omega_1**2 - 2*omega_1*omega_2 + omega_2**2)/2"
      ]
     },
     "metadata": {},
     "output_type": "display_data"
    },
    {
     "data": {
      "text/latex": [
       "$\\displaystyle \\omega_{1} + \\omega_{2}$"
      ],
      "text/plain": [
       "omega_1 + omega_2"
      ]
     },
     "metadata": {},
     "output_type": "display_data"
    }
   ],
   "source": [
    "for eigenval in H.eigenvals():\n",
    "    display(eigenval)"
   ]
  },
  {
   "cell_type": "code",
   "execution_count": 5,
   "metadata": {},
   "outputs": [
    {
     "data": {
      "text/latex": [
       "$\\displaystyle \\left[\\begin{matrix}1\\\\0\\\\0\\\\0\\end{matrix}\\right]$"
      ],
      "text/plain": [
       "Matrix([\n",
       "[1],\n",
       "[0],\n",
       "[0],\n",
       "[0]])"
      ]
     },
     "metadata": {},
     "output_type": "display_data"
    },
    {
     "data": {
      "text/latex": [
       "$\\displaystyle \\left[\\begin{matrix}0\\\\0\\\\0\\\\1\\end{matrix}\\right]$"
      ],
      "text/plain": [
       "Matrix([\n",
       "[0],\n",
       "[0],\n",
       "[0],\n",
       "[1]])"
      ]
     },
     "metadata": {},
     "output_type": "display_data"
    },
    {
     "data": {
      "text/latex": [
       "$\\displaystyle \\left[\\begin{matrix}0\\\\- \\frac{\\omega_{1}}{g} + \\frac{\\frac{\\omega_{1}}{2} + \\frac{\\omega_{2}}{2} - \\frac{\\sqrt{4 g^{2} + \\omega_{1}^{2} - 2 \\omega_{1} \\omega_{2} + \\omega_{2}^{2}}}{2}}{g}\\\\1\\\\0\\end{matrix}\\right]$"
      ],
      "text/plain": [
       "Matrix([\n",
       "[                                                                                                    0],\n",
       "[-omega_1/g + (omega_1/2 + omega_2/2 - sqrt(4*g**2 + omega_1**2 - 2*omega_1*omega_2 + omega_2**2)/2)/g],\n",
       "[                                                                                                    1],\n",
       "[                                                                                                    0]])"
      ]
     },
     "metadata": {},
     "output_type": "display_data"
    },
    {
     "data": {
      "text/latex": [
       "$\\displaystyle \\left[\\begin{matrix}0\\\\- \\frac{\\omega_{1}}{g} + \\frac{\\frac{\\omega_{1}}{2} + \\frac{\\omega_{2}}{2} + \\frac{\\sqrt{4 g^{2} + \\omega_{1}^{2} - 2 \\omega_{1} \\omega_{2} + \\omega_{2}^{2}}}{2}}{g}\\\\1\\\\0\\end{matrix}\\right]$"
      ],
      "text/plain": [
       "Matrix([\n",
       "[                                                                                                    0],\n",
       "[-omega_1/g + (omega_1/2 + omega_2/2 + sqrt(4*g**2 + omega_1**2 - 2*omega_1*omega_2 + omega_2**2)/2)/g],\n",
       "[                                                                                                    1],\n",
       "[                                                                                                    0]])"
      ]
     },
     "metadata": {},
     "output_type": "display_data"
    }
   ],
   "source": [
    "for eigenvect in H.eigenvects():\n",
    "    display(eigenvect[2][0])"
   ]
  }
 ],
 "metadata": {
  "kernelspec": {
   "display_name": "Python 3",
   "language": "python",
   "name": "python3"
  },
  "language_info": {
   "codemirror_mode": {
    "name": "ipython",
    "version": 3
   },
   "file_extension": ".py",
   "mimetype": "text/x-python",
   "name": "python",
   "nbconvert_exporter": "python",
   "pygments_lexer": "ipython3",
   "version": "3.9.16"
  },
  "orig_nbformat": 4
 },
 "nbformat": 4,
 "nbformat_minor": 2
}
