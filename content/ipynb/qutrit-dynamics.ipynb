{
 "cells": [
  {
   "cell_type": "markdown",
   "metadata": {},
   "source": [
    "# Qutrit Dynamics"
   ]
  },
  {
   "cell_type": "code",
   "execution_count": 1,
   "metadata": {},
   "outputs": [],
   "source": [
    "import numpy as np\n",
    "import qctrlvisualizer as qv\n",
    "import qutip as qt\n",
    "from scipy.linalg import expm"
   ]
  },
  {
   "cell_type": "code",
   "execution_count": 2,
   "metadata": {},
   "outputs": [],
   "source": [
    "anharmonicity = -330\n",
    "alpha = anharmonicity * 2 * np.pi\n",
    "\n",
    "\n",
    "def H_ge(rabi):\n",
    "    Omega = 2 * np.pi * rabi\n",
    "    return np.array(\n",
    "        [\n",
    "            [0, 0.5 * np.conj(Omega), 0],\n",
    "            [0.5 * Omega, 0, 0.5 * np.sqrt(2) * np.conj(Omega)],\n",
    "            [0, 0.5 * np.sqrt(2) * Omega, alpha],\n",
    "        ]\n",
    "    )\n",
    "\n",
    "\n",
    "def H_ef(rabi):\n",
    "    Omega = 2 * np.pi * rabi\n",
    "    return np.array(\n",
    "        [\n",
    "            [0, 0.5 * np.conj(Omega), 0],\n",
    "            [0.5 * Omega, -alpha, 0.5 * np.sqrt(2) * np.conj(Omega)],\n",
    "            [0, 0.5 * np.sqrt(2) * Omega, -alpha],\n",
    "        ]\n",
    "    )"
   ]
  },
  {
   "cell_type": "markdown",
   "metadata": {},
   "source": [
    "## ge"
   ]
  },
  {
   "cell_type": "code",
   "execution_count": 3,
   "metadata": {},
   "outputs": [],
   "source": [
    "rabi = 10.0\n",
    "duration = 0.1\n",
    "times = np.linspace(0, duration, 100)\n",
    "\n",
    "unitaries = [expm(-1j * H_ge(rabi) * t) for t in times]"
   ]
  },
  {
   "cell_type": "code",
   "execution_count": 4,
   "metadata": {},
   "outputs": [
    {
     "data": {
      "text/latex": [
       "Quantum object: dims = [[3], [3]], shape = (3, 3), type = oper, isherm = True $ \\\\ \\left(\\begin{matrix}-0.999 & 0.0 & 0.0\\\\0.0 & -0.998 & 0.0\\\\0.0 & 0.0 & 0.995\\\\\\end{matrix}\\right)$"
      ],
      "text/plain": [
       "Quantum object: dims = [[3], [3]], shape = (3, 3), type = oper, isherm = True\n",
       "Qobj data =\n",
       "[[-0.99886732  0.          0.        ]\n",
       " [ 0.         -0.99795322  0.        ]\n",
       " [ 0.          0.          0.99455895]]"
      ]
     },
     "execution_count": 4,
     "metadata": {},
     "output_type": "execute_result"
    }
   ],
   "source": [
    "qt.Qobj(unitaries[-1]).tidyup(1e-1)"
   ]
  },
  {
   "cell_type": "code",
   "execution_count": 5,
   "metadata": {},
   "outputs": [],
   "source": [
    "initial_state = [1, 0, 0]\n",
    "\n",
    "states = [U @ initial_state for U in unitaries]"
   ]
  },
  {
   "cell_type": "code",
   "execution_count": 6,
   "metadata": {},
   "outputs": [],
   "source": [
    "states_ge = np.array(states)[:, :2]"
   ]
  },
  {
   "cell_type": "code",
   "execution_count": 7,
   "metadata": {},
   "outputs": [
    {
     "data": {
      "text/html": [
       "\n",
       "    <div\n",
       "        class=\"qctrlvisualizer\"\n",
       "        style=\"display:flex;flex-direction:column;align-items:center;\"\n",
       "    >\n",
       "        <div\n",
       "            class=\"qctrlvisualizer-wrapper\"\n",
       "            style=\"width:300px;height:300px;margin:0.5rem 0\"\n",
       "            id=\"qctrlvisualizer-wrapper-4e9525a18ee144e5b5fdac8426cabd8e\"\n",
       "        ></div>\n",
       "        <input\n",
       "            class=\"qctrlvisualizer-progress-bar\"\n",
       "            style=\"margin:0.5rem 0\"\n",
       "            id=\"qctrlvisualizer-progress-bar-4e9525a18ee144e5b5fdac8426cabd8e\"\n",
       "            type=\"range\"\n",
       "            min=\"0\"\n",
       "            max=\"1\"\n",
       "            step=\"0.01\"\n",
       "            value=\"0\"\n",
       "        >\n",
       "        <button\n",
       "            class=\"qctrlvisualizer-button qctrlvisualizer-button-play\"\n",
       "            style=\"margin:0.5rem 0\"\n",
       "            id=\"qctrlvisualizer-button-4e9525a18ee144e5b5fdac8426cabd8e\"\n",
       "        >Play</button>\n",
       "    </div>\n",
       "    "
      ],
      "text/plain": [
       "<IPython.core.display.HTML object>"
      ]
     },
     "metadata": {},
     "output_type": "display_data"
    },
    {
     "data": {
      "application/javascript": "\n    function visualizerLoader() {\n      if ((typeof Visualizer) == \"function\") {\n        console.log(\"Using preloaded Q-CTRL Visualizer JavaScript package.\");\n        displayBlochSphere();\n        return;\n      }\n\n      try {\n        console.log(\"Attempting to load https://cdn.jsdelivr.net/npm/@qctrl/visualizer@3.1.14/umd/visualizer.min.js with require.js.\");\n        requirejs([\"https://cdn.jsdelivr.net/npm/@qctrl/visualizer@3.1.14/umd/visualizer.min.js\"], displayBlochSphere, displayErrorMessage);\n      } catch(error) {\n        var existing_script = document.getElementById(\"qctrlvisualizer-script\");\n\n        if (existing_script !== null) {\n          console.log(\n            \"Script tag for the Q-CTRL Visualizer JavaScript package already exists.\"\n            + \" Delaying execution of function until script is loaded.\"\n          );\n          existing_script.addEventListener(\"load\", displayBlochSphere);\n          existing_script.addEventListener(\"error\", displayErrorMessage);\n          return;\n        }\n\n        console.log(\"Attempting to load https://cdn.jsdelivr.net/npm/@qctrl/visualizer@3.1.14/umd/visualizer.min.js with script tag.\");\n        var script = document.createElement(\"script\");\n        script.onload = displayBlochSphere;\n        script.onerror = displayErrorMessage;\n        script.id = \"qctrlvisualizer-script\";\n        script.src = \"https://cdn.jsdelivr.net/npm/@qctrl/visualizer@3.1.14/umd/visualizer.min.js\";\n        document.head.appendChild(script);\n      }\n    }\n\n    function displayBlochSphere() { \n    let isPlaying = false;\n    let progress = 0;\n\n    const visualizationData = {\"data\": {\"qubits\": [{\"name\": \"qubit1\", \"x\": [0.0, -9.64048580195711e-06, -0.00010099728601492401, -0.00027355650849054345, -0.0004644840872460813, -0.0007352531814914416, -0.0010843395519740768, -0.0014490945092475202, -0.0018894912451491983, -0.002403046941443365, -0.002927897107982526, -0.003522006978414111, -0.004182019642356823, -0.004847461635477607, -0.0055738152223811085, -0.006356963978965493, -0.007138432882636326, -0.007970781480410373, -0.008849274950061967, -0.009718036744203138, -0.010626300639056618, -0.011568876703694591, -0.012493071150810116, -0.013444426294462297, -0.014417477530928955, -0.015363273793054423, -0.016323337609116115, -0.017292121760115423, -0.01822494494757543, -0.019159018427529623, -0.0200889102045787, -0.020974694497309248, -0.021849015709626628, -0.02270675472585927, -0.023513177750569936, -0.024296141474611954, -0.025051031241687206, -0.02574868506849528, -0.026411984489347187, -0.027036999177320366, -0.027600455593067324, -0.028120104810059297, -0.028592863798130558, -0.02900159533748728, -0.02935879574611253, -0.029662370765432475, -0.02990149419691007, -0.030083313445509137, -0.030206839160242298, -0.030267654543824123, -0.030267493538911713, -0.03020655951015356, -0.030086865334465984, -0.02990469642720795, -0.029661506299644688, -0.029365679302258252, -0.02900804705661998, -0.028591339214795116, -0.02813017599682393, -0.0276099605185576, -0.027034693074480295, -0.02642501923267749, -0.02576097061760108, -0.02504778210298565, -0.024311843007769066, -0.023527903737726737, -0.02270236897484208, -0.021867024217383853, -0.02099146399402386, -0.020083172016294587, -0.019178922646638695, -0.01824331692987833, -0.017284804249756827, -0.01634468797435227, -0.015382777139228941, -0.01440835488425999, -0.013466749166788035, -0.012513219505309016, -0.011557736775044784, -0.010649113116354594, -0.009738343734108486, -0.008835931832149056, -0.007993606273100293, -0.007158427161778606, -0.006341270045589674, -0.005596195076675248, -0.004866701238797202, -0.004163876580223724, -0.003543518148933014, -0.0029459826246018943, -0.0023824153205211675, -0.0019097555554165868, -0.0014656806261109656, -0.0010612465336889351, -0.0007539482640783381, -0.00047928911447332224, -0.00024810135595560064, -0.00011786466187982576, -2.245354797374968e-05, 2.764286797995541e-05], \"y\": [0.0, -0.0634068457667313, -0.12652241998609023, -0.18916473457425362, -0.2510452723060721, -0.31187955633211206, -0.3714941266689671, -0.4296126660378908, -0.48596680848543583, -0.5403998243660048, -0.5926566062607534, -0.6424936544351363, -0.6897785320294594, -0.7342855992010207, -0.7758041087709061, -0.8142325488385526, -0.8493819633487312, -0.8810810979200715, -0.9092648111186071, -0.9337867536218866, -0.954520521832006, -0.9714413907445685, -0.9844500422451746, -0.9934687125063938, -0.9985155778448241, -0.9995411260412158, -0.9965183223930791, -0.9895090641591157, -0.9785146778648921, -0.9635591778005038, -0.9447472935437322, -0.9221304518405187, -0.8957822597598213, -0.8658477022573092, -0.8324258303641654, -0.795636668500457, -0.7556612739568924, -0.7126422048650174, -0.6667411265991792, -0.6181695212763847, -0.567107850506239, -0.5137532185802332, -0.45834061649022945, -0.4010815270684869, -0.34220109190941533, -0.28194986988617055, -0.2205624573928346, -0.15828370075821202, -0.09537104274283058, -0.032073549684148876, 0.03135318939971596, 0.09465396431986599, 0.15757430320814755, 0.21985714243078802, 0.28125872545792674, 0.3415283306444118, 0.40041666009618965, 0.4577004033525859, 0.5131415042776225, 0.5665073113442449, 0.6176033971651914, 0.666212723778744, 0.712127488618091, 0.7551897206396818, 0.7952108892540855, 0.8320152722771926, 0.8654877857920374, 0.895474763647868, 0.9218385668770314, 0.9445120479261279, 0.9633814032359365, 0.9783516388552009, 0.9894070206222036, 0.9964770700880222, 0.9995123992352883, 0.9985504568116701, 0.9935658960646542, 0.9845561934129, 0.9716119675589259, 0.9547530945357635, 0.9340234316761151, 0.9095649603993302, 0.8814411583953841, 0.8497400620476723, 0.8146514658503655, 0.7762791817562361, 0.7347515910477709, 0.6903011230672427, 0.6430671365526209, 0.5932130364919228, 0.5410072520436534, 0.4866185629544257, 0.430238788805361, 0.37216449040764693, 0.31258663518456986, 0.25171780601496885, 0.18987386170070142, 0.12725988773744457, 0.06410082022484515, 0.000722318869932207], \"z\": [1.0, 0.9979873645626556, 0.9919607953170001, 0.98194111340882, 0.9679688841599787, 0.9501069734787807, 0.9284169994718563, 0.9029900213885133, 0.8739382902042214, 0.841361716387667, 0.8053987144041888, 0.7662070812097191, 0.7239209488061003, 0.6787213313138799, 0.6308061726538325, 0.5803383405993331, 0.5275352474519238, 0.4726282161531693, 0.41580215360480305, 0.35730344519229046, 0.2973888957712627, 0.23625779322512908, 0.17417711292097637, 0.11142039528182857, 0.048192975148521555, -0.015226623877527656, -0.07855741136671895, -0.14159670395163676, -0.20406380788097872, -0.2656797785015098, -0.3262533207903187, -0.3855109516281277, -0.44318514200322084, -0.49910443197236054, -0.553011599573205, -0.6046594441680871, -0.653904178298025, -0.700513241140271, -0.7442679016341605, -0.7850589747278722, -0.8226860140815317, -0.8569658415887429, -0.8878296308495043, -0.9151152954389463, -0.9386809878281379, -0.9585025983568561, -0.97446122096239, -0.9864606098817291, -0.9945241576279313, -0.9985793688558966, -0.9985782180626254, -0.994592694658064, -0.9865982470246432, -0.9745959490887792, -0.9587057339831586, -0.9389507838720677, -0.9153803880105458, -0.8881600280898916, -0.857358684747804, -0.8230712547295163, -0.7855047000827068, -0.7447702193154391, -0.7010040866004152, -0.6544491327670648, -0.6052536878518247, -0.553589710929558, -0.4997289325167238, -0.44385041600224906, -0.38615486255202824, -0.326934811232954, -0.26639258992785236, -0.20474970566709605, -0.14231056963379574, -0.07929251425100153, -0.015929215004438668, 0.047472518385598295, 0.11068909217767042, 0.1734836840302021, 0.2355567678486069, 0.2966873902125117, 0.35664465745380836, 0.4151458806286301, 0.47198147664790374, 0.5269352784114191, 0.5797505252011617, 0.6302372394084852, 0.6782021798961387, 0.723422824353899, 0.7657362362845455, 0.8049794028559498, 0.8409712777958112, 0.8735823268323025, 0.9026859052827554, 0.9281483535784746, 0.9498785909340224, 0.9677910954205492, 0.9818039698372771, 0.9918681411846065, 0.9979424076569592, 0.9999993208911286]}]}};\n    const themeSettings = {\"highlightColor\": \"#EB6467\", \"pathColor\": \"#EB6467\"};\n    const labels = {\"xAxis\": true, \"yAxis\": true, \"zAxis\": true, \"theta\": true, \"phi\": true, \"northPole\": true, \"southPole\": true, \"nonErrorState\": false};\n\n    const wrapper = document.getElementById(\"qctrlvisualizer-wrapper-4e9525a18ee144e5b5fdac8426cabd8e\");\n    const progressBar = document.getElementById(\"qctrlvisualizer-progress-bar-4e9525a18ee144e5b5fdac8426cabd8e\");\n    const button = document.getElementById(\"qctrlvisualizer-button-4e9525a18ee144e5b5fdac8426cabd8e\");\n\n    function updateButton () {\n      button.classList.remove(...[\n        \"qctrlvisualizer-button-play\",\n        \"qctrlvisualizer-button-pause\",\n        \"qctrlvisualizer-button-replay\"\n      ]);\n      if (isPlaying) {\n        button.classList.add(\"qctrlvisualizer-button-pause\");\n        button.innerHTML = \"Pause\";\n        return;\n      }\n      if (progress>=1) {\n        button.classList.add(\"qctrlvisualizer-button-replay\");\n        button.innerHTML = \"Replay\";\n        return;\n      }\n      button.classList.add(\"qctrlvisualizer-button-play\");\n      button.innerHTML = \"Play\";\n    }\n\n    button.onclick = () => {\n      isPlaying = !isPlaying;\n      if (progress >= 1) progress = 0;\n      updateButton();\n      visualizer.update({ isPlaying, progress });\n    };\n\n    progressBar.oninput = ({ target }) => {\n      progress = +target.value;\n      visualizer.update({ progress });\n      updateButton();\n    };\n\n    const onUpdate = ({ target, data }) => {\n      progress = data.progress;\n      progressBar.value = progress;\n      if (progress >= 1) {\n        isPlaying = false;\n        target.update({ isPlaying });\n        updateButton();\n      }\n    };\n\n    const visualizer = new Visualizer({\n      visualizationData,\n      wrapper,\n      onUpdate,\n      labels,\n    }).init();\n\n    visualizer.update({ themeSettings });\n     }\n\n    function displayErrorMessage() {\n      console.log(\"Failed to load https://cdn.jsdelivr.net/npm/@qctrl/visualizer@3.1.14/umd/visualizer.min.js.\");\n      const wrapper = document.getElementById(\"qctrlvisualizer-wrapper-4e9525a18ee144e5b5fdac8426cabd8e\");\n      wrapper.innerHTML = \"Could not load JavaScript at https://cdn.jsdelivr.net/npm/@qctrl/visualizer@3.1.14/umd/visualizer.min.js.\";\n    }\n\n    visualizerLoader();\n    ",
      "text/plain": [
       "<IPython.core.display.Javascript object>"
      ]
     },
     "metadata": {},
     "output_type": "display_data"
    }
   ],
   "source": [
    "qv.display_bloch_sphere(states_ge)"
   ]
  },
  {
   "cell_type": "markdown",
   "metadata": {},
   "source": [
    "## ef"
   ]
  },
  {
   "cell_type": "code",
   "execution_count": 8,
   "metadata": {},
   "outputs": [],
   "source": [
    "rabi = 10.0\n",
    "duration = 0.1\n",
    "times = np.linspace(0, duration, 100)\n",
    "\n",
    "unitaries = [expm(-1j * H_ef(rabi) * t) for t in times]"
   ]
  },
  {
   "cell_type": "code",
   "execution_count": 20,
   "metadata": {},
   "outputs": [
    {
     "data": {
      "text/latex": [
       "Quantum object: dims = [[3], [3]], shape = (3, 3), type = oper, isherm = False $ \\\\ \\left(\\begin{matrix}0.999 & 0.0 & 0.0\\\\0.0 & -0.266 & 0.963j\\\\0.0 & 0.963j & -0.267\\\\\\end{matrix}\\right)$"
      ],
      "text/plain": [
       "Quantum object: dims = [[3], [3]], shape = (3, 3), type = oper, isherm = False\n",
       "Qobj data =\n",
       "[[ 0.99857591+0.j          0.        +0.j          0.        +0.j        ]\n",
       " [ 0.        +0.j         -0.26619627+0.j          0.        +0.96338584j]\n",
       " [ 0.        +0.j          0.        +0.96338584j -0.26673255+0.j        ]]"
      ]
     },
     "execution_count": 20,
     "metadata": {},
     "output_type": "execute_result"
    }
   ],
   "source": [
    "qt.Qobj(unitaries[-1]).tidyup(1e-1)"
   ]
  },
  {
   "cell_type": "code",
   "execution_count": 10,
   "metadata": {},
   "outputs": [],
   "source": [
    "initial_state = [1, 0, 0]\n",
    "\n",
    "states = [U @ initial_state for U in unitaries]"
   ]
  },
  {
   "cell_type": "code",
   "execution_count": 11,
   "metadata": {},
   "outputs": [],
   "source": [
    "states_ge = np.array(states)[:, :2]"
   ]
  },
  {
   "cell_type": "code",
   "execution_count": 12,
   "metadata": {},
   "outputs": [
    {
     "data": {
      "text/html": [
       "\n",
       "    <div\n",
       "        class=\"qctrlvisualizer\"\n",
       "        style=\"display:flex;flex-direction:column;align-items:center;\"\n",
       "    >\n",
       "        <div\n",
       "            class=\"qctrlvisualizer-wrapper\"\n",
       "            style=\"width:300px;height:300px;margin:0.5rem 0\"\n",
       "            id=\"qctrlvisualizer-wrapper-70ff9ddcf91b4e70878abe5848d5e197\"\n",
       "        ></div>\n",
       "        <input\n",
       "            class=\"qctrlvisualizer-progress-bar\"\n",
       "            style=\"margin:0.5rem 0\"\n",
       "            id=\"qctrlvisualizer-progress-bar-70ff9ddcf91b4e70878abe5848d5e197\"\n",
       "            type=\"range\"\n",
       "            min=\"0\"\n",
       "            max=\"1\"\n",
       "            step=\"0.01\"\n",
       "            value=\"0\"\n",
       "        >\n",
       "        <button\n",
       "            class=\"qctrlvisualizer-button qctrlvisualizer-button-play\"\n",
       "            style=\"margin:0.5rem 0\"\n",
       "            id=\"qctrlvisualizer-button-70ff9ddcf91b4e70878abe5848d5e197\"\n",
       "        >Play</button>\n",
       "    </div>\n",
       "    "
      ],
      "text/plain": [
       "<IPython.core.display.HTML object>"
      ]
     },
     "metadata": {},
     "output_type": "display_data"
    },
    {
     "data": {
      "application/javascript": "\n    function visualizerLoader() {\n      if ((typeof Visualizer) == \"function\") {\n        console.log(\"Using preloaded Q-CTRL Visualizer JavaScript package.\");\n        displayBlochSphere();\n        return;\n      }\n\n      try {\n        console.log(\"Attempting to load https://cdn.jsdelivr.net/npm/@qctrl/visualizer@3.1.14/umd/visualizer.min.js with require.js.\");\n        requirejs([\"https://cdn.jsdelivr.net/npm/@qctrl/visualizer@3.1.14/umd/visualizer.min.js\"], displayBlochSphere, displayErrorMessage);\n      } catch(error) {\n        var existing_script = document.getElementById(\"qctrlvisualizer-script\");\n\n        if (existing_script !== null) {\n          console.log(\n            \"Script tag for the Q-CTRL Visualizer JavaScript package already exists.\"\n            + \" Delaying execution of function until script is loaded.\"\n          );\n          existing_script.addEventListener(\"load\", displayBlochSphere);\n          existing_script.addEventListener(\"error\", displayErrorMessage);\n          return;\n        }\n\n        console.log(\"Attempting to load https://cdn.jsdelivr.net/npm/@qctrl/visualizer@3.1.14/umd/visualizer.min.js with script tag.\");\n        var script = document.createElement(\"script\");\n        script.onload = displayBlochSphere;\n        script.onerror = displayErrorMessage;\n        script.id = \"qctrlvisualizer-script\";\n        script.src = \"https://cdn.jsdelivr.net/npm/@qctrl/visualizer@3.1.14/umd/visualizer.min.js\";\n        document.head.appendChild(script);\n      }\n    }\n\n    function displayBlochSphere() { \n    let isPlaying = false;\n    let progress = 0;\n\n    const visualizationData = {\"data\": {\"qubits\": [{\"name\": \"qubit1\", \"x\": [0.0, -0.045418430327458285, -0.04537282469491477, -0.0002740950059676723, -0.045189908354606935, -0.04505596378682953, -0.0010914096865540642, -0.04468934950486357, -0.04447559406191395, -0.0024371236170010148, -0.043923807272892065, -0.04364416022695031, -0.004286836367801628, -0.042905207688430175, -0.04257854617586742, -0.0066070120792679375, -0.04165017001150219, -0.041299737945988256, -0.00935559029789065, -0.040179740806425786, -0.03983241521932101, -0.012482751779177683, -0.03851904541403993, -0.03820447911196594, -0.015931825116819696, -0.03669686236216726, -0.036446525075985475, -0.019640317487656347, -0.03474512770202067, -0.03459127066837392, -0.02354105055378595, -0.03269837760638554, -0.03267294870546871, -0.027563380677901726, -0.030593138787620804, -0.03072667690458174, -0.03163448111817113, -0.02846727736423242, -0.028787815506210013, -0.03568066279899215, -0.026359317700010453, -0.026891324560790623, -0.03962870961932736, -0.024307743437551436, -0.025071132547410415, -0.04340720406798775, -0.02235029342947759, -0.023359527765194607, -0.04694781916369515, -0.020523265520415866, -0.021786583502024715, -0.05018655341737267, -0.018860841139704997, -0.02037962734440312, -0.0530648866078236, -0.017394443422676164, -0.01916276415565833, -0.055530835645678754, -0.016152141086217785, -0.01815646123040352, -0.05753989164413031, -0.015158109547037847, -0.01737720294884057, -0.0590558214829445, -0.014432159799043635, -0.01683722092675446, -0.06005131960447449, -0.01398934437589311, -0.016544304211391893, -0.06050849847294799, -0.013839648337764309, -0.01650169253867538, -0.06041920901419348, -0.013987771664539067, -0.016708054074718957, -0.05978518538292907, -0.014433007742038761, -0.017157547447855727, -0.05861801152777754, -0.015169220828356113, -0.017839966270466485, -0.05693891018816272, -0.016184923521154762, -0.018740962787298778, -0.05477835811002769, -0.01746345335286174, -0.019842345801881652, -0.05217553435618211, -0.018983245758572787, -0.021122446656573767, -0.049177611560953294, -0.020718198830082732, -0.02255654580329738, -0.045838902787131874, -0.022638123526159064, -0.024117351425955967, -0.042219879238065486, -0.024709271388856136, -0.02577552068264929, -0.038386076413489324], \"y\": [0.0, -0.026216782766082965, 0.026137539126162866, 3.355028053639081e-07, -0.02582215151145079, 0.02558467331900087, 3.02797878859564e-06, -0.024961966892795635, 0.024567029056281, 1.0348912886003486e-05, -0.023652952668659657, 0.02310190177329599, 2.4401140979446964e-05, -0.021919910992442986, 0.0212147455318245, 4.7040287365247805e-05, -0.019795253021746635, 0.018938731039960004, 7.980295952122157e-05, -0.017318392842041903, 0.016314162460932088, 0.00012384369466412353, -0.014535016035182246, 0.013387763268412341, 0.0001798824391921615, -0.01149623647030131, 0.010211843810655019, 0.0002481640847627945, -0.008257656889612757, 0.006843365425979926, 0.00032843128941666545, -0.004878350568850956, 0.003342917867404553, 0.00041991148563529307, -0.0014197827211289474, -0.0002263715906808566, 0.0005213186270968062, 0.0020553086406373145, -0.0037999777060996874, 0.0006308698602242697, 0.005484051982149768, -0.007313144894570918, 0.0007463169339103717, 0.008804580953456027, -0.010702061780937125, 0.0008649917896773727, 0.011957151872775344, -0.013905021354067112, 0.0009838654136092916, 0.014885219778671884, -0.016863545615397563, 0.0010996186891120247, 0.017536453646447715, -0.019523454207136838, 0.0012087236739214424, 0.019863672520769093, -0.021835857476504676, 0.0013075334432521883, 0.021825685801202536, -0.023758055760317635, 0.0013923784002566125, 0.02338802270259021, -0.02525432833643933, 0.0014596667609205237, 0.024523537964717682, -0.02629659745575628, 0.0015059867779310056, 0.025212883167380996, -0.026864955105318698, 0.001528208180683853, 0.025444835475598487, -0.026948042620166153, 0.001523580278931772, 0.02521647824985051, -0.026543275913730936, 0.0014898242068923867, 0.02453323066003829, -0.0256569118869042, 0.0014252168729230281, 0.023408726189792204, -0.02430395445326602, 0.0013286643258255374, 0.02186454265989145, -0.02250790153058271, 0.0011997624498423117, 0.019929789085901446, -0.020300337243430347, 0.001038843152764398, 0.017640557267240002, -0.01772037640595246, 0.0008470045101672244, 0.015039248436014731, -0.014813971055732025, 0.0006261236677819729, 0.012173787530540742, -0.01163309133991464, 0.0003788516763614941, 0.009096739660470728, -0.00823479536669381, 0.00010858983130297012], \"z\": [1.0, 0.9986235799830608, 0.9986251992397951, 0.9999958282572311, 0.9986385043349867, 0.9986431961451919, 0.999983165561771, 0.9986693942168008, 0.9986766701990224, 0.9999615882457175, 0.9987149634954174, 0.9987240407631297, 0.999930451144398, 0.9987732969005665, 0.9987831426973949, 0.9998889738912544, 0.9988419663787073, 0.998851356727303, 0.9998363518646951, 0.9989181768360431, 0.9989257656692989, 0.9997718828017108, 0.9989989312456752, 0.9990033258976455, 0.9996950987121318, 0.9990812038316403, 0.9990810424460134, 0.9996058921158274, 0.9991621095830644, 0.9991561359688353, 0.9995046258314224, 0.999239058726213, 0.9992261904514728, 0.9993922165578114, 0.9993098859615848, 0.9992892720054464, 0.9992701842389576, 0.9993729461704357, 0.9993440112105212, 0.9991406615650634, 0.9994271707721819, 0.999389644115122, 0.9990063607704462, 0.9994720817909281, 0.9994260099890249, 0.9988704979390627, 0.9995077637583942, 0.9994535070235379, 0.9987366781044045, 0.9995347966193268, 0.9994730101706084, 0.9986087473075661, 0.9995541555951223, 0.9994857579883079, 0.9984906202496885, 0.9995670863021462, 0.9994932175252988, 0.9983860940609689, 0.9995749651429444, 0.9994969377749235, 0.9982986598711348, 0.9995791559703892, 0.9994984029558078, 0.9982313242180177, 0.9995808741956969, 0.9994988967785257, 0.9981864518436185, 0.9995810688616535, 0.999499387947114, 0.9981656401312975, 0.9995803317799232, 0.9995004454871913, 0.9981696334224096, 0.9995788407422412, 0.9995021902113238, 0.9981982828567373, 0.999576341211121, 0.9995042858935402, 0.998250554390039, 0.9995721679674611, 0.9995059707288939, 0.9983245844631522, 0.9995653051540375, 0.9995061266183339, 0.9984177796566782, 0.9995544802268352, 0.9995033809655904, 0.9985269537811935, 0.9995382847242122, 0.9994962332085436, 0.9986484934301769, 0.9995153126777798, 0.9994831964140449, 0.9987785412296979, 0.999484306071704, 0.9994629430772338, 0.9989131849807326, 0.9994442961131045, 0.9994344438761577, 0.9990486406765915]}]}};\n    const themeSettings = {\"highlightColor\": \"#EB6467\", \"pathColor\": \"#EB6467\"};\n    const labels = {\"xAxis\": true, \"yAxis\": true, \"zAxis\": true, \"theta\": true, \"phi\": true, \"northPole\": true, \"southPole\": true, \"nonErrorState\": false};\n\n    const wrapper = document.getElementById(\"qctrlvisualizer-wrapper-70ff9ddcf91b4e70878abe5848d5e197\");\n    const progressBar = document.getElementById(\"qctrlvisualizer-progress-bar-70ff9ddcf91b4e70878abe5848d5e197\");\n    const button = document.getElementById(\"qctrlvisualizer-button-70ff9ddcf91b4e70878abe5848d5e197\");\n\n    function updateButton () {\n      button.classList.remove(...[\n        \"qctrlvisualizer-button-play\",\n        \"qctrlvisualizer-button-pause\",\n        \"qctrlvisualizer-button-replay\"\n      ]);\n      if (isPlaying) {\n        button.classList.add(\"qctrlvisualizer-button-pause\");\n        button.innerHTML = \"Pause\";\n        return;\n      }\n      if (progress>=1) {\n        button.classList.add(\"qctrlvisualizer-button-replay\");\n        button.innerHTML = \"Replay\";\n        return;\n      }\n      button.classList.add(\"qctrlvisualizer-button-play\");\n      button.innerHTML = \"Play\";\n    }\n\n    button.onclick = () => {\n      isPlaying = !isPlaying;\n      if (progress >= 1) progress = 0;\n      updateButton();\n      visualizer.update({ isPlaying, progress });\n    };\n\n    progressBar.oninput = ({ target }) => {\n      progress = +target.value;\n      visualizer.update({ progress });\n      updateButton();\n    };\n\n    const onUpdate = ({ target, data }) => {\n      progress = data.progress;\n      progressBar.value = progress;\n      if (progress >= 1) {\n        isPlaying = false;\n        target.update({ isPlaying });\n        updateButton();\n      }\n    };\n\n    const visualizer = new Visualizer({\n      visualizationData,\n      wrapper,\n      onUpdate,\n      labels,\n    }).init();\n\n    visualizer.update({ themeSettings });\n     }\n\n    function displayErrorMessage() {\n      console.log(\"Failed to load https://cdn.jsdelivr.net/npm/@qctrl/visualizer@3.1.14/umd/visualizer.min.js.\");\n      const wrapper = document.getElementById(\"qctrlvisualizer-wrapper-70ff9ddcf91b4e70878abe5848d5e197\");\n      wrapper.innerHTML = \"Could not load JavaScript at https://cdn.jsdelivr.net/npm/@qctrl/visualizer@3.1.14/umd/visualizer.min.js.\";\n    }\n\n    visualizerLoader();\n    ",
      "text/plain": [
       "<IPython.core.display.Javascript object>"
      ]
     },
     "metadata": {},
     "output_type": "display_data"
    }
   ],
   "source": [
    "qv.display_bloch_sphere(states_ge)"
   ]
  },
  {
   "cell_type": "code",
   "execution_count": 13,
   "metadata": {},
   "outputs": [],
   "source": [
    "initial_state = [0, 1, 0]\n",
    "\n",
    "states = [U @ initial_state for U in unitaries]"
   ]
  },
  {
   "cell_type": "code",
   "execution_count": 14,
   "metadata": {},
   "outputs": [],
   "source": [
    "states_ge = np.array(states)[:, :2]\n",
    "states_ef = np.array(states)[:, 1:]"
   ]
  },
  {
   "cell_type": "code",
   "execution_count": 15,
   "metadata": {},
   "outputs": [
    {
     "data": {
      "text/html": [
       "\n",
       "    <div\n",
       "        class=\"qctrlvisualizer\"\n",
       "        style=\"display:flex;flex-direction:column;align-items:center;\"\n",
       "    >\n",
       "        <div\n",
       "            class=\"qctrlvisualizer-wrapper\"\n",
       "            style=\"width:300px;height:300px;margin:0.5rem 0\"\n",
       "            id=\"qctrlvisualizer-wrapper-cee03b4c00d64032ad137f48e1ea1e3c\"\n",
       "        ></div>\n",
       "        <input\n",
       "            class=\"qctrlvisualizer-progress-bar\"\n",
       "            style=\"margin:0.5rem 0\"\n",
       "            id=\"qctrlvisualizer-progress-bar-cee03b4c00d64032ad137f48e1ea1e3c\"\n",
       "            type=\"range\"\n",
       "            min=\"0\"\n",
       "            max=\"1\"\n",
       "            step=\"0.01\"\n",
       "            value=\"0\"\n",
       "        >\n",
       "        <button\n",
       "            class=\"qctrlvisualizer-button qctrlvisualizer-button-play\"\n",
       "            style=\"margin:0.5rem 0\"\n",
       "            id=\"qctrlvisualizer-button-cee03b4c00d64032ad137f48e1ea1e3c\"\n",
       "        >Play</button>\n",
       "    </div>\n",
       "    "
      ],
      "text/plain": [
       "<IPython.core.display.HTML object>"
      ]
     },
     "metadata": {},
     "output_type": "display_data"
    },
    {
     "data": {
      "application/javascript": "\n    function visualizerLoader() {\n      if ((typeof Visualizer) == \"function\") {\n        console.log(\"Using preloaded Q-CTRL Visualizer JavaScript package.\");\n        displayBlochSphere();\n        return;\n      }\n\n      try {\n        console.log(\"Attempting to load https://cdn.jsdelivr.net/npm/@qctrl/visualizer@3.1.14/umd/visualizer.min.js with require.js.\");\n        requirejs([\"https://cdn.jsdelivr.net/npm/@qctrl/visualizer@3.1.14/umd/visualizer.min.js\"], displayBlochSphere, displayErrorMessage);\n      } catch(error) {\n        var existing_script = document.getElementById(\"qctrlvisualizer-script\");\n\n        if (existing_script !== null) {\n          console.log(\n            \"Script tag for the Q-CTRL Visualizer JavaScript package already exists.\"\n            + \" Delaying execution of function until script is loaded.\"\n          );\n          existing_script.addEventListener(\"load\", displayBlochSphere);\n          existing_script.addEventListener(\"error\", displayErrorMessage);\n          return;\n        }\n\n        console.log(\"Attempting to load https://cdn.jsdelivr.net/npm/@qctrl/visualizer@3.1.14/umd/visualizer.min.js with script tag.\");\n        var script = document.createElement(\"script\");\n        script.onload = displayBlochSphere;\n        script.onerror = displayErrorMessage;\n        script.id = \"qctrlvisualizer-script\";\n        script.src = \"https://cdn.jsdelivr.net/npm/@qctrl/visualizer@3.1.14/umd/visualizer.min.js\";\n        document.head.appendChild(script);\n      }\n    }\n\n    function displayBlochSphere() { \n    let isPlaying = false;\n    let progress = 0;\n\n    const visualizationData = {\"data\": {\"qubits\": [{\"name\": \"qubit1\", \"x\": [0.0, 0.04538265705608089, 0.04507898475349896, -0.000271616162160785, 0.04432415157237706, 0.043430523225612874, -0.001052108326552819, 0.041969408262072294, 0.04053692854871216, -0.002241150833417017, 0.03846302170730996, 0.03657339937751952, -0.0036804760855092163, 0.034018169661063455, 0.03177876239276552, -0.005166593164106839, 0.028901865361069614, 0.02643921183874932, -0.006467257405771811, 0.023416586968358362, 0.020868855757434607, -0.0073404714882388455, 0.01787959376667067, 0.015388447756109652, -0.007554607836812849, 0.012601400896592344, 0.010303810472732489, -0.00690815377962437, 0.007864940798639832, 0.005885476211643045, -0.0052476013569484285, 0.003906886218937998, 0.002350980170404455, -0.0024821316727959486, 0.0009024505048095096, -0.00014895120644074477, 0.0014060299519824723, -0.00104527248368569, -0.0015393560034195155, 0.006356403234157025, -0.0019106958820541819, -0.0018245263766695874, 0.012230633275798633, -0.0017455033306133477, -0.001085815216910853, 0.018818506689947466, -0.0006728432686656646, 0.0005260480196000407, 0.025849241660528044, 0.0011235896324249227, 0.002803546023130334, 0.03300730833651933, 0.0034147615504442246, 0.005498929183291997, 0.03995170651494285, 0.005944662857512731, 0.008343516975009535, 0.04633737422499209, 0.008450469834573426, 0.011068329335252071, 0.05183724191765023, 0.010683019705565611, 0.013424539803392834, 0.05616339403879347, 0.012426094397865177, 0.015202258853575765, 0.059085856749022087, 0.01351309785944976, 0.01624628027042975, 0.060447693477593316, 0.013839903649433813, 0.01646764656751207, 0.06017534726918039, 0.013372929969405693, 0.01585019516150904, 0.05828350212285619, 0.012151848031312718, 0.014451613184468668, 0.054874120889633525, 0.010286721449695908, 0.012398928974295939, 0.05012972719471228, 0.007949780880329889, 0.009878773516293259, 0.04430140392540956, 0.005362430015928241, 0.007123126138151621, 0.037692352063381396, 0.0027784279585850516, 0.004391588058180326, 0.030638164463949742, 0.00046447368024362876, 0.0019514811552987484, 0.02348519736397913, -0.0013203895637266894, 5.722922158630985e-05, 0.016568551647055497, -0.0023450423245432238, -0.0010694666017556326, 0.010191197039398144], \"y\": [0.0, 0.026173108881005498, -0.026224514288112885, 4.5265268612089555e-07, 0.025649862616897307, -0.02579727095368709, 3.191945838224932e-06, 0.024670013619605836, -0.024893484152014055, 1.0170333973085882e-05, 0.023256602678570246, -0.02352447707714888, 2.2701352828829194e-05, 0.02143973656348222, -0.021710888348640708, 4.121153150934855e-05, 0.019255777443017368, -0.01948253977869012, 6.507178512546356e-05, 0.016746491103917564, -0.01687806041133413, 9.25249924343955e-05, 0.013958182277253891, -0.013944262754085819, 0.00012071900855144247, 0.010940839568004988, -0.01073527787434545, 0.00014584613447394114, 0.007747305791562336, -0.007311466982721808, 0.00016338167073864145, 0.004432482535704767, -0.0037381376026748908, 0.0001684062440723857, 0.0010525710836306581, -8.410178002872449e-05, 0.00015598970438061074, -0.00233565399148873, 0.0035798785690117465, 0.00012160906190288663, -0.005675546742008508, 0.007182708617163976, 6.156957609215382e-05, -0.008911278252140564, 0.010654586414455918, -2.660301737355256e-05, -0.011988523404673525, 0.013928583814468912, -0.00014382994410394302, -0.014855156796392169, 0.0169421313502767, -0.0002892338145892349, -0.017461965641839106, 0.019638360921308606, -0.0004600018346064676, -0.01976338294584795, 0.021967267415636663, -0.0006513724215601277, -0.021718238447326874, 0.023886659397730988, -0.000856751503938473, -0.02329051833737139, 0.02536287916171015, -0.001067955865247155, -0.02445011809939564, 0.026371283141054257, -0.0012755720344540546, -0.02517356659858511, 0.026896484213037593, -0.0014694110514953062, -0.025444694334593974, 0.026932367200346356, -0.0016390325318059783, -0.025255215074417428, 0.02648189728279604, -0.0017743063131476884, -0.024605188309522255, 0.025556747625943198, -0.0018659769625835963, -0.02350333040653637, 0.02417677698603868, -0.001906195772224915, -0.021967145062139773, 0.022369390196889487, -0.00188898663388636, -0.0200228486807192, 0.020168814286451717, -0.0018106162392636277, -0.017705073352208438, 0.01761532067723639, -0.0016698451253300784, -0.015056338847849753, 0.01475441981296588, -0.001468043753783598, -0.012126294974721808, 0.011636049066760856, -0.0012091665451678547, -0.008970746141225325, 0.008313768456025734, -0.0008995859748586361], \"z\": [-1.0, -0.9966118701731325, -0.9905981842889557, -0.9819914694107221, -0.966778323827903, -0.949170642099319, -0.9292629906079535, -0.9032475037720353, -0.8753147234194667, -0.8456124502647749, -0.8105977894549689, -0.774352887728585, -0.7370648854226451, -0.695506085602083, -0.6535610568125516, -0.6114384038636169, -0.5662667144023532, -0.5216443381204151, -0.47778092402984595, -0.4321937608971235, -0.3881097648774392, -0.3457183178405091, -0.3029499345695572, -0.26258124932421645, -0.22476092315386134, -0.18785030496765687, -0.15410610924943494, -0.12361839196643831, -0.09519107971081964, -0.07050313524013982, -0.049572239627397936, -0.031651788975894456, -0.01779917303026005, -0.00795130266579492, -0.0018139515324683802, 0.00020518235707808676, -0.0017478978585612301, -0.007830904684763263, -0.01779051322069711, -0.0314023371761911, -0.0492725887941139, -0.07049279481204118, -0.09477132270255359, -0.12315647117384969, -0.15410742868762026, -0.18728249657257093, -0.22416238235317126, -0.26261274121807743, -0.3022640080356045, -0.34501578635178093, -0.38819344325434224, -0.4314253493696771, -0.47701187048704824, -0.5218036927794767, -0.5654548131521279, -0.6106426937888247, -0.6538188265759168, -0.6946905206505192, -0.7362822074026073, -0.7747288027323158, -0.8098166702710885, -0.8448797904595424, -0.8758233903374331, -0.9025348380259226, -0.928612331237148, -0.9498197372324588, -0.9661619597682788, -0.9814478702426934, -0.9913870983792152, -0.9961119079594396, -0.9995801939183946, -0.9975309171154929, -0.9902259633098079, -0.9817030658699278, -0.9678085854214353, -0.9489283694314808, -0.9291043369034978, -0.9043613371474013, -0.8751957621500309, -0.8455731531975862, -0.8117599761119323, -0.7743426762258809, -0.7371269485384263, -0.6966755545239309, -0.653638584629928, -0.6115778914089933, -0.567398729837303, -0.5217840643132132, -0.47797002525471005, -0.43324243113529026, -0.38828383298978564, -0.3459276569822064, -0.3038708738822726, -0.2627618324163395, -0.22496194339234893, -0.18860326857177198, -0.15426770959046293, -0.12378563705739437, -0.09574239208583708, -0.07062466730187625]}]}};\n    const themeSettings = {\"highlightColor\": \"#EB6467\", \"pathColor\": \"#EB6467\"};\n    const labels = {\"xAxis\": true, \"yAxis\": true, \"zAxis\": true, \"theta\": true, \"phi\": true, \"northPole\": true, \"southPole\": true, \"nonErrorState\": false};\n\n    const wrapper = document.getElementById(\"qctrlvisualizer-wrapper-cee03b4c00d64032ad137f48e1ea1e3c\");\n    const progressBar = document.getElementById(\"qctrlvisualizer-progress-bar-cee03b4c00d64032ad137f48e1ea1e3c\");\n    const button = document.getElementById(\"qctrlvisualizer-button-cee03b4c00d64032ad137f48e1ea1e3c\");\n\n    function updateButton () {\n      button.classList.remove(...[\n        \"qctrlvisualizer-button-play\",\n        \"qctrlvisualizer-button-pause\",\n        \"qctrlvisualizer-button-replay\"\n      ]);\n      if (isPlaying) {\n        button.classList.add(\"qctrlvisualizer-button-pause\");\n        button.innerHTML = \"Pause\";\n        return;\n      }\n      if (progress>=1) {\n        button.classList.add(\"qctrlvisualizer-button-replay\");\n        button.innerHTML = \"Replay\";\n        return;\n      }\n      button.classList.add(\"qctrlvisualizer-button-play\");\n      button.innerHTML = \"Play\";\n    }\n\n    button.onclick = () => {\n      isPlaying = !isPlaying;\n      if (progress >= 1) progress = 0;\n      updateButton();\n      visualizer.update({ isPlaying, progress });\n    };\n\n    progressBar.oninput = ({ target }) => {\n      progress = +target.value;\n      visualizer.update({ progress });\n      updateButton();\n    };\n\n    const onUpdate = ({ target, data }) => {\n      progress = data.progress;\n      progressBar.value = progress;\n      if (progress >= 1) {\n        isPlaying = false;\n        target.update({ isPlaying });\n        updateButton();\n      }\n    };\n\n    const visualizer = new Visualizer({\n      visualizationData,\n      wrapper,\n      onUpdate,\n      labels,\n    }).init();\n\n    visualizer.update({ themeSettings });\n     }\n\n    function displayErrorMessage() {\n      console.log(\"Failed to load https://cdn.jsdelivr.net/npm/@qctrl/visualizer@3.1.14/umd/visualizer.min.js.\");\n      const wrapper = document.getElementById(\"qctrlvisualizer-wrapper-cee03b4c00d64032ad137f48e1ea1e3c\");\n      wrapper.innerHTML = \"Could not load JavaScript at https://cdn.jsdelivr.net/npm/@qctrl/visualizer@3.1.14/umd/visualizer.min.js.\";\n    }\n\n    visualizerLoader();\n    ",
      "text/plain": [
       "<IPython.core.display.Javascript object>"
      ]
     },
     "metadata": {},
     "output_type": "display_data"
    },
    {
     "data": {
      "text/html": [
       "\n",
       "    <div\n",
       "        class=\"qctrlvisualizer\"\n",
       "        style=\"display:flex;flex-direction:column;align-items:center;\"\n",
       "    >\n",
       "        <div\n",
       "            class=\"qctrlvisualizer-wrapper\"\n",
       "            style=\"width:300px;height:300px;margin:0.5rem 0\"\n",
       "            id=\"qctrlvisualizer-wrapper-6fe4558b87f64988b57ae3a3dc8d8879\"\n",
       "        ></div>\n",
       "        <input\n",
       "            class=\"qctrlvisualizer-progress-bar\"\n",
       "            style=\"margin:0.5rem 0\"\n",
       "            id=\"qctrlvisualizer-progress-bar-6fe4558b87f64988b57ae3a3dc8d8879\"\n",
       "            type=\"range\"\n",
       "            min=\"0\"\n",
       "            max=\"1\"\n",
       "            step=\"0.01\"\n",
       "            value=\"0\"\n",
       "        >\n",
       "        <button\n",
       "            class=\"qctrlvisualizer-button qctrlvisualizer-button-play\"\n",
       "            style=\"margin:0.5rem 0\"\n",
       "            id=\"qctrlvisualizer-button-6fe4558b87f64988b57ae3a3dc8d8879\"\n",
       "        >Play</button>\n",
       "    </div>\n",
       "    "
      ],
      "text/plain": [
       "<IPython.core.display.HTML object>"
      ]
     },
     "metadata": {},
     "output_type": "display_data"
    },
    {
     "data": {
      "application/javascript": "\n    function visualizerLoader() {\n      if ((typeof Visualizer) == \"function\") {\n        console.log(\"Using preloaded Q-CTRL Visualizer JavaScript package.\");\n        displayBlochSphere();\n        return;\n      }\n\n      try {\n        console.log(\"Attempting to load https://cdn.jsdelivr.net/npm/@qctrl/visualizer@3.1.14/umd/visualizer.min.js with require.js.\");\n        requirejs([\"https://cdn.jsdelivr.net/npm/@qctrl/visualizer@3.1.14/umd/visualizer.min.js\"], displayBlochSphere, displayErrorMessage);\n      } catch(error) {\n        var existing_script = document.getElementById(\"qctrlvisualizer-script\");\n\n        if (existing_script !== null) {\n          console.log(\n            \"Script tag for the Q-CTRL Visualizer JavaScript package already exists.\"\n            + \" Delaying execution of function until script is loaded.\"\n          );\n          existing_script.addEventListener(\"load\", displayBlochSphere);\n          existing_script.addEventListener(\"error\", displayErrorMessage);\n          return;\n        }\n\n        console.log(\"Attempting to load https://cdn.jsdelivr.net/npm/@qctrl/visualizer@3.1.14/umd/visualizer.min.js with script tag.\");\n        var script = document.createElement(\"script\");\n        script.onload = displayBlochSphere;\n        script.onerror = displayErrorMessage;\n        script.id = \"qctrlvisualizer-script\";\n        script.src = \"https://cdn.jsdelivr.net/npm/@qctrl/visualizer@3.1.14/umd/visualizer.min.js\";\n        document.head.appendChild(script);\n      }\n    }\n\n    function displayBlochSphere() { \n    let isPlaying = false;\n    let progress = 0;\n\n    const visualizationData = {\"data\": {\"qubits\": [{\"name\": \"qubit1\", \"x\": [0.0, 1.8480708501779353e-05, 0.00013644348159704, 0.00019293817399194447, 0.0002852965488597259, 0.0006335695535644448, 0.0007578510209422907, 0.0009147994028321227, 0.0014768890955251246, 0.0016540352971375653, 0.001858834266053877, 0.002608401628748591, 0.002816919348608306, 0.003046702795212297, 0.003949204851891375, 0.004162716291059801, 0.004390305391543836, 0.005405131853432499, 0.005594461914704806, 0.005790533937747755, 0.006873491408268206, 0.007009002236265139, 0.007144453770092485, 0.008250426520744869, 0.008304427188438565, 0.00835275667490687, 0.009438361758823566, 0.009387414785238829, 0.00932694725730554, 0.010353003441180564, 0.010179956547123283, 0.009995744339344276, 0.010929388859745717, 0.010624979547969088, 0.010310235712121099, 0.01112654913177738, 0.010690459944656996, 0.010247414505396374, 0.01093045005042352, 0.010371731542325971, 0.009811842168545193, 0.010354999255175606, 0.009691823001656902, 0.009035318163185091, 0.009441047242126521, 0.008699799338189707, 0.007974580215031724, 0.008253454155019935, 0.007467227164533137, 0.006707201000103635, 0.006876433534007187, 0.006083018320612601, 0.005325977212685795, 0.005407508223477575, 0.004647023385856288, 0.003932215705643505, 0.003950513516512655, 0.003262836649825001, 0.002628400969719058, 0.0026081511493720178, 0.0020303309436038447, 0.001510772892602985, 0.0014746300173393845, 0.001038460208725037, 0.0006623502895948818, 0.0006289231418111774, 0.00035884840017933513, 0.0001469036521256767, 0.00012912593606052847, 4.0626673719181125e-05, 4.312226295289496e-06, 8.321399999386414e-06, 0.00010689087686597317, 0.0002476408330198965, 0.00027224924624047464, 0.0005530346268938459, 0.0008621479576527702, 0.0008989459485931883, 0.0013470781287730701, 0.0018062974956049027, 0.001840380677931297, 0.002431969097439427, 0.0030147021668186502, 0.0030259682831738632, 0.003729690062362106, 0.004402787408689324, 0.00436770524815866, 0.005146876185125337, 0.005872840554483172, 0.005766557652188364, 0.006581538890436365, 0.007321010237967607, 0.007119640004750738, 0.007930410938266942, 0.008644752431302416, 0.008327666909547116, 0.009096383791026407, 0.00975018726199689, 0.009302139937801407, 0.009995501479780412], \"y\": [0.0, -0.08959180312488482, -0.17843705868546084, -0.2659637385770854, -0.351165016266459, -0.4336077345489171, -0.512767428389388, -0.5874338857710931, -0.6575328919376079, -0.7226314914120953, -0.7813729838838042, -0.8340765843916715, -0.880437825712049, -0.919006906306401, -0.9505169159086049, -0.9748190467410704, -0.990417265609356, -0.998462712275696, -0.998977482956952, -0.990457364791573, -0.9744581503528191, -0.9511749159984478, -0.9191230563880378, -0.8802317797946693, -0.8348577792698891, -0.7815530652740244, -0.7225719941976538, -0.6584087948612759, -0.5876587514510319, -0.5128379240001999, -0.4345429447057765, -0.3514099889537069, -0.2661409923332455, -0.17939129839302784, -0.08982861479384122, -0.0002561046714556793, 0.0886612893392102, 0.17823802774597092, 0.265659076211113, 0.35030086422583195, 0.4334750823182226, 0.5124444904556195, 0.5866759940194225, 0.6574918624477705, 0.7223182179346745, 0.7807560560127222, 0.8341469499243319, 0.8801577203068885, 0.918558322540568, 0.9507112318838238, 0.9745894713218005, 0.9901554300530304, 0.9987850766701825, 0.9988084644459712, 0.9903906414224977, 0.9749035634269207, 0.9510685498571823, 0.91924936553125, 0.8807861568274022, 0.8348082703968657, 0.781860165859493, 0.7232128369266048, 0.6584031292644785, 0.5881251861785924, 0.5135356089246282, 0.43456213875946137, 0.35200662300472363, 0.2668605893910931, 0.17941212981470223, 0.09052065726809841, 0.0009596012641619768, -0.08866420031288694, -0.17748866396551588, -0.265010300514667, -0.35035278103876644, -0.43270724967193414, -0.5118871118088624, -0.5867997695032081, -0.6567426552643834, -0.7218845181851734, -0.7809699917326838, -0.8334493652286699, -0.8798734119051532, -0.9188743452016777, -0.9500921768845398, -0.9744719510040349, -0.9905777257303034, -0.998263859422951, -0.9988656194800404, -0.9909148554069654, -0.9744909675248705, -0.9512982017141618, -0.919862434670125, -0.8804841582029024, -0.8351982956884029, -0.7825408043650245, -0.7230149740564297, -0.6589322499034282, -0.5888449983027517, -0.5134279702915319], \"z\": [1.0, 0.9952877763792052, 0.9832541842586238, 0.9639829951678163, 0.9355897213749451, 0.9003561262841379, 0.8585268746188841, 0.8084615134524548, 0.7525669725270105, 0.6912293554530201, 0.6230633884706926, 0.5505358771088535, 0.47414355491171606, 0.3927543011166489, 0.3088204673276021, 0.22290955212137198, 0.13412936947691967, 0.04483791363229678, -0.04437249255357911, -0.13417585826955297, -0.22239004113021776, -0.3084464663856658, -0.39282815917069525, -0.473607668949883, -0.5502877161595146, -0.6231896635797053, -0.6907127056066444, -0.7524737771796127, -0.8086607843917418, -0.8580606916065603, -0.9004396556880971, -0.9358762855286866, -0.9635922234792929, -0.9835272192818707, -0.9956683094041473, -0.9997018935560595, -0.9957530850377115, -0.9837269742627891, -0.9637863083449438, -0.936239678072785, -0.9009109431215739, -0.8584316988300946, -0.8092784027399484, -0.7531855864633898, -0.6912276043594743, -0.6240203759046636, -0.5511931936470359, -0.47422005416284396, -0.39381700685652055, -0.30948619983041276, -0.22304364569186524, -0.13525793783585266, -0.0454786758096547, 0.04420494467946645, 0.13302433494115073, 0.22180837192485847, 0.3082708525504129, 0.39169702866771255, 0.47311748708400575, 0.5501283696493422, 0.6221200934273646, 0.6903422888836308, 0.7523517798372823, 0.8076893123495582, 0.8578320624361149, 0.9003709149417265, 0.9350327079467118, 0.9635194155306818, 0.9835209645729968, 0.9949740499311862, 0.999789751566715, 0.9958108985402725, 0.9831940408831064, 0.964029911148682, 0.9363551351036774, 0.9005415393717726, 0.8588164515054231, 0.8094373522373826, 0.7529723959840796, 0.6917299978436057, 0.62420184405517, 0.551120309309748, 0.47480904314824485, 0.393994660816123, 0.30953062299598716, 0.2236825515307571, 0.13540200486262893, 0.04561227108863314, -0.04355613682144499, -0.13294483172492721, -0.2216166128374975, -0.307652961233398, -0.3917118807532221, -0.47289904007330785, -0.5495804251894951, -0.6222555388242685, -0.6901267271384921, -0.751908552942611, -0.8079658637438969, -0.8576448939964717]}]}};\n    const themeSettings = {\"highlightColor\": \"#EB6467\", \"pathColor\": \"#EB6467\"};\n    const labels = {\"xAxis\": true, \"yAxis\": true, \"zAxis\": true, \"theta\": true, \"phi\": true, \"northPole\": true, \"southPole\": true, \"nonErrorState\": false};\n\n    const wrapper = document.getElementById(\"qctrlvisualizer-wrapper-6fe4558b87f64988b57ae3a3dc8d8879\");\n    const progressBar = document.getElementById(\"qctrlvisualizer-progress-bar-6fe4558b87f64988b57ae3a3dc8d8879\");\n    const button = document.getElementById(\"qctrlvisualizer-button-6fe4558b87f64988b57ae3a3dc8d8879\");\n\n    function updateButton () {\n      button.classList.remove(...[\n        \"qctrlvisualizer-button-play\",\n        \"qctrlvisualizer-button-pause\",\n        \"qctrlvisualizer-button-replay\"\n      ]);\n      if (isPlaying) {\n        button.classList.add(\"qctrlvisualizer-button-pause\");\n        button.innerHTML = \"Pause\";\n        return;\n      }\n      if (progress>=1) {\n        button.classList.add(\"qctrlvisualizer-button-replay\");\n        button.innerHTML = \"Replay\";\n        return;\n      }\n      button.classList.add(\"qctrlvisualizer-button-play\");\n      button.innerHTML = \"Play\";\n    }\n\n    button.onclick = () => {\n      isPlaying = !isPlaying;\n      if (progress >= 1) progress = 0;\n      updateButton();\n      visualizer.update({ isPlaying, progress });\n    };\n\n    progressBar.oninput = ({ target }) => {\n      progress = +target.value;\n      visualizer.update({ progress });\n      updateButton();\n    };\n\n    const onUpdate = ({ target, data }) => {\n      progress = data.progress;\n      progressBar.value = progress;\n      if (progress >= 1) {\n        isPlaying = false;\n        target.update({ isPlaying });\n        updateButton();\n      }\n    };\n\n    const visualizer = new Visualizer({\n      visualizationData,\n      wrapper,\n      onUpdate,\n      labels,\n    }).init();\n\n    visualizer.update({ themeSettings });\n     }\n\n    function displayErrorMessage() {\n      console.log(\"Failed to load https://cdn.jsdelivr.net/npm/@qctrl/visualizer@3.1.14/umd/visualizer.min.js.\");\n      const wrapper = document.getElementById(\"qctrlvisualizer-wrapper-6fe4558b87f64988b57ae3a3dc8d8879\");\n      wrapper.innerHTML = \"Could not load JavaScript at https://cdn.jsdelivr.net/npm/@qctrl/visualizer@3.1.14/umd/visualizer.min.js.\";\n    }\n\n    visualizerLoader();\n    ",
      "text/plain": [
       "<IPython.core.display.Javascript object>"
      ]
     },
     "metadata": {},
     "output_type": "display_data"
    }
   ],
   "source": [
    "qv.display_bloch_sphere(states_ge)\n",
    "qv.display_bloch_sphere(states_ef)"
   ]
  }
 ],
 "metadata": {
  "kernelspec": {
   "display_name": "Python 3",
   "language": "python",
   "name": "python3"
  },
  "language_info": {
   "codemirror_mode": {
    "name": "ipython",
    "version": 3
   },
   "file_extension": ".py",
   "mimetype": "text/x-python",
   "name": "python",
   "nbconvert_exporter": "python",
   "pygments_lexer": "ipython3",
   "version": "3.9.16"
  },
  "orig_nbformat": 4
 },
 "nbformat": 4,
 "nbformat_minor": 2
}
