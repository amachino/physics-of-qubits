{
 "cells": [
  {
   "cell_type": "markdown",
   "metadata": {},
   "source": [
    "# Transmon drive hamiltonian"
   ]
  },
  {
   "cell_type": "code",
   "execution_count": 1,
   "metadata": {},
   "outputs": [],
   "source": [
    "from IPython.display import display\n",
    "from sympy import Function\n",
    "from sympy import I as i\n",
    "from sympy import Matrix, Symbol, exp, sqrt\n",
    "from sympy.physics.quantum import Dagger as dag\n",
    "\n",
    "t = Symbol(\"t\", real=True)\n",
    "alpha = Symbol(\"alpha\", real=True)\n",
    "omega = Symbol(\"omega\", real=True)"
   ]
  },
  {
   "cell_type": "code",
   "execution_count": 2,
   "metadata": {},
   "outputs": [],
   "source": [
    "E = Function(\"E\", real=True)(t)\n",
    "E_x = Function(\"E_x\", real=True)(t)\n",
    "E_y = Function(\"E_y\", real=True)(t)\n",
    "Omega = Function(\"Omega\", real=False)(t)\n",
    "gamma = Function(\"gamma\", real=False)(t)"
   ]
  },
  {
   "cell_type": "markdown",
   "metadata": {},
   "source": [
    "## Operators\n",
    "\n",
    "### Ladder operators\n",
    "\n",
    "$$\n",
    "\\begin{aligned}\n",
    "b &= \\begin{bmatrix} 0 & 1 & 0 \\\\ 0 & 0 & \\sqrt{2} \\\\ 0 & 0 & 0 \\end{bmatrix}\n",
    "\\\\\n",
    "b^\\dagger &= \\begin{bmatrix} 0 & 0 & 0 \\\\ 1 & 0 & 0 \\\\ 0 & \\sqrt{2} & 0 \\end{bmatrix}\n",
    "\\\\\n",
    "N &= \\begin{bmatrix} 0 & 0 & 0 \\\\ 0 & 1 & 0 \\\\ 0 & 0 & 2 \\end{bmatrix}\n",
    "\\end{aligned}\n",
    "$$"
   ]
  },
  {
   "cell_type": "code",
   "execution_count": 3,
   "metadata": {},
   "outputs": [
    {
     "data": {
      "text/latex": [
       "$\\displaystyle \\left[\\begin{matrix}0 & 1 & 0\\\\0 & 0 & \\sqrt{2}\\\\0 & 0 & 0\\end{matrix}\\right]$"
      ],
      "text/plain": [
       "Matrix([\n",
       "[0, 1,       0],\n",
       "[0, 0, sqrt(2)],\n",
       "[0, 0,       0]])"
      ]
     },
     "metadata": {},
     "output_type": "display_data"
    },
    {
     "data": {
      "text/latex": [
       "$\\displaystyle \\left[\\begin{matrix}0 & 0 & 0\\\\1 & 0 & 0\\\\0 & \\sqrt{2} & 0\\end{matrix}\\right]$"
      ],
      "text/plain": [
       "Matrix([\n",
       "[0,       0, 0],\n",
       "[1,       0, 0],\n",
       "[0, sqrt(2), 0]])"
      ]
     },
     "metadata": {},
     "output_type": "display_data"
    },
    {
     "data": {
      "text/latex": [
       "$\\displaystyle \\left[\\begin{matrix}0 & 0 & 0\\\\0 & 1 & 0\\\\0 & 0 & 2\\end{matrix}\\right]$"
      ],
      "text/plain": [
       "Matrix([\n",
       "[0, 0, 0],\n",
       "[0, 1, 0],\n",
       "[0, 0, 2]])"
      ]
     },
     "metadata": {},
     "output_type": "display_data"
    }
   ],
   "source": [
    "b = Matrix(\n",
    "    [\n",
    "        [0, 1, 0],\n",
    "        [0, 0, sqrt(2)],\n",
    "        [0, 0, 0],\n",
    "    ]\n",
    ")\n",
    "\n",
    "bd = dag(b)\n",
    "\n",
    "N = bd * b\n",
    "\n",
    "display(b, bd, N)"
   ]
  },
  {
   "cell_type": "markdown",
   "metadata": {},
   "source": [
    "### System hamiltonian\n",
    "\n",
    "$$\n",
    "\\begin{aligned}\n",
    "H_1 &= \\omega b^\\dagger b = \\begin{bmatrix} 0 & 0 & 0 \\\\ 0 & \\omega & 0 \\\\ 0 & 0 & 2\\omega \\end{bmatrix}\n",
    "\\\\\n",
    "H_2 &= \\frac{\\alpha}{2} b^{\\dagger 2} b^2 = \\begin{bmatrix} 0 & 0 & 0 \\\\ 0 & 0 & 0 \\\\ 0 & 0 & \\alpha \\end{bmatrix}\n",
    "\\\\\n",
    "H_\\mathrm{sys} &= H_1 + H_2 = \\begin{bmatrix} 0 & 0 & 0 \\\\ 0 & \\omega & 0 \\\\ 0 & 0 & 2\\omega + \\alpha \\end{bmatrix}\n",
    "\\end{aligned}\n",
    "$$"
   ]
  },
  {
   "cell_type": "code",
   "execution_count": 4,
   "metadata": {},
   "outputs": [
    {
     "data": {
      "text/latex": [
       "$\\displaystyle \\left[\\begin{matrix}0 & 0 & 0\\\\0 & \\omega & 0\\\\0 & 0 & 2 \\omega\\end{matrix}\\right]$"
      ],
      "text/plain": [
       "Matrix([\n",
       "[0,     0,       0],\n",
       "[0, omega,       0],\n",
       "[0,     0, 2*omega]])"
      ]
     },
     "execution_count": 4,
     "metadata": {},
     "output_type": "execute_result"
    }
   ],
   "source": [
    "H_1 = omega * bd * b\n",
    "H_1"
   ]
  },
  {
   "cell_type": "code",
   "execution_count": 5,
   "metadata": {},
   "outputs": [
    {
     "data": {
      "text/latex": [
       "$\\displaystyle \\left[\\begin{matrix}0 & 0 & 0\\\\0 & 0 & 0\\\\0 & 0 & \\alpha\\end{matrix}\\right]$"
      ],
      "text/plain": [
       "Matrix([\n",
       "[0, 0,     0],\n",
       "[0, 0,     0],\n",
       "[0, 0, alpha]])"
      ]
     },
     "execution_count": 5,
     "metadata": {},
     "output_type": "execute_result"
    }
   ],
   "source": [
    "H_2 = alpha / 2 * bd * bd * b * b\n",
    "H_2"
   ]
  },
  {
   "cell_type": "code",
   "execution_count": 6,
   "metadata": {},
   "outputs": [
    {
     "data": {
      "text/latex": [
       "$\\displaystyle \\left[\\begin{matrix}0 & 0 & 0\\\\0 & \\omega & 0\\\\0 & 0 & \\alpha + 2 \\omega\\end{matrix}\\right]$"
      ],
      "text/plain": [
       "Matrix([\n",
       "[0,     0,               0],\n",
       "[0, omega,               0],\n",
       "[0,     0, alpha + 2*omega]])"
      ]
     },
     "execution_count": 6,
     "metadata": {},
     "output_type": "execute_result"
    }
   ],
   "source": [
    "H_sys = H_1 + H_2\n",
    "H_sys"
   ]
  },
  {
   "cell_type": "markdown",
   "metadata": {},
   "source": [
    "### Drive hamiltonian\n",
    "\n",
    "#### Real expression\n",
    "\n",
    "$$\n",
    "\\begin{aligned}\n",
    "V &= E (b + b^\\dagger) = \\begin{bmatrix} 0 & E & 0 \\\\ E & 0 & \\sqrt{2} E \\\\ 0 & \\sqrt{2} E & 0 \\end{bmatrix}\n",
    "\\end{aligned}\n",
    "$$\n",
    "\n",
    "$$\n",
    "\\begin{aligned}\n",
    "E &= E_x \\cos\\omega t + E_y \\sin\\omega t\n",
    "\\end{aligned}\n",
    "$$\n",
    "\n",
    "\n",
    "#### Complex expression\n",
    "\n",
    "$$\n",
    "\\begin{aligned}\n",
    "V &= \\frac{1}{2} (\\gamma + \\gamma^*) (b + b^\\dagger) = \\frac{1}{2} \\begin{bmatrix} 0 & \\gamma + \\gamma^* & 0 \\\\ \\gamma + \\gamma^* & 0 & \\sqrt{2}(\\gamma + \\gamma^*) \\\\ 0 & \\sqrt{2}(\\gamma + \\gamma^*) & 0 \\end{bmatrix}\n",
    "\\end{aligned}\n",
    "$$\n",
    "\n",
    "$$\n",
    "\\begin{aligned}\n",
    "\\gamma &= \\Omega e^{-i\\omega t}\n",
    "\\\\\n",
    "&= (E_x + i E_y) e^{-i\\omega t}\n",
    "\\end{aligned}\n",
    "$$\n",
    "\n",
    "\n",
    "#### Equivalence\n",
    "\n",
    "$$\n",
    "\\begin{aligned}\n",
    "\\gamma + \\gamma^* &= (E_x + i E_y) e^{-i\\omega t} + (E_x - i E_y) e^{i\\omega t}\n",
    "\\\\\n",
    "&= E_x (e^{-i\\omega t} + e^{i\\omega t}) + i E_y (e^{-i\\omega t} - e^{i\\omega t})\n",
    "\\\\\n",
    "&= 2 E_x \\cos\\omega t + 2 E_y \\sin\\omega t\n",
    "\\\\\n",
    "&= 2 E\n",
    "\\end{aligned}\n",
    "$$"
   ]
  },
  {
   "cell_type": "code",
   "execution_count": 7,
   "metadata": {},
   "outputs": [
    {
     "data": {
      "text/latex": [
       "$\\displaystyle \\left[\\begin{matrix}0 & \\frac{\\gamma{\\left(t \\right)}}{2} + \\frac{\\gamma{\\left(t \\right)}^{\\dagger}}{2} & 0\\\\\\frac{\\gamma{\\left(t \\right)}}{2} + \\frac{\\gamma{\\left(t \\right)}^{\\dagger}}{2} & 0 & \\sqrt{2} \\left(\\frac{\\gamma{\\left(t \\right)}}{2} + \\frac{\\gamma{\\left(t \\right)}^{\\dagger}}{2}\\right)\\\\0 & \\sqrt{2} \\left(\\frac{\\gamma{\\left(t \\right)}}{2} + \\frac{\\gamma{\\left(t \\right)}^{\\dagger}}{2}\\right) & 0\\end{matrix}\\right]$"
      ],
      "text/plain": [
       "Matrix([\n",
       "[                              0,           gamma(t)/2 + Dagger(gamma(t))/2,                                         0],\n",
       "[gamma(t)/2 + Dagger(gamma(t))/2,                                         0, sqrt(2)*(gamma(t)/2 + Dagger(gamma(t))/2)],\n",
       "[                              0, sqrt(2)*(gamma(t)/2 + Dagger(gamma(t))/2),                                         0]])"
      ]
     },
     "execution_count": 7,
     "metadata": {},
     "output_type": "execute_result"
    }
   ],
   "source": [
    "V = (gamma + dag(gamma)) / 2 * (b + bd)\n",
    "V"
   ]
  },
  {
   "cell_type": "code",
   "execution_count": 8,
   "metadata": {},
   "outputs": [
    {
     "data": {
      "text/latex": [
       "$\\displaystyle \\left[\\begin{matrix}0 & \\frac{\\gamma{\\left(t \\right)}}{2} + \\frac{\\gamma{\\left(t \\right)}^{\\dagger}}{2} & 0\\\\\\frac{\\gamma{\\left(t \\right)}}{2} + \\frac{\\gamma{\\left(t \\right)}^{\\dagger}}{2} & \\omega & \\sqrt{2} \\left(\\frac{\\gamma{\\left(t \\right)}}{2} + \\frac{\\gamma{\\left(t \\right)}^{\\dagger}}{2}\\right)\\\\0 & \\sqrt{2} \\left(\\frac{\\gamma{\\left(t \\right)}}{2} + \\frac{\\gamma{\\left(t \\right)}^{\\dagger}}{2}\\right) & \\alpha + 2 \\omega\\end{matrix}\\right]$"
      ],
      "text/plain": [
       "Matrix([\n",
       "[                              0,           gamma(t)/2 + Dagger(gamma(t))/2,                                         0],\n",
       "[gamma(t)/2 + Dagger(gamma(t))/2,                                     omega, sqrt(2)*(gamma(t)/2 + Dagger(gamma(t))/2)],\n",
       "[                              0, sqrt(2)*(gamma(t)/2 + Dagger(gamma(t))/2),                           alpha + 2*omega]])"
      ]
     },
     "execution_count": 8,
     "metadata": {},
     "output_type": "execute_result"
    }
   ],
   "source": [
    "H = H_sys + V\n",
    "H"
   ]
  },
  {
   "cell_type": "code",
   "execution_count": 9,
   "metadata": {},
   "outputs": [
    {
     "data": {
      "text/latex": [
       "$\\displaystyle \\left[\\begin{matrix}1 & 0 & 0\\\\0 & e^{- i \\omega t} & 0\\\\0 & 0 & e^{- 2 i \\omega t}\\end{matrix}\\right]$"
      ],
      "text/plain": [
       "Matrix([\n",
       "[1,               0,                 0],\n",
       "[0, exp(-I*omega*t),                 0],\n",
       "[0,               0, exp(-2*I*omega*t)]])"
      ]
     },
     "execution_count": 9,
     "metadata": {},
     "output_type": "execute_result"
    }
   ],
   "source": [
    "U_0 = exp(-i * H_1 * t)\n",
    "U_0"
   ]
  },
  {
   "cell_type": "code",
   "execution_count": 10,
   "metadata": {},
   "outputs": [
    {
     "data": {
      "text/latex": [
       "$\\displaystyle \\left[\\begin{matrix}0 & \\left(\\frac{\\gamma{\\left(t \\right)}}{2} + \\frac{\\gamma{\\left(t \\right)}^{\\dagger}}{2}\\right) e^{- i \\omega t} & 0\\\\\\left(\\frac{\\gamma{\\left(t \\right)}}{2} + \\frac{\\gamma{\\left(t \\right)}^{\\dagger}}{2}\\right) e^{i \\omega t} & 0 & \\sqrt{2} \\left(\\frac{\\gamma{\\left(t \\right)}}{2} + \\frac{\\gamma{\\left(t \\right)}^{\\dagger}}{2}\\right) e^{- i \\omega t}\\\\0 & \\sqrt{2} \\left(\\frac{\\gamma{\\left(t \\right)}}{2} + \\frac{\\gamma{\\left(t \\right)}^{\\dagger}}{2}\\right) e^{i \\omega t} & \\alpha\\end{matrix}\\right]$"
      ],
      "text/plain": [
       "Matrix([\n",
       "[                                               0,        (gamma(t)/2 + Dagger(gamma(t))/2)*exp(-I*omega*t),                                                         0],\n",
       "[(gamma(t)/2 + Dagger(gamma(t))/2)*exp(I*omega*t),                                                        0, sqrt(2)*(gamma(t)/2 + Dagger(gamma(t))/2)*exp(-I*omega*t)],\n",
       "[                                               0, sqrt(2)*(gamma(t)/2 + Dagger(gamma(t))/2)*exp(I*omega*t),                                                     alpha]])"
      ]
     },
     "execution_count": 10,
     "metadata": {},
     "output_type": "execute_result"
    }
   ],
   "source": [
    "H_rot = dag(U_0) * H * U_0 - i * dag(U_0) * U_0.diff(t)\n",
    "H_rot"
   ]
  },
  {
   "cell_type": "code",
   "execution_count": 11,
   "metadata": {},
   "outputs": [
    {
     "data": {
      "text/latex": [
       "$\\displaystyle \\left[\\begin{matrix}0 & \\frac{\\Omega{\\left(t \\right)} e^{- 2 i \\omega t}}{2} + \\frac{\\Omega{\\left(t \\right)}^{\\dagger}}{2} & 0\\\\\\frac{\\Omega{\\left(t \\right)}}{2} + \\frac{e^{2 i \\omega t} \\Omega{\\left(t \\right)}^{\\dagger}}{2} & 0 & \\frac{\\sqrt{2} \\Omega{\\left(t \\right)} e^{- 2 i \\omega t}}{2} + \\frac{\\sqrt{2} \\Omega{\\left(t \\right)}^{\\dagger}}{2}\\\\0 & \\frac{\\sqrt{2} \\Omega{\\left(t \\right)}}{2} + \\frac{\\sqrt{2} e^{2 i \\omega t} \\Omega{\\left(t \\right)}^{\\dagger}}{2} & \\alpha\\end{matrix}\\right]$"
      ],
      "text/plain": [
       "Matrix([\n",
       "[                                               0,                Omega(t)*exp(-2*I*omega*t)/2 + Dagger(Omega(t))/2,                                                                 0],\n",
       "[Omega(t)/2 + exp(2*I*omega*t)*Dagger(Omega(t))/2,                                                                0, sqrt(2)*Omega(t)*exp(-2*I*omega*t)/2 + sqrt(2)*Dagger(Omega(t))/2],\n",
       "[                                               0, sqrt(2)*Omega(t)/2 + sqrt(2)*exp(2*I*omega*t)*Dagger(Omega(t))/2,                                                             alpha]])"
      ]
     },
     "execution_count": 11,
     "metadata": {},
     "output_type": "execute_result"
    }
   ],
   "source": [
    "H_rot.subs({gamma: Omega * exp(-i * omega * t)}).expand()"
   ]
  },
  {
   "cell_type": "markdown",
   "metadata": {},
   "source": [
    "#### RWA: Rotating Wave Approximation\n",
    "\n",
    "$$\n",
    "\\begin{aligned}\n",
    "V_\\mathrm{rwa} &= \\frac{1}{2} (\\gamma b^\\dagger + \\gamma^* b) = \\begin{bmatrix} 0 & \\gamma^* & 0 \\\\ \\gamma & 0 & \\sqrt{2}\\gamma^* \\\\ 0 & \\sqrt{2}\\gamma & 0 \\end{bmatrix}\n",
    "\\\\\n",
    "\\gamma &= \\Omega e^{-i\\omega t}\n",
    "\\\\\n",
    "&= (E_x + i E_y) e^{-i\\omega t}\n",
    "\\end{aligned}\n",
    "$$"
   ]
  },
  {
   "cell_type": "code",
   "execution_count": 12,
   "metadata": {},
   "outputs": [
    {
     "data": {
      "text/latex": [
       "$\\displaystyle \\left[\\begin{matrix}0 & \\frac{\\gamma{\\left(t \\right)}^{\\dagger}}{2} & 0\\\\\\frac{\\gamma{\\left(t \\right)}}{2} & 0 & \\frac{\\sqrt{2} \\gamma{\\left(t \\right)}^{\\dagger}}{2}\\\\0 & \\frac{\\sqrt{2} \\gamma{\\left(t \\right)}}{2} & 0\\end{matrix}\\right]$"
      ],
      "text/plain": [
       "Matrix([\n",
       "[         0, Dagger(gamma(t))/2,                          0],\n",
       "[gamma(t)/2,                  0, sqrt(2)*Dagger(gamma(t))/2],\n",
       "[         0, sqrt(2)*gamma(t)/2,                          0]])"
      ]
     },
     "execution_count": 12,
     "metadata": {},
     "output_type": "execute_result"
    }
   ],
   "source": [
    "V_rwa = (gamma * bd + dag(gamma) * b) / 2\n",
    "V_rwa"
   ]
  },
  {
   "cell_type": "code",
   "execution_count": 13,
   "metadata": {},
   "outputs": [
    {
     "data": {
      "text/latex": [
       "$\\displaystyle \\left[\\begin{matrix}0 & \\frac{\\gamma{\\left(t \\right)}^{\\dagger}}{2} & 0\\\\\\frac{\\gamma{\\left(t \\right)}}{2} & \\omega & \\frac{\\sqrt{2} \\gamma{\\left(t \\right)}^{\\dagger}}{2}\\\\0 & \\frac{\\sqrt{2} \\gamma{\\left(t \\right)}}{2} & \\alpha + 2 \\omega\\end{matrix}\\right]$"
      ],
      "text/plain": [
       "Matrix([\n",
       "[         0, Dagger(gamma(t))/2,                          0],\n",
       "[gamma(t)/2,              omega, sqrt(2)*Dagger(gamma(t))/2],\n",
       "[         0, sqrt(2)*gamma(t)/2,            alpha + 2*omega]])"
      ]
     },
     "execution_count": 13,
     "metadata": {},
     "output_type": "execute_result"
    }
   ],
   "source": [
    "H_rwa = H_sys + V_rwa\n",
    "H_rwa"
   ]
  },
  {
   "cell_type": "code",
   "execution_count": 14,
   "metadata": {},
   "outputs": [
    {
     "data": {
      "text/latex": [
       "$\\displaystyle \\left[\\begin{matrix}0 & \\frac{e^{- i \\omega t} \\gamma{\\left(t \\right)}^{\\dagger}}{2} & 0\\\\\\frac{\\gamma{\\left(t \\right)} e^{i \\omega t}}{2} & 0 & \\frac{\\sqrt{2} e^{- i \\omega t} \\gamma{\\left(t \\right)}^{\\dagger}}{2}\\\\0 & \\frac{\\sqrt{2} \\gamma{\\left(t \\right)} e^{i \\omega t}}{2} & \\alpha\\end{matrix}\\right]$"
      ],
      "text/plain": [
       "Matrix([\n",
       "[                        0, exp(-I*omega*t)*Dagger(gamma(t))/2,                                          0],\n",
       "[gamma(t)*exp(I*omega*t)/2,                                  0, sqrt(2)*exp(-I*omega*t)*Dagger(gamma(t))/2],\n",
       "[                        0,  sqrt(2)*gamma(t)*exp(I*omega*t)/2,                                      alpha]])"
      ]
     },
     "execution_count": 14,
     "metadata": {},
     "output_type": "execute_result"
    }
   ],
   "source": [
    "H_rwa_rot = dag(U_0) * H_rwa * U_0 - i * dag(U_0) * U_0.diff(t)\n",
    "H_rwa_rot"
   ]
  },
  {
   "cell_type": "code",
   "execution_count": 15,
   "metadata": {},
   "outputs": [
    {
     "data": {
      "text/latex": [
       "$\\displaystyle \\left[\\begin{matrix}0 & \\frac{\\Omega{\\left(t \\right)}^{\\dagger}}{2} & 0\\\\\\frac{\\Omega{\\left(t \\right)}}{2} & 0 & \\frac{\\sqrt{2} \\Omega{\\left(t \\right)}^{\\dagger}}{2}\\\\0 & \\frac{\\sqrt{2} \\Omega{\\left(t \\right)}}{2} & \\alpha\\end{matrix}\\right]$"
      ],
      "text/plain": [
       "Matrix([\n",
       "[         0, Dagger(Omega(t))/2,                          0],\n",
       "[Omega(t)/2,                  0, sqrt(2)*Dagger(Omega(t))/2],\n",
       "[         0, sqrt(2)*Omega(t)/2,                      alpha]])"
      ]
     },
     "execution_count": 15,
     "metadata": {},
     "output_type": "execute_result"
    }
   ],
   "source": [
    "H_rwa_rot.subs({gamma: Omega * exp(-i * omega * t)})"
   ]
  }
 ],
 "metadata": {
  "kernelspec": {
   "display_name": "Python 3",
   "language": "python",
   "name": "python3"
  },
  "language_info": {
   "codemirror_mode": {
    "name": "ipython",
    "version": 3
   },
   "file_extension": ".py",
   "mimetype": "text/x-python",
   "name": "python",
   "nbconvert_exporter": "python",
   "pygments_lexer": "ipython3",
   "version": "3.9.16"
  },
  "orig_nbformat": 4
 },
 "nbformat": 4,
 "nbformat_minor": 2
}
